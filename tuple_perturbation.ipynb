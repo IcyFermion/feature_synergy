{
 "cells": [
  {
   "cell_type": "code",
   "execution_count": null,
   "metadata": {},
   "outputs": [],
   "source": [
    "import pandas as pd\n",
    "from operator import index\n",
    "import numpy as np\n",
    "from tqdm import tqdm\n",
    "from functools import partial\n",
    "from multiprocessing import shared_memory\n",
    "from multiprocessing.dummy import Pool\n",
    "from sklearn.ensemble import RandomForestRegressor\n",
    "import multiprocessing as mp\n",
    "from itertools import chain, combinations\n"
   ]
  },
  {
   "cell_type": "code",
   "execution_count": null,
   "metadata": {},
   "outputs": [],
   "source": [
    "test_list = range(100)\n",
    "out = [i for i in combinations(test_list, 3)]\n",
    "perturbation_factor = 3\n"
   ]
  },
  {
   "cell_type": "code",
   "execution_count": null,
   "metadata": {},
   "outputs": [],
   "source": [
    "tf_df = pd.read_csv('data/Ath_TF_list.txt', sep='\\t')\n",
    "tf_list = tf_df['Gene_ID']"
   ]
  },
  {
   "cell_type": "code",
   "execution_count": null,
   "metadata": {},
   "outputs": [],
   "source": [
    "ts_df = pd.read_csv('data/GSE97500/expression.tsv', sep='\\t', index_col=0)\n",
    "meta_df = pd.read_csv('data/GSE97500/meta_data.tsv', sep='\\t')\n",
    "ts_exp_index = meta_df[meta_df['isTs']]\n",
    "ts_exp_index_target =  ts_exp_index[ts_exp_index['is1stLast'] != 'f'].condName\n",
    "ts_exp_index_source =  ts_exp_index[ts_exp_index['is1stLast'] != 'f'].prevCol\n",
    "regulator_gene_index = ts_df.index\n",
    "regulator_gene_index = pd.Series(list(set(tf_list).intersection(set(regulator_gene_index))))\n"
   ]
  },
  {
   "cell_type": "code",
   "execution_count": 105,
   "metadata": {},
   "outputs": [],
   "source": [
    "ranking_df = pd.read_csv('output/GSE97500/AT1G14040_rankings.csv', index_col=0, names=['impact'])\n",
    "ranking_df = ranking_df.sort_values('impact')"
   ]
  },
  {
   "cell_type": "code",
   "execution_count": 106,
   "metadata": {},
   "outputs": [],
   "source": [
    "top_positive_influence_genes = ranking_df.tail(100).index\n",
    "top_negative_influence_genes = ranking_df.head(100).index\n",
    "\n",
    "data_mean = ts_df.T[top_positive_influence_genes].mean()\n",
    "data_std = ts_df.T[top_positive_influence_genes].std()\n",
    "\n",
    "regr = RandomForestRegressor(random_state=42, warm_start=True, n_estimators=300, n_jobs=20)"
   ]
  },
  {
   "cell_type": "code",
   "execution_count": 107,
   "metadata": {},
   "outputs": [],
   "source": [
    "train_X = ts_df[ts_exp_index_source].T[top_positive_influence_genes]\n",
    "train_y = ts_df[ts_exp_index_target].loc['AT1G14040']"
   ]
  },
  {
   "cell_type": "code",
   "execution_count": 108,
   "metadata": {},
   "outputs": [],
   "source": [
    "regr = regr.fit(train_X, train_y)\n",
    "base_prediction = regr.predict(np.array(data_mean).reshape(1,-1))[0]\n",
    "y_std = ts_df.T.std()['AT1G14040']"
   ]
  },
  {
   "cell_type": "code",
   "execution_count": 109,
   "metadata": {},
   "outputs": [],
   "source": [
    "perturbation_list = [i for i in combinations(top_positive_influence_genes, 3)] + [i for i in combinations(top_positive_influence_genes, 2)]"
   ]
  },
  {
   "cell_type": "code",
   "execution_count": 110,
   "metadata": {},
   "outputs": [],
   "source": [
    "perturbation_result_list = []\n",
    "perturbation_list_names = ['; '.join(perturbation_genes) for perturbation_genes in perturbation_list]"
   ]
  },
  {
   "cell_type": "code",
   "execution_count": 111,
   "metadata": {},
   "outputs": [
    {
     "name": "stderr",
     "output_type": "stream",
     "text": [
      "100%|██████████| 166650/166650 [00:09<00:00, 17388.48it/s]\n"
     ]
    }
   ],
   "source": [
    "perturbed_input = []\n",
    "\n",
    "for perturbation_genes in tqdm(perturbation_list):\n",
    "    perturbation_input = data_mean.copy()\n",
    "    for gene in perturbation_genes:\n",
    "        perturbation_input[gene] += data_std[gene] * perturbation_factor\n",
    "    perturbed_input.append(perturbation_input.values)\n",
    "    # perturbation_prediction = regr.predict(np.array(perturbation_input).reshape(1,-1))[0]\n",
    "    # perturbation_measure = (perturbation_prediction - base_prediction)/y_std\n",
    "    # perturbation_result_list.append(perturbation_measure)\n",
    "perturbed_input = np.vstack(perturbed_input)\n",
    "perturbation_result_list = (regr.predict(perturbed_input) - base_prediction)/y_std"
   ]
  },
  {
   "cell_type": "code",
   "execution_count": 112,
   "metadata": {},
   "outputs": [
    {
     "data": {
      "text/plain": [
       "array(['AT4G22680; AT3G02940; AT5G56620',\n",
       "       'AT3G02940; AT5G56620; AT5G40330',\n",
       "       'AT3G02940; AT5G56620; AT1G12260',\n",
       "       'AT3G02940; AT5G56620; AT1G18835',\n",
       "       'AT4G22680; AT3G02940; AT5G40330'], dtype='<U31')"
      ]
     },
     "execution_count": 112,
     "metadata": {},
     "output_type": "execute_result"
    }
   ],
   "source": [
    "np.array(perturbation_list_names)[np.argsort(perturbation_result_list)[::-1][:5]]"
   ]
  },
  {
   "cell_type": "code",
   "execution_count": 104,
   "metadata": {},
   "outputs": [
    {
     "data": {
      "text/plain": [
       "array([0.37705886, 0.36532599, 0.34913108, 0.33936352, 0.33892069])"
      ]
     },
     "execution_count": 104,
     "metadata": {},
     "output_type": "execute_result"
    }
   ],
   "source": [
    "np.array(perturbation_result_list)[np.argsort(perturbation_result_list)[::-1][:5]]\n"
   ]
  },
  {
   "cell_type": "code",
   "execution_count": null,
   "metadata": {},
   "outputs": [],
   "source": []
  }
 ],
 "metadata": {
  "kernelspec": {
   "display_name": "Python 3.8.10 ('base')",
   "language": "python",
   "name": "python3"
  },
  "language_info": {
   "codemirror_mode": {
    "name": "ipython",
    "version": 3
   },
   "file_extension": ".py",
   "mimetype": "text/x-python",
   "name": "python",
   "nbconvert_exporter": "python",
   "pygments_lexer": "ipython3",
   "version": "3.8.10"
  },
  "orig_nbformat": 4,
  "vscode": {
   "interpreter": {
    "hash": "a0625736e76ce7a086b05dcdb3b30b057da1874f4b7d94f712ab6b40a66351ac"
   }
  }
 },
 "nbformat": 4,
 "nbformat_minor": 2
}
