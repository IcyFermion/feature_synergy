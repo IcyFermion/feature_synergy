{
 "cells": [
  {
   "cell_type": "code",
   "execution_count": 114,
   "metadata": {},
   "outputs": [],
   "source": [
    "import pandas as pd\n",
    "import numpy as np\n",
    "from tqdm import tqdm\n",
    "import re\n",
    "\n",
    "from os import listdir\n",
    "from os.path import isfile, join\n",
    "from sklearn.metrics import mean_squared_error\n",
    "\n",
    "import os\n",
    "\n",
    "import requests\n",
    "from bs4 import BeautifulSoup\n",
    "import urllib.parse\n",
    "\n",
    "from sklearn.model_selection import cross_val_score\n",
    "import xgboost as xgb\n",
    "from sklearn.ensemble import RandomForestRegressor\n",
    "from sklearn.linear_model import LinearRegression\n",
    "\n",
    "from scipy import stats"
   ]
  },
  {
   "cell_type": "code",
   "execution_count": null,
   "metadata": {},
   "outputs": [],
   "source": [
    "df_1 = pd.read_csv('../data/yeast/GSE145936_Sis1-AA_Gene_counts_normalized.txt', sep='\\t', index_col=0)\n",
    "df_2 = pd.read_csv('../data/yeast/GSE153609_gene_expression_TPM_all_times.csv', index_col=0)\n",
    "df_3 = pd.read_csv('../data/yeast/GSE168699_RNA_TPM_all_times.csv', index_col=0)"
   ]
  },
  {
   "cell_type": "code",
   "execution_count": null,
   "metadata": {},
   "outputs": [],
   "source": [
    "to_drop = df_3.columns[:7]\n",
    "df_3 = df_3.drop(labels=to_drop, axis=1)\n",
    "df_1 = df_1.drop(labels=['gene name'], axis=1)"
   ]
  },
  {
   "cell_type": "code",
   "execution_count": null,
   "metadata": {},
   "outputs": [],
   "source": [
    "common_genes = set(df_1.index).intersection(set(df_2.index)).intersection(set(df_3.index))\n",
    "common_genes = list(common_genes)"
   ]
  },
  {
   "cell_type": "code",
   "execution_count": null,
   "metadata": {},
   "outputs": [],
   "source": [
    "len(common_genes)"
   ]
  },
  {
   "cell_type": "code",
   "execution_count": null,
   "metadata": {},
   "outputs": [],
   "source": [
    "df_1 = df_1.loc[common_genes]\n",
    "df_2 = df_2.loc[common_genes]\n",
    "df_3 = df_3.loc[common_genes]"
   ]
  },
  {
   "cell_type": "code",
   "execution_count": null,
   "metadata": {},
   "outputs": [],
   "source": [
    "normalized_df_1=(df_1-df_1.min())/(df_1.max()-df_1.min())\n",
    "normalized_df_2=(df_2-df_2.min())/(df_2.max()-df_2.min())\n",
    "normalized_df_3=(df_3-df_3.min())/(df_3.max()-df_3.min())"
   ]
  },
  {
   "cell_type": "code",
   "execution_count": null,
   "metadata": {},
   "outputs": [],
   "source": [
    "normalized_df_1 = normalized_df_1*100.0\n",
    "normalized_df_2 = normalized_df_2*100.0\n",
    "normalized_df_3 = normalized_df_3*100.0"
   ]
  },
  {
   "cell_type": "code",
   "execution_count": null,
   "metadata": {},
   "outputs": [],
   "source": [
    "test_df_1 = normalized_df_1.iloc[:,[3,4,5,9,10,11]]\n",
    "test_df_2 = normalized_df_2.iloc[:,[3,4,5]]\n",
    "test_df_3 = normalized_df_3.iloc[:, -5:]"
   ]
  },
  {
   "cell_type": "code",
   "execution_count": null,
   "metadata": {},
   "outputs": [],
   "source": [
    "test_exp = pd.concat([test_df_1, test_df_2, test_df_3], axis=1)\n"
   ]
  },
  {
   "cell_type": "code",
   "execution_count": null,
   "metadata": {},
   "outputs": [],
   "source": [
    "test_source = test_exp.iloc[:,[0,1,3,4,6,7,9,10,11,12]]\n",
    "test_target = test_exp.iloc[:,[0,1,3,4,6,7,9,10,11,12]]"
   ]
  },
  {
   "cell_type": "code",
   "execution_count": null,
   "metadata": {},
   "outputs": [],
   "source": [
    "train_source_df_1 = normalized_df_1.iloc[:, [0,1,2,3,5,6,7,8,9]]\n",
    "train_target_df_1 = normalized_df_1.iloc[:, [1,2,3,4,6,7,8,9,10]]\n",
    "train_source_df_2 = normalized_df_2.iloc[:, [0,1,2,3]]\n",
    "train_target_df_2 = normalized_df_2.iloc[:, [1,2,3,4]]\n",
    "train_source_df_3 = normalized_df_3.iloc[:, :-4]\n",
    "train_target_df_3 = normalized_df_3.iloc[:, 1:-3]"
   ]
  },
  {
   "cell_type": "code",
   "execution_count": null,
   "metadata": {},
   "outputs": [],
   "source": [
    "train_source = pd.concat([train_source_df_1, train_source_df_2, train_source_df_3], axis=1)\n",
    "train_target = pd.concat([train_target_df_1, train_target_df_2, train_target_df_3], axis=1)"
   ]
  },
  {
   "cell_type": "code",
   "execution_count": null,
   "metadata": {},
   "outputs": [],
   "source": [
    "source_exp = pd.concat([train_source, test_source], axis=1)\n",
    "target_exp = pd.concat([train_target, test_target], axis=1)"
   ]
  },
  {
   "cell_type": "code",
   "execution_count": null,
   "metadata": {},
   "outputs": [],
   "source": [
    "network_df = pd.read_csv('./yeat_network.csv', index_col=0)\n",
    "tf_set = set()\n",
    "target_gene_list = []\n",
    "for i, row in network_df.iterrows():\n",
    "    tf_list = row.tf_list\n",
    "    if pd.isnull(tf_list): \n",
    "        continue\n",
    "    tf_list = tf_list.split('; ')\n",
    "    tf_set = tf_set.union(set(tf_list))\n",
    "    target_gene_list.append(i)\n",
    "tf_list = list(tf_set)"
   ]
  },
  {
   "cell_type": "code",
   "execution_count": null,
   "metadata": {},
   "outputs": [],
   "source": [
    "len(target_gene_list)"
   ]
  },
  {
   "cell_type": "code",
   "execution_count": null,
   "metadata": {},
   "outputs": [],
   "source": [
    "X = source_exp.loc[tf_list]\n"
   ]
  },
  {
   "cell_type": "code",
   "execution_count": 95,
   "metadata": {},
   "outputs": [
    {
     "name": "stderr",
     "output_type": "stream",
     "text": [
      "100%|██████████| 4897/4897 [1:47:41<00:00,  1.32s/it]\n"
     ]
    }
   ],
   "source": [
    "best_network_score_list = []\n",
    "mean_network_score_list = []\n",
    "model_score_list = []\n",
    "for target in tqdm(target_gene_list):\n",
    "    y = target_exp.loc[target]\n",
    "    xb_regr = xgb.XGBRegressor(random_state=42, n_jobs=-1)\n",
    "    linear_regr = LinearRegression()\n",
    "    linear_scores = []\n",
    "    tf_list = network_df.loc[target].tf_list\n",
    "    tf_list = tf_list.split('; ')\n",
    "    for tf in tf_list:\n",
    "        X_tf = X.loc[tf]\n",
    "        scores = cross_val_score(linear_regr, np.array([X_tf]).T, y, cv=5)\n",
    "        linear_scores.append(np.mean(scores))\n",
    "    best_network_score_list.append(np.max(linear_scores))\n",
    "    mean_network_score_list.append(np.mean(linear_scores))\n",
    "    scores = cross_val_score(xb_regr, X.T, y, cv=5)\n",
    "    model_score_list.append(np.mean(scores))"
   ]
  },
  {
   "cell_type": "code",
   "execution_count": 96,
   "metadata": {},
   "outputs": [],
   "source": [
    "out_df = pd.DataFrame(index=target_gene_list)\n",
    "out_df['best_network_score'] = best_network_score_list\n",
    "out_df['mean_network_score'] = mean_network_score_list\n",
    "out_df['model_score'] = model_score_list"
   ]
  },
  {
   "cell_type": "code",
   "execution_count": 98,
   "metadata": {},
   "outputs": [],
   "source": [
    "out_df.to_csv('./yeast_model_network_res.csv')"
   ]
  },
  {
   "cell_type": "code",
   "execution_count": 113,
   "metadata": {},
   "outputs": [],
   "source": [
    "out_df = out_df.drop(['YCR096C'])"
   ]
  },
  {
   "cell_type": "code",
   "execution_count": 117,
   "metadata": {},
   "outputs": [
    {
     "data": {
      "text/plain": [
       "Ttest_relResult(statistic=2.40847925427126, pvalue=0.016055863199217354)"
      ]
     },
     "execution_count": 117,
     "metadata": {},
     "output_type": "execute_result"
    }
   ],
   "source": [
    "stats.ttest_rel(out_df['model_score'], out_df['mean_network_score'])"
   ]
  },
  {
   "cell_type": "code",
   "execution_count": null,
   "metadata": {},
   "outputs": [],
   "source": [
    "target = 'YDR170C'\n",
    "y = target_exp.loc[target]\n",
    "xb_regr = xgb.XGBRegressor(random_state=42, n_jobs=-1)\n",
    "linear_regr = LinearRegression()\n",
    "linear_scores = []\n",
    "tf_list = network_df.loc[target].tf_list\n",
    "tf_list = tf_list.split('; ')\n",
    "for tf in tf_list:\n",
    "    X_tf = X.loc[tf]\n",
    "    scores = cross_val_score(linear_regr, np.array([X_tf]).T, y, cv=5)\n",
    "    linear_scores.append(np.mean(scores))\n",
    "scores = cross_val_score(xb_regr, X.T, y, cv=5)\n",
    "# best_network_score_list.append(np.max(linear_scores))\n",
    "# mean_network_score_list.append(np.mean(linear_scores))\n",
    "# model_score_list.append(np.mean(scores))"
   ]
  },
  {
   "cell_type": "code",
   "execution_count": 121,
   "metadata": {},
   "outputs": [
    {
     "data": {
      "text/plain": [
       "HS_15.norm    0.929902\n",
       "HS_30.norm    0.937022\n",
       "HS_60.norm    1.333408\n",
       "HS_90.norm    1.422125\n",
       "R_0.norm      4.237195\n",
       "R_15.norm     3.215176\n",
       "R_30.norm     2.795815\n",
       "R_60.norm     2.724133\n",
       "R_90.norm     2.463400\n",
       "7.5           0.617029\n",
       "15.0          0.567368\n",
       "30.0          0.732101\n",
       "60.0          0.912388\n",
       "10 min        0.544213\n",
       "20 min        0.532082\n",
       "30 min        0.457882\n",
       "40 min        0.456745\n",
       "50 min        0.426647\n",
       "60 min        0.332556\n",
       "70 min        0.330940\n",
       "80 min        0.323230\n",
       "90 min        0.385530\n",
       "100 min       0.429019\n",
       "110 min       0.405119\n",
       "HS_60.norm    1.333408\n",
       "HS_90.norm    1.422125\n",
       "R_60.norm     2.724133\n",
       "R_90.norm     2.463400\n",
       "30.0          0.732101\n",
       "60.0          0.912388\n",
       "100 min       0.429019\n",
       "110 min       0.405119\n",
       "120 min       0.399981\n",
       "130 min       0.431930\n",
       "Name: YDR170C, dtype: float64"
      ]
     },
     "execution_count": 121,
     "metadata": {},
     "output_type": "execute_result"
    }
   ],
   "source": [
    "y"
   ]
  },
  {
   "cell_type": "code",
   "execution_count": 119,
   "metadata": {},
   "outputs": [
    {
     "data": {
      "text/plain": [
       "'YEL058W'"
      ]
     },
     "execution_count": 119,
     "metadata": {},
     "output_type": "execute_result"
    }
   ],
   "source": [
    "target"
   ]
  },
  {
   "cell_type": "code",
   "execution_count": null,
   "metadata": {},
   "outputs": [],
   "source": []
  }
 ],
 "metadata": {
  "kernelspec": {
   "display_name": "inf",
   "language": "python",
   "name": "python3"
  },
  "language_info": {
   "codemirror_mode": {
    "name": "ipython",
    "version": 3
   },
   "file_extension": ".py",
   "mimetype": "text/x-python",
   "name": "python",
   "nbconvert_exporter": "python",
   "pygments_lexer": "ipython3",
   "version": "3.9.5"
  },
  "orig_nbformat": 4
 },
 "nbformat": 4,
 "nbformat_minor": 2
}
