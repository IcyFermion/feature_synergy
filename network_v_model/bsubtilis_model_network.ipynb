{
 "cells": [
  {
   "cell_type": "code",
   "execution_count": 1,
   "metadata": {},
   "outputs": [],
   "source": [
    "import pandas as pd\n",
    "import numpy as np\n",
    "from tqdm import tqdm\n",
    "from itertools import product\n",
    "import re\n",
    "\n",
    "import mp_run\n",
    "import conf_interval\n",
    "from sklearn import linear_model\n",
    "\n",
    "from os import listdir\n",
    "from os.path import isfile, join\n",
    "from sklearn.metrics import mean_squared_error, explained_variance_score\n",
    "\n",
    "import os\n",
    "\n",
    "from sklearn.model_selection import cross_val_score\n",
    "import xgboost as xgb\n",
    "from sklearn.ensemble import RandomForestRegressor\n",
    "from sklearn.linear_model import LinearRegression\n",
    "\n",
    "from scipy import stats\n",
    "\n",
    "from multiprocessing import Pool, cpu_count\n",
    "\n",
    "\n",
    "%load_ext autoreload\n",
    "%autoreload 2\n",
    "\n",
    "# regex for number extraction from string\n",
    "number_pattern =  r'(-?(?:0|[1-9]\\d*)(?:\\.\\d+)?(?:[eE][+-]?\\d+)?)'\n",
    "\n",
    "import matplotlib.pyplot as plt\n",
    "%matplotlib inline\n",
    "plt.rcParams.update({'figure.figsize':(7,5), 'figure.dpi':100})"
   ]
  },
  {
   "cell_type": "code",
   "execution_count": 2,
   "metadata": {},
   "outputs": [],
   "source": [
    "source_df_1 = pd.read_csv('../data/bsubtilis/GSE108659/formated/source.csv', index_col=0).apply(stats.zscore, axis=0)\n",
    "source_df_2 = pd.read_csv('../data/bsubtilis/GSE128875/formated/source.csv', index_col=0).apply(stats.zscore, axis=0)\n",
    "source_df_3 = pd.read_csv('../data/bsubtilis/GSE224332/formated/source.csv', index_col=0).apply(stats.zscore, axis=0)\n",
    "target_df_1 = pd.read_csv('../data/bsubtilis/GSE108659/formated/target.csv', index_col=0).apply(stats.zscore, axis=0)\n",
    "target_df_2 = pd.read_csv('../data/bsubtilis/GSE128875/formated/target.csv', index_col=0).apply(stats.zscore, axis=0)\n",
    "target_df_3 = pd.read_csv('../data/bsubtilis/GSE224332/formated/target.csv', index_col=0).apply(stats.zscore, axis=0)"
   ]
  },
  {
   "cell_type": "code",
   "execution_count": 3,
   "metadata": {},
   "outputs": [],
   "source": [
    "train_source_df_1 = pd.read_csv('../data/bsubtilis/GSE108659/formated/train_source.csv', index_col=0).apply(stats.zscore, axis=0)\n",
    "train_source_df_2 = pd.read_csv('../data/bsubtilis/GSE128875/formated/train_source.csv', index_col=0).apply(stats.zscore, axis=0)\n",
    "train_source_df_3 = pd.read_csv('../data/bsubtilis/GSE224332/formated/train_source.csv', index_col=0).apply(stats.zscore, axis=0)\n",
    "train_target_df_1 = pd.read_csv('../data/bsubtilis/GSE108659/formated/train_target.csv', index_col=0).apply(stats.zscore, axis=0)\n",
    "train_target_df_2 = pd.read_csv('../data/bsubtilis/GSE128875/formated/train_target.csv', index_col=0).apply(stats.zscore, axis=0)\n",
    "train_target_df_3 = pd.read_csv('../data/bsubtilis/GSE224332/formated/train_target.csv', index_col=0).apply(stats.zscore, axis=0)\n",
    "\n",
    "test_source_df_1 = pd.read_csv('../data/bsubtilis/GSE108659/formated/test_source.csv', index_col=0).apply(stats.zscore, axis=0)\n",
    "test_source_df_2 = pd.read_csv('../data/bsubtilis/GSE128875/formated/test_source.csv', index_col=0).apply(stats.zscore, axis=0)\n",
    "test_source_df_3 = pd.read_csv('../data/bsubtilis/GSE224332/formated/test_source.csv', index_col=0).apply(stats.zscore, axis=0)\n",
    "test_target_df_1 = pd.read_csv('../data/bsubtilis/GSE108659/formated/test_target.csv', index_col=0).apply(stats.zscore, axis=0)\n",
    "test_target_df_2 = pd.read_csv('../data/bsubtilis/GSE128875/formated/test_target.csv', index_col=0).apply(stats.zscore, axis=0)\n",
    "test_target_df_3 = pd.read_csv('../data/bsubtilis/GSE224332/formated/test_target.csv', index_col=0).apply(stats.zscore, axis=0)"
   ]
  },
  {
   "cell_type": "code",
   "execution_count": 4,
   "metadata": {},
   "outputs": [],
   "source": [
    "network_df = pd.read_csv('../data/bsubtilis/gs_regulations.csv')\n",
    "network_df\n",
    "regulator_set = set(network_df['regulator name'])\n",
    "target_set = set(network_df['gene name'])"
   ]
  },
  {
   "cell_type": "code",
   "execution_count": 5,
   "metadata": {},
   "outputs": [],
   "source": [
    "regulator_set = regulator_set.intersection(set(source_df_1.index), set(source_df_2.index), set(source_df_3.index))\n",
    "target_set = target_set.intersection(set(source_df_1.index), set(source_df_2.index), set(source_df_3.index))\n",
    "all_gene_set = regulator_set.union(target_set)\n"
   ]
  },
  {
   "cell_type": "code",
   "execution_count": 6,
   "metadata": {},
   "outputs": [],
   "source": [
    "network_dict = {target: [] for target in target_set}\n",
    "for ind, row in network_df.iterrows():\n",
    "    if (row['regulator name'] in regulator_set) and (row['gene name'] in target_set):\n",
    "        network_dict[row['gene name']].append(row['regulator name'])"
   ]
  },
  {
   "cell_type": "code",
   "execution_count": 7,
   "metadata": {},
   "outputs": [],
   "source": [
    "key_list = []\n",
    "value_list = []\n",
    "regulator_set = set()\n",
    "target_set = set()\n",
    "for key in network_dict.keys():\n",
    "    if (len(network_dict[key]) > 0):\n",
    "        key_list.append(key)\n",
    "        target_set.add(key)\n",
    "        value_list.append(\"; \".join(network_dict[key]))\n",
    "        for regulator in network_dict[key]:\n",
    "            regulator_set.add(regulator)\n",
    "all_gene_set = regulator_set.union(target_set)"
   ]
  },
  {
   "cell_type": "code",
   "execution_count": 8,
   "metadata": {},
   "outputs": [],
   "source": [
    "network_df = pd.DataFrame(index=key_list)\n",
    "network_df['tf_list'] = value_list"
   ]
  },
  {
   "cell_type": "code",
   "execution_count": 9,
   "metadata": {},
   "outputs": [],
   "source": [
    "source_df_1 = source_df_1.loc[list(all_gene_set)]\n",
    "source_df_2 = source_df_2.loc[list(all_gene_set)]\n",
    "source_df_3 = source_df_3.loc[list(all_gene_set)]\n",
    "target_df_1 = target_df_1.loc[list(all_gene_set)]\n",
    "target_df_2 = target_df_2.loc[list(all_gene_set)]\n",
    "target_df_3 = target_df_3.loc[list(all_gene_set)]\n",
    "\n",
    "train_source_df_1 = train_source_df_1.loc[list(all_gene_set)]\n",
    "train_source_df_2 = train_source_df_2.loc[list(all_gene_set)]\n",
    "train_source_df_3 = train_source_df_3.loc[list(all_gene_set)]\n",
    "train_target_df_1 = train_target_df_1.loc[list(all_gene_set)]\n",
    "train_target_df_2 = train_target_df_2.loc[list(all_gene_set)]\n",
    "train_target_df_3 = train_target_df_3.loc[list(all_gene_set)]\n",
    "\n",
    "test_source_df_1 = test_source_df_1.loc[list(all_gene_set)]\n",
    "test_source_df_2 = test_source_df_2.loc[list(all_gene_set)]\n",
    "test_source_df_3 = test_source_df_3.loc[list(all_gene_set)]\n",
    "test_target_df_1 = test_target_df_1.loc[list(all_gene_set)]\n",
    "test_target_df_2 = test_target_df_2.loc[list(all_gene_set)]\n",
    "test_target_df_3 = test_target_df_3.loc[list(all_gene_set)]\n"
   ]
  },
  {
   "cell_type": "code",
   "execution_count": 10,
   "metadata": {},
   "outputs": [],
   "source": [
    "train_source = pd.concat([train_source_df_1, train_source_df_2, train_source_df_3], axis=1).apply(stats.zscore, axis=0)\n",
    "test_source = pd.concat([test_source_df_1, test_source_df_2, test_source_df_3], axis=1).apply(stats.zscore, axis=0)\n",
    "train_target = pd.concat([train_target_df_1, train_target_df_2, train_target_df_3], axis=1).apply(stats.zscore, axis=0)\n",
    "test_target = pd.concat([test_target_df_1, test_target_df_2, test_target_df_3], axis=1).apply(stats.zscore, axis=0)\n",
    "\n",
    "target_df = pd.concat([target_df_1, target_df_2, target_df_3], axis=1).apply(stats.zscore, axis=0)\n",
    "source_df = pd.concat([source_df_1, source_df_2, source_df_3], axis=1).apply(stats.zscore, axis=0)\n",
    "\n",
    "\n",
    "\n",
    "\n"
   ]
  },
  {
   "cell_type": "code",
   "execution_count": 11,
   "metadata": {},
   "outputs": [],
   "source": [
    "for a in list(target_set):\n",
    "    if len(network_df.loc[a]['tf_list'].split('; ')) < 1 or network_df.loc[a]['tf_list'] == a:\n",
    "        target_set.remove(a)\n",
    "    "
   ]
  },
  {
   "cell_type": "code",
   "execution_count": 12,
   "metadata": {},
   "outputs": [],
   "source": [
    "target_gene_list = list(target_set)\n",
    "target_exp = target_df\n",
    "X = source_df.loc[list(regulator_set)]\n",
    "tf_list = list(regulator_set)"
   ]
  },
  {
   "cell_type": "code",
   "execution_count": 13,
   "metadata": {},
   "outputs": [],
   "source": [
    "mp_calc = mp_run.MpCalc(target_gene_list, target_exp, X, network_df, train_source.loc[tf_list], train_target, test_source.loc[tf_list], test_target)"
   ]
  },
  {
   "cell_type": "code",
   "execution_count": 14,
   "metadata": {},
   "outputs": [
    {
     "name": "stderr",
     "output_type": "stream",
     "text": [
      "100%|████████████████████████████████████████████████████████████████████████████| 1878/1878 [01:57<00:00, 16.03it/s]\n"
     ]
    }
   ],
   "source": [
    "iter_length = len(target_gene_list)\n",
    "with Pool(cpu_count()) as p:\n",
    "    r = list(tqdm(p.imap(mp_calc.full_comp_new, range(iter_length)), total=iter_length))"
   ]
  },
  {
   "cell_type": "code",
   "execution_count": 15,
   "metadata": {},
   "outputs": [],
   "source": [
    "r = np.array(r)\n",
    "out_df = pd.DataFrame(index=target_gene_list)\n",
    "out_df['rf_score'] = r[:, 0]\n",
    "out_df['linear_score'] = r[:, 1]\n",
    "out_df['gs_rf_score'] = r[:, 2]\n",
    "out_df['gs_linear_score'] = r[:, 3]\n",
    "out_df['rf_with_linear_top_features_score'] = r[:, 4]\n",
    "out_df['linear_with_rf_top_features_score'] = r[:, 5]\n",
    "out_df['rf_rmse'] = r[:, 6]\n",
    "out_df['linear_rmse'] = r[:, 7]\n",
    "out_df['gs_rf_rmse'] = r[:, 8]\n",
    "out_df['gs_linear_rmse'] = r[:, 9]\n",
    "out_df['rf_with_linear_top_features_rmse'] = r[:, 10]\n",
    "out_df['linear_with_rf_top_features_rmse'] = r[:, 11]\n",
    "out_df['rf_with_top_features_score'] = r[:, 12]\n",
    "out_df['linear_with_top_features_score'] = r[:, 13]\n",
    "out_df['rf_with_top_features_rmse'] = r[:, 14]\n",
    "out_df['linear_with_top_features_rmse'] = r[:, 15]\n",
    "out_df['rf_top_feature_num'] = r[:, 16]\n",
    "out_df['linear_top_feature_num'] = r[:, 17]\n",
    "out_df['rf_top_features_gs_overlap'] = r[:, 18]\n",
    "out_df['linear_top_features_gs_overlap'] = r[:, 19]\n",
    "out_df['rf_linear_top_features_overlap'] = r[:, 20]\n",
    "out_df['gs_edge_num'] = r[:, 21]\n",
    "out_df['test_var'] = r[:, 22]\n",
    "out_df['test_std'] = r[:, 23]"
   ]
  },
  {
   "cell_type": "code",
   "execution_count": 16,
   "metadata": {},
   "outputs": [],
   "source": [
    "filtered_df = out_df[out_df['test_std'] > 0.5]"
   ]
  },
  {
   "cell_type": "code",
   "execution_count": 19,
   "metadata": {},
   "outputs": [
    {
     "data": {
      "text/plain": [
       "rf_score                             0.536871\n",
       "linear_score                         0.383967\n",
       "gs_rf_score                          0.276440\n",
       "gs_linear_score                      0.250533\n",
       "rf_with_linear_top_features_score    0.525385\n",
       "linear_with_rf_top_features_score    0.330399\n",
       "rf_rmse                              0.455794\n",
       "linear_rmse                          0.469487\n",
       "gs_rf_rmse                           0.599354\n",
       "gs_linear_rmse                       0.675194\n",
       "rf_with_linear_top_features_rmse     0.461765\n",
       "linear_with_rf_top_features_rmse     0.521236\n",
       "rf_with_top_features_score           0.477573\n",
       "linear_with_top_features_score       0.290781\n",
       "rf_with_top_features_rmse            0.467211\n",
       "linear_with_top_features_rmse        0.518547\n",
       "rf_top_feature_num                   6.763984\n",
       "linear_top_feature_num               8.308322\n",
       "rf_top_features_gs_overlap           0.133697\n",
       "linear_top_features_gs_overlap       0.225102\n",
       "rf_linear_top_features_overlap       0.762619\n",
       "gs_edge_num                          1.870396\n",
       "test_var                             1.752707\n",
       "test_std                             0.871129\n",
       "dtype: float64"
      ]
     },
     "execution_count": 19,
     "metadata": {},
     "output_type": "execute_result"
    }
   ],
   "source": [
    "filtered_df.mean()"
   ]
  },
  {
   "cell_type": "code",
   "execution_count": 20,
   "metadata": {},
   "outputs": [],
   "source": [
    "out_df.to_csv('bsubtilis_network_v_model.csv')"
   ]
  },
  {
   "cell_type": "code",
   "execution_count": 16,
   "metadata": {},
   "outputs": [
    {
     "name": "stderr",
     "output_type": "stream",
     "text": [
      "100%|██████████| 1878/1878 [01:21<00:00, 23.16it/s]\n"
     ]
    }
   ],
   "source": [
    "iter_length = len(target_gene_list)\n",
    "with Pool(cpu_count()) as p:\n",
    "    feature_num_r = list(tqdm(p.imap(mp_calc.top_feature_num, range(iter_length)), total=iter_length))\n",
    "feature_num_r = np.array(feature_num_r)\n",
    "\n",
    "out_df['rf_top_feature_num'] = feature_num_r[:, 0]\n",
    "out_df['linear_top_feature_num'] = feature_num_r[:, 1]\n",
    "out_df['test_var'] = test_target.loc[out_df.index].var(axis=1)\n",
    "out_df['test_std'] = test_target.loc[out_df.index].std(axis=1)"
   ]
  },
  {
   "cell_type": "code",
   "execution_count": 17,
   "metadata": {},
   "outputs": [],
   "source": [
    "out_df.to_csv('bsubtilis_network_v_model.csv')"
   ]
  },
  {
   "cell_type": "code",
   "execution_count": 15,
   "metadata": {},
   "outputs": [
    {
     "name": "stdout",
     "output_type": "stream",
     "text": [
      "(-0.169, 0.183)\n",
      "(-0.786, -0.095)\n",
      "(-0.731, -0.239)\n",
      "(-0.497, -0.170)\n",
      "(-0.460, 0.181)\n",
      "(-1.678, -0.335)\n"
     ]
    }
   ],
   "source": [
    "rf_conf_interval = conf_interval.conf_interval_calc(list(out_df['rf_score'].values))\n",
    "print('('+', '.join([ '%.3f' % elem for elem in rf_conf_interval[2:] ])+')')\n",
    "linear_conf_interval = conf_interval.conf_interval_calc(list(out_df['linear_score'].values))\n",
    "print('('+', '.join([ '%.3f' % elem for elem in linear_conf_interval[2:] ])+')')\n",
    "gs_rf_conf_interval = conf_interval.conf_interval_calc(list(out_df['gs_rf_score'].values))\n",
    "print('('+', '.join([ '%.3f' % elem for elem in gs_rf_conf_interval[2:] ])+')')\n",
    "gs_linear_conf_interval = conf_interval.conf_interval_calc(list(out_df['gs_linear_score'].values))\n",
    "print('('+', '.join([ '%.3f' % elem for elem in gs_linear_conf_interval[2:] ])+')')\n",
    "rf_with_linear_top_features_conf_interval = conf_interval.conf_interval_calc(list(out_df['rf_with_linear_top_features_score'].values))\n",
    "print('('+', '.join([ '%.3f' % elem for elem in rf_with_linear_top_features_conf_interval[2:] ])+')')\n",
    "linear_with_rf_top_features_conf_interval = conf_interval.conf_interval_calc(list(out_df['linear_with_rf_top_features_score'].values))\n",
    "print('('+', '.join([ '%.3f' % elem for elem in linear_with_rf_top_features_conf_interval[2:] ])+')')\n"
   ]
  },
  {
   "cell_type": "code",
   "execution_count": 16,
   "metadata": {},
   "outputs": [
    {
     "name": "stdout",
     "output_type": "stream",
     "text": [
      "(0.263, 0.307)\n",
      "(0.279, 0.321)\n",
      "(0.345, 0.396)\n",
      "(0.382, 0.434)\n",
      "(0.263, 0.309)\n",
      "(0.303, 0.350)\n"
     ]
    }
   ],
   "source": [
    "rf_conf_interval_rmse = conf_interval.conf_interval_calc(list(out_df['rf_rmse'].values))\n",
    "print('('+', '.join([ '%.3f' % elem for elem in rf_conf_interval_rmse[2:] ])+')')\n",
    "linear_conf_interval_rmse = conf_interval.conf_interval_calc(list(out_df['linear_rmse'].values))\n",
    "print('('+', '.join([ '%.3f' % elem for elem in linear_conf_interval_rmse[2:] ])+')')\n",
    "gs_rf_conf_interval_rmse = conf_interval.conf_interval_calc(list(out_df['gs_rf_rmse'].values))\n",
    "print('('+', '.join([ '%.3f' % elem for elem in gs_rf_conf_interval_rmse[2:] ])+')')\n",
    "gs_linear_conf_interval_rmse = conf_interval.conf_interval_calc(list(out_df['gs_linear_rmse'].values))\n",
    "print('('+', '.join([ '%.3f' % elem for elem in gs_linear_conf_interval_rmse[2:] ])+')')\n",
    "rf_with_linear_top_features_conf_interval_rmse = conf_interval.conf_interval_calc(list(out_df['rf_with_linear_top_features_rmse'].values))\n",
    "print('('+', '.join([ '%.3f' % elem for elem in rf_with_linear_top_features_conf_interval_rmse[2:] ])+')')\n",
    "linear_with_rf_top_features_conf_interval_rmse = conf_interval.conf_interval_calc(list(out_df['linear_with_rf_top_features_rmse'].values))\n",
    "print('('+', '.join([ '%.3f' % elem for elem in linear_with_rf_top_features_conf_interval_rmse[2:] ])+')')\n"
   ]
  },
  {
   "cell_type": "code",
   "execution_count": 40,
   "metadata": {},
   "outputs": [
    {
     "data": {
      "text/plain": [
       "rf_score                            -0.027094\n",
       "linear_score                        -0.388601\n",
       "gs_rf_score                         -0.497414\n",
       "gs_linear_score                     -0.316301\n",
       "rf_with_linear_top_features_score   -0.062346\n",
       "linear_with_rf_top_features_score   -0.897339\n",
       "dtype: float64"
      ]
     },
     "execution_count": 40,
     "metadata": {},
     "output_type": "execute_result"
    }
   ],
   "source": [
    "out_df.mean()[:6]"
   ]
  },
  {
   "cell_type": "code",
   "execution_count": 21,
   "metadata": {},
   "outputs": [],
   "source": [
    "from itertools import combinations\n",
    "model_combs = list(combinations(out_df.columns[:6], 2))"
   ]
  },
  {
   "cell_type": "code",
   "execution_count": 22,
   "metadata": {},
   "outputs": [
    {
     "name": "stdout",
     "output_type": "stream",
     "text": [
      "rf_score has statisically better performance than linear_score, with p-val of 0.008944896371205472\n",
      "confidence interval: (0.206, 0.754)\n",
      "rf_score has statisically better performance than gs_rf_score, with p-val of 4.641393758205537e-05\n",
      "confidence interval: (0.301, 0.689)\n",
      "rf_score has statisically better performance than gs_linear_score, with p-val of 2.3786985183335984e-07\n",
      "confidence interval: (0.232, 0.452)\n",
      "rf_score and rf_with_linear_top_features_score don't have statistically different performance\n",
      "rf_score has statisically better performance than linear_with_rf_top_features_score, with p-val of 0.008836968534223368\n",
      "confidence interval: (0.429, 1.518)\n",
      "linear_score and gs_rf_score don't have statistically different performance\n",
      "linear_score and gs_linear_score don't have statistically different performance\n",
      "linear_score and rf_with_linear_top_features_score don't have statistically different performance\n",
      "linear_score and linear_with_rf_top_features_score don't have statistically different performance\n",
      "gs_rf_score and gs_linear_score don't have statistically different performance\n",
      "rf_with_linear_top_features_score has statisically better performance than gs_rf_score, with p-val of 0.03920736205016653\n",
      "confidence interval: (-0.657, -0.002)\n",
      "gs_rf_score and linear_with_rf_top_features_score don't have statistically different performance\n",
      "gs_linear_score and rf_with_linear_top_features_score don't have statistically different performance\n",
      "gs_linear_score and linear_with_rf_top_features_score don't have statistically different performance\n",
      "rf_with_linear_top_features_score has statisically better performance than linear_with_rf_top_features_score, with p-val of 0.0010058144687857212\n",
      "confidence interval: (0.459, 1.242)\n"
     ]
    }
   ],
   "source": [
    "for a, b in model_combs:\n",
    "    t, p = stats.ttest_rel(out_df[a], out_df[b])\n",
    "    c, d, lower, upper = conf_interval.conf_interval_calc(list(out_df[a]-out_df[b]))\n",
    "    if (p > 0.05):\n",
    "        print('{} and {} don\\'t have statistically different performance'.format(a, b))\n",
    "        continue\n",
    "    if (t > 0):\n",
    "        print('{} has statisically better performance than {}, with p-val of {}'.format(a, b, p))\n",
    "        print('confidence interval: ({:.3f}, {:.3f})'.format(lower, upper))\n",
    "    else:\n",
    "        print('{} has statisically better performance than {}, with p-val of {}'.format(b, a, p))\n",
    "        print('confidence interval: ({:.3f}, {:.3f})'.format(lower, upper))"
   ]
  },
  {
   "cell_type": "code",
   "execution_count": 42,
   "metadata": {},
   "outputs": [
    {
     "name": "stderr",
     "output_type": "stream",
     "text": [
      "100%|████████████████████████████████████████████████████████████████████████████| 1878/1878 [01:18<00:00, 23.86it/s]\n"
     ]
    }
   ],
   "source": [
    "iter_length = len(target_gene_list)\n",
    "with Pool(cpu_count()) as p:\n",
    "    feature_num_r = list(tqdm(p.imap(mp_calc.top_feature_num, range(iter_length)), total=iter_length))"
   ]
  },
  {
   "cell_type": "code",
   "execution_count": 44,
   "metadata": {},
   "outputs": [],
   "source": [
    "feature_num_r = np.array(feature_num_r)\n",
    "out_df['rf_top_feature_num'] = feature_num_r[:, 0]\n",
    "out_df['linear_top_feature_num'] = feature_num_r[:, 1]\n",
    "out_df.to_csv('bsubtilis_network_v_model.csv')"
   ]
  },
  {
   "cell_type": "code",
   "execution_count": 18,
   "metadata": {},
   "outputs": [
    {
     "name": "stderr",
     "output_type": "stream",
     "text": [
      "100%|██████████| 1878/1878 [01:21<00:00, 23.11it/s]\n"
     ]
    }
   ],
   "source": [
    "out_df = pd.read_csv('bsubtilis_network_v_model.csv', index_col=0)\n",
    "iter_length = len(target_gene_list)\n",
    "with Pool(cpu_count()) as p:\n",
    "    top_feature_overlap_r = list(tqdm(p.imap(mp_calc.feature_overlap, range(iter_length)), total=iter_length))\n"
   ]
  },
  {
   "cell_type": "code",
   "execution_count": 19,
   "metadata": {},
   "outputs": [],
   "source": [
    "top_feature_overlap_r = np.array(top_feature_overlap_r)\n",
    "out_df['rf_top_features_gs_overlap'] = top_feature_overlap_r[:, 0]\n",
    "out_df['linear_top_features_gs_overlap'] = top_feature_overlap_r[:, 1]\n",
    "out_df['rf_linear_top_features_overlap'] = top_feature_overlap_r[:, 2]\n",
    "out_df['gs_edge_num'] = top_feature_overlap_r[:, 3]\n",
    "out_df.to_csv('bsubtilis_network_v_model.csv')"
   ]
  },
  {
   "cell_type": "code",
   "execution_count": 21,
   "metadata": {},
   "outputs": [
    {
     "data": {
      "text/plain": [
       "rf_score                             0.029074\n",
       "linear_score                        -0.388601\n",
       "gs_rf_score                         -0.472382\n",
       "gs_linear_score                     -0.316301\n",
       "rf_with_linear_top_features_score   -0.046939\n",
       "linear_with_rf_top_features_score   -1.034828\n",
       "rf_rmse                              0.282726\n",
       "linear_rmse                          0.298756\n",
       "gs_rf_rmse                           0.371651\n",
       "gs_linear_rmse                       0.409870\n",
       "rf_with_linear_top_features_rmse     0.283854\n",
       "linear_with_rf_top_features_rmse     0.326905\n",
       "rf_top_feature_num                   6.474973\n",
       "linear_top_feature_num               8.484026\n",
       "test_var                             0.739452\n",
       "test_std                             0.507727\n",
       "rf_with_top_features_score          -0.174528\n",
       "linear_with_top_features_score      -1.102215\n",
       "rf_with_top_features_rmse            0.291284\n",
       "linear_with_top_features_rmse        0.329560\n",
       "rf_top_features_gs_overlap           0.162939\n",
       "linear_top_features_gs_overlap       0.209265\n",
       "rf_linear_top_features_overlap       0.851438\n",
       "gs_edge_num                          1.930777\n",
       "dtype: float64"
      ]
     },
     "execution_count": 21,
     "metadata": {},
     "output_type": "execute_result"
    }
   ],
   "source": [
    "out_df.mean()"
   ]
  },
  {
   "cell_type": "code",
   "execution_count": 54,
   "metadata": {},
   "outputs": [
    {
     "data": {
      "text/plain": [
       "117"
      ]
     },
     "execution_count": 54,
     "metadata": {},
     "output_type": "execute_result"
    }
   ],
   "source": [
    "len(set(target_df.columns).union(set(source_df.columns)))"
   ]
  },
  {
   "cell_type": "code",
   "execution_count": null,
   "metadata": {},
   "outputs": [],
   "source": []
  }
 ],
 "metadata": {
  "kernelspec": {
   "display_name": "Python [conda env:pymc_env]",
   "language": "python",
   "name": "conda-env-pymc_env-py"
  },
  "language_info": {
   "codemirror_mode": {
    "name": "ipython",
    "version": 3
   },
   "file_extension": ".py",
   "mimetype": "text/x-python",
   "name": "python",
   "nbconvert_exporter": "python",
   "pygments_lexer": "ipython3",
   "version": "3.11.0"
  }
 },
 "nbformat": 4,
 "nbformat_minor": 4
}
