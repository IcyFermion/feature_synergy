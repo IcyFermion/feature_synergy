{
 "cells": [
  {
   "cell_type": "code",
   "execution_count": 1,
   "metadata": {},
   "outputs": [],
   "source": [
    "import pandas as pd\n",
    "import numpy as np\n",
    "from tqdm import tqdm\n",
    "from itertools import product\n",
    "import re\n",
    "\n",
    "import mp_run\n",
    "import conf_interval\n",
    "from sklearn import linear_model\n",
    "\n",
    "from os import listdir\n",
    "from os.path import isfile, join\n",
    "from sklearn.metrics import mean_squared_error, explained_variance_score\n",
    "\n",
    "import os\n",
    "\n",
    "from sklearn.model_selection import cross_val_score\n",
    "import xgboost as xgb\n",
    "from sklearn.ensemble import RandomForestRegressor\n",
    "from sklearn.linear_model import LinearRegression\n",
    "\n",
    "from scipy import stats\n",
    "\n",
    "from multiprocessing import Pool, cpu_count\n",
    "\n",
    "\n",
    "%load_ext autoreload\n",
    "%autoreload 2\n",
    "\n",
    "# regex for number extraction from string\n",
    "number_pattern =  r'(-?(?:0|[1-9]\\d*)(?:\\.\\d+)?(?:[eE][+-]?\\d+)?)'\n",
    "\n",
    "import matplotlib.pyplot as plt\n",
    "%matplotlib inline\n",
    "plt.rcParams.update({'figure.figsize':(7,5), 'figure.dpi':100})"
   ]
  },
  {
   "cell_type": "code",
   "execution_count": 2,
   "metadata": {},
   "outputs": [],
   "source": [
    "source_df_1 = pd.read_csv('../data/bsubtilis/GSE108659/formated/source.csv', index_col=0).apply(stats.zscore, axis=0)\n",
    "source_df_2 = pd.read_csv('../data/bsubtilis/GSE128875/formated/source.csv', index_col=0).apply(stats.zscore, axis=0)\n",
    "source_df_3 = pd.read_csv('../data/bsubtilis/GSE224332/formated/source.csv', index_col=0).apply(stats.zscore, axis=0)\n",
    "target_df_1 = pd.read_csv('../data/bsubtilis/GSE108659/formated/target.csv', index_col=0).apply(stats.zscore, axis=0)\n",
    "target_df_2 = pd.read_csv('../data/bsubtilis/GSE128875/formated/target.csv', index_col=0).apply(stats.zscore, axis=0)\n",
    "target_df_3 = pd.read_csv('../data/bsubtilis/GSE224332/formated/target.csv', index_col=0).apply(stats.zscore, axis=0)"
   ]
  },
  {
   "cell_type": "code",
   "execution_count": 3,
   "metadata": {},
   "outputs": [],
   "source": [
    "train_source_df_1 = pd.read_csv('../data/bsubtilis/GSE108659/formated/train_source.csv', index_col=0).apply(stats.zscore, axis=0)\n",
    "train_source_df_2 = pd.read_csv('../data/bsubtilis/GSE128875/formated/train_source.csv', index_col=0).apply(stats.zscore, axis=0)\n",
    "train_source_df_3 = pd.read_csv('../data/bsubtilis/GSE224332/formated/train_source.csv', index_col=0).apply(stats.zscore, axis=0)\n",
    "train_target_df_1 = pd.read_csv('../data/bsubtilis/GSE108659/formated/train_target.csv', index_col=0).apply(stats.zscore, axis=0)\n",
    "train_target_df_2 = pd.read_csv('../data/bsubtilis/GSE128875/formated/train_target.csv', index_col=0).apply(stats.zscore, axis=0)\n",
    "train_target_df_3 = pd.read_csv('../data/bsubtilis/GSE224332/formated/train_target.csv', index_col=0).apply(stats.zscore, axis=0)\n",
    "\n",
    "test_source_df_1 = pd.read_csv('../data/bsubtilis/GSE108659/formated/test_source.csv', index_col=0).apply(stats.zscore, axis=0)\n",
    "test_source_df_2 = pd.read_csv('../data/bsubtilis/GSE128875/formated/test_source.csv', index_col=0).apply(stats.zscore, axis=0)\n",
    "test_source_df_3 = pd.read_csv('../data/bsubtilis/GSE224332/formated/test_source.csv', index_col=0).apply(stats.zscore, axis=0)\n",
    "test_target_df_1 = pd.read_csv('../data/bsubtilis/GSE108659/formated/test_target.csv', index_col=0).apply(stats.zscore, axis=0)\n",
    "test_target_df_2 = pd.read_csv('../data/bsubtilis/GSE128875/formated/test_target.csv', index_col=0).apply(stats.zscore, axis=0)\n",
    "test_target_df_3 = pd.read_csv('../data/bsubtilis/GSE224332/formated/test_target.csv', index_col=0).apply(stats.zscore, axis=0)"
   ]
  },
  {
   "cell_type": "code",
   "execution_count": 4,
   "metadata": {},
   "outputs": [],
   "source": [
    "regulator_set = set()\n",
    "tf_list_df = pd.read_csv('../data/bsubtilis_tf_list.tsv.gz', sep='\\t', compression='gzip', index_col=0)\n",
    "tf_list_df\n",
    "for name in tf_list_df['Gene Names']:\n",
    "    name_splits = name.split(' ')\n",
    "    for i in name_splits:\n",
    "        if i in source_df_1.index:\n",
    "            regulator_set.add(i)\n",
    "\n",
    "network_df = pd.read_csv('../data/bsubtilis/gs_regulations.csv')\n",
    "regulator_set = regulator_set.union(set(network_df['regulator name']))\n",
    "target_set = set(network_df['gene name'])"
   ]
  },
  {
   "cell_type": "code",
   "execution_count": 5,
   "metadata": {},
   "outputs": [],
   "source": [
    "# network_df = pd.read_csv('../data/bsubtilis/gs_regulations.csv')\n",
    "# regulator_set = set(network_df['regulator name'])\n",
    "# target_set = set(network_df['gene name'])"
   ]
  },
  {
   "cell_type": "code",
   "execution_count": 6,
   "metadata": {},
   "outputs": [],
   "source": [
    "regulator_set = regulator_set.intersection(set(source_df_1.index), set(source_df_2.index), set(source_df_3.index))\n",
    "target_set = target_set.intersection(set(source_df_1.index), set(source_df_2.index), set(source_df_3.index))\n",
    "all_gene_set = regulator_set.union(target_set)\n"
   ]
  },
  {
   "cell_type": "code",
   "execution_count": 7,
   "metadata": {},
   "outputs": [],
   "source": [
    "network_dict = {target: [] for target in target_set}\n",
    "for ind, row in network_df.iterrows():\n",
    "    if (row['regulator name'] in regulator_set) and (row['gene name'] in target_set):\n",
    "        network_dict[row['gene name']].append(row['regulator name'])"
   ]
  },
  {
   "cell_type": "code",
   "execution_count": 8,
   "metadata": {},
   "outputs": [],
   "source": [
    "key_list = []\n",
    "value_list = []\n",
    "regulator_set = set()\n",
    "target_set = set()\n",
    "for key in network_dict.keys():\n",
    "    if (len(network_dict[key]) > 0):\n",
    "        key_list.append(key)\n",
    "        target_set.add(key)\n",
    "        value_list.append(\"; \".join(network_dict[key]))\n",
    "        for regulator in network_dict[key]:\n",
    "            regulator_set.add(regulator)\n",
    "all_gene_set = regulator_set.union(target_set)"
   ]
  },
  {
   "cell_type": "code",
   "execution_count": 9,
   "metadata": {},
   "outputs": [],
   "source": [
    "network_df = pd.DataFrame(index=key_list)\n",
    "network_df['tf_list'] = value_list"
   ]
  },
  {
   "cell_type": "code",
   "execution_count": 10,
   "metadata": {},
   "outputs": [],
   "source": [
    "source_df_1 = source_df_1.loc[list(all_gene_set)]\n",
    "source_df_2 = source_df_2.loc[list(all_gene_set)]\n",
    "source_df_3 = source_df_3.loc[list(all_gene_set)]\n",
    "target_df_1 = target_df_1.loc[list(all_gene_set)]\n",
    "target_df_2 = target_df_2.loc[list(all_gene_set)]\n",
    "target_df_3 = target_df_3.loc[list(all_gene_set)]\n",
    "\n",
    "train_source_df_1 = train_source_df_1.loc[list(all_gene_set)]\n",
    "train_source_df_2 = train_source_df_2.loc[list(all_gene_set)]\n",
    "train_source_df_3 = train_source_df_3.loc[list(all_gene_set)]\n",
    "train_target_df_1 = train_target_df_1.loc[list(all_gene_set)]\n",
    "train_target_df_2 = train_target_df_2.loc[list(all_gene_set)]\n",
    "train_target_df_3 = train_target_df_3.loc[list(all_gene_set)]\n",
    "\n",
    "test_source_df_1 = test_source_df_1.loc[list(all_gene_set)]\n",
    "test_source_df_2 = test_source_df_2.loc[list(all_gene_set)]\n",
    "test_source_df_3 = test_source_df_3.loc[list(all_gene_set)]\n",
    "test_target_df_1 = test_target_df_1.loc[list(all_gene_set)]\n",
    "test_target_df_2 = test_target_df_2.loc[list(all_gene_set)]\n",
    "test_target_df_3 = test_target_df_3.loc[list(all_gene_set)]\n"
   ]
  },
  {
   "cell_type": "code",
   "execution_count": 11,
   "metadata": {},
   "outputs": [],
   "source": [
    "train_source = pd.concat([train_source_df_1, train_source_df_2, train_source_df_3], axis=1).apply(stats.zscore, axis=0)\n",
    "test_source = pd.concat([test_source_df_1, test_source_df_2, test_source_df_3], axis=1).apply(stats.zscore, axis=0)\n",
    "train_target = pd.concat([train_target_df_1, train_target_df_2, train_target_df_3], axis=1).apply(stats.zscore, axis=0)\n",
    "test_target = pd.concat([test_target_df_1, test_target_df_2, test_target_df_3], axis=1).apply(stats.zscore, axis=0)\n",
    "\n",
    "target_df = pd.concat([target_df_1, target_df_2, target_df_3], axis=1).apply(stats.zscore, axis=0)\n",
    "source_df = pd.concat([source_df_1, source_df_2, source_df_3], axis=1).apply(stats.zscore, axis=0)\n",
    "\n",
    "\n",
    "\n",
    "\n"
   ]
  },
  {
   "cell_type": "code",
   "execution_count": 12,
   "metadata": {},
   "outputs": [],
   "source": [
    "for a in list(target_set):\n",
    "    if len(network_df.loc[a]['tf_list'].split('; ')) < 1 or network_df.loc[a]['tf_list'] == a:\n",
    "        target_set.remove(a)\n",
    "    "
   ]
  },
  {
   "cell_type": "code",
   "execution_count": 13,
   "metadata": {},
   "outputs": [],
   "source": [
    "target_gene_list = list(target_set)\n",
    "target_exp = target_df\n",
    "X = source_df.loc[list(regulator_set)]\n",
    "tf_list = list(regulator_set)"
   ]
  },
  {
   "cell_type": "code",
   "execution_count": 14,
   "metadata": {},
   "outputs": [],
   "source": [
    "new_test_target = test_target.loc[target_gene_list]\n",
    "new_test_target = new_test_target.loc[new_test_target.std(axis=1) > 0.5]\n",
    "target_gene_list = new_test_target.index"
   ]
  },
  {
   "cell_type": "code",
   "execution_count": 15,
   "metadata": {},
   "outputs": [
    {
     "name": "stdout",
     "output_type": "stream",
     "text": [
      "(1929, 84)\n",
      "(1929, 18)\n"
     ]
    }
   ],
   "source": [
    "print(train_source.shape)\n",
    "print(test_source.shape)"
   ]
  },
  {
   "cell_type": "code",
   "execution_count": 16,
   "metadata": {},
   "outputs": [],
   "source": [
    "mp_calc = mp_run.MpCalc(target_gene_list, target_exp, X, network_df, train_source.loc[tf_list], train_target, test_source.loc[tf_list], test_target)"
   ]
  },
  {
   "cell_type": "code",
   "execution_count": null,
   "metadata": {},
   "outputs": [],
   "source": [
    "iter_length = len(target_gene_list)\n",
    "with Pool(cpu_count()) as p:\n",
    "    r = list(tqdm(p.imap(mp_calc.full_comp_new, range(iter_length)), total=iter_length))"
   ]
  },
  {
   "cell_type": "code",
   "execution_count": 19,
   "metadata": {},
   "outputs": [],
   "source": [
    "r = np.array(r)\n",
    "out_df = pd.DataFrame(index=target_gene_list)\n",
    "out_df['rf_score'] = r[:, 0]\n",
    "out_df['linear_score'] = r[:, 1]\n",
    "out_df['gs_rf_score'] = r[:, 2]\n",
    "out_df['gs_linear_score'] = r[:, 3]\n",
    "out_df['rf_with_linear_top_features_score'] = r[:, 4]\n",
    "out_df['linear_with_rf_top_features_score'] = r[:, 5]\n",
    "out_df['rf_rmse'] = r[:, 6]\n",
    "out_df['linear_rmse'] = r[:, 7]\n",
    "out_df['gs_rf_rmse'] = r[:, 8]\n",
    "out_df['gs_linear_rmse'] = r[:, 9]\n",
    "out_df['rf_with_linear_top_features_rmse'] = r[:, 10]\n",
    "out_df['linear_with_rf_top_features_rmse'] = r[:, 11]\n",
    "out_df['rf_with_top_features_score'] = r[:, 12]\n",
    "out_df['linear_with_top_features_score'] = r[:, 13]\n",
    "out_df['rf_with_top_features_rmse'] = r[:, 14]\n",
    "out_df['linear_with_top_features_rmse'] = r[:, 15]\n",
    "out_df['rf_top_feature_num'] = r[:, 16]\n",
    "out_df['linear_top_feature_num'] = r[:, 17]\n",
    "out_df['rf_top_features_gs_overlap'] = r[:, 18]\n",
    "out_df['linear_top_features_gs_overlap'] = r[:, 19]\n",
    "out_df['rf_linear_top_features_overlap'] = r[:, 20]\n",
    "out_df['gs_edge_num'] = r[:, 21]\n",
    "out_df['test_var'] = r[:, 22]\n",
    "out_df['test_std'] = r[:, 23]\n",
    "out_df['pca_rf_score'] = r[:, 24]\n",
    "out_df['pca_rf_rmse'] = r[:, 25]"
   ]
  },
  {
   "cell_type": "code",
   "execution_count": null,
   "metadata": {},
   "outputs": [],
   "source": [
    "iter_length = len(target_gene_list)\n",
    "with Pool(cpu_count()) as p:\n",
    "    r = list(tqdm(p.imap(mp_calc.efron_process_rf, range(iter_length)), total=iter_length))\n",
    "efron_r = np.array(r)\n",
    "out_df['rf_efron_feature_num'] = efron_r[:, 0].astype('float64')\n",
    "out_df['rf_efron_complementary_feature_num_list'] = efron_r[:, 1]\n",
    "out_df['rf_efron_rmse'] = efron_r[:, 2].astype('float64')\n",
    "out_df['rf_efron_complementary_rmse_list'] = efron_r[:, 3]\n",
    "out_df['rf_efron_features'] = efron_r[:, 4]\n",
    "out_df['rf_efron_complementary_features_list'] = efron_r[:, 5]\n"
   ]
  },
  {
   "cell_type": "code",
   "execution_count": 25,
   "metadata": {},
   "outputs": [],
   "source": [
    "tf_list_df = pd.DataFrame(index=tf_list)\n",
    "tf_list_df.to_csv('../output/network_model/bsubtilis_tf.csv', header=False)\n",
    "out_df.to_csv('../output/network_model/bsubtilis_all_tf_high_var_target_new.csv.gz', compression='gzip')"
   ]
  },
  {
   "cell_type": "code",
   "execution_count": 17,
   "metadata": {},
   "outputs": [
    {
     "name": "stderr",
     "output_type": "stream",
     "text": [
      "100%|██████████| 733/733 [00:10<00:00, 68.44it/s]\n"
     ]
    }
   ],
   "source": [
    "out_df = pd.read_csv('../output/network_model/bsubtilis_all_tf_high_var_target_new.csv.gz', index_col=0, compression='gzip')\n",
    "iter_length = len(target_gene_list)\n",
    "new_out_df = pd.DataFrame(index=target_gene_list)\n",
    "with Pool(cpu_count()) as p:\n",
    "    r = list(tqdm(p.imap(mp_calc.rf_top_tf_same_count_as_gs, range(iter_length)), total=iter_length))\n",
    "efron_r = np.array(r)\n",
    "new_out_df['rf_top_tf_same_count_as_gs_score'] = efron_r[:, 0]\n",
    "new_out_df['rf_top_tf_same_count_as_gs_rmse'] = efron_r[:, 1]\n",
    "new_out_df = new_out_df.loc[out_df.index]\n",
    "out_df['rf_top_tf_same_count_as_gs_score'] = new_out_df['rf_top_tf_same_count_as_gs_score']\n",
    "out_df['rf_top_tf_same_count_as_gs_rmse'] = new_out_df['rf_top_tf_same_count_as_gs_rmse']"
   ]
  },
  {
   "cell_type": "code",
   "execution_count": 18,
   "metadata": {},
   "outputs": [],
   "source": [
    "out_df.to_csv('../output/network_model/bsubtilis_all_tf_high_var_target_new.csv.gz', compression='gzip')"
   ]
  },
  {
   "cell_type": "code",
   "execution_count": 17,
   "metadata": {},
   "outputs": [
    {
     "name": "stderr",
     "output_type": "stream",
     "text": [
      "100%|██████████| 733/733 [03:59<00:00,  3.06it/s]\n"
     ]
    }
   ],
   "source": [
    "out_df = pd.read_csv('../output/network_model/bsubtilis_all_tf_high_var_target_new.csv.gz', index_col=0, compression='gzip')\n",
    "iter_length = len(target_gene_list)\n",
    "new_out_df = pd.DataFrame(index=target_gene_list)\n",
    "with Pool(cpu_count()) as p:\n",
    "    r = list(tqdm(p.imap(mp_calc.efron_ensemble_process_rf, range(iter_length)), total=iter_length))\n",
    "ensemble_r = np.array(r)\n",
    "new_out_df['rf_efron_ensemble_rmse'] = ensemble_r\n",
    "new_out_df = new_out_df.loc[out_df.index]\n",
    "out_df['rf_efron_ensemble_rmse'] = new_out_df['rf_efron_ensemble_rmse']"
   ]
  },
  {
   "cell_type": "code",
   "execution_count": 18,
   "metadata": {},
   "outputs": [],
   "source": [
    "out_df.to_csv('../output/network_model/bsubtilis_all_tf_high_var_target_new.csv.gz', compression='gzip')"
   ]
  },
  {
   "cell_type": "code",
   "execution_count": 18,
   "metadata": {},
   "outputs": [],
   "source": [
    "tf_list_df = pd.read_csv('../output/network_model/bsubtilis_tf.csv', names=['tf'], index_col=0)\n",
    "out_df = pd.read_csv('../output/network_model/bsubtilis_all_tf_high_var_target_new.csv.gz', index_col=0, compression='gzip')\n",
    "rf_efron_overlap_count = []\n",
    "for target_gene in out_df.index:\n",
    "    gs_tf_list = network_df.loc[target_gene].tf_list\n",
    "    gs_tf_set = set(gs_tf_list.split('; '))\n",
    "    efron_tf_list = out_df.loc[target_gene]['rf_efron_features']\n",
    "    efron_tf_list = efron_tf_list.split('; ')\n",
    "    efron_tf_list = [int(i) for i in efron_tf_list]\n",
    "    efron_tf_list = tf_list_df.iloc[efron_tf_list].index\n",
    "    efron_tf_set = set(efron_tf_list)\n",
    "    rf_efron_overlap_count.append(len(efron_tf_set.intersection(gs_tf_set)))\n",
    "out_df['rf_efron_overlap_count'] = rf_efron_overlap_count\n",
    "out_df.to_csv('../output/network_model/bsubtilis_all_tf_high_var_target_new.csv.gz', compression='gzip')\n"
   ]
  },
  {
   "cell_type": "code",
   "execution_count": 26,
   "metadata": {},
   "outputs": [
    {
     "name": "stdout",
     "output_type": "stream",
     "text": [
      "130\n"
     ]
    }
   ],
   "source": [
    "temp_df = out_df[(out_df['rf_efron_feature_num'] < 10 ) & (out_df['rf_efron_complementary_feature_num'] < 10 )]\n",
    "temp_set = set()\n",
    "for keys in temp_df['rf_efron_features']:\n",
    "    key_list = keys.split('; ')\n",
    "    for key in key_list:\n",
    "        temp_set.add(int(key))\n",
    "for keys in temp_df['rf_efron_complementary_features']:\n",
    "    key_list = keys.split('; ')\n",
    "    for key in key_list:\n",
    "        temp_set.add(int(key))\n",
    "print(len(temp_set))"
   ]
  },
  {
   "cell_type": "code",
   "execution_count": 16,
   "metadata": {},
   "outputs": [],
   "source": [
    "out_df = pd.read_csv('../output/network_model/bsubtilis_all_tf_high_var_target.csv.gz', compression='gzip', index_col=0)\n"
   ]
  },
  {
   "cell_type": "code",
   "execution_count": 23,
   "metadata": {},
   "outputs": [
    {
     "name": "stderr",
     "output_type": "stream",
     "text": [
      "100%|██████████| 733/733 [00:38<00:00, 18.97it/s]\n"
     ]
    }
   ],
   "source": [
    "iter_length = len(target_gene_list)\n",
    "with Pool(cpu_count()) as p:\n",
    "    r = list(tqdm(p.imap(mp_calc.efron_process_rf, range(iter_length)), total=iter_length))\n",
    "efron_r = np.array(r)\n",
    "out_df['rf_efron_feature_num'] = efron_r[:, 0]\n",
    "out_df['rf_efron_rmse'] = efron_r[:, 1]\n",
    "out_df['rf_efron_complementary_rmse'] = efron_r[:, 2]"
   ]
  },
  {
   "cell_type": "code",
   "execution_count": 24,
   "metadata": {},
   "outputs": [
    {
     "name": "stderr",
     "output_type": "stream",
     "text": [
      "100%|██████████| 733/733 [00:49<00:00, 14.73it/s]\n"
     ]
    }
   ],
   "source": [
    "iter_length = len(target_gene_list)\n",
    "with Pool(cpu_count()) as p:\n",
    "    r = list(tqdm(p.imap(mp_calc.efron_process_linear, range(iter_length)), total=iter_length))\n",
    "efron_r = np.array(r)\n",
    "out_df['linear_efron_feature_num'] = efron_r[:, 0]\n",
    "out_df['linear_efron_rmse'] = efron_r[:, 1]\n",
    "out_df['linear_efron_complementary_rmse'] = efron_r[:, 2]"
   ]
  },
  {
   "cell_type": "code",
   "execution_count": 26,
   "metadata": {},
   "outputs": [
    {
     "name": "stderr",
     "output_type": "stream",
     "text": [
      "100%|██████████| 733/733 [02:04<00:00,  5.89it/s]\n"
     ]
    }
   ],
   "source": [
    "iter_length = len(target_gene_list)\n",
    "with Pool(cpu_count()) as p:\n",
    "    r = list(tqdm(p.imap(mp_calc.efron_process_90th_rf, range(iter_length)), total=iter_length))\n",
    "efron_r = np.array(r)\n",
    "out_df['rf_efron_feature_num_90th'] = efron_r[:, 0]\n",
    "out_df['rf_efron_rmse_90th'] = efron_r[:, 1]\n",
    "out_df['rf_efron_complementary_rmse_90th'] = efron_r[:, 2]"
   ]
  },
  {
   "cell_type": "code",
   "execution_count": 19,
   "metadata": {},
   "outputs": [
    {
     "name": "stderr",
     "output_type": "stream",
     "text": [
      "100%|██████████████████████████████████████████████████████████████████████████████| 733/733 [05:04<00:00,  2.41it/s]\n"
     ]
    }
   ],
   "source": [
    "iter_length = len(target_gene_list)\n",
    "with Pool(cpu_count()) as p:\n",
    "    r = list(tqdm(p.imap(mp_calc.dynamic_efron_rf, range(iter_length)), total=iter_length))\n",
    "efron_r = np.array(r)\n",
    "out_df['rf_dynamic_efron_feature_num'] = efron_r[:, 0].astype('float64')\n",
    "out_df['rf_dynamic_efron_rmse'] = efron_r[:, 1].astype('float64')\n",
    "out_df['rf_dynamic_efron_complementary_rmse'] = efron_r[:, 2].astype('float64')\n",
    "out_df['rf_dynamic_efron_feature_index'] = efron_r[:, 3]"
   ]
  },
  {
   "cell_type": "code",
   "execution_count": 20,
   "metadata": {},
   "outputs": [
    {
     "name": "stderr",
     "output_type": "stream",
     "text": [
      "100%|██████████████████████████████████████████████████████████████████████████████| 733/733 [04:23<00:00,  2.78it/s]\n"
     ]
    }
   ],
   "source": [
    "iter_length = len(target_gene_list)\n",
    "with Pool(cpu_count()) as p:\n",
    "    r = list(tqdm(p.imap(mp_calc.dynamic_efron_linear, range(iter_length)), total=iter_length))\n",
    "efron_r = np.array(r)\n",
    "out_df['linear_dynamic_efron_feature_num'] = efron_r[:, 0].astype('float64')\n",
    "out_df['linear_dynamic_efron_rmse'] = efron_r[:, 1].astype('float64')\n",
    "out_df['linear_dynamic_efron_complementary_rmse'] = efron_r[:, 2].astype('float64')\n",
    "out_df['linear_dynamic_efron_feature_index'] = efron_r[:, 3]"
   ]
  },
  {
   "cell_type": "code",
   "execution_count": null,
   "metadata": {},
   "outputs": [],
   "source": [
    "overlap_list = []\n",
    "target_comb_list = []\n",
    "for i in tqdm(range(iter_length)):\n",
    "    tf_set_i = out_df.iloc[i]['rf_dynamic_efron_feature_index']\n",
    "    tf_set_i = tf_set_i.split('; ')\n",
    "    tf_set_i = set([int(v) for v in tf_set_i])\n",
    "    for j in range(i+1, iter_length):\n",
    "        tf_set_j = out_df.iloc[j]['rf_dynamic_efron_feature_index']\n",
    "        tf_set_j = tf_set_j.split('; ')\n",
    "        tf_set_j = set([int(v) for v in tf_set_j])\n",
    "        overlap = len(tf_set_i.intersection(tf_set_j))/(len(tf_set_i.union(tf_set_j))+0.0)\n",
    "        overlap_list.append(overlap)\n",
    "        if (overlap >= 1) and (len(tf_set_i) > 3):\n",
    "            # print(i, j)\n",
    "            print(len(tf_set_i))\n",
    "        target_comb_list.append((i,j))\n",
    "\n",
    "\n"
   ]
  },
  {
   "cell_type": "code",
   "execution_count": 26,
   "metadata": {},
   "outputs": [
    {
     "data": {
      "text/plain": [
       "rf_score                                     0.533665\n",
       "linear_score                                 0.383967\n",
       "gs_rf_score                                  0.279288\n",
       "gs_linear_score                              0.250533\n",
       "rf_with_linear_top_features_score            0.533410\n",
       "linear_with_rf_top_features_score            0.382599\n",
       "rf_rmse                                      0.454367\n",
       "linear_rmse                                  0.469487\n",
       "gs_rf_rmse                                   0.596281\n",
       "gs_linear_rmse                               0.675194\n",
       "rf_with_linear_top_features_rmse             0.451404\n",
       "linear_with_rf_top_features_rmse             0.471195\n",
       "rf_with_top_features_score                   0.533702\n",
       "linear_with_top_features_score               0.385181\n",
       "rf_with_top_features_rmse                    0.456578\n",
       "linear_with_top_features_rmse                0.469012\n",
       "rf_top_feature_num                          69.391542\n",
       "linear_top_feature_num                     110.178718\n",
       "rf_top_features_gs_overlap                   1.221010\n",
       "linear_top_features_gs_overlap               1.523874\n",
       "rf_linear_top_features_overlap              52.451569\n",
       "gs_edge_num                                  1.870396\n",
       "test_var                                     1.752707\n",
       "test_std                                     0.871129\n",
       "rf_dynamic_efron_feature_num                68.477490\n",
       "rf_dynamic_efron_rmse                        0.477151\n",
       "rf_dynamic_efron_complementary_rmse          0.467366\n",
       "linear_dynamic_efron_feature_num            57.616644\n",
       "linear_dynamic_efron_rmse                    0.496670\n",
       "linear_dynamic_efron_complementary_rmse      0.500678\n",
       "dtype: float64"
      ]
     },
     "execution_count": 26,
     "metadata": {},
     "output_type": "execute_result"
    }
   ],
   "source": [
    "out_df.mean()"
   ]
  },
  {
   "cell_type": "code",
   "execution_count": 22,
   "metadata": {},
   "outputs": [],
   "source": [
    "out_df.to_csv('../output/network_model/bsubtilis_all_tf_high_var_target.csv.gz', compression='gzip')"
   ]
  },
  {
   "cell_type": "code",
   "execution_count": 15,
   "metadata": {},
   "outputs": [
    {
     "name": "stdout",
     "output_type": "stream",
     "text": [
      "(-0.169, 0.183)\n",
      "(-0.786, -0.095)\n",
      "(-0.731, -0.239)\n",
      "(-0.497, -0.170)\n",
      "(-0.460, 0.181)\n",
      "(-1.678, -0.335)\n"
     ]
    }
   ],
   "source": [
    "rf_conf_interval = conf_interval.conf_interval_calc(list(out_df['rf_score'].values))\n",
    "print('('+', '.join([ '%.3f' % elem for elem in rf_conf_interval[2:] ])+')')\n",
    "linear_conf_interval = conf_interval.conf_interval_calc(list(out_df['linear_score'].values))\n",
    "print('('+', '.join([ '%.3f' % elem for elem in linear_conf_interval[2:] ])+')')\n",
    "gs_rf_conf_interval = conf_interval.conf_interval_calc(list(out_df['gs_rf_score'].values))\n",
    "print('('+', '.join([ '%.3f' % elem for elem in gs_rf_conf_interval[2:] ])+')')\n",
    "gs_linear_conf_interval = conf_interval.conf_interval_calc(list(out_df['gs_linear_score'].values))\n",
    "print('('+', '.join([ '%.3f' % elem for elem in gs_linear_conf_interval[2:] ])+')')\n",
    "rf_with_linear_top_features_conf_interval = conf_interval.conf_interval_calc(list(out_df['rf_with_linear_top_features_score'].values))\n",
    "print('('+', '.join([ '%.3f' % elem for elem in rf_with_linear_top_features_conf_interval[2:] ])+')')\n",
    "linear_with_rf_top_features_conf_interval = conf_interval.conf_interval_calc(list(out_df['linear_with_rf_top_features_score'].values))\n",
    "print('('+', '.join([ '%.3f' % elem for elem in linear_with_rf_top_features_conf_interval[2:] ])+')')\n"
   ]
  },
  {
   "cell_type": "code",
   "execution_count": 16,
   "metadata": {},
   "outputs": [
    {
     "name": "stdout",
     "output_type": "stream",
     "text": [
      "(0.263, 0.307)\n",
      "(0.279, 0.321)\n",
      "(0.345, 0.396)\n",
      "(0.382, 0.434)\n",
      "(0.263, 0.309)\n",
      "(0.303, 0.350)\n"
     ]
    }
   ],
   "source": [
    "rf_conf_interval_rmse = conf_interval.conf_interval_calc(list(out_df['rf_rmse'].values))\n",
    "print('('+', '.join([ '%.3f' % elem for elem in rf_conf_interval_rmse[2:] ])+')')\n",
    "linear_conf_interval_rmse = conf_interval.conf_interval_calc(list(out_df['linear_rmse'].values))\n",
    "print('('+', '.join([ '%.3f' % elem for elem in linear_conf_interval_rmse[2:] ])+')')\n",
    "gs_rf_conf_interval_rmse = conf_interval.conf_interval_calc(list(out_df['gs_rf_rmse'].values))\n",
    "print('('+', '.join([ '%.3f' % elem for elem in gs_rf_conf_interval_rmse[2:] ])+')')\n",
    "gs_linear_conf_interval_rmse = conf_interval.conf_interval_calc(list(out_df['gs_linear_rmse'].values))\n",
    "print('('+', '.join([ '%.3f' % elem for elem in gs_linear_conf_interval_rmse[2:] ])+')')\n",
    "rf_with_linear_top_features_conf_interval_rmse = conf_interval.conf_interval_calc(list(out_df['rf_with_linear_top_features_rmse'].values))\n",
    "print('('+', '.join([ '%.3f' % elem for elem in rf_with_linear_top_features_conf_interval_rmse[2:] ])+')')\n",
    "linear_with_rf_top_features_conf_interval_rmse = conf_interval.conf_interval_calc(list(out_df['linear_with_rf_top_features_rmse'].values))\n",
    "print('('+', '.join([ '%.3f' % elem for elem in linear_with_rf_top_features_conf_interval_rmse[2:] ])+')')\n"
   ]
  },
  {
   "cell_type": "code",
   "execution_count": 40,
   "metadata": {},
   "outputs": [
    {
     "data": {
      "text/plain": [
       "rf_score                            -0.027094\n",
       "linear_score                        -0.388601\n",
       "gs_rf_score                         -0.497414\n",
       "gs_linear_score                     -0.316301\n",
       "rf_with_linear_top_features_score   -0.062346\n",
       "linear_with_rf_top_features_score   -0.897339\n",
       "dtype: float64"
      ]
     },
     "execution_count": 40,
     "metadata": {},
     "output_type": "execute_result"
    }
   ],
   "source": [
    "out_df.mean()[:6]"
   ]
  },
  {
   "cell_type": "code",
   "execution_count": 21,
   "metadata": {},
   "outputs": [],
   "source": [
    "from itertools import combinations\n",
    "model_combs = list(combinations(out_df.columns[:6], 2))"
   ]
  },
  {
   "cell_type": "code",
   "execution_count": 22,
   "metadata": {},
   "outputs": [
    {
     "name": "stdout",
     "output_type": "stream",
     "text": [
      "rf_score has statisically better performance than linear_score, with p-val of 0.008944896371205472\n",
      "confidence interval: (0.206, 0.754)\n",
      "rf_score has statisically better performance than gs_rf_score, with p-val of 4.641393758205537e-05\n",
      "confidence interval: (0.301, 0.689)\n",
      "rf_score has statisically better performance than gs_linear_score, with p-val of 2.3786985183335984e-07\n",
      "confidence interval: (0.232, 0.452)\n",
      "rf_score and rf_with_linear_top_features_score don't have statistically different performance\n",
      "rf_score has statisically better performance than linear_with_rf_top_features_score, with p-val of 0.008836968534223368\n",
      "confidence interval: (0.429, 1.518)\n",
      "linear_score and gs_rf_score don't have statistically different performance\n",
      "linear_score and gs_linear_score don't have statistically different performance\n",
      "linear_score and rf_with_linear_top_features_score don't have statistically different performance\n",
      "linear_score and linear_with_rf_top_features_score don't have statistically different performance\n",
      "gs_rf_score and gs_linear_score don't have statistically different performance\n",
      "rf_with_linear_top_features_score has statisically better performance than gs_rf_score, with p-val of 0.03920736205016653\n",
      "confidence interval: (-0.657, -0.002)\n",
      "gs_rf_score and linear_with_rf_top_features_score don't have statistically different performance\n",
      "gs_linear_score and rf_with_linear_top_features_score don't have statistically different performance\n",
      "gs_linear_score and linear_with_rf_top_features_score don't have statistically different performance\n",
      "rf_with_linear_top_features_score has statisically better performance than linear_with_rf_top_features_score, with p-val of 0.0010058144687857212\n",
      "confidence interval: (0.459, 1.242)\n"
     ]
    }
   ],
   "source": [
    "for a, b in model_combs:\n",
    "    t, p = stats.ttest_rel(out_df[a], out_df[b])\n",
    "    c, d, lower, upper = conf_interval.conf_interval_calc(list(out_df[a]-out_df[b]))\n",
    "    if (p > 0.05):\n",
    "        print('{} and {} don\\'t have statistically different performance'.format(a, b))\n",
    "        continue\n",
    "    if (t > 0):\n",
    "        print('{} has statisically better performance than {}, with p-val of {}'.format(a, b, p))\n",
    "        print('confidence interval: ({:.3f}, {:.3f})'.format(lower, upper))\n",
    "    else:\n",
    "        print('{} has statisically better performance than {}, with p-val of {}'.format(b, a, p))\n",
    "        print('confidence interval: ({:.3f}, {:.3f})'.format(lower, upper))"
   ]
  },
  {
   "cell_type": "code",
   "execution_count": 42,
   "metadata": {},
   "outputs": [
    {
     "name": "stderr",
     "output_type": "stream",
     "text": [
      "100%|████████████████████████████████████████████████████████████████████████████| 1878/1878 [01:18<00:00, 23.86it/s]\n"
     ]
    }
   ],
   "source": [
    "iter_length = len(target_gene_list)\n",
    "with Pool(cpu_count()) as p:\n",
    "    feature_num_r = list(tqdm(p.imap(mp_calc.top_feature_num, range(iter_length)), total=iter_length))"
   ]
  },
  {
   "cell_type": "code",
   "execution_count": 44,
   "metadata": {},
   "outputs": [],
   "source": [
    "feature_num_r = np.array(feature_num_r)\n",
    "out_df['rf_top_feature_num'] = feature_num_r[:, 0]\n",
    "out_df['linear_top_feature_num'] = feature_num_r[:, 1]\n",
    "out_df.to_csv('bsubtilis_network_v_model.csv')"
   ]
  },
  {
   "cell_type": "code",
   "execution_count": 18,
   "metadata": {},
   "outputs": [
    {
     "name": "stderr",
     "output_type": "stream",
     "text": [
      "100%|██████████| 1878/1878 [01:21<00:00, 23.11it/s]\n"
     ]
    }
   ],
   "source": [
    "out_df = pd.read_csv('bsubtilis_network_v_model.csv', index_col=0)\n",
    "iter_length = len(target_gene_list)\n",
    "with Pool(cpu_count()) as p:\n",
    "    top_feature_overlap_r = list(tqdm(p.imap(mp_calc.feature_overlap, range(iter_length)), total=iter_length))\n"
   ]
  },
  {
   "cell_type": "code",
   "execution_count": 19,
   "metadata": {},
   "outputs": [],
   "source": [
    "top_feature_overlap_r = np.array(top_feature_overlap_r)\n",
    "out_df['rf_top_features_gs_overlap'] = top_feature_overlap_r[:, 0]\n",
    "out_df['linear_top_features_gs_overlap'] = top_feature_overlap_r[:, 1]\n",
    "out_df['rf_linear_top_features_overlap'] = top_feature_overlap_r[:, 2]\n",
    "out_df['gs_edge_num'] = top_feature_overlap_r[:, 3]\n",
    "out_df.to_csv('bsubtilis_network_v_model.csv')"
   ]
  },
  {
   "cell_type": "code",
   "execution_count": 21,
   "metadata": {},
   "outputs": [
    {
     "data": {
      "text/plain": [
       "rf_score                             0.029074\n",
       "linear_score                        -0.388601\n",
       "gs_rf_score                         -0.472382\n",
       "gs_linear_score                     -0.316301\n",
       "rf_with_linear_top_features_score   -0.046939\n",
       "linear_with_rf_top_features_score   -1.034828\n",
       "rf_rmse                              0.282726\n",
       "linear_rmse                          0.298756\n",
       "gs_rf_rmse                           0.371651\n",
       "gs_linear_rmse                       0.409870\n",
       "rf_with_linear_top_features_rmse     0.283854\n",
       "linear_with_rf_top_features_rmse     0.326905\n",
       "rf_top_feature_num                   6.474973\n",
       "linear_top_feature_num               8.484026\n",
       "test_var                             0.739452\n",
       "test_std                             0.507727\n",
       "rf_with_top_features_score          -0.174528\n",
       "linear_with_top_features_score      -1.102215\n",
       "rf_with_top_features_rmse            0.291284\n",
       "linear_with_top_features_rmse        0.329560\n",
       "rf_top_features_gs_overlap           0.162939\n",
       "linear_top_features_gs_overlap       0.209265\n",
       "rf_linear_top_features_overlap       0.851438\n",
       "gs_edge_num                          1.930777\n",
       "dtype: float64"
      ]
     },
     "execution_count": 21,
     "metadata": {},
     "output_type": "execute_result"
    }
   ],
   "source": [
    "out_df.mean()"
   ]
  },
  {
   "cell_type": "code",
   "execution_count": 54,
   "metadata": {},
   "outputs": [
    {
     "data": {
      "text/plain": [
       "117"
      ]
     },
     "execution_count": 54,
     "metadata": {},
     "output_type": "execute_result"
    }
   ],
   "source": [
    "len(set(target_df.columns).union(set(source_df.columns)))"
   ]
  },
  {
   "cell_type": "code",
   "execution_count": null,
   "metadata": {},
   "outputs": [],
   "source": []
  }
 ],
 "metadata": {
  "kernelspec": {
   "display_name": "Python 3 (ipykernel)",
   "language": "python",
   "name": "python3"
  },
  "language_info": {
   "codemirror_mode": {
    "name": "ipython",
    "version": 3
   },
   "file_extension": ".py",
   "mimetype": "text/x-python",
   "name": "python",
   "nbconvert_exporter": "python",
   "pygments_lexer": "ipython3",
   "version": "3.11.0"
  }
 },
 "nbformat": 4,
 "nbformat_minor": 4
}
