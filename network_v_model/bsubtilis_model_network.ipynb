{
 "cells": [
  {
   "cell_type": "code",
   "execution_count": 1,
   "metadata": {},
   "outputs": [],
   "source": [
    "import pandas as pd\n",
    "import numpy as np\n",
    "from tqdm import tqdm\n",
    "from sklearn.linear_model import LinearRegression\n",
    "import re\n",
    "\n",
    "import mp_run\n",
    "\n",
    "from os import listdir\n",
    "from os.path import isfile, join\n",
    "from sklearn.metrics import mean_squared_error\n",
    "\n",
    "import os\n",
    "\n",
    "from sklearn.model_selection import cross_val_score\n",
    "import xgboost as xgb\n",
    "from sklearn.ensemble import RandomForestRegressor\n",
    "from sklearn.linear_model import LinearRegression\n",
    "\n",
    "from scipy import stats\n",
    "\n",
    "from multiprocessing import Pool, cpu_count\n",
    "\n",
    "\n",
    "%load_ext autoreload\n",
    "%autoreload 2"
   ]
  },
  {
   "cell_type": "code",
   "execution_count": 191,
   "metadata": {},
   "outputs": [],
   "source": [
    "source_df_1 = pd.read_csv('../data/bsubtilis/GSE108659/formated/source.csv', index_col=0)\n",
    "source_df_2 = pd.read_csv('../data/bsubtilis/GSE128875/formated/source.csv', index_col=0)\n",
    "target_df_1 = pd.read_csv('../data/bsubtilis/GSE108659/formated/target.csv', index_col=0)\n",
    "target_df_2 = pd.read_csv('../data/bsubtilis/GSE128875/formated/target.csv', index_col=0)"
   ]
  },
  {
   "cell_type": "code",
   "execution_count": 192,
   "metadata": {},
   "outputs": [],
   "source": [
    "source_df_2 = source_df_2[~source_df_2.index.duplicated(keep=False)]\n",
    "target_df_2 = target_df_2[~target_df_2.index.duplicated(keep=False)]"
   ]
  },
  {
   "cell_type": "code",
   "execution_count": 193,
   "metadata": {},
   "outputs": [],
   "source": [
    "network_df = pd.read_csv('../data/bsubtilis/gs_regulations.csv')\n",
    "network_df\n",
    "regulator_set = set(network_df['regulator name'])\n",
    "target_set = set(network_df['gene name'])"
   ]
  },
  {
   "cell_type": "code",
   "execution_count": 194,
   "metadata": {},
   "outputs": [],
   "source": [
    "regulator_set = regulator_set.intersection(set(source_df_1.index)).intersection(set(source_df_2.index))\n",
    "target_set = target_set.intersection(set(source_df_1.index)).intersection(set(source_df_2.index))\n",
    "all_gene_set = regulator_set.union(target_set)\n"
   ]
  },
  {
   "cell_type": "code",
   "execution_count": 195,
   "metadata": {},
   "outputs": [],
   "source": [
    "network_dict = {target: [] for target in target_set}\n",
    "for ind, row in network_df.iterrows():\n",
    "    if (row['regulator name'] in regulator_set) and (row['gene name'] in target_set):\n",
    "        network_dict[row['gene name']].append(row['regulator name'])"
   ]
  },
  {
   "cell_type": "code",
   "execution_count": 196,
   "metadata": {},
   "outputs": [],
   "source": [
    "key_list = []\n",
    "value_list = []\n",
    "regulator_set = set()\n",
    "target_set = set()\n",
    "for key in network_dict.keys():\n",
    "    if (len(network_dict[key]) > 0):\n",
    "        key_list.append(key)\n",
    "        target_set.add(key)\n",
    "        value_list.append(\"; \".join(network_dict[key]))\n",
    "        for regulator in network_dict[key]:\n",
    "            regulator_set.add(regulator)\n",
    "all_gene_set = regulator_set.union(target_set)"
   ]
  },
  {
   "cell_type": "code",
   "execution_count": 197,
   "metadata": {},
   "outputs": [],
   "source": [
    "network_df = pd.DataFrame(index=key_list)\n",
    "network_df['tf_list'] = value_list"
   ]
  },
  {
   "cell_type": "code",
   "execution_count": 198,
   "metadata": {},
   "outputs": [],
   "source": [
    "source_df_1 = source_df_1.loc[list(all_gene_set)]\n",
    "source_df_2 = source_df_2.loc[list(all_gene_set)]\n",
    "target_df_1 = target_df_1.loc[list(all_gene_set)]\n",
    "target_df_2 = target_df_2.loc[list(all_gene_set)]\n",
    "\n",
    "source_df_1=source_df_1.apply(stats.zscore, axis=0)\n",
    "source_df_2=source_df_2.apply(stats.zscore, axis=0)\n",
    "target_df_1=target_df_1.apply(stats.zscore, axis=0)\n",
    "target_df_2=target_df_2.apply(stats.zscore, axis=0)\n"
   ]
  },
  {
   "cell_type": "code",
   "execution_count": 199,
   "metadata": {},
   "outputs": [],
   "source": [
    "source_df = pd.concat([source_df_1, source_df_2], axis=1)\n",
    "target_df = pd.concat([target_df_1, target_df_2], axis=1)"
   ]
  },
  {
   "cell_type": "code",
   "execution_count": 200,
   "metadata": {},
   "outputs": [],
   "source": [
    "test = np.random.choice(len(source_df.columns), int(len(source_df.columns)*0.25), replace=False)"
   ]
  },
  {
   "cell_type": "code",
   "execution_count": 201,
   "metadata": {},
   "outputs": [],
   "source": [
    "test_source = source_df.iloc[:,test]\n",
    "test_target = target_df.iloc[:,test]\n",
    "train_source = source_df.copy()\n",
    "train_target = target_df.copy()\n",
    "train_source = train_source.drop(columns=test_source.columns)\n",
    "train_target = train_target.drop(columns=test_target.columns)"
   ]
  },
  {
   "cell_type": "code",
   "execution_count": 202,
   "metadata": {},
   "outputs": [],
   "source": [
    "target_gene_list = list(target_set)\n",
    "target_exp = target_df,\n",
    "X = source_df.loc[list(regulator_set)]\n",
    "tf_list = list(regulator_set)"
   ]
  },
  {
   "cell_type": "code",
   "execution_count": 203,
   "metadata": {},
   "outputs": [],
   "source": [
    "mp_calc = mp_run.MpCalc(target_gene_list, target_exp, X, network_df, train_source.loc[tf_list], train_target, test_source.loc[tf_list], test_target)"
   ]
  },
  {
   "cell_type": "code",
   "execution_count": 205,
   "metadata": {},
   "outputs": [
    {
     "name": "stderr",
     "output_type": "stream",
     "text": [
      "100%|██████████| 1991/1991 [00:46<00:00, 43.15it/s]\n"
     ]
    }
   ],
   "source": [
    "iter_length = len(target_gene_list)\n",
    "with Pool(cpu_count()) as p:\n",
    "    r = list(tqdm(p.imap(mp_calc.full_comp, range(iter_length)), total=iter_length))"
   ]
  },
  {
   "cell_type": "code",
   "execution_count": 206,
   "metadata": {},
   "outputs": [],
   "source": [
    "r = np.array(r)\n",
    "out_df = pd.DataFrame(index=target_gene_list)\n",
    "out_df['rf_score'] = r[:, 0]\n",
    "out_df['linear_score'] = r[:, 1]\n",
    "out_df['gs_rf_score'] = r[:, 2]\n",
    "out_df['gs_linear_score'] = r[:, 3]\n",
    "out_df['rf_with_linear_top_features_score'] = r[:, 4]\n",
    "out_df['linear_with_rf_top_features_score'] = r[:, 5]\n"
   ]
  },
  {
   "cell_type": "code",
   "execution_count": 207,
   "metadata": {},
   "outputs": [
    {
     "data": {
      "text/plain": [
       "1723"
      ]
     },
     "execution_count": 207,
     "metadata": {},
     "output_type": "execute_result"
    }
   ],
   "source": [
    "(out_df['rf_score'] > out_df['gs_linear_score']).sum()"
   ]
  },
  {
   "cell_type": "code",
   "execution_count": 208,
   "metadata": {},
   "outputs": [
    {
     "data": {
      "text/html": [
       "<div>\n",
       "<style scoped>\n",
       "    .dataframe tbody tr th:only-of-type {\n",
       "        vertical-align: middle;\n",
       "    }\n",
       "\n",
       "    .dataframe tbody tr th {\n",
       "        vertical-align: top;\n",
       "    }\n",
       "\n",
       "    .dataframe thead th {\n",
       "        text-align: right;\n",
       "    }\n",
       "</style>\n",
       "<table border=\"1\" class=\"dataframe\">\n",
       "  <thead>\n",
       "    <tr style=\"text-align: right;\">\n",
       "      <th></th>\n",
       "      <th>rf_score</th>\n",
       "      <th>linear_score</th>\n",
       "      <th>gs_rf_score</th>\n",
       "      <th>gs_linear_score</th>\n",
       "      <th>rf_with_linear_top_features_score</th>\n",
       "      <th>linear_with_rf_top_features_score</th>\n",
       "    </tr>\n",
       "  </thead>\n",
       "  <tbody>\n",
       "    <tr>\n",
       "      <th>pucR</th>\n",
       "      <td>-0.112067</td>\n",
       "      <td>-2.123209</td>\n",
       "      <td>-0.815803</td>\n",
       "      <td>-0.560283</td>\n",
       "      <td>0.002339</td>\n",
       "      <td>-0.580897</td>\n",
       "    </tr>\n",
       "    <tr>\n",
       "      <th>ytrC</th>\n",
       "      <td>0.059314</td>\n",
       "      <td>-2.094281</td>\n",
       "      <td>-0.047444</td>\n",
       "      <td>-0.196766</td>\n",
       "      <td>0.264546</td>\n",
       "      <td>-0.155873</td>\n",
       "    </tr>\n",
       "    <tr>\n",
       "      <th>yqjC</th>\n",
       "      <td>0.235808</td>\n",
       "      <td>-1.729897</td>\n",
       "      <td>-0.785003</td>\n",
       "      <td>-0.079150</td>\n",
       "      <td>0.324832</td>\n",
       "      <td>0.071362</td>\n",
       "    </tr>\n",
       "    <tr>\n",
       "      <th>comFB</th>\n",
       "      <td>-0.226636</td>\n",
       "      <td>-2.381441</td>\n",
       "      <td>-0.108997</td>\n",
       "      <td>-0.264939</td>\n",
       "      <td>-0.160359</td>\n",
       "      <td>-0.339964</td>\n",
       "    </tr>\n",
       "    <tr>\n",
       "      <th>mcpB</th>\n",
       "      <td>0.122573</td>\n",
       "      <td>-1.390165</td>\n",
       "      <td>-0.706529</td>\n",
       "      <td>0.100222</td>\n",
       "      <td>-0.124252</td>\n",
       "      <td>-0.121882</td>\n",
       "    </tr>\n",
       "    <tr>\n",
       "      <th>...</th>\n",
       "      <td>...</td>\n",
       "      <td>...</td>\n",
       "      <td>...</td>\n",
       "      <td>...</td>\n",
       "      <td>...</td>\n",
       "      <td>...</td>\n",
       "    </tr>\n",
       "    <tr>\n",
       "      <th>yjbA</th>\n",
       "      <td>0.352299</td>\n",
       "      <td>-0.510310</td>\n",
       "      <td>0.202828</td>\n",
       "      <td>0.200734</td>\n",
       "      <td>0.480992</td>\n",
       "      <td>-0.169992</td>\n",
       "    </tr>\n",
       "    <tr>\n",
       "      <th>gidA</th>\n",
       "      <td>0.408238</td>\n",
       "      <td>-1.040850</td>\n",
       "      <td>0.154168</td>\n",
       "      <td>0.036809</td>\n",
       "      <td>0.489265</td>\n",
       "      <td>0.311426</td>\n",
       "    </tr>\n",
       "    <tr>\n",
       "      <th>yneA</th>\n",
       "      <td>0.056506</td>\n",
       "      <td>-1.820056</td>\n",
       "      <td>0.028285</td>\n",
       "      <td>0.067398</td>\n",
       "      <td>0.165380</td>\n",
       "      <td>-0.327915</td>\n",
       "    </tr>\n",
       "    <tr>\n",
       "      <th>rpsF</th>\n",
       "      <td>0.885906</td>\n",
       "      <td>0.819825</td>\n",
       "      <td>0.776008</td>\n",
       "      <td>0.093581</td>\n",
       "      <td>0.859759</td>\n",
       "      <td>0.821516</td>\n",
       "    </tr>\n",
       "    <tr>\n",
       "      <th>rsiW</th>\n",
       "      <td>0.783129</td>\n",
       "      <td>0.383025</td>\n",
       "      <td>0.705974</td>\n",
       "      <td>0.743239</td>\n",
       "      <td>0.773598</td>\n",
       "      <td>0.800631</td>\n",
       "    </tr>\n",
       "  </tbody>\n",
       "</table>\n",
       "<p>1991 rows × 6 columns</p>\n",
       "</div>"
      ],
      "text/plain": [
       "       rf_score  linear_score  gs_rf_score  gs_linear_score  \\\n",
       "pucR  -0.112067     -2.123209    -0.815803        -0.560283   \n",
       "ytrC   0.059314     -2.094281    -0.047444        -0.196766   \n",
       "yqjC   0.235808     -1.729897    -0.785003        -0.079150   \n",
       "comFB -0.226636     -2.381441    -0.108997        -0.264939   \n",
       "mcpB   0.122573     -1.390165    -0.706529         0.100222   \n",
       "...         ...           ...          ...              ...   \n",
       "yjbA   0.352299     -0.510310     0.202828         0.200734   \n",
       "gidA   0.408238     -1.040850     0.154168         0.036809   \n",
       "yneA   0.056506     -1.820056     0.028285         0.067398   \n",
       "rpsF   0.885906      0.819825     0.776008         0.093581   \n",
       "rsiW   0.783129      0.383025     0.705974         0.743239   \n",
       "\n",
       "       rf_with_linear_top_features_score  linear_with_rf_top_features_score  \n",
       "pucR                            0.002339                          -0.580897  \n",
       "ytrC                            0.264546                          -0.155873  \n",
       "yqjC                            0.324832                           0.071362  \n",
       "comFB                          -0.160359                          -0.339964  \n",
       "mcpB                           -0.124252                          -0.121882  \n",
       "...                                  ...                                ...  \n",
       "yjbA                            0.480992                          -0.169992  \n",
       "gidA                            0.489265                           0.311426  \n",
       "yneA                            0.165380                          -0.327915  \n",
       "rpsF                            0.859759                           0.821516  \n",
       "rsiW                            0.773598                           0.800631  \n",
       "\n",
       "[1991 rows x 6 columns]"
      ]
     },
     "execution_count": 208,
     "metadata": {},
     "output_type": "execute_result"
    }
   ],
   "source": [
    "out_df"
   ]
  },
  {
   "cell_type": "code",
   "execution_count": 209,
   "metadata": {},
   "outputs": [],
   "source": [
    "from itertools import combinations\n",
    "model_combs = list(combinations(out_df.columns, 2))"
   ]
  },
  {
   "cell_type": "code",
   "execution_count": 210,
   "metadata": {},
   "outputs": [
    {
     "name": "stdout",
     "output_type": "stream",
     "text": [
      "rf_score has statisically better performance than linear_score\n",
      "rf_score has statisically better performance than gs_rf_score\n",
      "rf_score has statisically better performance than gs_linear_score\n",
      "rf_score and rf_with_linear_top_features_score don't have statistically different performance\n",
      "rf_score has statisically better performance than linear_with_rf_top_features_score\n",
      "gs_rf_score has statisically better performance than linear_score\n",
      "gs_linear_score has statisically better performance than linear_score\n",
      "rf_with_linear_top_features_score has statisically better performance than linear_score\n",
      "linear_with_rf_top_features_score has statisically better performance than linear_score\n",
      "gs_linear_score has statisically better performance than gs_rf_score\n",
      "rf_with_linear_top_features_score has statisically better performance than gs_rf_score\n",
      "linear_with_rf_top_features_score has statisically better performance than gs_rf_score\n",
      "rf_with_linear_top_features_score has statisically better performance than gs_linear_score\n",
      "gs_linear_score and linear_with_rf_top_features_score don't have statistically different performance\n",
      "rf_with_linear_top_features_score has statisically better performance than linear_with_rf_top_features_score\n"
     ]
    }
   ],
   "source": [
    "for a, b in model_combs:\n",
    "    t, p = stats.ttest_rel(out_df[a], out_df[b])\n",
    "    if (p > 0.05):\n",
    "        print('{} and {} don\\'t have statistically different performance'.format(a, b))\n",
    "        continue\n",
    "    if (t > 0):\n",
    "        print('{} has statisically better performance than {}'.format(a, b))\n",
    "    else:\n",
    "        \n",
    "        print('{} has statisically better performance than {}'.format(b, a))"
   ]
  },
  {
   "cell_type": "code",
   "execution_count": 211,
   "metadata": {},
   "outputs": [
    {
     "ename": "NameError",
     "evalue": "name 'high_var_target_genes' is not defined",
     "output_type": "error",
     "traceback": [
      "\u001b[0;31m---------------------------------------------------------------------------\u001b[0m",
      "\u001b[0;31mNameError\u001b[0m                                 Traceback (most recent call last)",
      "\u001b[1;32m/home/bingran/code/feature_synergy/network_v_model/bsubtilis_model_network.ipynb Cell 21\u001b[0m line \u001b[0;36m2\n\u001b[1;32m      <a href='vscode-notebook-cell:/home/bingran/code/feature_synergy/network_v_model/bsubtilis_model_network.ipynb#X32sZmlsZQ%3D%3D?line=0'>1</a>\u001b[0m \u001b[39mfor\u001b[39;00m a, b \u001b[39min\u001b[39;00m model_combs:\n\u001b[0;32m----> <a href='vscode-notebook-cell:/home/bingran/code/feature_synergy/network_v_model/bsubtilis_model_network.ipynb#X32sZmlsZQ%3D%3D?line=1'>2</a>\u001b[0m     t, p \u001b[39m=\u001b[39m stats\u001b[39m.\u001b[39mttest_rel(out_df\u001b[39m.\u001b[39mloc[high_var_target_genes][a], out_df\u001b[39m.\u001b[39mloc[high_var_target_genes][b])\n\u001b[1;32m      <a href='vscode-notebook-cell:/home/bingran/code/feature_synergy/network_v_model/bsubtilis_model_network.ipynb#X32sZmlsZQ%3D%3D?line=2'>3</a>\u001b[0m     \u001b[39mif\u001b[39;00m (p \u001b[39m>\u001b[39m \u001b[39m0.05\u001b[39m):\n\u001b[1;32m      <a href='vscode-notebook-cell:/home/bingran/code/feature_synergy/network_v_model/bsubtilis_model_network.ipynb#X32sZmlsZQ%3D%3D?line=3'>4</a>\u001b[0m         \u001b[39mprint\u001b[39m(\u001b[39m'\u001b[39m\u001b[39m{}\u001b[39;00m\u001b[39m and \u001b[39m\u001b[39m{}\u001b[39;00m\u001b[39m don\u001b[39m\u001b[39m\\'\u001b[39;00m\u001b[39mt have statistically different performance\u001b[39m\u001b[39m'\u001b[39m\u001b[39m.\u001b[39mformat(a, b))\n",
      "\u001b[0;31mNameError\u001b[0m: name 'high_var_target_genes' is not defined"
     ]
    }
   ],
   "source": [
    "for a, b in model_combs:\n",
    "    t, p = stats.ttest_rel(out_df.loc[high_var_target_genes][a], out_df.loc[high_var_target_genes][b])\n",
    "    if (p > 0.05):\n",
    "        print('{} and {} don\\'t have statistically different performance'.format(a, b))\n",
    "        continue\n",
    "    if (t > 0):\n",
    "        print('{} has statisically better performance than {}'.format(a, b))\n",
    "    else:\n",
    "        \n",
    "        print('{} has statisically better performance than {}'.format(b, a))"
   ]
  },
  {
   "cell_type": "code",
   "execution_count": null,
   "metadata": {},
   "outputs": [],
   "source": []
  }
 ],
 "metadata": {
  "kernelspec": {
   "display_name": "pymc_env",
   "language": "python",
   "name": "python3"
  },
  "language_info": {
   "codemirror_mode": {
    "name": "ipython",
    "version": 3
   },
   "file_extension": ".py",
   "mimetype": "text/x-python",
   "name": "python",
   "nbconvert_exporter": "python",
   "pygments_lexer": "ipython3",
   "version": "3.11.0"
  }
 },
 "nbformat": 4,
 "nbformat_minor": 4
}
