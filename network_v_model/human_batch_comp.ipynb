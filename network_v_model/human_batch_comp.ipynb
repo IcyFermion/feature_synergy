{
 "cells": [
  {
   "cell_type": "markdown",
   "metadata": {},
   "source": [
    "Scripts for regression experiments on mouse"
   ]
  },
  {
   "cell_type": "code",
   "execution_count": 1,
   "metadata": {},
   "outputs": [],
   "source": [
    "import pandas as pd\n",
    "import numpy as np\n",
    "from tqdm import tqdm\n",
    "from itertools import product\n",
    "from functools import cmp_to_key, partial\n",
    "import re\n",
    "\n",
    "import mp_run\n",
    "import conf_interval\n",
    "\n",
    "from os import listdir\n",
    "from os.path import isfile, join\n",
    "from sklearn.metrics import mean_squared_error, explained_variance_score\n",
    "\n",
    "import os\n",
    "\n",
    "from sklearn.model_selection import cross_val_score\n",
    "import xgboost as xgb\n",
    "from sklearn.ensemble import RandomForestRegressor\n",
    "from sklearn.linear_model import LinearRegression\n",
    "\n",
    "from scipy import stats\n",
    "\n",
    "from multiprocessing import Pool, cpu_count\n",
    "\n",
    "\n",
    "# regex for number extraction from string\n",
    "number_pattern =  r'(-?(?:0|[1-9]\\d*)(?:\\.\\d+)?(?:[eE][+-]?\\d+)?)'\n"
   ]
  },
  {
   "cell_type": "code",
   "execution_count": 2,
   "metadata": {},
   "outputs": [],
   "source": [
    "train_source_1 = pd.read_csv('../data/human/GSE221103/normalized/train_source.csv.gz', index_col=0, compression='gzip')\n",
    "train_target_1 = pd.read_csv('../data/human/GSE221103/normalized/train_target.csv.gz', index_col=0, compression='gzip')\n",
    "test_source_1 = pd.read_csv('../data/human/GSE221103/normalized/test_source.csv.gz', index_col=0, compression='gzip')\n",
    "test_target_1 = pd.read_csv('../data/human/GSE221103/normalized/test_target.csv.gz', index_col=0, compression='gzip')\n",
    "\n",
    "train_source_2 = pd.read_csv('../data/human/GSE221173/normalized/train_source.csv.gz', index_col=0, compression='gzip')\n",
    "train_target_2 = pd.read_csv('../data/human/GSE221173/normalized/train_target.csv.gz', index_col=0, compression='gzip')\n",
    "test_source_2 = pd.read_csv('../data/human/GSE221173/normalized/test_source.csv.gz', index_col=0, compression='gzip')\n",
    "test_target_2 = pd.read_csv('../data/human/GSE221173/normalized/test_target.csv.gz', index_col=0, compression='gzip')"
   ]
  },
  {
   "cell_type": "code",
   "execution_count": 4,
   "metadata": {},
   "outputs": [],
   "source": [
    "common_exp_genes = list(set(train_source_1.index).intersection(set(train_source_2.index)))\n",
    "\n",
    "train_source_1 = train_source_1.loc[common_exp_genes]\n",
    "train_target_1 = train_target_1.loc[common_exp_genes]\n",
    "test_source_1 = test_source_1.loc[common_exp_genes]\n",
    "test_target_1 = test_target_1.loc[common_exp_genes]\n",
    "\n",
    "train_source_2 = train_source_2.loc[common_exp_genes]\n",
    "train_target_2 = train_target_2.loc[common_exp_genes]\n",
    "test_source_2 = test_source_2.loc[common_exp_genes]\n",
    "test_target_2 = test_target_2.loc[common_exp_genes]\n"
   ]
  },
  {
   "cell_type": "code",
   "execution_count": 5,
   "metadata": {},
   "outputs": [],
   "source": [
    "train_source_list = [train_source_1, train_source_2]\n",
    "train_target_list = [train_target_1, train_target_2]\n",
    "test_source_list = [test_source_1, test_source_2]\n",
    "test_target_list = [test_target_1, test_target_2]"
   ]
  },
  {
   "cell_type": "code",
   "execution_count": 6,
   "metadata": {},
   "outputs": [],
   "source": [
    "train_source = pd.concat([train_source_1, train_source_2], axis=1)\n",
    "train_target = pd.concat([train_target_1, train_target_2], axis=1)\n",
    "test_source = pd.concat([test_source_1, test_source_2], axis=1)\n",
    "test_target = pd.concat([test_target_1, test_target_2], axis=1)"
   ]
  },
  {
   "cell_type": "code",
   "execution_count": 7,
   "metadata": {},
   "outputs": [
    {
     "name": "stdout",
     "output_type": "stream",
     "text": [
      "Number of TFs used:\n",
      "3869\n"
     ]
    }
   ],
   "source": [
    "network_df = pd.read_csv('../data/human/regnetworkweb.org.network', sep='\\t')\n",
    "regulator_set = set(network_df['regulator'])\n",
    "target_set = set(network_df['target'])\n",
    "\n",
    "regulator_set = regulator_set.intersection(set(train_source.index))\n",
    "target_set = target_set.intersection(set(train_source.index))\n",
    "all_gene_set = regulator_set.union(target_set)\n",
    "network_dict = {target: [] for target in target_set}\n",
    "for ind, row in network_df.iterrows():\n",
    "    if (row['regulator'] in regulator_set) and (row['target'] in target_set):\n",
    "        network_dict[row['target']].append(row['regulator'])\n",
    "\n",
    "key_list = []\n",
    "value_list = []\n",
    "regulator_set = set()\n",
    "tf_list_df = pd.read_csv('../data/human/human_tf_list.tsv.gz', sep='\\t', compression='gzip', index_col=0)\n",
    "for name in tf_list_df['Gene Names']:\n",
    "    name_splits = str(name).split(' ')\n",
    "    for i in name_splits:\n",
    "        if i in train_source.index:\n",
    "            regulator_set.add(i)\n",
    "target_set = set()\n",
    "for key in network_dict.keys():\n",
    "    if (len(network_dict[key]) > 0) and network_dict[key][0] != key:\n",
    "        key_list.append(key)\n",
    "        target_set.add(key)\n",
    "        value_list.append(\"; \".join(network_dict[key]))\n",
    "        for regulator in network_dict[key]:\n",
    "            regulator_set.add(regulator)\n",
    "all_gene_set = regulator_set.union(target_set)\n",
    "\n",
    "print('Number of TFs used:')\n",
    "print(len(regulator_set))"
   ]
  },
  {
   "cell_type": "code",
   "execution_count": null,
   "metadata": {},
   "outputs": [],
   "source": [
    "# network_df = pd.read_csv('../data/mouse/regnetworkweb.org.network', sep='\\t')\n",
    "# regulator_set = set(network_df['regulator'])\n",
    "# target_set = set(network_df['target'])\n",
    "\n",
    "# regulator_set = regulator_set.intersection(set(train_source.index))\n",
    "# target_set = target_set.intersection(set(train_source.index))\n",
    "# all_gene_set = regulator_set.union(target_set)\n",
    "# network_dict = {target: [] for target in target_set}\n",
    "# for ind, row in network_df.iterrows():\n",
    "#     if (row['regulator'] in regulator_set) and (row['target'] in target_set):\n",
    "#         network_dict[row['target']].append(row['regulator'])\n",
    "\n",
    "# key_list = []\n",
    "# value_list = []\n",
    "# regulator_set = set()\n",
    "# target_set = set()\n",
    "# for key in network_dict.keys():\n",
    "#     if (len(network_dict[key]) > 0) and network_dict[key][0] != key:\n",
    "#         key_list.append(key)\n",
    "#         target_set.add(key)\n",
    "#         value_list.append(\"; \".join(network_dict[key]))\n",
    "#         for regulator in network_dict[key]:\n",
    "#             regulator_set.add(regulator)\n",
    "# all_gene_set = regulator_set.union(target_set)\n",
    "\n",
    "\n",
    "# print(len(regulator_set))"
   ]
  },
  {
   "cell_type": "code",
   "execution_count": 11,
   "metadata": {},
   "outputs": [],
   "source": [
    "network_df = pd.DataFrame(index=key_list)\n",
    "network_df['tf_list'] = value_list\n",
    "target_df = pd.concat([train_target, test_target], axis=1)\n",
    "source_df = pd.concat([train_source, test_source], axis=1)\n",
    "\n",
    "\n",
    "target_gene_list = list(target_set)\n",
    "target_exp = target_df.loc[target_gene_list]\n",
    "X = source_df.loc[list(regulator_set)]\n",
    "tf_list = list(regulator_set)\n",
    "\n",
    "\n",
    "tf_list_df = pd.read_csv('../output/network_model/human_tf.csv', names=['tf'], index_col=0)\n",
    "tf_list = list(tf_list_df.index)"
   ]
  },
  {
   "cell_type": "code",
   "execution_count": 12,
   "metadata": {},
   "outputs": [],
   "source": [
    "# # filter for high variance targets\n",
    "# new_test_target = test_target.loc[target_gene_list]\n",
    "# new_test_target = new_test_target.loc[new_test_target.std(axis=1) > 0.5]\n",
    "# target_gene_list = new_test_target.index"
   ]
  },
  {
   "cell_type": "code",
   "execution_count": 13,
   "metadata": {},
   "outputs": [
    {
     "name": "stderr",
     "output_type": "stream",
     "text": [
      "100%|██████████| 556/556 [01:50<00:00,  5.04it/s]\n"
     ]
    },
    {
     "name": "stdout",
     "output_type": "stream",
     "text": [
      "1.36083423226238\n",
      "0.31426043519236796\n"
     ]
    },
    {
     "name": "stderr",
     "output_type": "stream",
     "text": [
      "100%|██████████| 556/556 [02:42<00:00,  3.42it/s]\n"
     ]
    },
    {
     "name": "stdout",
     "output_type": "stream",
     "text": [
      "1.3732362329832912\n",
      "======================================\n"
     ]
    },
    {
     "name": "stderr",
     "output_type": "stream",
     "text": [
      "100%|██████████| 86/86 [00:17<00:00,  4.98it/s]\n"
     ]
    },
    {
     "name": "stdout",
     "output_type": "stream",
     "text": [
      "0.9467267814322619\n",
      "0.15844583952591898\n"
     ]
    },
    {
     "name": "stderr",
     "output_type": "stream",
     "text": [
      "100%|██████████| 86/86 [00:24<00:00,  3.54it/s]\n"
     ]
    },
    {
     "name": "stdout",
     "output_type": "stream",
     "text": [
      "0.9249751856313098\n",
      "======================================\n",
      "1.3053618946122398\n",
      "1.3131888029641785\n"
     ]
    }
   ],
   "source": [
    "all_rmse_list = []\n",
    "all_train_rmse_list = []\n",
    "all_train_source = pd.concat(train_source_list, axis=1)\n",
    "all_train_target = pd.concat(train_target_list, axis=1)\n",
    "for i in range(len(train_source_list)):\n",
    "    cv_test_source = test_source_list[i]\n",
    "    cv_test_target = test_target_list[i]\n",
    "    cv_train_source = train_source_list[i]\n",
    "    cv_train_target = train_target_list[i]\n",
    "    new_test_target = cv_test_target.loc[target_gene_list]\n",
    "    new_test_target = new_test_target.loc[new_test_target.std(axis=1) > 0.5]\n",
    "    new_target_gene_list = new_test_target.index\n",
    "    mp_calc = mp_run.MpCalc(new_target_gene_list, X, network_df, cv_train_source.loc[tf_list], cv_train_target, cv_test_source.loc[tf_list], cv_test_target)\n",
    "    iter_length = len(new_target_gene_list)\n",
    "    with Pool(cpu_count()) as p:\n",
    "        r = list(tqdm(p.imap(mp_calc.full_comp_new, range(iter_length)), total=iter_length))\n",
    "    r = np.array(r)\n",
    "    out_df = pd.DataFrame(index=new_target_gene_list)\n",
    "    out_df['rf_score'] = r[:, 0]\n",
    "    out_df['linear_score'] = r[:, 1]\n",
    "    out_df['gs_rf_score'] = r[:, 2]\n",
    "    out_df['gs_linear_score'] = r[:, 3]\n",
    "    out_df['rf_with_linear_top_features_score'] = r[:, 4]\n",
    "    out_df['linear_with_rf_top_features_score'] = r[:, 5]\n",
    "    out_df['rf_rmse'] = r[:, 6]\n",
    "    out_df['linear_rmse'] = r[:, 7]\n",
    "    out_df['gs_rf_rmse'] = r[:, 8]\n",
    "    out_df['gs_linear_rmse'] = r[:, 9]\n",
    "    out_df['rf_with_linear_top_features_rmse'] = r[:, 10]\n",
    "    out_df['linear_with_rf_top_features_rmse'] = r[:, 11]\n",
    "    out_df['rf_with_top_features_score'] = r[:, 12]\n",
    "    out_df['linear_with_top_features_score'] = r[:, 13]\n",
    "    out_df['rf_with_top_features_rmse'] = r[:, 14]\n",
    "    out_df['linear_with_top_features_rmse'] = r[:, 15]\n",
    "    out_df['rf_top_feature_num'] = r[:, 16]\n",
    "    out_df['linear_top_feature_num'] = r[:, 17]\n",
    "    out_df['rf_top_features_gs_overlap'] = r[:, 18]\n",
    "    out_df['linear_top_features_gs_overlap'] = r[:, 19]\n",
    "    out_df['rf_linear_top_features_overlap'] = r[:, 20]\n",
    "    out_df['gs_edge_num'] = r[:, 21]\n",
    "    out_df['test_var'] = r[:, 22]\n",
    "    out_df['test_std'] = r[:, 23]\n",
    "    out_df['pca_rf_score'] = r[:, 24]\n",
    "    out_df['pca_rf_rmse'] = r[:, 25]\n",
    "    \n",
    "    all_rmse_list = np.concatenate([all_rmse_list, r[:, 6]])\n",
    "    print(out_df['rf_rmse'].mean())\n",
    "    print(out_df['rf_score'].mean())\n",
    "\n",
    "    mp_calc = mp_run.MpCalc(new_target_gene_list, X, network_df, all_train_source.loc[tf_list], all_train_target, cv_test_source.loc[tf_list], cv_test_target)\n",
    "    iter_length = len(new_target_gene_list)\n",
    "    with Pool(cpu_count()) as p:\n",
    "        r = list(tqdm(p.imap(mp_calc.full_comp_new, range(iter_length)), total=iter_length))\n",
    "    r = np.array(r)\n",
    "    print(np.mean(r[:, 6]))\n",
    "    all_train_rmse_list = np.concatenate([all_train_rmse_list, r[:, 6]])\n",
    "\n",
    "\n",
    "    print('======================================')\n",
    "print(np.mean(all_rmse_list))\n",
    "print(np.mean(all_train_rmse_list))"
   ]
  },
  {
   "cell_type": "code",
   "execution_count": null,
   "metadata": {},
   "outputs": [],
   "source": []
  }
 ],
 "metadata": {
  "kernelspec": {
   "display_name": "pymc_env",
   "language": "python",
   "name": "python3"
  },
  "language_info": {
   "codemirror_mode": {
    "name": "ipython",
    "version": 3
   },
   "file_extension": ".py",
   "mimetype": "text/x-python",
   "name": "python",
   "nbconvert_exporter": "python",
   "pygments_lexer": "ipython3",
   "version": "3.11.7"
  }
 },
 "nbformat": 4,
 "nbformat_minor": 4
}
