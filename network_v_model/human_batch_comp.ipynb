{
 "cells": [
  {
   "cell_type": "markdown",
   "metadata": {},
   "source": [
    "Scripts for regression experiments on mouse"
   ]
  },
  {
   "cell_type": "code",
   "execution_count": 1,
   "metadata": {},
   "outputs": [],
   "source": [
    "import pandas as pd\n",
    "import numpy as np\n",
    "from tqdm import tqdm\n",
    "\n",
    "import mp_run\n",
    "import matplotlib.pyplot as plt\n",
    "\n",
    "\n",
    "%load_ext autoreload\n",
    "%autoreload 2\n",
    "from multiprocessing import Pool, cpu_count\n",
    "\n",
    "\n",
    "# regex for number extraction from string\n",
    "number_pattern =  r'(-?(?:0|[1-9]\\d*)(?:\\.\\d+)?(?:[eE][+-]?\\d+)?)'\n",
    "prop_cycle = plt.rcParams['axes.prop_cycle']\n",
    "colors = prop_cycle.by_key()['color']\n"
   ]
  },
  {
   "cell_type": "code",
   "execution_count": 2,
   "metadata": {},
   "outputs": [],
   "source": [
    "train_source_1 = pd.read_csv('../data/human/GSE221103/normalized/train_source.csv.gz', index_col=0, compression='gzip')\n",
    "train_target_1 = pd.read_csv('../data/human/GSE221103/normalized/train_target.csv.gz', index_col=0, compression='gzip')\n",
    "test_source_1 = pd.read_csv('../data/human/GSE221103/normalized/test_source.csv.gz', index_col=0, compression='gzip')\n",
    "test_target_1 = pd.read_csv('../data/human/GSE221103/normalized/test_target.csv.gz', index_col=0, compression='gzip')\n",
    "\n",
    "train_source_2 = pd.read_csv('../data/human/GSE221173/normalized/train_source.csv.gz', index_col=0, compression='gzip')\n",
    "train_target_2 = pd.read_csv('../data/human/GSE221173/normalized/train_target.csv.gz', index_col=0, compression='gzip')\n",
    "test_source_2 = pd.read_csv('../data/human/GSE221173/normalized/test_source.csv.gz', index_col=0, compression='gzip')\n",
    "test_target_2 = pd.read_csv('../data/human/GSE221173/normalized/test_target.csv.gz', index_col=0, compression='gzip')"
   ]
  },
  {
   "cell_type": "code",
   "execution_count": 3,
   "metadata": {},
   "outputs": [],
   "source": [
    "common_exp_genes = list(set(train_source_1.index).intersection(set(train_source_2.index)))\n",
    "\n",
    "train_source_1 = train_source_1.loc[common_exp_genes]\n",
    "train_target_1 = train_target_1.loc[common_exp_genes]\n",
    "test_source_1 = test_source_1.loc[common_exp_genes]\n",
    "test_target_1 = test_target_1.loc[common_exp_genes]\n",
    "\n",
    "train_source_2 = train_source_2.loc[common_exp_genes]\n",
    "train_target_2 = train_target_2.loc[common_exp_genes]\n",
    "test_source_2 = test_source_2.loc[common_exp_genes]\n",
    "test_target_2 = test_target_2.loc[common_exp_genes]\n"
   ]
  },
  {
   "cell_type": "code",
   "execution_count": 4,
   "metadata": {},
   "outputs": [],
   "source": [
    "train_source_list = [train_source_1, train_source_2]\n",
    "train_target_list = [train_target_1, train_target_2]\n",
    "test_source_list = [test_source_1, test_source_2]\n",
    "test_target_list = [test_target_1, test_target_2]"
   ]
  },
  {
   "cell_type": "code",
   "execution_count": 5,
   "metadata": {},
   "outputs": [],
   "source": [
    "train_source = pd.concat([train_source_1, train_source_2], axis=1)\n",
    "train_target = pd.concat([train_target_1, train_target_2], axis=1)\n",
    "test_source = pd.concat([test_source_1, test_source_2], axis=1)\n",
    "test_target = pd.concat([test_target_1, test_target_2], axis=1)"
   ]
  },
  {
   "cell_type": "code",
   "execution_count": 7,
   "metadata": {},
   "outputs": [],
   "source": [
    "network_df = pd.read_csv('../data/human/regnetworkweb.org.network', sep='\\t')\n",
    "regulator_set = set(network_df['regulator'])\n",
    "target_set = set(network_df['target'])\n",
    "\n",
    "regulator_set = regulator_set.intersection(set(train_source.index))\n",
    "target_set = target_set.intersection(set(train_source.index))\n",
    "all_gene_set = regulator_set.union(target_set)\n",
    "network_dict = {target: [] for target in target_set}\n",
    "for ind, row in network_df.iterrows():\n",
    "    if (row['regulator'] in regulator_set) and (row['target'] in target_set):\n",
    "        network_dict[row['target']].append(row['regulator'])\n",
    "\n",
    "key_list = []\n",
    "value_list = []\n",
    "regulator_set = set()\n",
    "tf_list_df = pd.read_csv('../data/human/human_tf_list.tsv.gz', sep='\\t', compression='gzip', index_col=0)\n",
    "for name in tf_list_df['Gene Names']:\n",
    "    name_splits = str(name).split(' ')\n",
    "    for i in name_splits:\n",
    "        if i in train_source.index:\n",
    "            regulator_set.add(i)\n",
    "target_set = set()\n",
    "for key in network_dict.keys():\n",
    "    if (len(network_dict[key]) > 0) and network_dict[key][0] != key:\n",
    "        key_list.append(key)\n",
    "        target_set.add(key)\n",
    "        value_list.append(\"; \".join(network_dict[key]))\n",
    "        for regulator in network_dict[key]:\n",
    "            regulator_set.add(regulator)\n",
    "all_gene_set = regulator_set.union(target_set)\n"
   ]
  },
  {
   "cell_type": "code",
   "execution_count": 8,
   "metadata": {},
   "outputs": [],
   "source": [
    "network_df = pd.DataFrame(index=key_list)\n",
    "network_df['tf_list'] = value_list\n",
    "target_df = pd.concat([train_target, test_target], axis=1)\n",
    "source_df = pd.concat([train_source, test_source], axis=1)\n",
    "\n",
    "\n",
    "target_gene_list = list(target_set)\n",
    "target_exp = target_df.loc[target_gene_list]\n",
    "X = source_df.loc[list(regulator_set)]\n",
    "tf_list = list(regulator_set)\n",
    "\n",
    "\n",
    "tf_list_df = pd.read_csv('../output/network_model/human_tf.csv', names=['tf'], index_col=0)\n",
    "tf_list = list(tf_list_df.index)"
   ]
  },
  {
   "cell_type": "code",
   "execution_count": 11,
   "metadata": {},
   "outputs": [],
   "source": [
    "res_df = pd.read_csv('../output/network_model/human_full_results.csv.gz', index_col=0, compression='gzip')\n",
    "rmse_list = [res_df['rf_rmse'].mean()]\n",
    "error_list = [res_df['rf_rmse'].sem()]"
   ]
  },
  {
   "cell_type": "code",
   "execution_count": 14,
   "metadata": {},
   "outputs": [
    {
     "name": "stderr",
     "output_type": "stream",
     "text": [
      "100%|██████████| 556/556 [02:00<00:00,  4.63it/s]\n",
      "100%|██████████| 86/86 [00:18<00:00,  4.69it/s]\n"
     ]
    }
   ],
   "source": [
    "all_rmse_list = []\n",
    "all_train_rmse_list = []\n",
    "all_train_source = pd.concat(train_source_list, axis=1)\n",
    "all_train_target = pd.concat(train_target_list, axis=1)\n",
    "\n",
    "for i in range(len(train_source_list)):\n",
    "    cv_test_source = test_source_list[i]\n",
    "    cv_test_target = test_target_list[i]\n",
    "    cv_train_source = train_source_list[i]\n",
    "    cv_train_target = train_target_list[i]\n",
    "    new_test_target = cv_test_target.loc[target_gene_list]\n",
    "    new_test_target = new_test_target.loc[new_test_target.std(axis=1) > 0.5]\n",
    "    new_target_gene_list = new_test_target.index\n",
    "    mp_calc = mp_run.MpCalc(new_target_gene_list, X, network_df, cv_train_source.loc[tf_list], cv_train_target, cv_test_source.loc[tf_list], cv_test_target)\n",
    "    iter_length = len(new_target_gene_list)\n",
    "    if (iter_length < 1): continue\n",
    "    with Pool(cpu_count()) as p:\n",
    "        r = list(tqdm(p.imap(mp_calc.full_comp_new, range(iter_length)), total=iter_length))\n",
    "    r = np.array(r)\n",
    "    out_df = pd.DataFrame(index=new_target_gene_list)\n",
    "    out_df['rf_rmse'] = r[:, 6]\n",
    "    rmse_list.append(out_df['rf_rmse'].mean())\n",
    "    error_list.append(out_df['rf_rmse'].sem())\n",
    "    \n",
    "    # all_rmse_list = np.concatenate([all_rmse_list, r[:, 6]])\n",
    "    # print(out_df['rf_rmse'].mean())\n",
    "    # print(out_df['rf_score'].mean())\n",
    "\n",
    "    # mp_calc = mp_run.MpCalc(new_target_gene_list, X, network_df, all_train_source.loc[tf_list], all_train_target, cv_test_source.loc[tf_list], cv_test_target)\n",
    "    # iter_length = len(new_target_gene_list)\n",
    "    # with Pool(cpu_count()) as p:\n",
    "    #     r = list(tqdm(p.imap(mp_calc.full_comp_new, range(iter_length)), total=iter_length))\n",
    "    # r = np.array(r)\n",
    "    # print(np.mean(r[:, 6]))\n",
    "    # all_train_rmse_list = np.concatenate([all_train_rmse_list, r[:, 6]])\n",
    "\n",
    "\n",
    "#     print('======================================')\n",
    "# print(np.mean(all_rmse_list))\n",
    "# print(np.mean(all_train_rmse_list))"
   ]
  },
  {
   "cell_type": "code",
   "execution_count": 21,
   "metadata": {},
   "outputs": [
    {
     "data": {
      "image/png": "[encoded data removed]",
      "text/plain": [
       "<Figure size 600x400 with 1 Axes>"
      ]
     },
     "metadata": {},
     "output_type": "display_data"
    }
   ],
   "source": [
    "\n",
    "fig = plt.figure(figsize=(6, 4))\n",
    "ax = fig.add_subplot(1, 1, 1)\n",
    "ax.bar(['All Batches','Batch #1','Batch #2'], rmse_list, color=colors[1], yerr=error_list, capsize=3)\n",
    "ax.set(ylabel='Average RMSE')\n",
    "plt.xticks(rotation=30)\n",
    "plt.savefig('./plot_output/batch_comp/human.pdf', bbox_inches='tight')"
   ]
  },
  {
   "cell_type": "code",
   "execution_count": null,
   "metadata": {},
   "outputs": [],
   "source": []
  }
 ],
 "metadata": {
  "kernelspec": {
   "display_name": "pymc_env",
   "language": "python",
   "name": "python3"
  },
  "language_info": {
   "codemirror_mode": {
    "name": "ipython",
    "version": 3
   },
   "file_extension": ".py",
   "mimetype": "text/x-python",
   "name": "python",
   "nbconvert_exporter": "python",
   "pygments_lexer": "ipython3",
   "version": "3.11.7"
  }
 },
 "nbformat": 4,
 "nbformat_minor": 4
}
