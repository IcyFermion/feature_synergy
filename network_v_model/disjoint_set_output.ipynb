{
 "cells": [
  {
   "cell_type": "code",
   "execution_count": 1,
   "id": "1fa7b794-1193-4ac2-a7dc-04456168123d",
   "metadata": {},
   "outputs": [],
   "source": [
    "import pandas as pd\n",
    "import numpy as np\n",
    "from tqdm import tqdm\n",
    "import copy\n",
    "\n",
    "from scipy import stats\n",
    "\n",
    "from multiprocessing import Pool, cpu_count\n",
    "\n",
    "# regex for number extraction from string\n",
    "number_pattern =  r'(-?(?:0|[1-9]\\d*)(?:\\.\\d+)?(?:[eE][+-]?\\d+)?)'\n",
    "\n",
    "import matplotlib.pyplot as plt\n",
    "%matplotlib inline\n",
    "plt.rcParams.update({'figure.figsize':(7,5), 'figure.dpi':200})"
   ]
  },
  {
   "cell_type": "code",
   "execution_count": 2,
   "id": "d5f45708-ae0b-49dd-ab6a-d4935728656b",
   "metadata": {},
   "outputs": [],
   "source": [
    "prop_cycle = plt.rcParams['axes.prop_cycle']\n",
    "colors = prop_cycle.by_key()['color']\n",
    "\n",
    "disjoint_set_size_threshold = 10\n",
    "genetic_shuffle_frac = 0.5"
   ]
  },
  {
   "cell_type": "code",
   "execution_count": 3,
   "id": "7469d736",
   "metadata": {},
   "outputs": [],
   "source": [
    "def shuffle_frac_of_array(input_array, random_seed, shuffle_frac):\n",
    "    np.random.seed(random_seed)\n",
    "    shuffle_len = int(len(input_array) * shuffle_frac)\n",
    "    keep_len = len(input_array) - shuffle_len\n",
    "    mask_array = np.concatenate([np.full(keep_len, False), np.full(shuffle_len, True)])\n",
    "    np.random.shuffle(mask_array)\n",
    "    keep_sub = []\n",
    "    shuffle_sub = []\n",
    "    for i, mask in enumerate(mask_array):\n",
    "        if mask: shuffle_sub.append(input_array[i])\n",
    "        else: keep_sub.append(input_array[i])\n",
    "    shuffle_sub = np.array(shuffle_sub)\n",
    "    np.random.shuffle(shuffle_sub)\n",
    "    new_array = []\n",
    "    shuffle_idx = 0\n",
    "    keep_idx = 0\n",
    "    for mask in mask_array:\n",
    "        if mask: \n",
    "            new_array.append(shuffle_sub[shuffle_idx])\n",
    "            shuffle_idx += 1\n",
    "        else: \n",
    "            new_array.append(keep_sub[keep_idx])\n",
    "            keep_idx += 1\n",
    "    return new_array"
   ]
  },
  {
   "cell_type": "code",
   "execution_count": 3,
   "id": "d7844e80-d321-42e5-bb46-7b31817dd307",
   "metadata": {},
   "outputs": [],
   "source": [
    "tf_df_list = [\n",
    "    pd.read_csv('../output/network_model/yeast_tf.csv', index_col=0, names=['tf']),\n",
    "    pd.read_csv('../output/network_model/bsubtilis_tf.csv', index_col=0, names=['tf']),\n",
    "    pd.read_csv('../output/network_model/arabidopsis_tf.csv', index_col=0, names=['tf']),\n",
    "    pd.read_csv('../output/network_model/mouse_tf.csv', index_col=0, names=['tf']),\n",
    "]\n",
    "\n",
    "res_df_list = [\n",
    "    pd.read_csv('../output/network_model/yeast_all_tf_high_var_target_efron_train.csv.gz', index_col=0, compression='gzip'),\n",
    "    pd.read_csv('../output/network_model/bsubtilis_all_tf_high_var_target_efron_train.csv.gz', index_col=0, compression='gzip'),\n",
    "    pd.read_csv('../output/network_model/arabidopsis_all_tf_high_var_target_efron_train.csv.gz', index_col=0, compression='gzip'),\n",
    "    pd.read_csv('../output/network_model/mouse_all_tf_high_var_target_efron_train.csv.gz', index_col=0, compression='gzip'),\n",
    "]\n",
    "species_file_names = ['yeast', 'bsubtilis', 'arabidopsis', 'mouse']"
   ]
  },
  {
   "cell_type": "code",
   "execution_count": 59,
   "id": "87a2b488-71a6-4661-8f45-6fb6b865c894",
   "metadata": {},
   "outputs": [
    {
     "name": "stderr",
     "output_type": "stream",
     "text": [
      "/tmp/ipykernel_2152906/491479083.py:17: SettingWithCopyWarning: \n",
      "A value is trying to be set on a copy of a slice from a DataFrame.\n",
      "Try using .loc[row_indexer,col_indexer] = value instead\n",
      "\n",
      "See the caveats in the documentation: https://pandas.pydata.org/pandas-docs/stable/user_guide/indexing.html#returning-a-view-versus-a-copy\n",
      "  out_df['disjoint_sets'] = disjoint_sets_list\n",
      "/tmp/ipykernel_2152906/491479083.py:18: SettingWithCopyWarning: \n",
      "A value is trying to be set on a copy of a slice from a DataFrame.\n",
      "Try using .loc[row_indexer,col_indexer] = value instead\n",
      "\n",
      "See the caveats in the documentation: https://pandas.pydata.org/pandas-docs/stable/user_guide/indexing.html#returning-a-view-versus-a-copy\n",
      "  out_df['minimal_set'] = minimal_sets_list\n",
      "/tmp/ipykernel_2152906/491479083.py:17: SettingWithCopyWarning: \n",
      "A value is trying to be set on a copy of a slice from a DataFrame.\n",
      "Try using .loc[row_indexer,col_indexer] = value instead\n",
      "\n",
      "See the caveats in the documentation: https://pandas.pydata.org/pandas-docs/stable/user_guide/indexing.html#returning-a-view-versus-a-copy\n",
      "  out_df['disjoint_sets'] = disjoint_sets_list\n",
      "/tmp/ipykernel_2152906/491479083.py:18: SettingWithCopyWarning: \n",
      "A value is trying to be set on a copy of a slice from a DataFrame.\n",
      "Try using .loc[row_indexer,col_indexer] = value instead\n",
      "\n",
      "See the caveats in the documentation: https://pandas.pydata.org/pandas-docs/stable/user_guide/indexing.html#returning-a-view-versus-a-copy\n",
      "  out_df['minimal_set'] = minimal_sets_list\n",
      "/tmp/ipykernel_2152906/491479083.py:17: SettingWithCopyWarning: \n",
      "A value is trying to be set on a copy of a slice from a DataFrame.\n",
      "Try using .loc[row_indexer,col_indexer] = value instead\n",
      "\n",
      "See the caveats in the documentation: https://pandas.pydata.org/pandas-docs/stable/user_guide/indexing.html#returning-a-view-versus-a-copy\n",
      "  out_df['disjoint_sets'] = disjoint_sets_list\n",
      "/tmp/ipykernel_2152906/491479083.py:18: SettingWithCopyWarning: \n",
      "A value is trying to be set on a copy of a slice from a DataFrame.\n",
      "Try using .loc[row_indexer,col_indexer] = value instead\n",
      "\n",
      "See the caveats in the documentation: https://pandas.pydata.org/pandas-docs/stable/user_guide/indexing.html#returning-a-view-versus-a-copy\n",
      "  out_df['minimal_set'] = minimal_sets_list\n",
      "/tmp/ipykernel_2152906/491479083.py:17: SettingWithCopyWarning: \n",
      "A value is trying to be set on a copy of a slice from a DataFrame.\n",
      "Try using .loc[row_indexer,col_indexer] = value instead\n",
      "\n",
      "See the caveats in the documentation: https://pandas.pydata.org/pandas-docs/stable/user_guide/indexing.html#returning-a-view-versus-a-copy\n",
      "  out_df['disjoint_sets'] = disjoint_sets_list\n",
      "/tmp/ipykernel_2152906/491479083.py:18: SettingWithCopyWarning: \n",
      "A value is trying to be set on a copy of a slice from a DataFrame.\n",
      "Try using .loc[row_indexer,col_indexer] = value instead\n",
      "\n",
      "See the caveats in the documentation: https://pandas.pydata.org/pandas-docs/stable/user_guide/indexing.html#returning-a-view-versus-a-copy\n",
      "  out_df['minimal_set'] = minimal_sets_list\n"
     ]
    }
   ],
   "source": [
    "for res_df, tf_list, species_file_name in zip(res_df_list, tf_df_list, species_file_names):\n",
    "    out_df = res_df[['rf_rmse', 'test_std', 'rf_efron_features', 'rf_efron_complementary_features_list']]\n",
    "    disjoint_sets_list = []\n",
    "    minimal_sets_list = []\n",
    "    for i, row in out_df.iterrows():\n",
    "        first_set = row['rf_efron_features'].split('; ')\n",
    "        first_set = ': '.join([tf_list.index[int(j)] for j in first_set])\n",
    "        minimal_sets_list.append(first_set)\n",
    "        disjoint_sets = [first_set]\n",
    "        if isinstance(row['rf_efron_complementary_features_list'], str):\n",
    "            rest_of_sets = row['rf_efron_complementary_features_list'].split(', ')\n",
    "            for disjoint_set in rest_of_sets:\n",
    "                disjoint_sets.append(': '.join([tf_list.index[int(j)] for j in disjoint_set.split('; ')]))\n",
    "        # print(disjoint_sets)\n",
    "        # break\n",
    "        disjoint_sets_list.append('; '.join(disjoint_sets))\n",
    "    out_df['disjoint_sets'] = disjoint_sets_list\n",
    "    out_df['minimal_set'] = minimal_sets_list\n",
    "    out_df.index.name = 'target_gene'\n",
    "    out_df[['minimal_set', 'disjoint_sets']].to_csv('../output/network_model/{}_disjoint_sets.csv'.format(species_file_name))"
   ]
  },
  {
   "cell_type": "code",
   "execution_count": 4,
   "id": "c8f8f69a-fd38-4be4-9fc9-75f5dc95b407",
   "metadata": {},
   "outputs": [],
   "source": [
    "res_df = pd.read_csv('../output/network_model/arabidopsis_all_tf_high_var_target_efron_train.csv.gz', index_col=0, compression='gzip')\n",
    "tf_list = pd.read_csv('../output/network_model/arabidopsis_tf.csv', index_col=0, names=['tf'])\n",
    "out_df = res_df[['rf_rmse', 'test_std', 'rf_efron_features', 'rf_efron_complementary_features_list']]\n"
   ]
  },
  {
   "cell_type": "code",
   "execution_count": 5,
   "id": "f94468b0-954d-42aa-ab90-787ef8522963",
   "metadata": {},
   "outputs": [],
   "source": [
    "pathway_genes = pd.read_csv('../data/pathway.txt', index_col=0).index\n",
    "gene_names = [\n",
    "    x.upper()\n",
    "    for x in pathway_genes\n",
    "]\n",
    "pathway_matches = []\n",
    "for ind in out_df.index:\n",
    "    if ind in gene_names:\n",
    "        pathway_matches.append(ind)\n",
    "\n",
    "out_df = out_df.loc[pathway_matches]"
   ]
  },
  {
   "cell_type": "code",
   "execution_count": 6,
   "id": "bacd17f7-2236-4c32-b742-a8001eda63ed",
   "metadata": {},
   "outputs": [],
   "source": [
    "disjoint_sets_list = []\n",
    "disjoint_sets_dict = {}\n",
    "minimal_sets_list = []\n",
    "for i, row in out_df.iterrows():\n",
    "    first_set = row['rf_efron_features'].split('; ')\n",
    "    first_set = set([int(i) for i in first_set])\n",
    "    # first_set = ': '.join([tf_list.index[int(j)] for j in first_set])\n",
    "    minimal_sets_list.append(first_set)\n",
    "    if (len(first_set) > disjoint_set_size_threshold):\n",
    "        disjoint_sets = []\n",
    "    else:\n",
    "        disjoint_sets = [first_set]\n",
    "    if isinstance(row['rf_efron_complementary_features_list'], str):\n",
    "        rest_of_sets = row['rf_efron_complementary_features_list'].split(', ')\n",
    "        for n_set in rest_of_sets:\n",
    "            disjoint_set = n_set.split('; ')\n",
    "            disjoint_set = set([int(i) for i in disjoint_set])\n",
    "            if (len(disjoint_set) <= disjoint_set_size_threshold):\n",
    "                disjoint_sets.append(disjoint_set)\n",
    "    # print(disjoint_sets)\n",
    "    # break\n",
    "    if (len(disjoint_sets) > 0):\n",
    "        disjoint_sets_list.append(disjoint_sets)\n",
    "        disjoint_sets_dict[i] = disjoint_sets"
   ]
  },
  {
   "cell_type": "code",
   "execution_count": 7,
   "id": "e1ca7947-1b72-4792-9cbf-fd7331738499",
   "metadata": {},
   "outputs": [],
   "source": [
    "tf_occur_count = {}\n",
    "for disjoint_sets in disjoint_sets_list:\n",
    "    for disjoint_set in disjoint_sets:\n",
    "        for tf in disjoint_set:\n",
    "            if tf in tf_occur_count:\n",
    "                tf_occur_count[tf] += 1\n",
    "            else: tf_occur_count[tf] = 1\n",
    "\n",
    "tf_occur_count = dict(sorted(tf_occur_count.items(), key=lambda item: item[1]))\n",
    "tf_union_set = set(tf_occur_count.keys())\n",
    "sorted_tf_list = [i for i in tf_occur_count.keys()]"
   ]
  },
  {
   "cell_type": "code",
   "execution_count": 9,
   "id": "cab3457b-282a-441f-8bb0-d022ec954e6c",
   "metadata": {},
   "outputs": [
    {
     "name": "stderr",
     "output_type": "stream",
     "text": [
      "  0%|                                                                                         | 0/50000 [00:00<?, ?it/s]"
     ]
    },
    {
     "name": "stdout",
     "output_type": "stream",
     "text": [
      "0.1\n",
      "42\n",
      "0.2\n",
      "39\n"
     ]
    },
    {
     "name": "stderr",
     "output_type": "stream",
     "text": [
      "  0%|                                                                               | 1/50000 [00:00<9:53:29,  1.40it/s]"
     ]
    },
    {
     "name": "stdout",
     "output_type": "stream",
     "text": [
      "0.30000000000000004\n",
      "36\n"
     ]
    },
    {
     "name": "stderr",
     "output_type": "stream",
     "text": [
      "  0%|                                                                              | 65/50000 [00:41<8:39:17,  1.60it/s]"
     ]
    },
    {
     "name": "stdout",
     "output_type": "stream",
     "text": [
      "0.7000000000000001\n",
      "35\n"
     ]
    },
    {
     "name": "stderr",
     "output_type": "stream",
     "text": [
      "  5%|███▊                                                                        | 2521/50000 [25:58<7:45:20,  1.70it/s]"
     ]
    },
    {
     "name": "stdout",
     "output_type": "stream",
     "text": [
      "0.30000000000000004\n",
      "34\n"
     ]
    },
    {
     "name": "stderr",
     "output_type": "stream",
     "text": [
      "  8%|█████▊                                                                      | 3791/50000 [38:55<7:33:03,  1.70it/s]"
     ]
    },
    {
     "name": "stdout",
     "output_type": "stream",
     "text": [
      "0.6000000000000001\n",
      "33\n"
     ]
    },
    {
     "name": "stderr",
     "output_type": "stream",
     "text": [
      "100%|███████████████████████████████████████████████████████████████████████████| 50000/50000 [8:18:22<00:00,  1.67it/s]\n"
     ]
    }
   ],
   "source": [
    "super_used_set = set()\n",
    "best_set = tf_union_set\n",
    "for seed in tqdm(range(50000)):\n",
    "    for i in range(9):\n",
    "        cur_frac = 0.1*(i+1)\n",
    "        sorted_tf_list = shuffle_frac_of_array(sorted_tf_list, seed, cur_frac)\n",
    "        covered_targets = set()\n",
    "        remaining_targets = set(disjoint_sets_dict.keys())\n",
    "        used_tf = set()\n",
    "        tf_add_index = -1\n",
    "        while (len(remaining_targets)>0):\n",
    "            used_tf.add(sorted_tf_list[tf_add_index])\n",
    "            target_search_list = copy.deepcopy(list(remaining_targets))\n",
    "            for target in target_search_list:\n",
    "                for dj_set in disjoint_sets_dict[target]:\n",
    "                    if len(dj_set.intersection(used_tf)) == len(dj_set):\n",
    "                        remaining_targets.remove(target)\n",
    "                        covered_targets.add(target)\n",
    "                        break\n",
    "            tf_add_index -= 1\n",
    "\n",
    "        used_tf_occur_count = {key: tf_occur_count[key] for key in used_tf}\n",
    "        used_tf_occur_count = dict(sorted(used_tf_occur_count.items(), key=lambda item: item[1]))\n",
    "        used_sorted_tf_list = [i for i in used_tf_occur_count.keys()]\n",
    "        # used_sorted_tf_list = shuffle_frac_of_array(used_sorted_tf_list, seed, genetic_shuffle_frac)\n",
    "        used_tf_union_set = set(used_tf_occur_count.keys())\n",
    "\n",
    "        continue_flag = True\n",
    "        tf_remove_index = 0\n",
    "        while (tf_remove_index < len(used_sorted_tf_list)):\n",
    "            continue_flag = True\n",
    "            new_tf_set = copy.deepcopy(used_tf_union_set)\n",
    "            new_tf_set.remove(used_sorted_tf_list[tf_remove_index])\n",
    "            for disjoint_sets in disjoint_sets_list:\n",
    "                should_continue = False\n",
    "                for disjoint_set in disjoint_sets:\n",
    "                    if len(disjoint_set.intersection(new_tf_set)) == len(disjoint_set):\n",
    "                        should_continue = True\n",
    "                        break\n",
    "                if not should_continue:\n",
    "                    continue_flag = False\n",
    "                    break\n",
    "            if continue_flag:\n",
    "                used_tf_union_set = new_tf_set\n",
    "            tf_remove_index += 1\n",
    "        # super_used_set = super_used_set.union(used_tf_union_set)\n",
    "            \n",
    "        if len(used_tf_union_set) < len(best_set):\n",
    "            best_set = used_tf_union_set\n",
    "            print(cur_frac)\n",
    "            print(len(used_tf_union_set))"
   ]
  },
  {
   "cell_type": "code",
   "execution_count": 10,
   "id": "19856589",
   "metadata": {},
   "outputs": [
    {
     "data": {
      "text/plain": [
       "33"
      ]
     },
     "execution_count": 10,
     "metadata": {},
     "output_type": "execute_result"
    }
   ],
   "source": [
    "len(best_set)"
   ]
  },
  {
   "cell_type": "code",
   "execution_count": null,
   "id": "1f66591f-c1b0-4df7-8a78-4b86bb711256",
   "metadata": {},
   "outputs": [],
   "source": []
  }
 ],
 "metadata": {
  "kernelspec": {
   "display_name": "Python [conda env:pymc_env]",
   "language": "python",
   "name": "conda-env-pymc_env-py"
  },
  "language_info": {
   "codemirror_mode": {
    "name": "ipython",
    "version": 3
   },
   "file_extension": ".py",
   "mimetype": "text/x-python",
   "name": "python",
   "nbconvert_exporter": "python",
   "pygments_lexer": "ipython3",
   "version": "3.11.0"
  }
 },
 "nbformat": 4,
 "nbformat_minor": 5
}
