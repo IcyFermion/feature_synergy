{
 "cells": [
  {
   "cell_type": "code",
   "execution_count": 1,
   "id": "1fa7b794-1193-4ac2-a7dc-04456168123d",
   "metadata": {},
   "outputs": [],
   "source": [
    "import pandas as pd\n",
    "\n",
    "# regex for number extraction from string\n",
    "number_pattern =  r'(-?(?:0|[1-9]\\d*)(?:\\.\\d+)?(?:[eE][+-]?\\d+)?)'\n"
   ]
  },
  {
   "cell_type": "code",
   "execution_count": 2,
   "id": "d7844e80-d321-42e5-bb46-7b31817dd307",
   "metadata": {},
   "outputs": [],
   "source": [
    "tf_df_list = [\n",
    "    pd.read_csv('../output/network_model/yeast_tf.csv', index_col=0, names=['tf']),\n",
    "    pd.read_csv('../output/network_model/bsubtilis_tf.csv', index_col=0, names=['tf']),\n",
    "    pd.read_csv('../output/network_model/arabidopsis_tf.csv', index_col=0, names=['tf']),\n",
    "    pd.read_csv('../output/network_model/mouse_tf.csv', index_col=0, names=['tf']),\n",
    "    pd.read_csv('../output/network_model/human_tf.csv', index_col=0, names=['tf']),\n",
    "]\n",
    "\n",
    "res_df_list = [\n",
    "    pd.read_csv('../output/network_model/yeast_full_results.csv.gz', index_col=0, compression='gzip'),\n",
    "    pd.read_csv('../output/network_model/bsubtilis_full_results.csv.gz', index_col=0, compression='gzip'),\n",
    "    pd.read_csv('../output/network_model/arabidopsis_full_results.csv.gz', index_col=0, compression='gzip'),\n",
    "    pd.read_csv('../output/network_model/mouse_full_results.csv.gz', index_col=0, compression='gzip'),\n",
    "    pd.read_csv('../output/network_model/human_full_results.csv.gz', index_col=0, compression='gzip'),\n",
    "]\n",
    "species_file_names = ['yeast', 'bsubtilis', 'arabidopsis', 'mouse', 'human']"
   ]
  },
  {
   "cell_type": "code",
   "execution_count": 3,
   "id": "87a2b488-71a6-4661-8f45-6fb6b865c894",
   "metadata": {},
   "outputs": [
    {
     "name": "stderr",
     "output_type": "stream",
     "text": [
      "/tmp/ipykernel_2357119/491479083.py:17: SettingWithCopyWarning: \n",
      "A value is trying to be set on a copy of a slice from a DataFrame.\n",
      "Try using .loc[row_indexer,col_indexer] = value instead\n",
      "\n",
      "See the caveats in the documentation: https://pandas.pydata.org/pandas-docs/stable/user_guide/indexing.html#returning-a-view-versus-a-copy\n",
      "  out_df['disjoint_sets'] = disjoint_sets_list\n",
      "/tmp/ipykernel_2357119/491479083.py:18: SettingWithCopyWarning: \n",
      "A value is trying to be set on a copy of a slice from a DataFrame.\n",
      "Try using .loc[row_indexer,col_indexer] = value instead\n",
      "\n",
      "See the caveats in the documentation: https://pandas.pydata.org/pandas-docs/stable/user_guide/indexing.html#returning-a-view-versus-a-copy\n",
      "  out_df['minimal_set'] = minimal_sets_list\n",
      "/tmp/ipykernel_2357119/491479083.py:17: SettingWithCopyWarning: \n",
      "A value is trying to be set on a copy of a slice from a DataFrame.\n",
      "Try using .loc[row_indexer,col_indexer] = value instead\n",
      "\n",
      "See the caveats in the documentation: https://pandas.pydata.org/pandas-docs/stable/user_guide/indexing.html#returning-a-view-versus-a-copy\n",
      "  out_df['disjoint_sets'] = disjoint_sets_list\n",
      "/tmp/ipykernel_2357119/491479083.py:18: SettingWithCopyWarning: \n",
      "A value is trying to be set on a copy of a slice from a DataFrame.\n",
      "Try using .loc[row_indexer,col_indexer] = value instead\n",
      "\n",
      "See the caveats in the documentation: https://pandas.pydata.org/pandas-docs/stable/user_guide/indexing.html#returning-a-view-versus-a-copy\n",
      "  out_df['minimal_set'] = minimal_sets_list\n",
      "/tmp/ipykernel_2357119/491479083.py:17: SettingWithCopyWarning: \n",
      "A value is trying to be set on a copy of a slice from a DataFrame.\n",
      "Try using .loc[row_indexer,col_indexer] = value instead\n",
      "\n",
      "See the caveats in the documentation: https://pandas.pydata.org/pandas-docs/stable/user_guide/indexing.html#returning-a-view-versus-a-copy\n",
      "  out_df['disjoint_sets'] = disjoint_sets_list\n",
      "/tmp/ipykernel_2357119/491479083.py:18: SettingWithCopyWarning: \n",
      "A value is trying to be set on a copy of a slice from a DataFrame.\n",
      "Try using .loc[row_indexer,col_indexer] = value instead\n",
      "\n",
      "See the caveats in the documentation: https://pandas.pydata.org/pandas-docs/stable/user_guide/indexing.html#returning-a-view-versus-a-copy\n",
      "  out_df['minimal_set'] = minimal_sets_list\n",
      "/tmp/ipykernel_2357119/491479083.py:17: SettingWithCopyWarning: \n",
      "A value is trying to be set on a copy of a slice from a DataFrame.\n",
      "Try using .loc[row_indexer,col_indexer] = value instead\n",
      "\n",
      "See the caveats in the documentation: https://pandas.pydata.org/pandas-docs/stable/user_guide/indexing.html#returning-a-view-versus-a-copy\n",
      "  out_df['disjoint_sets'] = disjoint_sets_list\n",
      "/tmp/ipykernel_2357119/491479083.py:18: SettingWithCopyWarning: \n",
      "A value is trying to be set on a copy of a slice from a DataFrame.\n",
      "Try using .loc[row_indexer,col_indexer] = value instead\n",
      "\n",
      "See the caveats in the documentation: https://pandas.pydata.org/pandas-docs/stable/user_guide/indexing.html#returning-a-view-versus-a-copy\n",
      "  out_df['minimal_set'] = minimal_sets_list\n",
      "/tmp/ipykernel_2357119/491479083.py:17: SettingWithCopyWarning: \n",
      "A value is trying to be set on a copy of a slice from a DataFrame.\n",
      "Try using .loc[row_indexer,col_indexer] = value instead\n",
      "\n",
      "See the caveats in the documentation: https://pandas.pydata.org/pandas-docs/stable/user_guide/indexing.html#returning-a-view-versus-a-copy\n",
      "  out_df['disjoint_sets'] = disjoint_sets_list\n",
      "/tmp/ipykernel_2357119/491479083.py:18: SettingWithCopyWarning: \n",
      "A value is trying to be set on a copy of a slice from a DataFrame.\n",
      "Try using .loc[row_indexer,col_indexer] = value instead\n",
      "\n",
      "See the caveats in the documentation: https://pandas.pydata.org/pandas-docs/stable/user_guide/indexing.html#returning-a-view-versus-a-copy\n",
      "  out_df['minimal_set'] = minimal_sets_list\n"
     ]
    }
   ],
   "source": [
    "for res_df, tf_list, species_file_name in zip(res_df_list, tf_df_list, species_file_names):\n",
    "    out_df = res_df[['rf_rmse', 'test_std', 'rf_efron_features', 'rf_efron_complementary_features_list']]\n",
    "    disjoint_sets_list = []\n",
    "    minimal_sets_list = []\n",
    "    for i, row in out_df.iterrows():\n",
    "        first_set = row['rf_efron_features'].split('; ')\n",
    "        first_set = ': '.join([tf_list.index[int(j)] for j in first_set])\n",
    "        minimal_sets_list.append(first_set)\n",
    "        disjoint_sets = [first_set]\n",
    "        if isinstance(row['rf_efron_complementary_features_list'], str):\n",
    "            rest_of_sets = row['rf_efron_complementary_features_list'].split(', ')\n",
    "            for disjoint_set in rest_of_sets:\n",
    "                disjoint_sets.append(': '.join([tf_list.index[int(j)] for j in disjoint_set.split('; ')]))\n",
    "        # print(disjoint_sets)\n",
    "        # break\n",
    "        disjoint_sets_list.append('; '.join(disjoint_sets))\n",
    "    out_df['disjoint_sets'] = disjoint_sets_list\n",
    "    out_df['minimal_set'] = minimal_sets_list\n",
    "    out_df.index.name = 'target_gene'\n",
    "    out_df[['minimal_set', 'disjoint_sets']].to_csv('../output/network_model/{}_disjoint_sets.csv'.format(species_file_name))"
   ]
  },
  {
   "cell_type": "code",
   "execution_count": null,
   "id": "b6534daf",
   "metadata": {},
   "outputs": [],
   "source": []
  }
 ],
 "metadata": {
  "kernelspec": {
   "display_name": "Python 3 (ipykernel)",
   "language": "python",
   "name": "python3"
  },
  "language_info": {
   "codemirror_mode": {
    "name": "ipython",
    "version": 3
   },
   "file_extension": ".py",
   "mimetype": "text/x-python",
   "name": "python",
   "nbconvert_exporter": "python",
   "pygments_lexer": "ipython3",
   "version": "3.9.13"
  }
 },
 "nbformat": 4,
 "nbformat_minor": 5
}
