{
 "cells": [
  {
   "cell_type": "code",
   "execution_count": 1,
   "metadata": {},
   "outputs": [],
   "source": [
    "import pandas as pd\n",
    "import numpy as np\n",
    "from tqdm import tqdm\n",
    "import re\n",
    "\n",
    "from os import listdir\n",
    "from os.path import isfile, join\n",
    "from sklearn.metrics import mean_squared_error\n",
    "\n",
    "import os\n",
    "\n",
    "import requests\n",
    "from bs4 import BeautifulSoup\n",
    "import urllib.parse"
   ]
  },
  {
   "cell_type": "code",
   "execution_count": 2,
   "metadata": {},
   "outputs": [],
   "source": [
    "df_1 = pd.read_csv('../data/yeast/GSE145936_Sis1-AA_Gene_counts_normalized.txt', sep='\\t', index_col=0)\n",
    "df_2 = pd.read_csv('../data/yeast/GSE153609_gene_expression_TPM_all_times.csv', index_col=0)\n",
    "df_3 = pd.read_csv('../data/yeast/GSE168699_RNA_TPM_all_times.csv', index_col=0)"
   ]
  },
  {
   "cell_type": "code",
   "execution_count": 3,
   "metadata": {},
   "outputs": [],
   "source": [
    "to_drop = df_3.columns[:7]\n",
    "df_3 = df_3.drop(labels=to_drop, axis=1)\n",
    "df_1 = df_1.drop(labels=['gene name'], axis=1)"
   ]
  },
  {
   "cell_type": "code",
   "execution_count": 4,
   "metadata": {},
   "outputs": [],
   "source": [
    "common_genes = set(df_1.index).intersection(set(df_2.index)).intersection(set(df_3.index))\n",
    "common_genes = list(common_genes)"
   ]
  },
  {
   "cell_type": "code",
   "execution_count": null,
   "metadata": {},
   "outputs": [],
   "source": [
    "len(common_genes)"
   ]
  },
  {
   "cell_type": "code",
   "execution_count": null,
   "metadata": {},
   "outputs": [],
   "source": [
    "df_1 = df_1.loc[common_genes]\n",
    "df_2 = df_2.loc[common_genes]\n",
    "df_3 = df_3.loc[common_genes]"
   ]
  },
  {
   "cell_type": "code",
   "execution_count": null,
   "metadata": {},
   "outputs": [],
   "source": [
    "df_1.to_csv('temp.csv')"
   ]
  },
  {
   "cell_type": "code",
   "execution_count": null,
   "metadata": {},
   "outputs": [],
   "source": [
    "normalized_df_1=(df_1-df_1.min())/(df_1.max()-df_1.min())\n",
    "normalized_df_2=(df_2-df_2.min())/(df_2.max()-df_2.min())\n",
    "normalized_df_3=(df_3-df_3.min())/(df_3.max()-df_3.min())"
   ]
  },
  {
   "cell_type": "code",
   "execution_count": null,
   "metadata": {},
   "outputs": [],
   "source": [
    "normalized_df_1 = normalized_df_1*100.0\n",
    "normalized_df_2 = normalized_df_2*100.0\n",
    "normalized_df_3 = normalized_df_3*100.0"
   ]
  },
  {
   "cell_type": "code",
   "execution_count": null,
   "metadata": {},
   "outputs": [],
   "source": [
    "test_df_1 = normalized_df_1.iloc[:,[3,4,5,9,10,11]]\n",
    "test_df_2 = normalized_df_2.iloc[:,[3,4,5]]\n",
    "test_df_3 = normalized_df_3.iloc[:, -5:]"
   ]
  },
  {
   "cell_type": "code",
   "execution_count": null,
   "metadata": {},
   "outputs": [],
   "source": [
    "test_exp = pd.concat([test_df_1, test_df_2, test_df_3], axis=1)\n"
   ]
  },
  {
   "cell_type": "code",
   "execution_count": null,
   "metadata": {},
   "outputs": [],
   "source": [
    "test_source = test_exp.iloc[:,[0,1,3,4,6,7,9,10,11,12]]\n",
    "test_target = test_exp.iloc[:,[0,1,3,4,6,7,9,10,11,12]]"
   ]
  },
  {
   "cell_type": "code",
   "execution_count": null,
   "metadata": {},
   "outputs": [],
   "source": [
    "train_source_df_1 = normalized_df_1.iloc[:, [0,1,2,3,5,6,7,8,9]]\n",
    "train_target_df_1 = normalized_df_1.iloc[:, [1,2,3,4,6,7,8,9,10]]\n",
    "train_source_df_2 = normalized_df_2.iloc[:, [0,1,2,3]]\n",
    "train_target_df_2 = normalized_df_2.iloc[:, [1,2,3,4]]\n",
    "train_source_df_3 = normalized_df_3.iloc[:, :-4]\n",
    "train_target_df_3 = normalized_df_3.iloc[:, 1:-3]"
   ]
  },
  {
   "cell_type": "code",
   "execution_count": null,
   "metadata": {},
   "outputs": [],
   "source": [
    "source_exp = pd.concat([train_source_df_1, train_source_df_2, train_source_df_3], axis=1)\n",
    "target_exp = pd.concat([train_target_df_1, train_target_df_2, train_target_df_3], axis=1)"
   ]
  },
  {
   "cell_type": "code",
   "execution_count": null,
   "metadata": {},
   "outputs": [],
   "source": [
    "target_gene = 'YHR044C'\n",
    "neg_tf = pd.read_csv('./YHR044C_neg.csv', sep=';', names=range(4), index_col=0)\n",
    "pos_tf = pd.read_csv('./YHR044C_pos.csv', sep=';', names=range(4), index_col=0)\n",
    "\n",
    "pd.Series(list(set(neg_tf[2].values).difference(set(pos_tf[2].values)))).to_csv('neg_temp.csv', index=False, header=False)\n",
    "pd.Series(list(set(pos_tf[2].values).difference(set(neg_tf[2].values)))).to_csv('pos_temp.csv', index=False, header=False)\n",
    "\n"
   ]
  },
  {
   "cell_type": "code",
   "execution_count": null,
   "metadata": {},
   "outputs": [],
   "source": [
    "neg_tf = pd.read_csv('./neg_temp.csv',index_col=0)\n",
    "pos_tf = pd.read_csv('./pos_temp.csv',index_col=0)"
   ]
  },
  {
   "cell_type": "code",
   "execution_count": null,
   "metadata": {},
   "outputs": [],
   "source": [
    "all_tf = np.concatenate([neg_tf.index, pos_tf.index])"
   ]
  },
  {
   "cell_type": "code",
   "execution_count": null,
   "metadata": {},
   "outputs": [],
   "source": [
    "import xgboost as xgb\n",
    "from sklearn.ensemble import RandomForestRegressor\n",
    "from sklearn.linear_model import LinearRegression\n",
    "\n",
    "regr = RandomForestRegressor(random_state=42, oob_score=True)\n",
    "lregr = LinearRegression()\n",
    "# regr = xgb.XGBRegressor(random_state=42)"
   ]
  },
  {
   "cell_type": "code",
   "execution_count": null,
   "metadata": {},
   "outputs": [],
   "source": [
    "regr.fit(source_exp.loc[all_tf].T, target_exp.loc[target_gene].T)\n",
    "lregr.fit(source_exp.loc[all_tf].T, target_exp.loc[target_gene].T)"
   ]
  },
  {
   "cell_type": "code",
   "execution_count": null,
   "metadata": {},
   "outputs": [],
   "source": [
    "lregr.score(test_source.loc[all_tf].T, test_target.loc[target_gene].T)"
   ]
  },
  {
   "cell_type": "code",
   "execution_count": null,
   "metadata": {},
   "outputs": [],
   "source": [
    "regr.score(test_source.loc[all_tf].T, test_target.loc[target_gene].T)"
   ]
  },
  {
   "cell_type": "code",
   "execution_count": null,
   "metadata": {},
   "outputs": [],
   "source": [
    "mean_squared_error(lregr.predict(test_source.loc[all_tf].T), test_target.loc[target_gene].T)"
   ]
  },
  {
   "cell_type": "code",
   "execution_count": null,
   "metadata": {},
   "outputs": [],
   "source": [
    "mean_squared_error(regr.predict(test_source.loc[all_tf].T), test_target.loc[target_gene].T)"
   ]
  },
  {
   "cell_type": "code",
   "execution_count": 32,
   "metadata": {},
   "outputs": [],
   "source": [
    "gene_name_df = pd.read_csv('./gene_name_switch.csv', index_col=0)"
   ]
  },
  {
   "cell_type": "code",
   "execution_count": 7,
   "metadata": {},
   "outputs": [],
   "source": [
    "request_url = 'http://www.yeastract.com/findregulators.php'\n",
    "requeset_header = {\n",
    "    \"accept\": \"text/html,application/xhtml+xml,application/xml;q=0.9,image/avif,image/webp,image/apng,*/*;q=0.8,application/signed-exchange;v=b3;q=0.7\",\n",
    "    \"accept-language\": \"en,en-US;q=0.9\",\n",
    "    \"cache-control\": \"max-age=0\",\n",
    "    \"content-type\": \"application/x-www-form-urlencoded\",\n",
    "    \"upgrade-insecure-requests\": \"1\",\n",
    "    \"Referer\": \"http://www.yeastract.com/formfindregulators.php\",\n",
    "    \"Referrer-Policy\": \"strict-origin-when-cross-origin\"\n",
    "  }\n",
    "\n",
    "queryStr = 'type=doc&t_pos=true&t_neg=true&use_na=true&evidence=plus&image=Y&genes=YMR182C%0D%0AYBR083W%0D%0AYGL013C%0D%0AYHL020C%0D%0AYCL055W%0D%0AYHR124W%0D%0AYOR162C%0D%0AYJR127C%0D%0AYGL073W%0D%0AYFL031W%0D%0AYNL314W%0D%0AYJR060W%0D%0A&biggroup=0&subgroup=0&doc-species=0&synteny=0&pot-species=0&submit=Search'\n",
    "query_data = urllib.parse.parse_qs(queryStr)"
   ]
  },
  {
   "cell_type": "code",
   "execution_count": 15,
   "metadata": {},
   "outputs": [],
   "source": [
    "tf_res_list = []\n",
    "target_gene_list = []"
   ]
  },
  {
   "cell_type": "code",
   "execution_count": 21,
   "metadata": {},
   "outputs": [],
   "source": [
    "target_gene_chunks = np.array_split(np.array(common_genes), 50)"
   ]
  },
  {
   "cell_type": "code",
   "execution_count": 22,
   "metadata": {},
   "outputs": [
    {
     "name": "stderr",
     "output_type": "stream",
     "text": [
      "100%|██████████| 50/50 [01:23<00:00,  1.67s/it]\n"
     ]
    }
   ],
   "source": [
    "for target_gene_chunk in tqdm(target_gene_chunks):\n",
    "    request_genes_string = '\\r\\n'.join(target_gene_chunk)\n",
    "    query_data['genes'][0] = request_genes_string\n",
    "    r = requests.post(\n",
    "        url=request_url,\n",
    "        data=query_data,\n",
    "        headers=requeset_header\n",
    "    )\n",
    "    soup = BeautifulSoup(r.content,'lxml')\n",
    "    tables = soup.find_all('table', {\"summary\": \"main\"})\n",
    "    df_list = pd.read_html(str(tables),index_col=0)\n",
    "    df = df_list[0]\n",
    "    for index, row in df.iterrows():\n",
    "        target_gene = index.split('/')[0]\n",
    "        target_gene_list.append(target_gene)\n",
    "        tf_res_array = row.iloc[0]\n",
    "        tf_res_array += ' '\n",
    "        tf_list = tf_res_array.upper().split('  -  REFERENCE ')[:-1]\n",
    "        converted_tf_list = []\n",
    "        for tf in tf_list:\n",
    "            if tf[-1] == 'P' : tf = tf[:-1]\n",
    "            if (tf in gene_name_df.index):\n",
    "                converted_tf_list.append(gene_name_df.loc[tf]['ORF_name'])\n",
    "            elif (tf in gene_name_df['ORF_name']):\n",
    "                converted_tf_list.append(tf)\n",
    "        tf_res_list.append('; '.join(converted_tf_list))"
   ]
  },
  {
   "cell_type": "code",
   "execution_count": 30,
   "metadata": {},
   "outputs": [],
   "source": [
    "out_df = pd.DataFrame(index=target_gene_list)\n",
    "out_df['tf_list'] = tf_res_list"
   ]
  },
  {
   "cell_type": "code",
   "execution_count": 31,
   "metadata": {},
   "outputs": [],
   "source": [
    "out_df.to_csv('yeat_network.csv')"
   ]
  }
 ],
 "metadata": {
  "kernelspec": {
   "display_name": "inf",
   "language": "python",
   "name": "python3"
  },
  "language_info": {
   "codemirror_mode": {
    "name": "ipython",
    "version": 3
   },
   "file_extension": ".py",
   "mimetype": "text/x-python",
   "name": "python",
   "nbconvert_exporter": "python",
   "pygments_lexer": "ipython3",
   "version": "3.9.5"
  },
  "orig_nbformat": 4
 },
 "nbformat": 4,
 "nbformat_minor": 2
}
