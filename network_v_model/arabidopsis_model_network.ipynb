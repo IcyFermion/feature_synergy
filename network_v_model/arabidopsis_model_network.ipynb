{
 "cells": [
  {
   "cell_type": "code",
   "execution_count": 2,
   "metadata": {},
   "outputs": [],
   "source": [
    "# candidate = AT5G44610\n",
    "\n",
    "import pandas as pd\n",
    "import numpy as np\n",
    "from tqdm import tqdm\n",
    "\n",
    "import mp_run\n",
    "import conf_interval\n",
    "\n",
    "\n",
    "from scipy import stats\n",
    "\n",
    "from multiprocessing import Pool, cpu_count\n",
    "\n",
    "\n",
    "%load_ext autoreload\n",
    "%autoreload 2\n",
    "\n",
    "# regex for number extraction from string\n",
    "number_pattern =  r'(-?(?:0|[1-9]\\d*)(?:\\.\\d+)?(?:[eE][+-]?\\d+)?)'\n",
    "\n",
    "import matplotlib.pyplot as plt\n",
    "%matplotlib inline\n",
    "plt.rcParams.update({'figure.figsize':(7,5), 'figure.dpi':100})"
   ]
  },
  {
   "cell_type": "code",
   "execution_count": 3,
   "metadata": {},
   "outputs": [],
   "source": [
    "train_source_df = pd.read_csv('../data/GSE97500/train_source_tpm.csv', index_col=0)\n",
    "train_target_df = pd.read_csv('../data/GSE97500/train_target_tpm.csv', index_col=0)\n",
    "\n",
    "test_source_df = pd.read_csv('../data/GSE97500/test_source_tpm.csv', index_col=0)\n",
    "test_target_df = pd.read_csv('../data/GSE97500/test_target_tpm.csv', index_col=0)\n",
    "\n",
    "\n",
    "train_source_df = train_source_df.apply(stats.zscore, axis=0)\n",
    "train_target_df = train_target_df.apply(stats.zscore, axis=0)\n",
    "\n",
    "test_source_df = test_source_df.apply(stats.zscore, axis=0)\n",
    "test_target_df = test_target_df.apply(stats.zscore, axis=0)\n"
   ]
  },
  {
   "cell_type": "code",
   "execution_count": 4,
   "metadata": {},
   "outputs": [
    {
     "name": "stdout",
     "output_type": "stream",
     "text": [
      "2010\n"
     ]
    }
   ],
   "source": [
    "regulator_set = set()\n",
    "tf_list_df = pd.read_csv('../data/arabidopsis_tf_list.tsv.gz', sep='\\t', compression='gzip', index_col=0)\n",
    "for name in tf_list_df['Gene Names']:\n",
    "    name_splits = name.split(' ')\n",
    "    for i in name_splits:\n",
    "        if i.upper() in train_source_df.index:\n",
    "            regulator_set.add(i.upper())\n",
    "\n",
    "network_df = pd.read_csv('../data/arabidopsis_network_connectf.csv', index_col=0)\n",
    "target_set = set(network_df.index)\n",
    "\n",
    "for tf_list_string in network_df['tf_list'].values:\n",
    "    tf_list = tf_list_string.split('; ')\n",
    "    for tf in tf_list: regulator_set.add(tf)\n",
    "print(len(regulator_set))"
   ]
  },
  {
   "cell_type": "code",
   "execution_count": 5,
   "metadata": {},
   "outputs": [],
   "source": [
    "# network_df = pd.read_csv('../data/arabidopsis_network_connectf.csv', index_col=0)\n",
    "# regulator_set = set()\n",
    "# target_set = set(network_df.index)\n",
    "\n",
    "# for tf_list_string in network_df['tf_list'].values:\n",
    "#     tf_list = tf_list_string.split('; ')\n",
    "#     for tf in tf_list: regulator_set.add(tf)\n",
    "\n",
    "# print(len(regulator_set))"
   ]
  },
  {
   "cell_type": "code",
   "execution_count": 6,
   "metadata": {},
   "outputs": [],
   "source": [
    "regulator_set = regulator_set.intersection(set(train_source_df.index))\n",
    "target_set = target_set.intersection(set(train_source_df.index))\n",
    "all_gene_set = regulator_set.union(target_set)\n"
   ]
  },
  {
   "cell_type": "code",
   "execution_count": 7,
   "metadata": {},
   "outputs": [],
   "source": [
    "\n",
    "train_source = train_source_df.loc[list(all_gene_set)].apply(stats.zscore, axis=0)\n",
    "train_target = train_target_df.loc[list(all_gene_set)].apply(stats.zscore, axis=0)\n",
    "\n",
    "test_source = test_source_df.loc[list(all_gene_set)].apply(stats.zscore, axis=0)\n",
    "test_target = test_target_df.loc[list(all_gene_set)].apply(stats.zscore, axis=0)\n"
   ]
  },
  {
   "cell_type": "code",
   "execution_count": 8,
   "metadata": {},
   "outputs": [
    {
     "name": "stdout",
     "output_type": "stream",
     "text": [
      "(19343, 72)\n",
      "(19343, 24)\n"
     ]
    }
   ],
   "source": [
    "print(train_source.shape)\n",
    "print(test_source.shape)"
   ]
  },
  {
   "cell_type": "code",
   "execution_count": 9,
   "metadata": {},
   "outputs": [],
   "source": [
    "\n",
    "target_df = pd.concat([train_target, test_target], axis=1)\n",
    "source_df = pd.concat([train_source, test_source], axis=1)\n"
   ]
  },
  {
   "cell_type": "code",
   "execution_count": 10,
   "metadata": {},
   "outputs": [],
   "source": [
    "target_gene_list = list(target_set)\n",
    "target_exp = target_df\n",
    "X = source_df.loc[list(regulator_set)]\n",
    "tf_list = list(regulator_set)\n",
    "\n",
    "tf_list_df = pd.read_csv('../output/network_model/arabidopsis_tf.csv', names=['tf'], index_col=0)\n",
    "tf_list = list(tf_list_df.index)"
   ]
  },
  {
   "cell_type": "code",
   "execution_count": 11,
   "metadata": {},
   "outputs": [],
   "source": [
    "new_test_target = test_target.loc[target_gene_list]\n",
    "new_test_target = new_test_target.loc[new_test_target.std(axis=1) > 0.5]\n",
    "target_gene_list = new_test_target.index"
   ]
  },
  {
   "cell_type": "code",
   "execution_count": 12,
   "metadata": {},
   "outputs": [],
   "source": [
    "mp_calc = mp_run.MpCalc(target_gene_list, target_exp, X, network_df, train_source.loc[tf_list], train_target, test_source.loc[tf_list], test_target)"
   ]
  },
  {
   "cell_type": "code",
   "execution_count": 12,
   "metadata": {},
   "outputs": [
    {
     "name": "stderr",
     "output_type": "stream",
     "text": [
      "100%|██████████| 1397/1397 [04:00<00:00,  5.81it/s]\n"
     ]
    }
   ],
   "source": [
    "iter_length = len(target_gene_list)\n",
    "with Pool(cpu_count()) as p:\n",
    "    r = list(tqdm(p.imap(mp_calc.full_comp_new, range(iter_length)), total=iter_length))"
   ]
  },
  {
   "cell_type": "code",
   "execution_count": 13,
   "metadata": {
    "tags": []
   },
   "outputs": [],
   "source": [
    "r = np.array(r)\n",
    "out_df = pd.DataFrame(index=target_gene_list)\n",
    "out_df['rf_score'] = r[:, 0]\n",
    "out_df['linear_score'] = r[:, 1]\n",
    "out_df['gs_rf_score'] = r[:, 2]\n",
    "out_df['gs_linear_score'] = r[:, 3]\n",
    "out_df['rf_with_linear_top_features_score'] = r[:, 4]\n",
    "out_df['linear_with_rf_top_features_score'] = r[:, 5]\n",
    "out_df['rf_rmse'] = r[:, 6]\n",
    "out_df['linear_rmse'] = r[:, 7]\n",
    "out_df['gs_rf_rmse'] = r[:, 8]\n",
    "out_df['gs_linear_rmse'] = r[:, 9]\n",
    "out_df['rf_with_linear_top_features_rmse'] = r[:, 10]\n",
    "out_df['linear_with_rf_top_features_rmse'] = r[:, 11]\n",
    "out_df['rf_with_top_features_score'] = r[:, 12]\n",
    "out_df['linear_with_top_features_score'] = r[:, 13]\n",
    "out_df['rf_with_top_features_rmse'] = r[:, 14]\n",
    "out_df['linear_with_top_features_rmse'] = r[:, 15]\n",
    "out_df['rf_top_feature_num'] = r[:, 16]\n",
    "out_df['linear_top_feature_num'] = r[:, 17]\n",
    "out_df['rf_top_features_gs_overlap'] = r[:, 18]\n",
    "out_df['linear_top_features_gs_overlap'] = r[:, 19]\n",
    "out_df['rf_linear_top_features_overlap'] = r[:, 20]\n",
    "out_df['gs_edge_num'] = r[:, 21]\n",
    "out_df['test_var'] = r[:, 22]\n",
    "out_df['test_std'] = r[:, 23]\n",
    "out_df['pca_rf_score'] = r[:, 24]\n",
    "out_df['pca_rf_rmse'] = r[:, 25]"
   ]
  },
  {
   "cell_type": "code",
   "execution_count": 14,
   "metadata": {},
   "outputs": [
    {
     "name": "stderr",
     "output_type": "stream",
     "text": [
      "100%|██████████| 1397/1397 [2:12:33<00:00,  5.69s/it] \n"
     ]
    }
   ],
   "source": [
    "iter_length = len(target_gene_list)\n",
    "with Pool(cpu_count()) as p:\n",
    "    r = list(tqdm(p.imap(mp_calc.efron_process_rf, range(iter_length)), total=iter_length))\n",
    "efron_r = np.array(r)\n",
    "out_df['rf_efron_feature_num'] = efron_r[:, 0].astype('float64')\n",
    "out_df['rf_efron_complementary_feature_num_list'] = efron_r[:, 1]\n",
    "out_df['rf_efron_rmse'] = efron_r[:, 2].astype('float64')\n",
    "out_df['rf_efron_complementary_rmse_list'] = efron_r[:, 3]\n",
    "out_df['rf_efron_features'] = efron_r[:, 4]\n",
    "out_df['rf_efron_complementary_features_list'] = efron_r[:, 5]"
   ]
  },
  {
   "cell_type": "code",
   "execution_count": 17,
   "metadata": {},
   "outputs": [],
   "source": [
    "tf_list_df = pd.DataFrame(index=tf_list)\n",
    "tf_list_df.to_csv('../output/network_model/arabidopsis_tf.csv', header=False)\n",
    "out_df.to_csv('../output/network_model/arabidopsis_all_tf_high_var_target_new.csv.gz', compression='gzip')"
   ]
  },
  {
   "cell_type": "code",
   "execution_count": 12,
   "metadata": {},
   "outputs": [
    {
     "name": "stderr",
     "output_type": "stream",
     "text": [
      "100%|██████████| 1397/1397 [01:21<00:00, 17.12it/s]\n"
     ]
    }
   ],
   "source": [
    "out_df = pd.read_csv('../output/network_model/arabidopsis_all_tf_high_var_target_new.csv.gz', index_col=0, compression='gzip')\n",
    "iter_length = len(target_gene_list)\n",
    "new_out_df = pd.DataFrame(index=target_gene_list)\n",
    "with Pool(cpu_count()) as p:\n",
    "    r = list(tqdm(p.imap(mp_calc.rf_top_tf_same_count_as_gs, range(iter_length)), total=iter_length))\n",
    "efron_r = np.array(r)\n",
    "new_out_df['rf_top_tf_same_count_as_gs_score'] = efron_r[:, 0]\n",
    "new_out_df['rf_top_tf_same_count_as_gs_rmse'] = efron_r[:, 1]\n",
    "new_out_df = new_out_df.loc[out_df.index]\n",
    "out_df['rf_top_tf_same_count_as_gs_score'] = new_out_df['rf_top_tf_same_count_as_gs_score']\n",
    "out_df['rf_top_tf_same_count_as_gs_rmse'] = new_out_df['rf_top_tf_same_count_as_gs_rmse']"
   ]
  },
  {
   "cell_type": "code",
   "execution_count": 13,
   "metadata": {},
   "outputs": [],
   "source": [
    "out_df.to_csv('../output/network_model/arabidopsis_all_tf_high_var_target_new.csv.gz', compression='gzip')"
   ]
  },
  {
   "cell_type": "code",
   "execution_count": 12,
   "metadata": {},
   "outputs": [
    {
     "name": "stderr",
     "output_type": "stream",
     "text": [
      "100%|████████████████████████████████████████████████████████████████████████████| 1397/1397 [38:35<00:00,  1.66s/it]\n"
     ]
    }
   ],
   "source": [
    "out_df = pd.read_csv('../output/network_model/arabidopsis_all_tf_high_var_target_new.csv.gz', index_col=0, compression='gzip')\n",
    "iter_length = len(target_gene_list)\n",
    "new_out_df = pd.DataFrame(index=target_gene_list)\n",
    "with Pool(cpu_count()) as p:\n",
    "    r = list(tqdm(p.imap(mp_calc.efron_ensemble_process_rf, range(iter_length)), total=iter_length))\n",
    "ensemble_r = np.array(r)\n",
    "new_out_df['rf_efron_ensemble_rmse'] = ensemble_r\n",
    "new_out_df = new_out_df.loc[out_df.index]\n",
    "out_df['rf_efron_ensemble_rmse'] = new_out_df['rf_efron_ensemble_rmse']"
   ]
  },
  {
   "cell_type": "code",
   "execution_count": 14,
   "metadata": {},
   "outputs": [],
   "source": [
    "out_df.to_csv('../output/network_model/arabidopsis_all_tf_high_var_target_new.csv.gz', compression='gzip')"
   ]
  },
  {
   "cell_type": "code",
   "execution_count": 13,
   "metadata": {},
   "outputs": [],
   "source": [
    "tf_list_df = pd.read_csv('../output/network_model/arabidopsis_tf.csv', names=['tf'], index_col=0)\n",
    "out_df = pd.read_csv('../output/network_model/arabidopsis_all_tf_high_var_target_new.csv.gz', index_col=0, compression='gzip')\n",
    "available_tfs = set(X.index)\n",
    "rf_efron_overlap_count = []\n",
    "for target_gene in out_df.index:\n",
    "    gs_tf_list = network_df.loc[target_gene].tf_list\n",
    "    gs_tf_set = set(gs_tf_list.split('; '))\n",
    "    gs_tf_set = available_tfs.intersection(gs_tf_set)\n",
    "    if target_gene in gs_tf_set: gs_tf_set.remove(target_gene)\n",
    "    efron_tf_list = out_df.loc[target_gene]['rf_efron_features']\n",
    "    efron_tf_list = efron_tf_list.split('; ')\n",
    "    efron_tf_list = [int(i) for i in efron_tf_list]\n",
    "    efron_tf_list = tf_list_df.iloc[efron_tf_list].index\n",
    "    efron_tf_set = set(efron_tf_list)\n",
    "    rf_efron_overlap_count.append(len(efron_tf_set.intersection(gs_tf_set)))\n",
    "out_df['rf_efron_overlap_count'] = rf_efron_overlap_count\n",
    "out_df.to_csv('../output/network_model/arabidopsis_all_tf_high_var_target_new.csv.gz', compression='gzip')\n"
   ]
  },
  {
   "cell_type": "code",
   "execution_count": null,
   "metadata": {},
   "outputs": [],
   "source": [
    "out_df = pd.read_csv('../output/network_model/arabidopsis_all_tf_high_var_target_new.csv.gz', index_col=0, compression='gzip')\n",
    "iter_length = len(target_gene_list)\n",
    "new_out_df = pd.DataFrame(index=target_gene_list)\n",
    "with Pool(cpu_count()) as p:\n",
    "    r = list(tqdm(p.imap(mp_calc.efron_process_rf_training, range(iter_length)), total=iter_length))\n",
    "efron_r = np.array(r)\n",
    "new_out_df['rf_efron_feature_num'] = efron_r[:, 0].astype('float64')\n",
    "new_out_df['rf_efron_complementary_feature_num_list'] = efron_r[:, 1]\n",
    "new_out_df['rf_efron_rmse'] = efron_r[:, 2].astype('float64')\n",
    "new_out_df['rf_efron_complementary_rmse_list'] = efron_r[:, 3]\n",
    "new_out_df['rf_efron_features'] = efron_r[:, 4]\n",
    "new_out_df['rf_efron_complementary_features_list'] = efron_r[:, 5]\n",
    "new_out_df['rf_efron_ensemble_rmse'] = efron_r[:, 6]\n",
    "new_out_df = new_out_df.loc[out_df.index]\n",
    "out_df['rf_efron_feature_num'] = new_out_df['rf_efron_feature_num']\n",
    "out_df['rf_efron_complementary_feature_num_list'] = new_out_df['rf_efron_complementary_feature_num_list']\n",
    "out_df['rf_efron_rmse'] = new_out_df['rf_efron_rmse']\n",
    "out_df['rf_efron_complementary_rmse_list'] = new_out_df['rf_efron_complementary_rmse_list']\n",
    "out_df['rf_efron_features'] = new_out_df['rf_efron_features']\n",
    "out_df['rf_efron_complementary_features_list'] = new_out_df['rf_efron_complementary_features_list']\n",
    "out_df['rf_efron_ensemble_rmse'] = new_out_df['rf_efron_ensemble_rmse']\n",
    "\n",
    "out_df.to_csv('../output/network_model/arabidopsis_all_tf_high_var_target_efron_train.csv.gz', compression='gzip')"
   ]
  },
  {
   "cell_type": "code",
   "execution_count": 33,
   "metadata": {},
   "outputs": [
    {
     "name": "stdout",
     "output_type": "stream",
     "text": [
      "633\n"
     ]
    }
   ],
   "source": [
    "temp_df = out_df[(out_df['rf_efron_feature_num'] < 10 ) & (out_df['rf_efron_complementary_feature_num'] < 10 )]\n",
    "temp_set = set()\n",
    "for keys in temp_df['rf_efron_features']:\n",
    "    key_list = keys.split('; ')\n",
    "    for key in key_list:\n",
    "        temp_set.add(int(key))\n",
    "for keys in temp_df['rf_efron_complementary_features']:\n",
    "    key_list = keys.split('; ')\n",
    "    for key in key_list:\n",
    "        temp_set.add(int(key))\n",
    "print(len(temp_set))"
   ]
  },
  {
   "cell_type": "code",
   "execution_count": 21,
   "metadata": {},
   "outputs": [
    {
     "name": "stderr",
     "output_type": "stream",
     "text": [
      "100%|██████████| 1397/1397 [03:44<00:00,  6.23it/s]\n"
     ]
    }
   ],
   "source": [
    "iter_length = len(target_gene_list)\n",
    "with Pool(cpu_count()) as p:\n",
    "    r = list(tqdm(p.imap(mp_calc.efron_process_linear, range(iter_length)), total=iter_length))\n",
    "efron_r = np.array(r)\n",
    "out_df['linear_efron_feature_num'] = efron_r[:, 0]\n",
    "out_df['linear_efron_rmse'] = efron_r[:, 1]\n",
    "out_df['linear_efron_complementary_rmse'] = efron_r[:, 2]"
   ]
  },
  {
   "cell_type": "code",
   "execution_count": 12,
   "metadata": {},
   "outputs": [
    {
     "name": "stderr",
     "output_type": "stream",
     "text": [
      "100%|██████████| 1397/1397 [08:17<00:00,  2.81it/s]\n"
     ]
    }
   ],
   "source": [
    "iter_length = len(target_gene_list)\n",
    "with Pool(cpu_count()) as p:\n",
    "    r = list(tqdm(p.imap(mp_calc.efron_process_90th_rf, range(iter_length)), total=iter_length))\n",
    "efron_r = np.array(r)\n",
    "out_df['rf_efron_feature_num_90th'] = efron_r[:, 0]\n",
    "out_df['rf_efron_rmse_90th'] = efron_r[:, 1]\n",
    "out_df['rf_efron_complementary_rmse_90th'] = efron_r[:, 2]"
   ]
  },
  {
   "cell_type": "code",
   "execution_count": null,
   "metadata": {},
   "outputs": [],
   "source": [
    "iter_length = len(target_gene_list)\n",
    "with Pool(cpu_count()) as p:\n",
    "    r = list(tqdm(p.imap(mp_calc.dynamic_efron_rf, range(iter_length)), total=iter_length))\n",
    "efron_r = np.array(r)\n",
    "out_df['rf_dynamic_efron_feature_num'] = efron_r[:, 0].astype('float64')\n",
    "out_df['rf_dynamic_efron_rmse'] = efron_r[:, 1].astype('float64')\n",
    "out_df['rf_dynamic_efron_complementary_rmse'] = efron_r[:, 2].astype('float64')\n",
    "out_df['rf_dynamic_efron_feature_index'] = efron_r[:, 3]"
   ]
  },
  {
   "cell_type": "code",
   "execution_count": null,
   "metadata": {},
   "outputs": [],
   "source": [
    "iter_length = len(target_gene_list)\n",
    "with Pool(cpu_count()) as p:\n",
    "    r = list(tqdm(p.imap(mp_calc.dynamic_efron_linear, range(iter_length)), total=iter_length))\n",
    "efron_r = np.array(r)\n",
    "out_df['linear_dynamic_efron_feature_num'] = efron_r[:, 0].astype('float64')\n",
    "out_df['linear_dynamic_efron_rmse'] = efron_r[:, 1].astype('float64')\n",
    "out_df['linear_dynamic_efron_complementary_rmse'] = efron_r[:, 2].astype('float64')\n",
    "out_df['linear_dynamic_efron_feature_index'] = efron_r[:, 3]"
   ]
  },
  {
   "cell_type": "code",
   "execution_count": 16,
   "metadata": {},
   "outputs": [
    {
     "name": "stderr",
     "output_type": "stream",
     "text": [
      "100%|██████████| 1397/1397 [01:57<00:00, 11.93it/s] \n"
     ]
    }
   ],
   "source": [
    "overlap_list = []\n",
    "target_comb_list = []\n",
    "for i in tqdm(range(iter_length)):\n",
    "    tf_set_i = out_df.iloc[i]['linear_dynamic_efron_feature_index']\n",
    "    tf_set_i = tf_set_i.split('; ')\n",
    "    tf_set_i = set([int(v) for v in tf_set_i])\n",
    "    for j in range(i+1, iter_length):\n",
    "        tf_set_j = out_df.iloc[j]['linear_dynamic_efron_feature_index']\n",
    "        tf_set_j = tf_set_j.split('; ')\n",
    "        tf_set_j = set([int(v) for v in tf_set_j])\n",
    "        overlap = len(tf_set_i.intersection(tf_set_j))/(len(tf_set_i.union(tf_set_j))+0.0)\n",
    "        overlap_list.append(overlap)\n",
    "        if (overlap >= 1) and (len(tf_set_i) > 1):\n",
    "            print(len(tf_set_j))\n",
    "        target_comb_list.append((i,j))\n",
    "\n",
    "\n"
   ]
  },
  {
   "cell_type": "code",
   "execution_count": null,
   "metadata": {},
   "outputs": [],
   "source": []
  },
  {
   "cell_type": "code",
   "execution_count": null,
   "metadata": {},
   "outputs": [],
   "source": [
    "out_df.to_csv('../output/network_model/arabidopsis_all_tf_high_var_target_new.csv.gz', compression='gzip')"
   ]
  },
  {
   "cell_type": "code",
   "execution_count": 15,
   "metadata": {},
   "outputs": [
    {
     "data": {
      "text/plain": [
       "Index(['rf_score', 'linear_score', 'gs_rf_score', 'gs_linear_score',\n",
       "       'rf_with_linear_top_features_score',\n",
       "       'linear_with_rf_top_features_score', 'rf_rmse', 'linear_rmse',\n",
       "       'gs_rf_rmse', 'gs_linear_rmse', 'rf_with_linear_top_features_rmse',\n",
       "       'linear_with_rf_top_features_rmse', 'rf_with_top_features_score',\n",
       "       'linear_with_top_features_score', 'rf_with_top_features_rmse',\n",
       "       'linear_with_top_features_rmse', 'rf_top_feature_num',\n",
       "       'linear_top_feature_num', 'rf_top_features_gs_overlap',\n",
       "       'linear_top_features_gs_overlap', 'rf_linear_top_features_overlap',\n",
       "       'gs_edge_num', 'test_var', 'test_std', 'rf_dynamic_efron_feature_num',\n",
       "       'rf_dynamic_efron_rmse', 'rf_dynamic_efron_complementary_rmse',\n",
       "       'rf_dynamic_efron_feature_index', 'linear_dynamic_efron_feature_num',\n",
       "       'linear_dynamic_efron_rmse', 'linear_dynamic_efron_complementary_rmse',\n",
       "       'linear_dynamic_efron_feature_index'],\n",
       "      dtype='object')"
      ]
     },
     "execution_count": 15,
     "metadata": {},
     "output_type": "execute_result"
    }
   ],
   "source": [
    "out_df.columns"
   ]
  },
  {
   "cell_type": "code",
   "execution_count": 13,
   "metadata": {},
   "outputs": [],
   "source": [
    "out_df.to_csv('arabidopsis_network_v_model.csv')"
   ]
  },
  {
   "cell_type": "code",
   "execution_count": null,
   "metadata": {},
   "outputs": [],
   "source": [
    "rf_conf_interval = conf_interval.conf_interval_calc(list(out_df['rf_score'].values))\n",
    "print('('+', '.join([ '%.3f' % elem for elem in rf_conf_interval[2:] ])+')')\n",
    "linear_conf_interval = conf_interval.conf_interval_calc(list(out_df['linear_score'].values))\n",
    "print('('+', '.join([ '%.3f' % elem for elem in linear_conf_interval[2:] ])+')')\n",
    "gs_rf_conf_interval = conf_interval.conf_interval_calc(list(out_df['gs_rf_score'].values))\n",
    "print('('+', '.join([ '%.3f' % elem for elem in gs_rf_conf_interval[2:] ])+')')\n",
    "gs_linear_conf_interval = conf_interval.conf_interval_calc(list(out_df['gs_linear_score'].values))\n",
    "print('('+', '.join([ '%.3f' % elem for elem in gs_linear_conf_interval[2:] ])+')')\n",
    "rf_with_linear_top_features_conf_interval = conf_interval.conf_interval_calc(list(out_df['rf_with_linear_top_features_score'].values))\n",
    "print('('+', '.join([ '%.3f' % elem for elem in rf_with_linear_top_features_conf_interval[2:] ])+')')\n",
    "linear_with_rf_top_features_conf_interval = conf_interval.conf_interval_calc(list(out_df['linear_with_rf_top_features_score'].values))\n",
    "print('('+', '.join([ '%.3f' % elem for elem in linear_with_rf_top_features_conf_interval[2:] ])+')')\n"
   ]
  },
  {
   "cell_type": "code",
   "execution_count": 18,
   "metadata": {},
   "outputs": [
    {
     "name": "stdout",
     "output_type": "stream",
     "text": [
      "(0.135, 0.143)\n",
      "(0.138, 0.146)\n",
      "(0.146, 0.155)\n",
      "(0.148, 0.157)\n",
      "(0.131, 0.139)\n",
      "(0.136, 0.144)\n"
     ]
    }
   ],
   "source": [
    "rf_conf_interval_rmse = conf_interval.conf_interval_calc(list(out_df['rf_rmse'].values))\n",
    "print('('+', '.join([ '%.3f' % elem for elem in rf_conf_interval_rmse[2:] ])+')')\n",
    "linear_conf_interval_rmse = conf_interval.conf_interval_calc(list(out_df['linear_rmse'].values))\n",
    "print('('+', '.join([ '%.3f' % elem for elem in linear_conf_interval_rmse[2:] ])+')')\n",
    "gs_rf_conf_interval_rmse = conf_interval.conf_interval_calc(list(out_df['gs_rf_rmse'].values))\n",
    "print('('+', '.join([ '%.3f' % elem for elem in gs_rf_conf_interval_rmse[2:] ])+')')\n",
    "gs_linear_conf_interval_rmse = conf_interval.conf_interval_calc(list(out_df['gs_linear_rmse'].values))\n",
    "print('('+', '.join([ '%.3f' % elem for elem in gs_linear_conf_interval_rmse[2:] ])+')')\n",
    "rf_with_linear_top_features_conf_interval_rmse = conf_interval.conf_interval_calc(list(out_df['rf_with_linear_top_features_rmse'].values))\n",
    "print('('+', '.join([ '%.3f' % elem for elem in rf_with_linear_top_features_conf_interval_rmse[2:] ])+')')\n",
    "linear_with_rf_top_features_conf_interval_rmse = conf_interval.conf_interval_calc(list(out_df['linear_with_rf_top_features_rmse'].values))\n",
    "print('('+', '.join([ '%.3f' % elem for elem in linear_with_rf_top_features_conf_interval_rmse[2:] ])+')')\n"
   ]
  },
  {
   "cell_type": "code",
   "execution_count": 45,
   "metadata": {},
   "outputs": [
    {
     "data": {
      "text/plain": [
       "rf_score                             0.134874\n",
       "linear_score                        -0.075192\n",
       "gs_rf_score                         -0.057629\n",
       "gs_linear_score                     -0.010969\n",
       "rf_with_linear_top_features_score    0.247398\n",
       "linear_with_rf_top_features_score    0.130533\n",
       "rf_rmse                              0.138449\n",
       "linear_rmse                          0.141425\n",
       "gs_rf_rmse                           0.150306\n",
       "gs_linear_rmse                       0.152666\n",
       "rf_with_linear_top_features_rmse     0.134582\n",
       "linear_with_rf_top_features_rmse     0.138169\n",
       "dtype: float64"
      ]
     },
     "execution_count": 45,
     "metadata": {},
     "output_type": "execute_result"
    }
   ],
   "source": [
    "out_df.mean()"
   ]
  },
  {
   "cell_type": "code",
   "execution_count": 20,
   "metadata": {},
   "outputs": [],
   "source": [
    "from itertools import combinations\n",
    "model_combs = list(combinations(out_df.columns[:6], 2))"
   ]
  },
  {
   "cell_type": "code",
   "execution_count": 21,
   "metadata": {},
   "outputs": [
    {
     "name": "stdout",
     "output_type": "stream",
     "text": [
      "rf_score has statisically better performance than linear_score, with p-val of 0.0\n",
      "confidence interval: (0.186, 0.194)\n",
      "rf_score has statisically better performance than gs_rf_score, with p-val of 0.0\n",
      "confidence interval: (0.167, 0.180)\n",
      "rf_score has statisically better performance than gs_linear_score, with p-val of 0.0\n",
      "confidence interval: (0.121, 0.130)\n",
      "rf_with_linear_top_features_score has statisically better performance than rf_score, with p-val of 0.0\n",
      "confidence interval: (-0.136, -0.129)\n",
      "rf_score has statisically better performance than linear_with_rf_top_features_score, with p-val of 3.8527320817642676e-11\n",
      "confidence interval: (0.008, 0.013)\n",
      "gs_rf_score has statisically better performance than linear_score, with p-val of 0.0004037834222013824\n",
      "confidence interval: (-0.024, -0.008)\n",
      "gs_linear_score has statisically better performance than linear_score, with p-val of 1.529393837609289e-76\n",
      "confidence interval: (-0.070, -0.059)\n",
      "rf_with_linear_top_features_score has statisically better performance than linear_score, with p-val of 0.0\n",
      "confidence interval: (-0.327, -0.318)\n",
      "linear_with_rf_top_features_score has statisically better performance than linear_score, with p-val of 0.0\n",
      "confidence interval: (-0.184, -0.175)\n",
      "gs_linear_score has statisically better performance than gs_rf_score, with p-val of 1.313188382772158e-29\n",
      "confidence interval: (-0.055, -0.041)\n",
      "rf_with_linear_top_features_score has statisically better performance than gs_rf_score, with p-val of 0.0\n",
      "confidence interval: (-0.314, -0.298)\n",
      "linear_with_rf_top_features_score has statisically better performance than gs_rf_score, with p-val of 0.0\n",
      "confidence interval: (-0.169, -0.157)\n",
      "rf_with_linear_top_features_score has statisically better performance than gs_linear_score, with p-val of 0.0\n",
      "confidence interval: (-0.263, -0.254)\n",
      "linear_with_rf_top_features_score has statisically better performance than gs_linear_score, with p-val of 0.0\n",
      "confidence interval: (-0.120, -0.110)\n",
      "rf_with_linear_top_features_score has statisically better performance than linear_with_rf_top_features_score, with p-val of 0.0\n",
      "confidence interval: (0.140, 0.147)\n"
     ]
    }
   ],
   "source": [
    "for a, b in model_combs:\n",
    "    t, p = stats.ttest_rel(out_df[a], out_df[b])\n",
    "    c, d, lower, upper = conf_interval.conf_interval_calc(list(out_df[a]-out_df[b]))\n",
    "    if (p > 0.05):\n",
    "        print('{} and {} don\\'t have statistically different performance'.format(a, b))\n",
    "        continue\n",
    "    if (t > 0):\n",
    "        print('{} has statisically better performance than {}, with p-val of {}'.format(a, b, p))\n",
    "        print('confidence interval: ({:.3f}, {:.3f})'.format(lower, upper))\n",
    "    else:\n",
    "        print('{} has statisically better performance than {}, with p-val of {}'.format(b, a, p))\n",
    "        print('confidence interval: ({:.3f}, {:.3f})'.format(lower, upper))"
   ]
  },
  {
   "cell_type": "code",
   "execution_count": 46,
   "metadata": {},
   "outputs": [
    {
     "name": "stderr",
     "output_type": "stream",
     "text": [
      "100%|██████████| 18855/18855 [11:33<00:00, 27.18it/s]\n"
     ]
    }
   ],
   "source": [
    "iter_length = len(target_gene_list)\n",
    "with Pool(cpu_count()) as p:\n",
    "    feature_num_r = list(tqdm(p.imap(mp_calc.top_feature_num, range(iter_length)), total=iter_length))"
   ]
  },
  {
   "cell_type": "code",
   "execution_count": 48,
   "metadata": {},
   "outputs": [],
   "source": [
    "feature_num_r = np.array(feature_num_r)"
   ]
  },
  {
   "cell_type": "code",
   "execution_count": 53,
   "metadata": {},
   "outputs": [
    {
     "data": {
      "text/plain": [
       "array([0.91661575, 0.42218772])"
      ]
     },
     "execution_count": 53,
     "metadata": {},
     "output_type": "execute_result"
    }
   ],
   "source": [
    "np.std(feature_num_r,axis=0)"
   ]
  },
  {
   "cell_type": "code",
   "execution_count": 55,
   "metadata": {},
   "outputs": [],
   "source": [
    "out_df['rf_top_feature_num'] = feature_num_r[:, 0]\n",
    "out_df['linear_top_feature_num'] = feature_num_r[:, 1]"
   ]
  },
  {
   "cell_type": "code",
   "execution_count": 57,
   "metadata": {},
   "outputs": [],
   "source": [
    "out_df.to_csv('arabidopsis_network_v_model.csv')"
   ]
  },
  {
   "cell_type": "code",
   "execution_count": 9,
   "metadata": {},
   "outputs": [
    {
     "name": "stderr",
     "output_type": "stream",
     "text": [
      "100%|██████████| 18855/18855 [12:00<00:00, 26.18it/s]\n"
     ]
    }
   ],
   "source": [
    "out_df = pd.read_csv('./arabidopsis_network_v_model.csv', index_col=0)\n",
    "iter_length = len(target_gene_list)\n",
    "with Pool(cpu_count()) as p:\n",
    "    top_feature_r = list(tqdm(p.imap(mp_calc.top_feature_model, range(iter_length)), total=iter_length))\n"
   ]
  },
  {
   "cell_type": "code",
   "execution_count": 10,
   "metadata": {},
   "outputs": [],
   "source": [
    "top_feature_r = np.array(top_feature_r)\n",
    "out_df['rf_with_top_features_score'] = top_feature_r[:, 0]\n",
    "out_df['linear_with_top_features_score'] = top_feature_r[:, 1]\n",
    "out_df['rf_with_top_features_rmse'] = top_feature_r[:, 2]\n",
    "out_df['linear_with_top_features_rmse'] = top_feature_r[:, 3]\n",
    "out_df.to_csv('arabidopsis_network_v_model.csv')"
   ]
  },
  {
   "cell_type": "code",
   "execution_count": 14,
   "metadata": {},
   "outputs": [
    {
     "name": "stderr",
     "output_type": "stream",
     "text": [
      "100%|██████████| 18855/18855 [12:28<00:00, 25.20it/s]\n"
     ]
    }
   ],
   "source": [
    "out_df = pd.read_csv('./arabidopsis_network_v_model.csv', index_col=0)\n",
    "\n",
    "iter_length = len(target_gene_list)\n",
    "with Pool(cpu_count()) as p:\n",
    "    top_feature_overlap_r = list(tqdm(p.imap(mp_calc.feature_overlap, range(iter_length)), total=iter_length))\n"
   ]
  },
  {
   "cell_type": "code",
   "execution_count": 15,
   "metadata": {},
   "outputs": [],
   "source": [
    "top_feature_overlap_r = np.array(top_feature_overlap_r)\n",
    "out_df['rf_top_features_gs_overlap'] = top_feature_overlap_r[:, 0]\n",
    "out_df['linear_top_features_gs_overlap'] = top_feature_overlap_r[:, 1]\n",
    "out_df['rf_linear_top_features_overlap'] = top_feature_overlap_r[:, 2]\n",
    "out_df['gs_edge_num'] = top_feature_overlap_r[:, 3]\n",
    "out_df.to_csv('arabidopsis_network_v_model.csv')"
   ]
  },
  {
   "cell_type": "code",
   "execution_count": 16,
   "metadata": {},
   "outputs": [
    {
     "data": {
      "text/plain": [
       "rf_score                             0.156445\n",
       "linear_score                        -0.075192\n",
       "gs_rf_score                         -0.057755\n",
       "gs_linear_score                     -0.010969\n",
       "rf_with_linear_top_features_score    0.247223\n",
       "linear_with_rf_top_features_score    0.130521\n",
       "rf_rmse                              0.138351\n",
       "linear_rmse                          0.141425\n",
       "gs_rf_rmse                           0.150264\n",
       "gs_linear_rmse                       0.152666\n",
       "rf_with_linear_top_features_rmse     0.134607\n",
       "linear_with_rf_top_features_rmse     0.137005\n",
       "rf_top_feature_num                   5.433466\n",
       "linear_top_feature_num               5.907239\n",
       "test_var                             0.289295\n",
       "test_std                             0.181825\n",
       "rf_with_top_features_score           0.054952\n",
       "linear_with_top_features_score       0.086126\n",
       "rf_with_top_features_rmse            0.142191\n",
       "linear_with_top_features_rmse        0.144937\n",
       "rf_top_features_gs_overlap           0.744895\n",
       "linear_top_features_gs_overlap       0.748024\n",
       "gs_edge_num                          7.401485\n",
       "rf_linear_top_features_overlap       1.039883\n",
       "dtype: float64"
      ]
     },
     "execution_count": 16,
     "metadata": {},
     "output_type": "execute_result"
    }
   ],
   "source": [
    "out_df.mean()"
   ]
  },
  {
   "cell_type": "code",
   "execution_count": 24,
   "metadata": {},
   "outputs": [
    {
     "data": {
      "text/html": [
       "<div>\n",
       "<style scoped>\n",
       "    .dataframe tbody tr th:only-of-type {\n",
       "        vertical-align: middle;\n",
       "    }\n",
       "\n",
       "    .dataframe tbody tr th {\n",
       "        vertical-align: top;\n",
       "    }\n",
       "\n",
       "    .dataframe thead th {\n",
       "        text-align: right;\n",
       "    }\n",
       "</style>\n",
       "<table border=\"1\" class=\"dataframe\">\n",
       "  <thead>\n",
       "    <tr style=\"text-align: right;\">\n",
       "      <th></th>\n",
       "      <th>R10C-1</th>\n",
       "      <th>R15C-1</th>\n",
       "      <th>R20C-1</th>\n",
       "      <th>R30C-1</th>\n",
       "      <th>R45C-1</th>\n",
       "      <th>R60C-1</th>\n",
       "      <th>R10N-1</th>\n",
       "      <th>R15N-1</th>\n",
       "      <th>R20N-1</th>\n",
       "      <th>R30N-1</th>\n",
       "      <th>...</th>\n",
       "      <th>S90N-2</th>\n",
       "      <th>S120N-2</th>\n",
       "      <th>R90C-3</th>\n",
       "      <th>R120C-3</th>\n",
       "      <th>R90N-3</th>\n",
       "      <th>R120N-3</th>\n",
       "      <th>S90C-3</th>\n",
       "      <th>S120C-3</th>\n",
       "      <th>S90N-3</th>\n",
       "      <th>S120N-3</th>\n",
       "    </tr>\n",
       "  </thead>\n",
       "  <tbody>\n",
       "    <tr>\n",
       "      <th>AT3G47510</th>\n",
       "      <td>-0.073287</td>\n",
       "      <td>0.044592</td>\n",
       "      <td>0.108866</td>\n",
       "      <td>0.056709</td>\n",
       "      <td>0.026173</td>\n",
       "      <td>0.211968</td>\n",
       "      <td>0.325949</td>\n",
       "      <td>0.078271</td>\n",
       "      <td>0.271995</td>\n",
       "      <td>0.004527</td>\n",
       "      <td>...</td>\n",
       "      <td>-0.133932</td>\n",
       "      <td>-0.205090</td>\n",
       "      <td>0.168196</td>\n",
       "      <td>0.209031</td>\n",
       "      <td>0.175186</td>\n",
       "      <td>0.241305</td>\n",
       "      <td>-0.177559</td>\n",
       "      <td>-0.172923</td>\n",
       "      <td>-0.112070</td>\n",
       "      <td>-0.253467</td>\n",
       "    </tr>\n",
       "    <tr>\n",
       "      <th>AT5G34940</th>\n",
       "      <td>-0.172353</td>\n",
       "      <td>-0.207217</td>\n",
       "      <td>-0.240780</td>\n",
       "      <td>-0.222544</td>\n",
       "      <td>-0.235799</td>\n",
       "      <td>-0.256452</td>\n",
       "      <td>-0.206941</td>\n",
       "      <td>-0.225791</td>\n",
       "      <td>-0.257555</td>\n",
       "      <td>-0.233137</td>\n",
       "      <td>...</td>\n",
       "      <td>-0.247072</td>\n",
       "      <td>-0.208638</td>\n",
       "      <td>-0.244426</td>\n",
       "      <td>-0.257093</td>\n",
       "      <td>-0.262136</td>\n",
       "      <td>-0.279207</td>\n",
       "      <td>-0.216452</td>\n",
       "      <td>-0.219419</td>\n",
       "      <td>-0.155972</td>\n",
       "      <td>-0.248951</td>\n",
       "    </tr>\n",
       "    <tr>\n",
       "      <th>AT5G55230</th>\n",
       "      <td>0.086087</td>\n",
       "      <td>0.000364</td>\n",
       "      <td>-0.092941</td>\n",
       "      <td>-0.077297</td>\n",
       "      <td>-0.071898</td>\n",
       "      <td>-0.139925</td>\n",
       "      <td>0.010270</td>\n",
       "      <td>0.008721</td>\n",
       "      <td>-0.079177</td>\n",
       "      <td>-0.104427</td>\n",
       "      <td>...</td>\n",
       "      <td>-0.076585</td>\n",
       "      <td>-0.036653</td>\n",
       "      <td>-0.063932</td>\n",
       "      <td>-0.066495</td>\n",
       "      <td>-0.130500</td>\n",
       "      <td>-0.155244</td>\n",
       "      <td>-0.028138</td>\n",
       "      <td>-0.034644</td>\n",
       "      <td>-0.025206</td>\n",
       "      <td>-0.094539</td>\n",
       "    </tr>\n",
       "    <tr>\n",
       "      <th>AT3G07720</th>\n",
       "      <td>0.152534</td>\n",
       "      <td>0.152125</td>\n",
       "      <td>0.017257</td>\n",
       "      <td>0.000355</td>\n",
       "      <td>0.021457</td>\n",
       "      <td>0.004097</td>\n",
       "      <td>0.092049</td>\n",
       "      <td>0.125958</td>\n",
       "      <td>-0.030813</td>\n",
       "      <td>-0.009208</td>\n",
       "      <td>...</td>\n",
       "      <td>0.289274</td>\n",
       "      <td>0.233868</td>\n",
       "      <td>-0.028838</td>\n",
       "      <td>-0.034666</td>\n",
       "      <td>-0.130561</td>\n",
       "      <td>-0.158303</td>\n",
       "      <td>0.719420</td>\n",
       "      <td>0.780061</td>\n",
       "      <td>0.110052</td>\n",
       "      <td>0.307902</td>\n",
       "    </tr>\n",
       "    <tr>\n",
       "      <th>AT1G26550</th>\n",
       "      <td>0.588816</td>\n",
       "      <td>0.703724</td>\n",
       "      <td>0.510376</td>\n",
       "      <td>0.492908</td>\n",
       "      <td>0.381464</td>\n",
       "      <td>0.615749</td>\n",
       "      <td>0.541390</td>\n",
       "      <td>0.656111</td>\n",
       "      <td>0.524892</td>\n",
       "      <td>0.517736</td>\n",
       "      <td>...</td>\n",
       "      <td>0.022013</td>\n",
       "      <td>0.048245</td>\n",
       "      <td>0.541573</td>\n",
       "      <td>0.560549</td>\n",
       "      <td>0.403869</td>\n",
       "      <td>0.561052</td>\n",
       "      <td>0.043399</td>\n",
       "      <td>0.036540</td>\n",
       "      <td>0.006674</td>\n",
       "      <td>-0.014086</td>\n",
       "    </tr>\n",
       "    <tr>\n",
       "      <th>...</th>\n",
       "      <td>...</td>\n",
       "      <td>...</td>\n",
       "      <td>...</td>\n",
       "      <td>...</td>\n",
       "      <td>...</td>\n",
       "      <td>...</td>\n",
       "      <td>...</td>\n",
       "      <td>...</td>\n",
       "      <td>...</td>\n",
       "      <td>...</td>\n",
       "      <td>...</td>\n",
       "      <td>...</td>\n",
       "      <td>...</td>\n",
       "      <td>...</td>\n",
       "      <td>...</td>\n",
       "      <td>...</td>\n",
       "      <td>...</td>\n",
       "      <td>...</td>\n",
       "      <td>...</td>\n",
       "      <td>...</td>\n",
       "      <td>...</td>\n",
       "    </tr>\n",
       "    <tr>\n",
       "      <th>AT1G45000</th>\n",
       "      <td>-0.009582</td>\n",
       "      <td>0.186668</td>\n",
       "      <td>0.337630</td>\n",
       "      <td>0.333670</td>\n",
       "      <td>0.337841</td>\n",
       "      <td>0.433535</td>\n",
       "      <td>0.162078</td>\n",
       "      <td>0.198630</td>\n",
       "      <td>0.263497</td>\n",
       "      <td>0.346082</td>\n",
       "      <td>...</td>\n",
       "      <td>-0.079228</td>\n",
       "      <td>-0.084288</td>\n",
       "      <td>0.404269</td>\n",
       "      <td>0.550493</td>\n",
       "      <td>0.380154</td>\n",
       "      <td>0.303492</td>\n",
       "      <td>-0.106269</td>\n",
       "      <td>-0.075161</td>\n",
       "      <td>-0.056819</td>\n",
       "      <td>-0.113930</td>\n",
       "    </tr>\n",
       "    <tr>\n",
       "      <th>AT1G43860</th>\n",
       "      <td>-0.138903</td>\n",
       "      <td>-0.120303</td>\n",
       "      <td>-0.202876</td>\n",
       "      <td>-0.177362</td>\n",
       "      <td>-0.191148</td>\n",
       "      <td>-0.206586</td>\n",
       "      <td>-0.113148</td>\n",
       "      <td>-0.125975</td>\n",
       "      <td>-0.190101</td>\n",
       "      <td>-0.181006</td>\n",
       "      <td>...</td>\n",
       "      <td>-0.025147</td>\n",
       "      <td>0.007621</td>\n",
       "      <td>-0.176565</td>\n",
       "      <td>-0.203449</td>\n",
       "      <td>-0.141073</td>\n",
       "      <td>-0.138188</td>\n",
       "      <td>-0.152292</td>\n",
       "      <td>-0.125058</td>\n",
       "      <td>-0.020118</td>\n",
       "      <td>-0.016936</td>\n",
       "    </tr>\n",
       "    <tr>\n",
       "      <th>AT1G72070</th>\n",
       "      <td>-0.183591</td>\n",
       "      <td>-0.234980</td>\n",
       "      <td>-0.317215</td>\n",
       "      <td>-0.301367</td>\n",
       "      <td>-0.299725</td>\n",
       "      <td>-0.339127</td>\n",
       "      <td>-0.216766</td>\n",
       "      <td>-0.232316</td>\n",
       "      <td>-0.307900</td>\n",
       "      <td>-0.283160</td>\n",
       "      <td>...</td>\n",
       "      <td>-0.257149</td>\n",
       "      <td>-0.259622</td>\n",
       "      <td>-0.332950</td>\n",
       "      <td>-0.337833</td>\n",
       "      <td>-0.294411</td>\n",
       "      <td>-0.305771</td>\n",
       "      <td>-0.263593</td>\n",
       "      <td>-0.250111</td>\n",
       "      <td>-0.183012</td>\n",
       "      <td>-0.277645</td>\n",
       "    </tr>\n",
       "    <tr>\n",
       "      <th>AT1G61610</th>\n",
       "      <td>-0.186876</td>\n",
       "      <td>-0.237492</td>\n",
       "      <td>-0.329804</td>\n",
       "      <td>-0.309103</td>\n",
       "      <td>-0.310761</td>\n",
       "      <td>-0.351665</td>\n",
       "      <td>-0.223406</td>\n",
       "      <td>-0.242004</td>\n",
       "      <td>-0.319920</td>\n",
       "      <td>-0.295885</td>\n",
       "      <td>...</td>\n",
       "      <td>-0.268372</td>\n",
       "      <td>-0.256937</td>\n",
       "      <td>-0.349673</td>\n",
       "      <td>-0.350978</td>\n",
       "      <td>-0.325536</td>\n",
       "      <td>-0.342873</td>\n",
       "      <td>-0.271756</td>\n",
       "      <td>-0.256778</td>\n",
       "      <td>-0.192043</td>\n",
       "      <td>-0.294662</td>\n",
       "    </tr>\n",
       "    <tr>\n",
       "      <th>AT1G54110</th>\n",
       "      <td>-0.186037</td>\n",
       "      <td>-0.232327</td>\n",
       "      <td>-0.304553</td>\n",
       "      <td>-0.285040</td>\n",
       "      <td>-0.292890</td>\n",
       "      <td>-0.319470</td>\n",
       "      <td>-0.216275</td>\n",
       "      <td>-0.236474</td>\n",
       "      <td>-0.294649</td>\n",
       "      <td>-0.276783</td>\n",
       "      <td>...</td>\n",
       "      <td>-0.266086</td>\n",
       "      <td>-0.254683</td>\n",
       "      <td>-0.325236</td>\n",
       "      <td>-0.325200</td>\n",
       "      <td>-0.304460</td>\n",
       "      <td>-0.313338</td>\n",
       "      <td>-0.267094</td>\n",
       "      <td>-0.254880</td>\n",
       "      <td>-0.187447</td>\n",
       "      <td>-0.294363</td>\n",
       "    </tr>\n",
       "  </tbody>\n",
       "</table>\n",
       "<p>18857 rows × 96 columns</p>\n",
       "</div>"
      ],
      "text/plain": [
       "             R10C-1    R15C-1    R20C-1    R30C-1    R45C-1    R60C-1  \\\n",
       "AT3G47510 -0.073287  0.044592  0.108866  0.056709  0.026173  0.211968   \n",
       "AT5G34940 -0.172353 -0.207217 -0.240780 -0.222544 -0.235799 -0.256452   \n",
       "AT5G55230  0.086087  0.000364 -0.092941 -0.077297 -0.071898 -0.139925   \n",
       "AT3G07720  0.152534  0.152125  0.017257  0.000355  0.021457  0.004097   \n",
       "AT1G26550  0.588816  0.703724  0.510376  0.492908  0.381464  0.615749   \n",
       "...             ...       ...       ...       ...       ...       ...   \n",
       "AT1G45000 -0.009582  0.186668  0.337630  0.333670  0.337841  0.433535   \n",
       "AT1G43860 -0.138903 -0.120303 -0.202876 -0.177362 -0.191148 -0.206586   \n",
       "AT1G72070 -0.183591 -0.234980 -0.317215 -0.301367 -0.299725 -0.339127   \n",
       "AT1G61610 -0.186876 -0.237492 -0.329804 -0.309103 -0.310761 -0.351665   \n",
       "AT1G54110 -0.186037 -0.232327 -0.304553 -0.285040 -0.292890 -0.319470   \n",
       "\n",
       "             R10N-1    R15N-1    R20N-1    R30N-1  ...    S90N-2   S120N-2  \\\n",
       "AT3G47510  0.325949  0.078271  0.271995  0.004527  ... -0.133932 -0.205090   \n",
       "AT5G34940 -0.206941 -0.225791 -0.257555 -0.233137  ... -0.247072 -0.208638   \n",
       "AT5G55230  0.010270  0.008721 -0.079177 -0.104427  ... -0.076585 -0.036653   \n",
       "AT3G07720  0.092049  0.125958 -0.030813 -0.009208  ...  0.289274  0.233868   \n",
       "AT1G26550  0.541390  0.656111  0.524892  0.517736  ...  0.022013  0.048245   \n",
       "...             ...       ...       ...       ...  ...       ...       ...   \n",
       "AT1G45000  0.162078  0.198630  0.263497  0.346082  ... -0.079228 -0.084288   \n",
       "AT1G43860 -0.113148 -0.125975 -0.190101 -0.181006  ... -0.025147  0.007621   \n",
       "AT1G72070 -0.216766 -0.232316 -0.307900 -0.283160  ... -0.257149 -0.259622   \n",
       "AT1G61610 -0.223406 -0.242004 -0.319920 -0.295885  ... -0.268372 -0.256937   \n",
       "AT1G54110 -0.216275 -0.236474 -0.294649 -0.276783  ... -0.266086 -0.254683   \n",
       "\n",
       "             R90C-3   R120C-3    R90N-3   R120N-3    S90C-3   S120C-3  \\\n",
       "AT3G47510  0.168196  0.209031  0.175186  0.241305 -0.177559 -0.172923   \n",
       "AT5G34940 -0.244426 -0.257093 -0.262136 -0.279207 -0.216452 -0.219419   \n",
       "AT5G55230 -0.063932 -0.066495 -0.130500 -0.155244 -0.028138 -0.034644   \n",
       "AT3G07720 -0.028838 -0.034666 -0.130561 -0.158303  0.719420  0.780061   \n",
       "AT1G26550  0.541573  0.560549  0.403869  0.561052  0.043399  0.036540   \n",
       "...             ...       ...       ...       ...       ...       ...   \n",
       "AT1G45000  0.404269  0.550493  0.380154  0.303492 -0.106269 -0.075161   \n",
       "AT1G43860 -0.176565 -0.203449 -0.141073 -0.138188 -0.152292 -0.125058   \n",
       "AT1G72070 -0.332950 -0.337833 -0.294411 -0.305771 -0.263593 -0.250111   \n",
       "AT1G61610 -0.349673 -0.350978 -0.325536 -0.342873 -0.271756 -0.256778   \n",
       "AT1G54110 -0.325236 -0.325200 -0.304460 -0.313338 -0.267094 -0.254880   \n",
       "\n",
       "             S90N-3   S120N-3  \n",
       "AT3G47510 -0.112070 -0.253467  \n",
       "AT5G34940 -0.155972 -0.248951  \n",
       "AT5G55230 -0.025206 -0.094539  \n",
       "AT3G07720  0.110052  0.307902  \n",
       "AT1G26550  0.006674 -0.014086  \n",
       "...             ...       ...  \n",
       "AT1G45000 -0.056819 -0.113930  \n",
       "AT1G43860 -0.020118 -0.016936  \n",
       "AT1G72070 -0.183012 -0.277645  \n",
       "AT1G61610 -0.192043 -0.294662  \n",
       "AT1G54110 -0.187447 -0.294363  \n",
       "\n",
       "[18857 rows x 96 columns]"
      ]
     },
     "execution_count": 24,
     "metadata": {},
     "output_type": "execute_result"
    }
   ],
   "source": [
    "target_df"
   ]
  },
  {
   "cell_type": "code",
   "execution_count": null,
   "metadata": {},
   "outputs": [],
   "source": []
  }
 ],
 "metadata": {
  "kernelspec": {
   "display_name": "Python 3 (ipykernel)",
   "language": "python",
   "name": "python3"
  },
  "language_info": {
   "codemirror_mode": {
    "name": "ipython",
    "version": 3
   },
   "file_extension": ".py",
   "mimetype": "text/x-python",
   "name": "python",
   "nbconvert_exporter": "python",
   "pygments_lexer": "ipython3",
   "version": "3.10.9"
  }
 },
 "nbformat": 4,
 "nbformat_minor": 4
}
