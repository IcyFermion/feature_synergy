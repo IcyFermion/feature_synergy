{
 "cells": [
  {
   "cell_type": "markdown",
   "metadata": {},
   "source": [
    "Scripts for regression experiments on Arabidopsis"
   ]
  },
  {
   "cell_type": "code",
   "execution_count": 1,
   "metadata": {},
   "outputs": [],
   "source": [
    "import pandas as pd\n",
    "from pathlib import Path\n",
    "import mp_run\n",
    "\n",
    "from scipy import stats\n",
    "\n",
    "\n",
    "%load_ext autoreload\n",
    "%autoreload 2\n",
    "\n",
    "# regex for number extraction from string\n",
    "number_pattern =  r'(-?(?:0|[1-9]\\d*)(?:\\.\\d+)?(?:[eE][+-]?\\d+)?)'\n"
   ]
  },
  {
   "cell_type": "code",
   "execution_count": 2,
   "metadata": {},
   "outputs": [],
   "source": [
    "train_source_df = pd.read_csv('../data/arabidopsis/GSE97500/normalized/train_source.csv.gz', index_col=0, compression='gzip')\n",
    "train_target_df = pd.read_csv('../data/arabidopsis/GSE97500/normalized/train_target.csv.gz', index_col=0, compression='gzip')\n",
    "\n",
    "test_source_df = pd.read_csv('../data/arabidopsis/GSE97500/normalized/test_source.csv.gz', index_col=0, compression='gzip')\n",
    "test_target_df = pd.read_csv('../data/arabidopsis/GSE97500/normalized/test_target.csv.gz', index_col=0, compression='gzip')\n"
   ]
  },
  {
   "cell_type": "code",
   "execution_count": 3,
   "metadata": {},
   "outputs": [
    {
     "name": "stdout",
     "output_type": "stream",
     "text": [
      "Number of TFs used:\n",
      "2010\n"
     ]
    }
   ],
   "source": [
    "regulator_set = set()\n",
    "tf_list_df = pd.read_csv('../data/arabidopsis/arabidopsis_tf_list.tsv.gz', sep='\\t', compression='gzip', index_col=0)\n",
    "for name in tf_list_df['Gene Names']:\n",
    "    name_splits = name.split(' ')\n",
    "    for i in name_splits:\n",
    "        if i.upper() in train_source_df.index:\n",
    "            regulator_set.add(i.upper())\n",
    "\n",
    "network_df = pd.read_csv('../data/arabidopsis/arabidopsis_network_connectf.csv', index_col=0)\n",
    "target_set = set(network_df.index)\n",
    "\n",
    "for tf_list_string in network_df['tf_list'].values:\n",
    "    tf_list = tf_list_string.split('; ')\n",
    "    for tf in tf_list: regulator_set.add(tf)\n",
    "\n",
    "# network_df = pd.read_csv('../data/arabidopsis_network_connectf.csv', index_col=0)\n",
    "# regulator_set = set()\n",
    "# target_set = set(network_df.index)\n",
    "\n",
    "# for tf_list_string in network_df['tf_list'].values:\n",
    "#     tf_list = tf_list_string.split('; ')\n",
    "#     for tf in tf_list: regulator_set.add(tf)\n",
    "\n",
    "print('Number of TFs used:')\n",
    "print(len(regulator_set))"
   ]
  },
  {
   "cell_type": "code",
   "execution_count": 4,
   "metadata": {},
   "outputs": [],
   "source": [
    "regulator_set = regulator_set.intersection(set(train_source_df.index))\n",
    "target_set = target_set.intersection(set(train_source_df.index))\n",
    "all_gene_set = regulator_set.union(target_set)\n",
    "\n",
    "\n",
    "train_source = train_source_df.loc[list(all_gene_set)].apply(stats.zscore, axis=0)\n",
    "train_target = train_target_df.loc[list(all_gene_set)].apply(stats.zscore, axis=0)\n",
    "\n",
    "test_source = test_source_df.loc[list(all_gene_set)].apply(stats.zscore, axis=0)\n",
    "test_target = test_target_df.loc[list(all_gene_set)].apply(stats.zscore, axis=0)\n"
   ]
  },
  {
   "cell_type": "code",
   "execution_count": 5,
   "metadata": {},
   "outputs": [
    {
     "name": "stdout",
     "output_type": "stream",
     "text": [
      "training set size:\n",
      "(19343, 72)\n",
      "testing set size:\n",
      "(19343, 24)\n"
     ]
    }
   ],
   "source": [
    "print('training set size:')\n",
    "print(train_source.shape)\n",
    "print('testing set size:')\n",
    "print(test_source.shape)"
   ]
  },
  {
   "cell_type": "code",
   "execution_count": 6,
   "metadata": {},
   "outputs": [],
   "source": [
    "\n",
    "target_df = pd.concat([train_target, test_target], axis=1)\n",
    "source_df = pd.concat([train_source, test_source], axis=1)\n",
    "\n",
    "target_gene_list = list(target_set)\n",
    "target_exp = target_df\n",
    "X = source_df.loc[list(regulator_set)]\n",
    "tf_list = list(regulator_set)\n",
    "\n",
    "\n",
    "res_tf_file = Path(\"../output/network_model/arabidopsis_tf.csv\")\n",
    "if res_tf_file.is_file():\n",
    "    tf_list_df = pd.read_csv('../output/network_model/arabidopsis_tf.csv', names=['tf'], index_col=0)\n",
    "    tf_list = list(tf_list_df.index)\n"
   ]
  },
  {
   "cell_type": "code",
   "execution_count": 7,
   "metadata": {},
   "outputs": [
    {
     "name": "stdout",
     "output_type": "stream",
     "text": [
      "GS edge count:\n",
      "141445\n",
      "Number of TFs in GS:\n",
      "57\n",
      "Number of target genes in GS:\n",
      "18855\n"
     ]
    }
   ],
   "source": [
    "# GS stats\n",
    "edge_count = 0\n",
    "gs_tf_set = set()\n",
    "gs_target_set = set()\n",
    "for i, row in network_df.iterrows():\n",
    "    if i in target_gene_list:\n",
    "        cur_tf_list = row.tf_list\n",
    "        gs_target_set.add(i)\n",
    "        if pd.isnull(cur_tf_list): \n",
    "            continue\n",
    "        cur_tf_list = cur_tf_list.split('; ')\n",
    "        for cur_tf in cur_tf_list:\n",
    "            if cur_tf in tf_list:\n",
    "                gs_tf_set.add(cur_tf)\n",
    "                edge_count += 1\n",
    "print('GS edge count:')\n",
    "print(edge_count)\n",
    "print('Number of TFs in GS:')\n",
    "print(len(gs_tf_set))\n",
    "print('Number of target genes in GS:')\n",
    "print(len(gs_target_set))\n",
    "\n"
   ]
  },
  {
   "cell_type": "code",
   "execution_count": 8,
   "metadata": {},
   "outputs": [],
   "source": [
    "# filter for high variance targets\n",
    "new_test_target = test_target.loc[target_gene_list]\n",
    "new_test_target = new_test_target.loc[new_test_target.std(axis=1) > 0.5]\n",
    "target_gene_list = new_test_target.index"
   ]
  },
  {
   "cell_type": "code",
   "execution_count": 9,
   "metadata": {},
   "outputs": [],
   "source": [
    "# Setting up MP for calculations\n",
    "mp_calc = mp_run.MpCalc(target_gene_list, X, network_df, train_source.loc[tf_list], train_target, test_source.loc[tf_list], test_target)\n",
    "pd.DataFrame(index=mp_calc.tf_list).to_csv('../output/network_model/arabidopsis_tf.csv', header=False)"
   ]
  },
  {
   "cell_type": "code",
   "execution_count": 10,
   "metadata": {},
   "outputs": [
    {
     "name": "stdout",
     "output_type": "stream",
     "text": [
      "Comparing different regression approaches... ...\n",
      "Step 1 of 4:\n"
     ]
    },
    {
     "name": "stderr",
     "output_type": "stream",
     "text": [
      "100%|██████████| 1397/1397 [09:50<00:00,  2.37it/s]"
     ]
    },
    {
     "name": "stdout",
     "output_type": "stream",
     "text": [
      "Step 2 of 3:\n"
     ]
    },
    {
     "name": "stderr",
     "output_type": "stream",
     "text": [
      "\n",
      "100%|██████████| 1397/1397 [00:40<00:00, 34.14it/s]"
     ]
    },
    {
     "name": "stdout",
     "output_type": "stream",
     "text": [
      "Step 3 of 3:\n"
     ]
    },
    {
     "name": "stderr",
     "output_type": "stream",
     "text": [
      "\n",
      "100%|██████████| 1397/1397 [00:43<00:00, 32.16it/s]"
     ]
    },
    {
     "name": "stdout",
     "output_type": "stream",
     "text": [
      "Finished comparing all approaches, time elapsed: 675.2539687156677 seconds\n",
      "Calculating minimal set and disjoint sets... ...\n",
      "Step 1 of 1:\n"
     ]
    },
    {
     "name": "stderr",
     "output_type": "stream",
     "text": [
      "\n",
      "100%|██████████| 1397/1397 [55:48<00:00,  2.40s/it] \n"
     ]
    },
    {
     "name": "stdout",
     "output_type": "stream",
     "text": [
      "Finished calculating minimal set and disjoint sets, time elapsed: 3348.541945695877 seconds\n"
     ]
    }
   ],
   "source": [
    "# Doing all calculations \n",
    "mp_calc.full_comp_runner(target_gene_list, 'arabidopsis')"
   ]
  }
 ],
 "metadata": {
  "kernelspec": {
   "display_name": "pymc_env",
   "language": "python",
   "name": "python3"
  },
  "language_info": {
   "codemirror_mode": {
    "name": "ipython",
    "version": 3
   },
   "file_extension": ".py",
   "mimetype": "text/x-python",
   "name": "python",
   "nbconvert_exporter": "python",
   "pygments_lexer": "ipython3",
   "version": "3.11.7"
  }
 },
 "nbformat": 4,
 "nbformat_minor": 4
}
