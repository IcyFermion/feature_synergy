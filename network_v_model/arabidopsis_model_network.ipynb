{
 "cells": [
  {
   "cell_type": "markdown",
   "metadata": {},
   "source": [
    "Scripts for regression experiments on Arabidopsis"
   ]
  },
  {
   "cell_type": "code",
   "execution_count": 1,
   "metadata": {},
   "outputs": [],
   "source": [
    "\n",
    "\n",
    "import pandas as pd\n",
    "import numpy as np\n",
    "from tqdm import tqdm\n",
    "\n",
    "import mp_run\n",
    "import conf_interval\n",
    "\n",
    "\n",
    "from scipy import stats\n",
    "\n",
    "from multiprocessing import Pool, cpu_count\n",
    "\n",
    "\n",
    "%load_ext autoreload\n",
    "%autoreload 2\n",
    "\n",
    "# regex for number extraction from string\n",
    "number_pattern =  r'(-?(?:0|[1-9]\\d*)(?:\\.\\d+)?(?:[eE][+-]?\\d+)?)'\n"
   ]
  },
  {
   "cell_type": "code",
   "execution_count": 4,
   "metadata": {},
   "outputs": [],
   "source": [
    "train_source_df = pd.read_csv('../data/arabidopsis/GSE97500/normalized/train_source.csv.gz', index_col=0, compression='gzip')\n",
    "train_target_df = pd.read_csv('../data/arabidopsis/GSE97500/normalized/train_target.csv.gz', index_col=0, compression='gzip')\n",
    "\n",
    "test_source_df = pd.read_csv('../data/arabidopsis/GSE97500/normalized/test_source.csv.gz', index_col=0, compression='gzip')\n",
    "test_target_df = pd.read_csv('../data/arabidopsis/GSE97500/normalized/test_target.csv.gz', index_col=0, compression='gzip')\n"
   ]
  },
  {
   "cell_type": "code",
   "execution_count": 7,
   "metadata": {},
   "outputs": [
    {
     "name": "stdout",
     "output_type": "stream",
     "text": [
      "Number of TFs used:\n",
      "2010\n"
     ]
    }
   ],
   "source": [
    "regulator_set = set()\n",
    "tf_list_df = pd.read_csv('../data/arabidopsis/arabidopsis_tf_list.tsv.gz', sep='\\t', compression='gzip', index_col=0)\n",
    "for name in tf_list_df['Gene Names']:\n",
    "    name_splits = name.split(' ')\n",
    "    for i in name_splits:\n",
    "        if i.upper() in train_source_df.index:\n",
    "            regulator_set.add(i.upper())\n",
    "\n",
    "network_df = pd.read_csv('../data/arabidopsis/arabidopsis_network_connectf.csv', index_col=0)\n",
    "target_set = set(network_df.index)\n",
    "\n",
    "for tf_list_string in network_df['tf_list'].values:\n",
    "    tf_list = tf_list_string.split('; ')\n",
    "    for tf in tf_list: regulator_set.add(tf)\n",
    "\n",
    "# network_df = pd.read_csv('../data/arabidopsis_network_connectf.csv', index_col=0)\n",
    "# regulator_set = set()\n",
    "# target_set = set(network_df.index)\n",
    "\n",
    "# for tf_list_string in network_df['tf_list'].values:\n",
    "#     tf_list = tf_list_string.split('; ')\n",
    "#     for tf in tf_list: regulator_set.add(tf)\n",
    "\n",
    "print('Number of TFs used:')\n",
    "print(len(regulator_set))"
   ]
  },
  {
   "cell_type": "code",
   "execution_count": 8,
   "metadata": {},
   "outputs": [],
   "source": [
    "regulator_set = regulator_set.intersection(set(train_source_df.index))\n",
    "target_set = target_set.intersection(set(train_source_df.index))\n",
    "all_gene_set = regulator_set.union(target_set)\n",
    "\n",
    "\n",
    "train_source = train_source_df.loc[list(all_gene_set)].apply(stats.zscore, axis=0)\n",
    "train_target = train_target_df.loc[list(all_gene_set)].apply(stats.zscore, axis=0)\n",
    "\n",
    "test_source = test_source_df.loc[list(all_gene_set)].apply(stats.zscore, axis=0)\n",
    "test_target = test_target_df.loc[list(all_gene_set)].apply(stats.zscore, axis=0)\n"
   ]
  },
  {
   "cell_type": "code",
   "execution_count": 9,
   "metadata": {},
   "outputs": [
    {
     "name": "stdout",
     "output_type": "stream",
     "text": [
      "training set size:\n",
      "(19343, 72)\n",
      "testing set size:\n",
      "(19343, 24)\n"
     ]
    }
   ],
   "source": [
    "print('training set size:')\n",
    "print(train_source.shape)\n",
    "print('testing set size:')\n",
    "print(test_source.shape)"
   ]
  },
  {
   "cell_type": "code",
   "execution_count": 11,
   "metadata": {},
   "outputs": [],
   "source": [
    "\n",
    "target_df = pd.concat([train_target, test_target], axis=1)\n",
    "source_df = pd.concat([train_source, test_source], axis=1)\n",
    "\n",
    "target_gene_list = list(target_set)\n",
    "target_exp = target_df\n",
    "X = source_df.loc[list(regulator_set)]\n",
    "tf_list = list(regulator_set)\n",
    "\n",
    "tf_list_df = pd.read_csv('../output/network_model/arabidopsis_tf.csv', names=['tf'], index_col=0)\n",
    "tf_list = list(tf_list_df.index)"
   ]
  },
  {
   "cell_type": "code",
   "execution_count": 12,
   "metadata": {},
   "outputs": [
    {
     "name": "stdout",
     "output_type": "stream",
     "text": [
      "GS edge count:\n",
      "141445\n",
      "Number of TFs in GS:\n",
      "57\n",
      "Number of target genes in GS:\n",
      "18855\n"
     ]
    }
   ],
   "source": [
    "# GS stats\n",
    "edge_count = 0\n",
    "gs_tf_set = set()\n",
    "gs_target_set = set()\n",
    "for i, row in network_df.iterrows():\n",
    "    if i in target_gene_list:\n",
    "        cur_tf_list = row.tf_list\n",
    "        gs_target_set.add(i)\n",
    "        if pd.isnull(cur_tf_list): \n",
    "            continue\n",
    "        cur_tf_list = cur_tf_list.split('; ')\n",
    "        for cur_tf in cur_tf_list:\n",
    "            if cur_tf in tf_list:\n",
    "                gs_tf_set.add(cur_tf)\n",
    "                edge_count += 1\n",
    "print('GS edge count:')\n",
    "print(edge_count)\n",
    "print('Number of TFs in GS:')\n",
    "print(len(gs_tf_set))\n",
    "print('Number of target genes in GS:')\n",
    "print(len(gs_target_set))\n",
    "\n"
   ]
  },
  {
   "cell_type": "code",
   "execution_count": 10,
   "metadata": {},
   "outputs": [],
   "source": [
    "# filter for high variance targets\n",
    "new_test_target = test_target.loc[target_gene_list]\n",
    "new_test_target = new_test_target.loc[new_test_target.std(axis=1) > 0.5]\n",
    "target_gene_list = new_test_target.index"
   ]
  },
  {
   "cell_type": "code",
   "execution_count": 11,
   "metadata": {},
   "outputs": [],
   "source": [
    "mp_calc = mp_run.MpCalc(target_gene_list, target_exp, X, network_df, train_source.loc[tf_list], train_target, test_source.loc[tf_list], test_target)"
   ]
  },
  {
   "cell_type": "code",
   "execution_count": 12,
   "metadata": {},
   "outputs": [
    {
     "name": "stderr",
     "output_type": "stream",
     "text": [
      "100%|██████████| 1397/1397 [04:00<00:00,  5.81it/s]\n"
     ]
    }
   ],
   "source": [
    "iter_length = len(target_gene_list)\n",
    "with Pool(cpu_count()) as p:\n",
    "    r = list(tqdm(p.imap(mp_calc.full_comp_new, range(iter_length)), total=iter_length))"
   ]
  },
  {
   "cell_type": "code",
   "execution_count": 13,
   "metadata": {
    "tags": []
   },
   "outputs": [],
   "source": [
    "r = np.array(r)\n",
    "out_df = pd.DataFrame(index=target_gene_list)\n",
    "out_df['rf_score'] = r[:, 0]\n",
    "out_df['linear_score'] = r[:, 1]\n",
    "out_df['gs_rf_score'] = r[:, 2]\n",
    "out_df['gs_linear_score'] = r[:, 3]\n",
    "out_df['rf_with_linear_top_features_score'] = r[:, 4]\n",
    "out_df['linear_with_rf_top_features_score'] = r[:, 5]\n",
    "out_df['rf_rmse'] = r[:, 6]\n",
    "out_df['linear_rmse'] = r[:, 7]\n",
    "out_df['gs_rf_rmse'] = r[:, 8]\n",
    "out_df['gs_linear_rmse'] = r[:, 9]\n",
    "out_df['rf_with_linear_top_features_rmse'] = r[:, 10]\n",
    "out_df['linear_with_rf_top_features_rmse'] = r[:, 11]\n",
    "out_df['rf_with_top_features_score'] = r[:, 12]\n",
    "out_df['linear_with_top_features_score'] = r[:, 13]\n",
    "out_df['rf_with_top_features_rmse'] = r[:, 14]\n",
    "out_df['linear_with_top_features_rmse'] = r[:, 15]\n",
    "out_df['rf_top_feature_num'] = r[:, 16]\n",
    "out_df['linear_top_feature_num'] = r[:, 17]\n",
    "out_df['rf_top_features_gs_overlap'] = r[:, 18]\n",
    "out_df['linear_top_features_gs_overlap'] = r[:, 19]\n",
    "out_df['rf_linear_top_features_overlap'] = r[:, 20]\n",
    "out_df['gs_edge_num'] = r[:, 21]\n",
    "out_df['test_var'] = r[:, 22]\n",
    "out_df['test_std'] = r[:, 23]\n",
    "out_df['pca_rf_score'] = r[:, 24]\n",
    "out_df['pca_rf_rmse'] = r[:, 25]"
   ]
  },
  {
   "cell_type": "code",
   "execution_count": 17,
   "metadata": {},
   "outputs": [],
   "source": [
    "tf_list_df = pd.DataFrame(index=tf_list)\n",
    "tf_list_df.to_csv('../output/network_model/arabidopsis_tf.csv', header=False)\n",
    "out_df.to_csv('../output/network_model/arabidopsis_all_tf_high_var_target_new.csv.gz', compression='gzip')"
   ]
  },
  {
   "cell_type": "code",
   "execution_count": 12,
   "metadata": {},
   "outputs": [
    {
     "name": "stderr",
     "output_type": "stream",
     "text": [
      "100%|██████████| 1397/1397 [01:21<00:00, 17.12it/s]\n"
     ]
    }
   ],
   "source": [
    "out_df = pd.read_csv('../output/network_model/arabidopsis_all_tf_high_var_target_new.csv.gz', index_col=0, compression='gzip')\n",
    "iter_length = len(target_gene_list)\n",
    "new_out_df = pd.DataFrame(index=target_gene_list)\n",
    "with Pool(cpu_count()) as p:\n",
    "    r = list(tqdm(p.imap(mp_calc.rf_top_tf_same_count_as_gs, range(iter_length)), total=iter_length))\n",
    "efron_r = np.array(r)\n",
    "new_out_df['rf_top_tf_same_count_as_gs_score'] = efron_r[:, 0]\n",
    "new_out_df['rf_top_tf_same_count_as_gs_rmse'] = efron_r[:, 1]\n",
    "new_out_df = new_out_df.loc[out_df.index]\n",
    "out_df['rf_top_tf_same_count_as_gs_score'] = new_out_df['rf_top_tf_same_count_as_gs_score']\n",
    "out_df['rf_top_tf_same_count_as_gs_rmse'] = new_out_df['rf_top_tf_same_count_as_gs_rmse']"
   ]
  },
  {
   "cell_type": "code",
   "execution_count": 13,
   "metadata": {},
   "outputs": [],
   "source": [
    "out_df.to_csv('../output/network_model/arabidopsis_all_tf_high_var_target_new.csv.gz', compression='gzip')"
   ]
  },
  {
   "cell_type": "code",
   "execution_count": 12,
   "metadata": {},
   "outputs": [
    {
     "name": "stderr",
     "output_type": "stream",
     "text": [
      "100%|████████████████████████████████████████████████████████████████████████████| 1397/1397 [58:35<00:00,  2.52s/it]\n"
     ]
    }
   ],
   "source": [
    "out_df = pd.read_csv('../output/network_model/arabidopsis_all_tf_high_var_target_new.csv.gz', index_col=0, compression='gzip')\n",
    "iter_length = len(target_gene_list)\n",
    "new_out_df = pd.DataFrame(index=target_gene_list)\n",
    "with Pool(cpu_count()) as p:\n",
    "    r = list(tqdm(p.imap(mp_calc.efron_process_rf_training, range(iter_length)), total=iter_length))\n",
    "efron_r = np.array(r)\n",
    "new_out_df['rf_efron_feature_num'] = efron_r[:, 0].astype('float64')\n",
    "new_out_df['rf_efron_complementary_feature_num_list'] = efron_r[:, 1]\n",
    "new_out_df['rf_efron_rmse'] = efron_r[:, 2].astype('float64')\n",
    "new_out_df['rf_efron_complementary_rmse_list'] = efron_r[:, 3]\n",
    "new_out_df['rf_efron_features'] = efron_r[:, 4]\n",
    "new_out_df['rf_efron_complementary_features_list'] = efron_r[:, 5]\n",
    "new_out_df['rf_efron_ensemble_rmse'] = efron_r[:, 6]\n",
    "new_out_df = new_out_df.loc[out_df.index]\n",
    "out_df['rf_efron_feature_num'] = new_out_df['rf_efron_feature_num']\n",
    "out_df['rf_efron_complementary_feature_num_list'] = new_out_df['rf_efron_complementary_feature_num_list']\n",
    "out_df['rf_efron_rmse'] = new_out_df['rf_efron_rmse']\n",
    "out_df['rf_efron_complementary_rmse_list'] = new_out_df['rf_efron_complementary_rmse_list']\n",
    "out_df['rf_efron_features'] = new_out_df['rf_efron_features']\n",
    "out_df['rf_efron_complementary_features_list'] = new_out_df['rf_efron_complementary_features_list']\n",
    "out_df['rf_efron_ensemble_rmse'] = new_out_df['rf_efron_ensemble_rmse']\n",
    "\n",
    "out_df.to_csv('../output/network_model/arabidopsis_all_tf_high_var_target_efron_train.csv.gz', compression='gzip')"
   ]
  },
  {
   "cell_type": "code",
   "execution_count": null,
   "metadata": {},
   "outputs": [],
   "source": [
    "tf_list_df = pd.read_csv('../output/network_model/arabidopsis_tf.csv', names=['tf'], index_col=0)\n",
    "out_df = pd.read_csv('../output/network_model/arabidopsis_all_tf_high_var_target_new.csv.gz', index_col=0, compression='gzip')\n",
    "available_tfs = set(X.index)\n",
    "rf_efron_overlap_count = []\n",
    "for target_gene in out_df.index:\n",
    "    gs_tf_list = network_df.loc[target_gene].tf_list\n",
    "    gs_tf_set = set(gs_tf_list.split('; '))\n",
    "    gs_tf_set = available_tfs.intersection(gs_tf_set)\n",
    "    if target_gene in gs_tf_set: gs_tf_set.remove(target_gene)\n",
    "    efron_tf_list = out_df.loc[target_gene]['rf_efron_features']\n",
    "    efron_tf_list = efron_tf_list.split('; ')\n",
    "    efron_tf_list = [int(i) for i in efron_tf_list]\n",
    "    efron_tf_list = tf_list_df.iloc[efron_tf_list].index\n",
    "    efron_tf_set = set(efron_tf_list)\n",
    "    rf_efron_overlap_count.append(len(efron_tf_set.intersection(gs_tf_set)))\n",
    "out_df['rf_efron_overlap_count'] = rf_efron_overlap_count\n",
    "out_df.to_csv('../output/network_model/arabidopsis_all_tf_high_var_target_new.csv.gz', compression='gzip')\n"
   ]
  },
  {
   "cell_type": "code",
   "execution_count": 13,
   "metadata": {},
   "outputs": [
    {
     "name": "stderr",
     "output_type": "stream",
     "text": [
      "100%|██████████| 1397/1397 [01:02<00:00, 22.18it/s]\n"
     ]
    }
   ],
   "source": [
    "out_df = pd.read_csv('../output/network_model/arabidopsis_all_tf_high_var_target_efron_train.csv.gz', index_col=0, compression='gzip')\n",
    "iter_length = len(target_gene_list)\n",
    "new_out_df = pd.DataFrame(index=target_gene_list)\n",
    "with Pool(cpu_count()) as p:\n",
    "    r = list(tqdm(p.imap(mp_calc.rf_top_10, range(iter_length)), total=iter_length))\n",
    "top10_r = np.array(r)\n",
    "new_out_df['rf_top10_score'] = top10_r[:, 0].astype('float64')\n",
    "new_out_df['rf_top10_rmse'] = top10_r[:, 1].astype('float64')\n",
    "new_out_df = new_out_df.loc[out_df.index]\n",
    "out_df['rf_top10_score'] = new_out_df['rf_top10_score']\n",
    "out_df['rf_top10_rmse'] = new_out_df['rf_top10_rmse']\n",
    "out_df.to_csv('../output/network_model/arabidopsis_all_tf_high_var_target_efron_train.csv.gz', compression='gzip')"
   ]
  }
 ],
 "metadata": {
  "kernelspec": {
   "display_name": "pymc_env",
   "language": "python",
   "name": "python3"
  },
  "language_info": {
   "codemirror_mode": {
    "name": "ipython",
    "version": 3
   },
   "file_extension": ".py",
   "mimetype": "text/x-python",
   "name": "python",
   "nbconvert_exporter": "python",
   "pygments_lexer": "ipython3",
   "version": "3.11.0"
  }
 },
 "nbformat": 4,
 "nbformat_minor": 4
}
