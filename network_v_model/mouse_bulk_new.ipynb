{
 "cells": [
  {
   "cell_type": "code",
   "execution_count": 2,
   "metadata": {},
   "outputs": [],
   "source": [
    "import pandas as pd\n",
    "import numpy as np\n",
    "from tqdm import tqdm\n",
    "from itertools import product\n",
    "from functools import cmp_to_key, partial\n",
    "import re\n",
    "\n",
    "import mp_run\n",
    "import conf_interval\n",
    "\n",
    "from os import listdir\n",
    "from os.path import isfile, join\n",
    "from sklearn.metrics import mean_squared_error, explained_variance_score\n",
    "\n",
    "import os\n",
    "\n",
    "from sklearn.model_selection import cross_val_score\n",
    "import xgboost as xgb\n",
    "from sklearn.ensemble import RandomForestRegressor\n",
    "from sklearn.linear_model import LinearRegression\n",
    "\n",
    "from scipy import stats\n",
    "\n",
    "from multiprocessing import Pool, cpu_count\n",
    "\n",
    "\n",
    "%load_ext autoreload\n",
    "%autoreload 2\n",
    "\n",
    "# regex for number extraction from string\n",
    "number_pattern =  r'(-?(?:0|[1-9]\\d*)(?:\\.\\d+)?(?:[eE][+-]?\\d+)?)'\n",
    "\n",
    "import matplotlib.pyplot as plt\n",
    "%matplotlib inline\n",
    "plt.rcParams.update({'figure.figsize':(7,5), 'figure.dpi':100})"
   ]
  },
  {
   "cell_type": "code",
   "execution_count": 3,
   "metadata": {},
   "outputs": [],
   "source": [
    "train_source_1 = pd.read_csv('../data/mouse/GSE115553/normalized/train_source.csv', index_col=0)\n",
    "train_target_1 = pd.read_csv('../data/mouse/GSE115553/normalized/train_target.csv', index_col=0)\n",
    "test_source_1 = pd.read_csv('../data/mouse/GSE115553/normalized/test_source.csv', index_col=0)\n",
    "test_target_1 = pd.read_csv('../data/mouse/GSE115553/normalized/test_target.csv', index_col=0)\n",
    "\n",
    "train_source_2 = pd.read_csv('../data/mouse/GSE151173/normalized/train_source.csv', index_col=0)\n",
    "train_target_2 = pd.read_csv('../data/mouse/GSE151173/normalized/train_target.csv', index_col=0)\n",
    "test_source_2 = pd.read_csv('../data/mouse/GSE151173/normalized/test_source.csv', index_col=0)\n",
    "test_target_2 = pd.read_csv('../data/mouse/GSE151173/normalized/test_target.csv', index_col=0)\n",
    "\n",
    "train_source_3 = pd.read_csv('../data/mouse/GSE171975/normalized/train_source.csv', index_col=0)\n",
    "train_target_3 = pd.read_csv('../data/mouse/GSE171975/normalized/train_target.csv', index_col=0)\n",
    "test_source_3 = pd.read_csv('../data/mouse/GSE171975/normalized/test_source.csv', index_col=0)\n",
    "test_target_3 = pd.read_csv('../data/mouse/GSE171975/normalized/test_target.csv', index_col=0)"
   ]
  },
  {
   "cell_type": "code",
   "execution_count": 4,
   "metadata": {},
   "outputs": [],
   "source": [
    "common_exp_genes = list(set(train_source_1.index).intersection(set(train_source_2.index), set(train_source_3.index)))\n",
    "\n",
    "train_source_1 = train_source_1.loc[common_exp_genes]\n",
    "train_target_1 = train_target_1.loc[common_exp_genes]\n",
    "test_source_1 = test_source_1.loc[common_exp_genes]\n",
    "test_target_1 = test_target_1.loc[common_exp_genes]\n",
    "\n",
    "train_source_2 = train_source_2.loc[common_exp_genes]\n",
    "train_target_2 = train_target_2.loc[common_exp_genes]\n",
    "test_source_2 = test_source_2.loc[common_exp_genes]\n",
    "test_target_2 = test_target_2.loc[common_exp_genes]\n",
    "\n",
    "train_source_3 = train_source_3.loc[common_exp_genes]\n",
    "train_target_3 = train_target_3.loc[common_exp_genes]\n",
    "test_source_3 = test_source_3.loc[common_exp_genes]\n",
    "test_target_3 = test_target_3.loc[common_exp_genes]"
   ]
  },
  {
   "cell_type": "code",
   "execution_count": 5,
   "metadata": {},
   "outputs": [],
   "source": [
    "train_source = pd.concat([train_source_1, train_source_2, train_source_3], axis=1)\n",
    "train_target = pd.concat([train_target_1, train_target_2, train_target_3], axis=1)\n",
    "test_source = pd.concat([test_source_1, test_source_2, test_source_3], axis=1)\n",
    "test_target = pd.concat([test_target_1, test_target_2, test_target_3], axis=1)"
   ]
  },
  {
   "cell_type": "code",
   "execution_count": 6,
   "metadata": {},
   "outputs": [
    {
     "name": "stdout",
     "output_type": "stream",
     "text": [
      "1385\n"
     ]
    }
   ],
   "source": [
    "network_df = pd.read_csv('../data/mouse/regnetworkweb.org.network', sep='\\t')\n",
    "regulator_set = set(network_df['regulator'])\n",
    "target_set = set(network_df['target'])\n",
    "\n",
    "regulator_set = regulator_set.intersection(set(train_source.index))\n",
    "target_set = target_set.intersection(set(train_source.index))\n",
    "all_gene_set = regulator_set.union(target_set)\n",
    "network_dict = {target: [] for target in target_set}\n",
    "for ind, row in network_df.iterrows():\n",
    "    if (row['regulator'] in regulator_set) and (row['target'] in target_set):\n",
    "        network_dict[row['target']].append(row['regulator'])\n",
    "\n",
    "key_list = []\n",
    "value_list = []\n",
    "regulator_set = set()\n",
    "tf_list_df = pd.read_csv('../data/mouse_tf_list.tsv.gz', sep='\\t', compression='gzip', index_col=0)\n",
    "for name in tf_list_df['Gene Names']:\n",
    "    name_splits = str(name).split(' ')\n",
    "    for i in name_splits:\n",
    "        if i in train_source.index:\n",
    "            regulator_set.add(i)\n",
    "target_set = set()\n",
    "for key in network_dict.keys():\n",
    "    if (len(network_dict[key]) > 0) and network_dict[key][0] != key:\n",
    "        key_list.append(key)\n",
    "        target_set.add(key)\n",
    "        value_list.append(\"; \".join(network_dict[key]))\n",
    "        for regulator in network_dict[key]:\n",
    "            regulator_set.add(regulator)\n",
    "all_gene_set = regulator_set.union(target_set)\n",
    "\n",
    "print(len(regulator_set))"
   ]
  },
  {
   "cell_type": "code",
   "execution_count": 7,
   "metadata": {},
   "outputs": [],
   "source": [
    "# network_df = pd.read_csv('../data/mouse/regnetworkweb.org.network', sep='\\t')\n",
    "# regulator_set = set(network_df['regulator'])\n",
    "# target_set = set(network_df['target'])\n",
    "\n",
    "# regulator_set = regulator_set.intersection(set(train_source.index))\n",
    "# target_set = target_set.intersection(set(train_source.index))\n",
    "# all_gene_set = regulator_set.union(target_set)\n",
    "# network_dict = {target: [] for target in target_set}\n",
    "# for ind, row in network_df.iterrows():\n",
    "#     if (row['regulator'] in regulator_set) and (row['target'] in target_set):\n",
    "#         network_dict[row['target']].append(row['regulator'])\n",
    "\n",
    "# key_list = []\n",
    "# value_list = []\n",
    "# regulator_set = set()\n",
    "# target_set = set()\n",
    "# for key in network_dict.keys():\n",
    "#     if (len(network_dict[key]) > 0) and network_dict[key][0] != key:\n",
    "#         key_list.append(key)\n",
    "#         target_set.add(key)\n",
    "#         value_list.append(\"; \".join(network_dict[key]))\n",
    "#         for regulator in network_dict[key]:\n",
    "#             regulator_set.add(regulator)\n",
    "# all_gene_set = regulator_set.union(target_set)\n",
    "\n",
    "\n",
    "# print(len(regulator_set))"
   ]
  },
  {
   "cell_type": "code",
   "execution_count": 8,
   "metadata": {},
   "outputs": [],
   "source": [
    "network_df = pd.DataFrame(index=key_list)\n",
    "network_df['tf_list'] = value_list"
   ]
  },
  {
   "cell_type": "code",
   "execution_count": 9,
   "metadata": {},
   "outputs": [
    {
     "data": {
      "text/plain": [
       "4.911825599805139"
      ]
     },
     "execution_count": 9,
     "metadata": {},
     "output_type": "execute_result"
    }
   ],
   "source": [
    "np.mean([len(i.split('; ')) for i in value_list])"
   ]
  },
  {
   "cell_type": "code",
   "execution_count": 10,
   "metadata": {},
   "outputs": [],
   "source": [
    "target_df = pd.concat([train_target, test_target], axis=1)\n",
    "source_df = pd.concat([train_source, test_source], axis=1)\n",
    "\n"
   ]
  },
  {
   "cell_type": "code",
   "execution_count": 11,
   "metadata": {},
   "outputs": [],
   "source": [
    "target_gene_list = list(target_set)\n",
    "target_exp = target_df.loc[target_gene_list]\n",
    "X = source_df.loc[list(regulator_set)]\n",
    "tf_list = list(regulator_set)"
   ]
  },
  {
   "cell_type": "code",
   "execution_count": 12,
   "metadata": {},
   "outputs": [],
   "source": [
    "new_test_target = test_target.loc[target_gene_list]\n",
    "new_test_target = new_test_target.loc[new_test_target.std(axis=1) > 0.5]\n",
    "target_gene_list = new_test_target.index"
   ]
  },
  {
   "cell_type": "code",
   "execution_count": 13,
   "metadata": {},
   "outputs": [
    {
     "name": "stdout",
     "output_type": "stream",
     "text": [
      "(9931, 208)\n",
      "(9931, 121)\n"
     ]
    }
   ],
   "source": [
    "print(train_source.shape)\n",
    "print(test_source.shape)"
   ]
  },
  {
   "cell_type": "code",
   "execution_count": 14,
   "metadata": {},
   "outputs": [],
   "source": [
    "mp_calc = mp_run.MpCalc(target_gene_list, target_exp, X, network_df, train_source.loc[tf_list], train_target, test_source.loc[tf_list], test_target)"
   ]
  },
  {
   "cell_type": "code",
   "execution_count": 14,
   "metadata": {},
   "outputs": [
    {
     "name": "stderr",
     "output_type": "stream",
     "text": [
      "  0%|          | 0/310 [00:00<?, ?it/s]"
     ]
    },
    {
     "name": "stderr",
     "output_type": "stream",
     "text": [
      "100%|██████████| 310/310 [01:13<00:00,  4.24it/s]\n"
     ]
    }
   ],
   "source": [
    "iter_length = len(target_gene_list)\n",
    "with Pool(cpu_count()) as p:\n",
    "    r = list(tqdm(p.imap(mp_calc.full_comp_new, range(iter_length)), total=iter_length))"
   ]
  },
  {
   "cell_type": "code",
   "execution_count": 15,
   "metadata": {},
   "outputs": [],
   "source": [
    "r = np.array(r)\n",
    "out_df = pd.DataFrame(index=target_gene_list)\n",
    "out_df['rf_score'] = r[:, 0]\n",
    "out_df['linear_score'] = r[:, 1]\n",
    "out_df['gs_rf_score'] = r[:, 2]\n",
    "out_df['gs_linear_score'] = r[:, 3]\n",
    "out_df['rf_with_linear_top_features_score'] = r[:, 4]\n",
    "out_df['linear_with_rf_top_features_score'] = r[:, 5]\n",
    "out_df['rf_rmse'] = r[:, 6]\n",
    "out_df['linear_rmse'] = r[:, 7]\n",
    "out_df['gs_rf_rmse'] = r[:, 8]\n",
    "out_df['gs_linear_rmse'] = r[:, 9]\n",
    "out_df['rf_with_linear_top_features_rmse'] = r[:, 10]\n",
    "out_df['linear_with_rf_top_features_rmse'] = r[:, 11]\n",
    "out_df['rf_with_top_features_score'] = r[:, 12]\n",
    "out_df['linear_with_top_features_score'] = r[:, 13]\n",
    "out_df['rf_with_top_features_rmse'] = r[:, 14]\n",
    "out_df['linear_with_top_features_rmse'] = r[:, 15]\n",
    "out_df['rf_top_feature_num'] = r[:, 16]\n",
    "out_df['linear_top_feature_num'] = r[:, 17]\n",
    "out_df['rf_top_features_gs_overlap'] = r[:, 18]\n",
    "out_df['linear_top_features_gs_overlap'] = r[:, 19]\n",
    "out_df['rf_linear_top_features_overlap'] = r[:, 20]\n",
    "out_df['gs_edge_num'] = r[:, 21]\n",
    "out_df['test_var'] = r[:, 22]\n",
    "out_df['test_std'] = r[:, 23]\n",
    "out_df['pca_rf_score'] = r[:, 24]\n",
    "out_df['pca_rf_rmse'] = r[:, 25]"
   ]
  },
  {
   "cell_type": "code",
   "execution_count": 16,
   "metadata": {},
   "outputs": [
    {
     "name": "stderr",
     "output_type": "stream",
     "text": [
      "100%|██████████| 310/310 [33:13<00:00,  6.43s/it] \n"
     ]
    }
   ],
   "source": [
    "iter_length = len(target_gene_list)\n",
    "with Pool(cpu_count()) as p:\n",
    "    r = list(tqdm(p.imap(mp_calc.efron_process_rf, range(iter_length)), total=iter_length))\n",
    "\n",
    "efron_r = np.array(r)\n",
    "out_df['rf_efron_feature_num'] = efron_r[:, 0].astype('float64')\n",
    "out_df['rf_efron_complementary_feature_num_list'] = efron_r[:, 1]\n",
    "out_df['rf_efron_rmse'] = efron_r[:, 2].astype('float64')\n",
    "out_df['rf_efron_complementary_rmse_list'] = efron_r[:, 3]\n",
    "out_df['rf_efron_features'] = efron_r[:, 4]\n",
    "out_df['rf_efron_complementary_features_list'] = efron_r[:, 5]"
   ]
  },
  {
   "cell_type": "code",
   "execution_count": 17,
   "metadata": {},
   "outputs": [],
   "source": [
    "tf_list_df = pd.DataFrame(index=tf_list)\n",
    "tf_list_df.to_csv('../output/network_model/mouse_tf.csv', header=False)\n",
    "out_df.to_csv('../output/network_model/mouse_all_tf_high_var_target_new.csv.gz', compression='gzip')"
   ]
  },
  {
   "cell_type": "code",
   "execution_count": 14,
   "metadata": {},
   "outputs": [
    {
     "name": "stderr",
     "output_type": "stream",
     "text": [
      "100%|██████████| 310/310 [00:22<00:00, 13.93it/s]\n"
     ]
    }
   ],
   "source": [
    "out_df = pd.read_csv('../output/network_model/mouse_all_tf_high_var_target_new.csv.gz', index_col=0, compression='gzip')\n",
    "iter_length = len(target_gene_list)\n",
    "new_out_df = pd.DataFrame(index=target_gene_list)\n",
    "with Pool(cpu_count()) as p:\n",
    "    r = list(tqdm(p.imap(mp_calc.rf_top_tf_same_count_as_gs, range(iter_length)), total=iter_length))\n",
    "efron_r = np.array(r)\n",
    "new_out_df['rf_top_tf_same_count_as_gs_score'] = efron_r[:, 0]\n",
    "new_out_df['rf_top_tf_same_count_as_gs_rmse'] = efron_r[:, 1]\n",
    "new_out_df = new_out_df.loc[out_df.index]\n",
    "out_df['rf_top_tf_same_count_as_gs_score'] = new_out_df['rf_top_tf_same_count_as_gs_score']\n",
    "out_df['rf_top_tf_same_count_as_gs_rmse'] = new_out_df['rf_top_tf_same_count_as_gs_rmse']"
   ]
  },
  {
   "cell_type": "code",
   "execution_count": 15,
   "metadata": {},
   "outputs": [],
   "source": [
    "out_df.to_csv('../output/network_model/mouse_all_tf_high_var_target_new.csv.gz', compression='gzip')"
   ]
  },
  {
   "cell_type": "code",
   "execution_count": 14,
   "metadata": {},
   "outputs": [
    {
     "name": "stderr",
     "output_type": "stream",
     "text": [
      "100%|██████████| 310/310 [09:53<00:00,  1.91s/it]\n"
     ]
    }
   ],
   "source": [
    "out_df = pd.read_csv('../output/network_model/mouse_all_tf_high_var_target_new.csv.gz', index_col=0, compression='gzip')\n",
    "iter_length = len(target_gene_list)\n",
    "new_out_df = pd.DataFrame(index=target_gene_list)\n",
    "with Pool(cpu_count()) as p:\n",
    "    r = list(tqdm(p.imap(mp_calc.efron_ensemble_process_rf, range(iter_length)), total=iter_length))\n",
    "ensemble_r = np.array(r)\n",
    "new_out_df['rf_efron_ensemble_rmse'] = ensemble_r\n",
    "new_out_df = new_out_df.loc[out_df.index]\n",
    "out_df['rf_efron_ensemble_rmse'] = new_out_df['rf_efron_ensemble_rmse']"
   ]
  },
  {
   "cell_type": "code",
   "execution_count": 16,
   "metadata": {},
   "outputs": [],
   "source": [
    "out_df.to_csv('../output/network_model/mouse_all_tf_high_var_target_new.csv.gz', compression='gzip')"
   ]
  },
  {
   "cell_type": "code",
   "execution_count": 15,
   "metadata": {},
   "outputs": [],
   "source": [
    "tf_list_df = pd.read_csv('../output/network_model/mouse_tf.csv', names=['tf'], index_col=0)\n",
    "out_df = pd.read_csv('../output/network_model/mouse_all_tf_high_var_target_new.csv.gz', index_col=0, compression='gzip')\n",
    "available_tfs = set(X.index)\n",
    "rf_efron_overlap_count = []\n",
    "for target_gene in out_df.index:\n",
    "    gs_tf_list = network_df.loc[target_gene].tf_list\n",
    "    gs_tf_set = set(gs_tf_list.split('; '))\n",
    "    gs_tf_set = available_tfs.intersection(gs_tf_set)\n",
    "    if target_gene in gs_tf_set: gs_tf_set.remove(target_gene)\n",
    "    efron_tf_list = out_df.loc[target_gene]['rf_efron_features']\n",
    "    efron_tf_list = efron_tf_list.split('; ')\n",
    "    efron_tf_list = [int(i) for i in efron_tf_list]\n",
    "    efron_tf_list = tf_list_df.iloc[efron_tf_list].index\n",
    "    efron_tf_set = set(efron_tf_list)\n",
    "    rf_efron_overlap_count.append(len(efron_tf_set.intersection(gs_tf_set)))\n",
    "out_df['rf_efron_overlap_count'] = rf_efron_overlap_count\n",
    "out_df.to_csv('../output/network_model/mouse_all_tf_high_var_target_new.csv.gz', compression='gzip')\n"
   ]
  },
  {
   "cell_type": "code",
   "execution_count": 19,
   "metadata": {},
   "outputs": [
    {
     "data": {
      "text/plain": [
       "4.0"
      ]
     },
     "execution_count": 19,
     "metadata": {},
     "output_type": "execute_result"
    }
   ],
   "source": [
    "out_df['gs_edge_num'].median()"
   ]
  },
  {
   "cell_type": "code",
   "execution_count": 38,
   "metadata": {},
   "outputs": [],
   "source": [
    "train_X, test_X, y_train, y_test, tf_list = mp_calc.get_train_test_sets(10)\n",
    "regr = RandomForestRegressor(random_state=42, n_jobs=1, max_features='sqrt' )\n",
    "regr.fit(train_X.T, y_train)\n",
    "base_error = np.square(regr.predict(test_X.T)-y_test)"
   ]
  },
  {
   "cell_type": "code",
   "execution_count": 39,
   "metadata": {},
   "outputs": [
    {
     "data": {
      "text/plain": [
       "Sbno2_LSB41_repB@18       3.167385\n",
       "LacZ_LSB49_repA@18        0.020900\n",
       "Nos2_LSB26_repB@18        0.085199\n",
       "Tmem258_LSB30_repA@18    13.413396\n",
       "Sbno2_LSB40_repB@18       2.729760\n",
       "                           ...    \n",
       "Liver_PerDKO_DD_C@40      0.000006\n",
       "Liver_PerDKO_DD_C@44      0.000014\n",
       "Liver_PerDKO_DD_D@36      0.000057\n",
       "Liver_PerDKO_DD_D@40      0.000111\n",
       "Liver_PerDKO_DD_D@44      0.000340\n",
       "Name: Tmsb10, Length: 121, dtype: float64"
      ]
     },
     "execution_count": 39,
     "metadata": {},
     "output_type": "execute_result"
    }
   ],
   "source": [
    "base_error"
   ]
  },
  {
   "cell_type": "code",
   "execution_count": 45,
   "metadata": {},
   "outputs": [],
   "source": [
    "train_X, test_X, y_train, y_test, tf_list = mp_calc.get_train_test_sets(10)\n",
    "train_X = train_X.iloc[[1,3]]\n",
    "test_X = test_X.iloc[[1,3]]\n",
    "regr = RandomForestRegressor(random_state=42, n_jobs=1, max_features='sqrt' )\n",
    "regr.fit(train_X.T, y_train)\n",
    "current_error = np.square(regr.predict(test_X.T)-y_test)"
   ]
  },
  {
   "cell_type": "code",
   "execution_count": 46,
   "metadata": {},
   "outputs": [
    {
     "data": {
      "text/plain": [
       "Sbno2_LSB41_repB@18       0.207499\n",
       "LacZ_LSB49_repA@18        0.597212\n",
       "Nos2_LSB26_repB@18        0.088203\n",
       "Tmem258_LSB30_repA@18    36.345641\n",
       "Sbno2_LSB40_repB@18       5.914137\n",
       "                           ...    \n",
       "Liver_PerDKO_DD_C@40      0.000012\n",
       "Liver_PerDKO_DD_C@44      0.000017\n",
       "Liver_PerDKO_DD_D@36      0.000075\n",
       "Liver_PerDKO_DD_D@40      0.000078\n",
       "Liver_PerDKO_DD_D@44      0.000522\n",
       "Name: Tmsb10, Length: 121, dtype: float64"
      ]
     },
     "execution_count": 46,
     "metadata": {},
     "output_type": "execute_result"
    }
   ],
   "source": [
    "current_error"
   ]
  },
  {
   "cell_type": "code",
   "execution_count": null,
   "metadata": {},
   "outputs": [],
   "source": [
    "regr = RandomForestRegressor(random_state=42, n_jobs=1, max_features='sqrt' )"
   ]
  },
  {
   "cell_type": "code",
   "execution_count": null,
   "metadata": {},
   "outputs": [],
   "source": [
    "a = mp_calc.efron_process_rf(10)"
   ]
  },
  {
   "cell_type": "code",
   "execution_count": 18,
   "metadata": {},
   "outputs": [
    {
     "name": "stderr",
     "output_type": "stream",
     "text": [
      "100%|██████████| 310/310 [01:00<00:00,  5.08it/s]\n"
     ]
    }
   ],
   "source": [
    "iter_length = len(target_gene_list)\n",
    "with Pool(cpu_count()) as p:\n",
    "    r = list(tqdm(p.imap(mp_calc.efron_process_rf, range(iter_length)), total=iter_length))\n",
    "efron_r = np.array(r)\n",
    "out_df['rf_efron_feature_num'] = efron_r[:, 0].astype('float64')\n",
    "out_df['rf_efron_complementary_feature_num'] = efron_r[:, 1].astype('float64')\n",
    "out_df['rf_efron_rmse'] = efron_r[:, 2].astype('float64')\n",
    "out_df['rf_efron_complementary_rmse'] = efron_r[:, 3].astype('float64')\n",
    "out_df['rf_efron_features'] = efron_r[:, 4]\n",
    "out_df['rf_efron_complementary_features'] = efron_r[:, 5]\n"
   ]
  },
  {
   "cell_type": "code",
   "execution_count": 19,
   "metadata": {},
   "outputs": [
    {
     "data": {
      "text/plain": [
       "rf_score                                 0.363458\n",
       "linear_score                             0.220818\n",
       "gs_rf_score                              0.128178\n",
       "gs_linear_score                         -0.003445\n",
       "rf_with_linear_top_features_score        0.348795\n",
       "linear_with_rf_top_features_score        0.183726\n",
       "rf_rmse                                  1.207490\n",
       "linear_rmse                              1.305100\n",
       "gs_rf_rmse                               1.493678\n",
       "gs_linear_rmse                           1.686018\n",
       "rf_with_linear_top_features_rmse         1.173024\n",
       "linear_with_rf_top_features_rmse         1.454102\n",
       "rf_with_top_features_score               0.289418\n",
       "linear_with_top_features_score           0.217805\n",
       "rf_with_top_features_rmse                1.255568\n",
       "linear_with_top_features_rmse            1.342473\n",
       "rf_top_feature_num                      20.000000\n",
       "linear_top_feature_num                  20.000000\n",
       "rf_top_features_gs_overlap               0.161290\n",
       "linear_top_features_gs_overlap           0.174194\n",
       "rf_linear_top_features_overlap           1.441935\n",
       "gs_edge_num                              5.596774\n",
       "test_var                                16.555100\n",
       "test_std                                 1.861867\n",
       "rf_efron_feature_num                   153.606452\n",
       "rf_efron_complementary_feature_num     184.483871\n",
       "rf_efron_rmse                            1.229599\n",
       "rf_efron_complementary_rmse           5497.459643\n",
       "dtype: float64"
      ]
     },
     "execution_count": 19,
     "metadata": {},
     "output_type": "execute_result"
    }
   ],
   "source": [
    "out_df.mean()"
   ]
  },
  {
   "cell_type": "code",
   "execution_count": 20,
   "metadata": {},
   "outputs": [],
   "source": [
    "out_df.to_csv('../output/network_model/mouse_all_tf_high_var_target_new.csv.gz', compression='gzip')"
   ]
  },
  {
   "cell_type": "code",
   "execution_count": 26,
   "metadata": {},
   "outputs": [
    {
     "name": "stdout",
     "output_type": "stream",
     "text": [
      "264\n"
     ]
    }
   ],
   "source": [
    "temp_df = out_df[(out_df['rf_efron_feature_num'] < 10 ) & (out_df['rf_efron_complementary_feature_num'] < 10 )]\n",
    "temp_set = set()\n",
    "for keys in temp_df['rf_efron_features']:\n",
    "    key_list = keys.split('; ')\n",
    "    for key in key_list:\n",
    "        temp_set.add(int(key))\n",
    "for keys in temp_df['rf_efron_complementary_features']:\n",
    "    key_list = keys.split('; ')\n",
    "    for key in key_list:\n",
    "        temp_set.add(int(key))\n",
    "print(len(temp_set))"
   ]
  },
  {
   "cell_type": "code",
   "execution_count": 32,
   "metadata": {},
   "outputs": [
    {
     "name": "stderr",
     "output_type": "stream",
     "text": [
      "100%|██████████| 310/310 [00:41<00:00,  7.51it/s]\n"
     ]
    }
   ],
   "source": [
    "iter_length = len(target_gene_list)\n",
    "with Pool(cpu_count()) as p:\n",
    "    r = list(tqdm(p.imap(mp_calc.efron_process_rf, range(iter_length)), total=iter_length))\n",
    "efron_r = np.array(r)\n",
    "out_df['rf_efron_feature_num'] = efron_r[:, 0]\n",
    "out_df['rf_efron_rmse'] = efron_r[:, 1]\n",
    "out_df['rf_efron_complementary_rmse'] = efron_r[:, 2]"
   ]
  },
  {
   "cell_type": "code",
   "execution_count": 33,
   "metadata": {},
   "outputs": [
    {
     "name": "stderr",
     "output_type": "stream",
     "text": [
      "100%|██████████| 310/310 [00:55<00:00,  5.63it/s]\n"
     ]
    }
   ],
   "source": [
    "iter_length = len(target_gene_list)\n",
    "with Pool(cpu_count()) as p:\n",
    "    r = list(tqdm(p.imap(mp_calc.efron_process_linear, range(iter_length)), total=iter_length))\n",
    "efron_r = np.array(r)\n",
    "out_df['linear_efron_feature_num'] = efron_r[:, 0]\n",
    "out_df['linear_efron_rmse'] = efron_r[:, 1]\n",
    "out_df['linear_efron_complementary_rmse'] = efron_r[:, 2]"
   ]
  },
  {
   "cell_type": "code",
   "execution_count": 35,
   "metadata": {},
   "outputs": [
    {
     "name": "stderr",
     "output_type": "stream",
     "text": [
      "100%|██████████| 310/310 [02:04<00:00,  2.49it/s]\n"
     ]
    }
   ],
   "source": [
    "iter_length = len(target_gene_list)\n",
    "with Pool(cpu_count()) as p:\n",
    "    r = list(tqdm(p.imap(mp_calc.efron_process_90th_rf, range(iter_length)), total=iter_length))\n",
    "efron_r = np.array(r)\n",
    "out_df['rf_efron_feature_num_90th'] = efron_r[:, 0]\n",
    "out_df['rf_efron_rmse_90th'] = efron_r[:, 1]\n",
    "out_df['rf_efron_complementary_rmse_90th'] = efron_r[:, 2]"
   ]
  },
  {
   "cell_type": "code",
   "execution_count": 16,
   "metadata": {},
   "outputs": [
    {
     "name": "stderr",
     "output_type": "stream",
     "text": [
      "100%|██████████████████████████████████████████████████████████████████████████████| 310/310 [04:09<00:00,  1.24it/s]\n"
     ]
    }
   ],
   "source": [
    "iter_length = len(target_gene_list)\n",
    "with Pool(cpu_count()) as p:\n",
    "    r = list(tqdm(p.imap(mp_calc.dynamic_efron_rf, range(iter_length)), total=iter_length))\n",
    "efron_r = np.array(r)\n",
    "out_df['rf_dynamic_efron_feature_num'] = efron_r[:, 0].astype('float64')\n",
    "out_df['rf_dynamic_efron_rmse'] = efron_r[:, 1].astype('float64')\n",
    "out_df['rf_dynamic_efron_complementary_rmse'] = efron_r[:, 2].astype('float64')\n",
    "out_df['rf_dynamic_efron_feature_index'] = efron_r[:, 3]"
   ]
  },
  {
   "cell_type": "code",
   "execution_count": 17,
   "metadata": {},
   "outputs": [
    {
     "name": "stderr",
     "output_type": "stream",
     "text": [
      "100%|██████████████████████████████████████████████████████████████████████████████| 310/310 [07:28<00:00,  1.45s/it]\n"
     ]
    }
   ],
   "source": [
    "iter_length = len(target_gene_list)\n",
    "with Pool(cpu_count()) as p:\n",
    "    r = list(tqdm(p.imap(mp_calc.dynamic_efron_linear, range(iter_length)), total=iter_length))\n",
    "efron_r = np.array(r)\n",
    "out_df['linear_dynamic_efron_feature_num'] = efron_r[:, 0].astype('float64')\n",
    "out_df['linear_dynamic_efron_rmse'] = efron_r[:, 1].astype('float64')\n",
    "out_df['linear_dynamic_efron_complementary_rmse'] = efron_r[:, 2].astype('float64')\n",
    "out_df['linear_dynamic_efron_feature_index'] = efron_r[:, 3]"
   ]
  },
  {
   "cell_type": "code",
   "execution_count": 18,
   "metadata": {},
   "outputs": [
    {
     "name": "stderr",
     "output_type": "stream",
     "text": [
      "  8%|██████                                                                         | 24/310 [00:01<00:11, 23.84it/s]"
     ]
    },
    {
     "name": "stdout",
     "output_type": "stream",
     "text": [
      "19 21\n",
      "19 37\n",
      "19 46\n",
      "19 47\n",
      "19 50\n",
      "19 54\n",
      "19 70\n",
      "19 76\n",
      "19 86\n",
      "19 89\n",
      "19 112\n",
      "19 118\n",
      "19 137\n",
      "19 168\n",
      "19 169\n",
      "19 192\n",
      "19 242\n",
      "19 256\n",
      "19 257\n",
      "19 273\n",
      "19 293\n",
      "21 37\n",
      "21 46\n",
      "21 47\n",
      "21 50\n",
      "21 54\n",
      "21 70\n",
      "21 76\n",
      "21 86\n",
      "21 89\n",
      "21 112\n",
      "21 118\n",
      "21 137\n",
      "21 168\n",
      "21 169\n",
      "21 192\n",
      "21 242\n",
      "21 256\n",
      "21 257\n",
      "21 273\n",
      "21 293\n"
     ]
    },
    {
     "name": "stderr",
     "output_type": "stream",
     "text": [
      " 14%|██████████▋                                                                    | 42/310 [00:01<00:10, 24.78it/s]"
     ]
    },
    {
     "name": "stdout",
     "output_type": "stream",
     "text": [
      "37 46\n",
      "37 47\n",
      "37 50\n",
      "37 54\n",
      "37 70\n",
      "37 76\n",
      "37 86\n",
      "37 89\n",
      "37 112\n",
      "37 118\n",
      "37 137\n",
      "37 168\n",
      "37 169\n",
      "37 192\n",
      "37 242\n",
      "37 256\n",
      "37 257\n",
      "37 273\n",
      "37 293\n"
     ]
    },
    {
     "name": "stderr",
     "output_type": "stream",
     "text": [
      " 16%|████████████▉                                                                  | 51/310 [00:02<00:10, 25.37it/s]"
     ]
    },
    {
     "name": "stdout",
     "output_type": "stream",
     "text": [
      "46 47\n",
      "46 50\n",
      "46 54\n",
      "46 70\n",
      "46 76\n",
      "46 86\n",
      "46 89\n",
      "46 112\n",
      "46 118\n",
      "46 137\n",
      "46 168\n",
      "46 169\n",
      "46 192\n",
      "46 242\n",
      "46 256\n",
      "46 257\n",
      "46 273\n",
      "46 293\n",
      "47 50\n",
      "47 54\n",
      "47 70\n",
      "47 76\n",
      "47 86\n",
      "47 89\n",
      "47 112\n",
      "47 118\n",
      "47 137\n",
      "47 168\n",
      "47 169\n",
      "47 192\n",
      "47 242\n",
      "47 256\n",
      "47 257\n",
      "47 273\n",
      "47 293\n",
      "50 54\n",
      "50 70\n",
      "50 76\n",
      "50 86\n",
      "50 89\n",
      "50 112\n",
      "50 118\n",
      "50 137\n",
      "50 168\n",
      "50 169\n",
      "50 192\n",
      "50 242\n",
      "50 256\n",
      "50 257\n",
      "50 273\n",
      "50 293\n"
     ]
    },
    {
     "name": "stderr",
     "output_type": "stream",
     "text": [
      " 18%|██████████████▌                                                                | 57/310 [00:02<00:09, 26.42it/s]"
     ]
    },
    {
     "name": "stdout",
     "output_type": "stream",
     "text": [
      "54 70\n",
      "54 76\n",
      "54 86\n",
      "54 89\n",
      "54 112\n",
      "54 118\n",
      "54 137\n",
      "54 168\n",
      "54 169\n",
      "54 192\n",
      "54 242\n",
      "54 256\n",
      "54 257\n",
      "54 273\n",
      "54 293\n",
      "57 107\n",
      "57 178\n",
      "57 191\n"
     ]
    },
    {
     "name": "stderr",
     "output_type": "stream",
     "text": [
      " 24%|██████████████████▌                                                            | 73/310 [00:02<00:08, 28.40it/s]"
     ]
    },
    {
     "name": "stdout",
     "output_type": "stream",
     "text": [
      "70 76\n",
      "70 86\n",
      "70 89\n",
      "70 112\n",
      "70 118\n",
      "70 137\n",
      "70 168\n",
      "70 169\n",
      "70 192\n",
      "70 242\n",
      "70 256\n",
      "70 257\n",
      "70 273\n",
      "70 293\n",
      "76 86\n",
      "76 89\n",
      "76 112\n",
      "76 118\n",
      "76 137\n",
      "76 168\n",
      "76 169\n",
      "76 192\n"
     ]
    },
    {
     "name": "stderr",
     "output_type": "stream",
     "text": [
      " 26%|████████████████████▋                                                          | 81/310 [00:03<00:07, 30.44it/s]"
     ]
    },
    {
     "name": "stdout",
     "output_type": "stream",
     "text": [
      "76 242\n",
      "76 256\n",
      "76 257\n",
      "76 273\n",
      "76 293\n"
     ]
    },
    {
     "name": "stderr",
     "output_type": "stream",
     "text": [
      " 29%|██████████████████████▋                                                        | 89/310 [00:03<00:07, 30.52it/s]"
     ]
    },
    {
     "name": "stdout",
     "output_type": "stream",
     "text": [
      "86 89\n",
      "86 112\n",
      "86 118\n",
      "86 137\n",
      "86 168\n",
      "86 169\n",
      "86 192\n",
      "86 242\n",
      "86 256\n",
      "86 257\n",
      "86 273\n",
      "86 293\n",
      "89 112\n",
      "89 118\n",
      "89 137\n",
      "89 168\n",
      "89 169\n",
      "89 192\n",
      "89 242\n",
      "89 256\n",
      "89 257\n",
      "89 273\n",
      "89 293\n"
     ]
    },
    {
     "name": "stderr",
     "output_type": "stream",
     "text": [
      " 36%|████████████████████████████▍                                                 | 113/310 [00:04<00:05, 33.77it/s]"
     ]
    },
    {
     "name": "stdout",
     "output_type": "stream",
     "text": [
      "107 178\n",
      "107 191\n",
      "112 118\n",
      "112 137\n",
      "112 168\n",
      "112 169\n",
      "112 192\n",
      "112 242\n",
      "112 256\n",
      "112 257\n",
      "112 273\n",
      "112 293\n"
     ]
    },
    {
     "name": "stderr",
     "output_type": "stream",
     "text": [
      " 40%|███████████████████████████████▍                                              | 125/310 [00:04<00:05, 34.89it/s]"
     ]
    },
    {
     "name": "stdout",
     "output_type": "stream",
     "text": [
      "118 137\n",
      "118 168\n",
      "118 169\n",
      "118 192\n",
      "118 242\n",
      "118 256\n",
      "118 257\n",
      "118 273\n",
      "118 293\n"
     ]
    },
    {
     "name": "stderr",
     "output_type": "stream",
     "text": [
      " 46%|████████████████████████████████████▏                                         | 144/310 [00:04<00:04, 39.11it/s]"
     ]
    },
    {
     "name": "stdout",
     "output_type": "stream",
     "text": [
      "137 168\n",
      "137 169\n",
      "137 192\n",
      "137 242\n",
      "137 256\n",
      "137 257\n",
      "137 273\n",
      "137 293\n"
     ]
    },
    {
     "name": "stderr",
     "output_type": "stream",
     "text": [
      " 56%|███████████████████████████████████████████▊                                  | 174/310 [00:05<00:02, 45.79it/s]"
     ]
    },
    {
     "name": "stdout",
     "output_type": "stream",
     "text": [
      "168 169\n",
      "168 192\n",
      "168 242\n",
      "168 256\n",
      "168 257\n",
      "168 273\n",
      "168 293\n",
      "169 192\n",
      "169 242\n",
      "169 256\n",
      "169 257\n",
      "169 273\n",
      "169 293\n",
      "178 191\n"
     ]
    },
    {
     "name": "stderr",
     "output_type": "stream",
     "text": [
      " 66%|███████████████████████████████████████████████████▊                          | 206/310 [00:06<00:01, 58.45it/s]"
     ]
    },
    {
     "name": "stdout",
     "output_type": "stream",
     "text": [
      "192 242\n",
      "192 256\n",
      "192 257\n",
      "192 273\n",
      "192 293\n"
     ]
    },
    {
     "name": "stderr",
     "output_type": "stream",
     "text": [
      " 86%|██████████████████████████████████████████████████████████████████▎          | 267/310 [00:06<00:00, 104.88it/s]"
     ]
    },
    {
     "name": "stdout",
     "output_type": "stream",
     "text": [
      "242 256\n",
      "242 257\n",
      "242 273\n",
      "242 293\n",
      "256 257\n",
      "256 273\n",
      "256 293\n",
      "257 273\n",
      "257 293\n"
     ]
    },
    {
     "name": "stderr",
     "output_type": "stream",
     "text": [
      "100%|██████████████████████████████████████████████████████████████████████████████| 310/310 [00:06<00:00, 45.07it/s]"
     ]
    },
    {
     "name": "stdout",
     "output_type": "stream",
     "text": [
      "273 293\n"
     ]
    },
    {
     "name": "stderr",
     "output_type": "stream",
     "text": [
      "\n"
     ]
    }
   ],
   "source": [
    "overlap_list = []\n",
    "target_comb_list = []\n",
    "for i in tqdm(range(iter_length)):\n",
    "    tf_set_i = out_df.iloc[i]['rf_dynamic_efron_feature_index']\n",
    "    tf_set_i = tf_set_i.split('; ')\n",
    "    tf_set_i = set([int(v) for v in tf_set_i])\n",
    "    for j in range(i+1, iter_length):\n",
    "        tf_set_j = out_df.iloc[j]['rf_dynamic_efron_feature_index']\n",
    "        tf_set_j = tf_set_j.split('; ')\n",
    "        tf_set_j = set([int(v) for v in tf_set_j])\n",
    "        overlap = len(tf_set_i.intersection(tf_set_j))/(len(tf_set_i.union(tf_set_j))+0.0)\n",
    "        overlap_list.append(overlap)\n",
    "        if (overlap >= 1) and (len(tf_set_i) > 1):\n",
    "            print(i, j)\n",
    "        target_comb_list.append((i,j))\n",
    "\n",
    "\n"
   ]
  },
  {
   "cell_type": "code",
   "execution_count": 21,
   "metadata": {},
   "outputs": [
    {
     "data": {
      "text/plain": [
       "Index(['rf_score', 'linear_score', 'gs_rf_score', 'gs_linear_score',\n",
       "       'rf_with_linear_top_features_score',\n",
       "       'linear_with_rf_top_features_score', 'rf_rmse', 'linear_rmse',\n",
       "       'gs_rf_rmse', 'gs_linear_rmse', 'rf_with_linear_top_features_rmse',\n",
       "       'linear_with_rf_top_features_rmse', 'rf_with_top_features_score',\n",
       "       'linear_with_top_features_score', 'rf_with_top_features_rmse',\n",
       "       'linear_with_top_features_rmse', 'rf_top_feature_num',\n",
       "       'linear_top_feature_num', 'rf_top_features_gs_overlap',\n",
       "       'linear_top_features_gs_overlap', 'rf_linear_top_features_overlap',\n",
       "       'gs_edge_num', 'test_var', 'test_std', 'rf_efron_feature_num',\n",
       "       'rf_efron_rmse', 'rf_efron_complementary_rmse',\n",
       "       'linear_efron_feature_num', 'linear_efron_rmse',\n",
       "       'linear_efron_complementary_rmse', 'rf_efron_feature_num_90th',\n",
       "       'rf_efron_rmse_90th', 'rf_efron_complementary_rmse_90th',\n",
       "       'rf_dynamic_efron_feature_num', 'rf_dynamic_efron_rmse',\n",
       "       'rf_dynamic_efron_complementary_rmse', 'rf_dynamic_efron_feature_index',\n",
       "       'linear_dynamic_efron_feature_num', 'linear_dynamic_efron_rmse',\n",
       "       'linear_dynamic_efron_complementary_rmse',\n",
       "       'linear_dynamic_efron_feature_index'],\n",
       "      dtype='object')"
      ]
     },
     "execution_count": 21,
     "metadata": {},
     "output_type": "execute_result"
    }
   ],
   "source": [
    "out_df.columns"
   ]
  },
  {
   "cell_type": "code",
   "execution_count": 19,
   "metadata": {},
   "outputs": [],
   "source": [
    "out_df.to_csv('../output/network_model/mouse_all_tf_high_var_target.csv.gz', compression='gzip')"
   ]
  },
  {
   "cell_type": "code",
   "execution_count": 36,
   "metadata": {},
   "outputs": [
    {
     "data": {
      "text/plain": [
       "rf_score                               0.370744\n",
       "linear_score                           0.220818\n",
       "gs_rf_score                            0.131542\n",
       "gs_linear_score                       -0.003445\n",
       "rf_with_linear_top_features_score      0.386506\n",
       "linear_with_rf_top_features_score      0.105008\n",
       "rf_rmse                                1.195792\n",
       "linear_rmse                            1.305100\n",
       "gs_rf_rmse                             1.493245\n",
       "gs_linear_rmse                         1.686018\n",
       "rf_with_linear_top_features_rmse       1.182053\n",
       "linear_with_rf_top_features_rmse       1.531368\n",
       "rf_with_top_features_score             0.309347\n",
       "linear_with_top_features_score         0.212970\n",
       "rf_with_top_features_rmse              1.266511\n",
       "linear_with_top_features_rmse          1.334778\n",
       "rf_top_feature_num                     9.119355\n",
       "linear_top_feature_num                14.132258\n",
       "rf_top_features_gs_overlap             0.109677\n",
       "linear_top_features_gs_overlap         0.116129\n",
       "rf_linear_top_features_overlap         0.551613\n",
       "gs_edge_num                            5.596774\n",
       "test_var                              16.555100\n",
       "test_std                               1.861867\n",
       "rf_efron_feature_num                 214.548387\n",
       "rf_efron_rmse                          1.205143\n",
       "rf_efron_complementary_rmse            1.199270\n",
       "linear_efron_feature_num             303.532258\n",
       "linear_efron_rmse                      1.303304\n",
       "linear_efron_complementary_rmse        1.319557\n",
       "rf_efron_feature_num_90th            424.945161\n",
       "rf_efron_rmse_90th                     1.198956\n",
       "rf_efron_complementary_rmse_90th       1.202477\n",
       "dtype: float64"
      ]
     },
     "execution_count": 36,
     "metadata": {},
     "output_type": "execute_result"
    }
   ],
   "source": [
    "out_df.mean()"
   ]
  },
  {
   "cell_type": "code",
   "execution_count": null,
   "metadata": {},
   "outputs": [],
   "source": []
  }
 ],
 "metadata": {
  "kernelspec": {
   "display_name": "pymc_env",
   "language": "python",
   "name": "python3"
  },
  "language_info": {
   "codemirror_mode": {
    "name": "ipython",
    "version": 3
   },
   "file_extension": ".py",
   "mimetype": "text/x-python",
   "name": "python",
   "nbconvert_exporter": "python",
   "pygments_lexer": "ipython3",
   "version": "3.11.0"
  }
 },
 "nbformat": 4,
 "nbformat_minor": 4
}
