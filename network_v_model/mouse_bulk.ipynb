{
 "cells": [
  {
   "cell_type": "code",
   "execution_count": 1,
   "metadata": {},
   "outputs": [],
   "source": [
    "import pandas as pd\n",
    "import numpy as np\n",
    "from tqdm import tqdm\n",
    "from itertools import product\n",
    "from functools import cmp_to_key, partial\n",
    "import re\n",
    "\n",
    "import mp_run\n",
    "import conf_interval\n",
    "\n",
    "from os import listdir\n",
    "from os.path import isfile, join\n",
    "from sklearn.metrics import mean_squared_error, explained_variance_score\n",
    "\n",
    "import os\n",
    "\n",
    "from sklearn.model_selection import cross_val_score\n",
    "import xgboost as xgb\n",
    "from sklearn.ensemble import RandomForestRegressor\n",
    "from sklearn.linear_model import LinearRegression\n",
    "\n",
    "from scipy import stats\n",
    "\n",
    "from multiprocessing import Pool, cpu_count\n",
    "\n",
    "\n",
    "%load_ext autoreload\n",
    "%autoreload 2\n",
    "\n",
    "# regex for number extraction from string\n",
    "number_pattern =  r'(-?(?:0|[1-9]\\d*)(?:\\.\\d+)?(?:[eE][+-]?\\d+)?)'\n",
    "\n",
    "import matplotlib.pyplot as plt\n",
    "%matplotlib inline\n",
    "plt.rcParams.update({'figure.figsize':(7,5), 'figure.dpi':100})"
   ]
  },
  {
   "cell_type": "code",
   "execution_count": 2,
   "metadata": {},
   "outputs": [],
   "source": [
    "network_df = pd.read_csv('../data/mouse/regnetworkweb.org.network', sep='\\t')\n",
    "network_df['regulator'] = [name.upper() for name in network_df['regulator']]\n",
    "network_df['target'] = [name.upper() for name in network_df['target']]\n",
    "regulator_set = set(network_df['regulator'])\n",
    "target_set = set(network_df['target'])"
   ]
  },
  {
   "cell_type": "code",
   "execution_count": 3,
   "metadata": {},
   "outputs": [
    {
     "data": {
      "text/html": [
       "<div>\n",
       "<style scoped>\n",
       "    .dataframe tbody tr th:only-of-type {\n",
       "        vertical-align: middle;\n",
       "    }\n",
       "\n",
       "    .dataframe tbody tr th {\n",
       "        vertical-align: top;\n",
       "    }\n",
       "\n",
       "    .dataframe thead th {\n",
       "        text-align: right;\n",
       "    }\n",
       "</style>\n",
       "<table border=\"1\" class=\"dataframe\">\n",
       "  <thead>\n",
       "    <tr style=\"text-align: right;\">\n",
       "      <th></th>\n",
       "      <th>WT1.Pam3Cys.T0</th>\n",
       "      <th>WT1.Poly.I.C..T0</th>\n",
       "      <th>WT1.LPS.T0</th>\n",
       "      <th>WT1.FLA.T0</th>\n",
       "      <th>WT1.R848.T0</th>\n",
       "      <th>WT1.CpG.T0</th>\n",
       "      <th>WT1.MDP.T0</th>\n",
       "      <th>WT1.MDP.LPS.T0</th>\n",
       "      <th>WT1.TDB.T0</th>\n",
       "      <th>WT1.SeV.T0</th>\n",
       "      <th>...</th>\n",
       "      <th>KO2.LPS.T4</th>\n",
       "      <th>KO2.FLA.T4</th>\n",
       "      <th>KO2.R848.T4</th>\n",
       "      <th>KO2.CpG.T4</th>\n",
       "      <th>KO2.MDP.T4</th>\n",
       "      <th>KO2.MDP.LPS.T4</th>\n",
       "      <th>KO2.TDB.T4</th>\n",
       "      <th>KO2.SeV.T4</th>\n",
       "      <th>KO2.Zymosan.T4</th>\n",
       "      <th>KO2.HT.DNA.T4</th>\n",
       "    </tr>\n",
       "  </thead>\n",
       "  <tbody>\n",
       "    <tr>\n",
       "      <th>MIR3110</th>\n",
       "      <td>-0.065838</td>\n",
       "      <td>-0.074808</td>\n",
       "      <td>-0.067086</td>\n",
       "      <td>-0.071765</td>\n",
       "      <td>-0.067077</td>\n",
       "      <td>-0.073372</td>\n",
       "      <td>-0.062468</td>\n",
       "      <td>-0.074115</td>\n",
       "      <td>-0.062609</td>\n",
       "      <td>-0.077727</td>\n",
       "      <td>...</td>\n",
       "      <td>-0.074462</td>\n",
       "      <td>-0.073417</td>\n",
       "      <td>-0.066189</td>\n",
       "      <td>-0.073996</td>\n",
       "      <td>-0.073853</td>\n",
       "      <td>-0.075339</td>\n",
       "      <td>-0.073473</td>\n",
       "      <td>-0.078803</td>\n",
       "      <td>-0.075854</td>\n",
       "      <td>-0.072035</td>\n",
       "    </tr>\n",
       "    <tr>\n",
       "      <th>LCE3A</th>\n",
       "      <td>-0.066182</td>\n",
       "      <td>-0.075266</td>\n",
       "      <td>-0.067453</td>\n",
       "      <td>-0.072170</td>\n",
       "      <td>-0.067443</td>\n",
       "      <td>-0.073701</td>\n",
       "      <td>-0.062747</td>\n",
       "      <td>-0.074600</td>\n",
       "      <td>-0.062943</td>\n",
       "      <td>-0.078272</td>\n",
       "      <td>...</td>\n",
       "      <td>-0.075257</td>\n",
       "      <td>-0.073870</td>\n",
       "      <td>-0.067455</td>\n",
       "      <td>-0.074361</td>\n",
       "      <td>-0.074238</td>\n",
       "      <td>-0.076185</td>\n",
       "      <td>-0.073881</td>\n",
       "      <td>-0.079239</td>\n",
       "      <td>-0.076215</td>\n",
       "      <td>-0.072613</td>\n",
       "    </tr>\n",
       "    <tr>\n",
       "      <th>GAS1</th>\n",
       "      <td>-0.066203</td>\n",
       "      <td>-0.075294</td>\n",
       "      <td>-0.067475</td>\n",
       "      <td>-0.072194</td>\n",
       "      <td>-0.067465</td>\n",
       "      <td>-0.073721</td>\n",
       "      <td>-0.062764</td>\n",
       "      <td>-0.074630</td>\n",
       "      <td>-0.062963</td>\n",
       "      <td>-0.078305</td>\n",
       "      <td>...</td>\n",
       "      <td>-0.075305</td>\n",
       "      <td>-0.073897</td>\n",
       "      <td>-0.067532</td>\n",
       "      <td>-0.074384</td>\n",
       "      <td>-0.074262</td>\n",
       "      <td>-0.076236</td>\n",
       "      <td>-0.073906</td>\n",
       "      <td>-0.079265</td>\n",
       "      <td>-0.076237</td>\n",
       "      <td>-0.072648</td>\n",
       "    </tr>\n",
       "    <tr>\n",
       "      <th>PAK6</th>\n",
       "      <td>-0.066212</td>\n",
       "      <td>-0.075306</td>\n",
       "      <td>-0.067485</td>\n",
       "      <td>-0.072205</td>\n",
       "      <td>-0.067475</td>\n",
       "      <td>-0.073730</td>\n",
       "      <td>-0.062772</td>\n",
       "      <td>-0.074642</td>\n",
       "      <td>-0.062972</td>\n",
       "      <td>-0.078320</td>\n",
       "      <td>...</td>\n",
       "      <td>-0.075327</td>\n",
       "      <td>-0.073909</td>\n",
       "      <td>-0.067565</td>\n",
       "      <td>-0.074393</td>\n",
       "      <td>-0.074272</td>\n",
       "      <td>-0.076259</td>\n",
       "      <td>-0.073917</td>\n",
       "      <td>-0.079277</td>\n",
       "      <td>-0.076247</td>\n",
       "      <td>-0.072663</td>\n",
       "    </tr>\n",
       "    <tr>\n",
       "      <th>TRUB2</th>\n",
       "      <td>-0.062852</td>\n",
       "      <td>-0.060419</td>\n",
       "      <td>-0.045994</td>\n",
       "      <td>-0.065630</td>\n",
       "      <td>-0.040109</td>\n",
       "      <td>-0.066236</td>\n",
       "      <td>-0.042803</td>\n",
       "      <td>-0.054115</td>\n",
       "      <td>-0.045595</td>\n",
       "      <td>-0.072997</td>\n",
       "      <td>...</td>\n",
       "      <td>-0.067564</td>\n",
       "      <td>-0.059189</td>\n",
       "      <td>-0.067564</td>\n",
       "      <td>-0.064876</td>\n",
       "      <td>-0.049205</td>\n",
       "      <td>-0.062495</td>\n",
       "      <td>-0.063295</td>\n",
       "      <td>-0.073603</td>\n",
       "      <td>-0.071545</td>\n",
       "      <td>-0.044443</td>\n",
       "    </tr>\n",
       "  </tbody>\n",
       "</table>\n",
       "<p>5 rows × 384 columns</p>\n",
       "</div>"
      ],
      "text/plain": [
       "         WT1.Pam3Cys.T0  WT1.Poly.I.C..T0  WT1.LPS.T0  WT1.FLA.T0  \\\n",
       "MIR3110       -0.065838         -0.074808   -0.067086   -0.071765   \n",
       "LCE3A         -0.066182         -0.075266   -0.067453   -0.072170   \n",
       "GAS1          -0.066203         -0.075294   -0.067475   -0.072194   \n",
       "PAK6          -0.066212         -0.075306   -0.067485   -0.072205   \n",
       "TRUB2         -0.062852         -0.060419   -0.045994   -0.065630   \n",
       "\n",
       "         WT1.R848.T0  WT1.CpG.T0  WT1.MDP.T0  WT1.MDP.LPS.T0  WT1.TDB.T0  \\\n",
       "MIR3110    -0.067077   -0.073372   -0.062468       -0.074115   -0.062609   \n",
       "LCE3A      -0.067443   -0.073701   -0.062747       -0.074600   -0.062943   \n",
       "GAS1       -0.067465   -0.073721   -0.062764       -0.074630   -0.062963   \n",
       "PAK6       -0.067475   -0.073730   -0.062772       -0.074642   -0.062972   \n",
       "TRUB2      -0.040109   -0.066236   -0.042803       -0.054115   -0.045595   \n",
       "\n",
       "         WT1.SeV.T0  ...  KO2.LPS.T4  KO2.FLA.T4  KO2.R848.T4  KO2.CpG.T4  \\\n",
       "MIR3110   -0.077727  ...   -0.074462   -0.073417    -0.066189   -0.073996   \n",
       "LCE3A     -0.078272  ...   -0.075257   -0.073870    -0.067455   -0.074361   \n",
       "GAS1      -0.078305  ...   -0.075305   -0.073897    -0.067532   -0.074384   \n",
       "PAK6      -0.078320  ...   -0.075327   -0.073909    -0.067565   -0.074393   \n",
       "TRUB2     -0.072997  ...   -0.067564   -0.059189    -0.067564   -0.064876   \n",
       "\n",
       "         KO2.MDP.T4  KO2.MDP.LPS.T4  KO2.TDB.T4  KO2.SeV.T4  KO2.Zymosan.T4  \\\n",
       "MIR3110   -0.073853       -0.075339   -0.073473   -0.078803       -0.075854   \n",
       "LCE3A     -0.074238       -0.076185   -0.073881   -0.079239       -0.076215   \n",
       "GAS1      -0.074262       -0.076236   -0.073906   -0.079265       -0.076237   \n",
       "PAK6      -0.074272       -0.076259   -0.073917   -0.079277       -0.076247   \n",
       "TRUB2     -0.049205       -0.062495   -0.063295   -0.073603       -0.071545   \n",
       "\n",
       "         KO2.HT.DNA.T4  \n",
       "MIR3110      -0.072035  \n",
       "LCE3A        -0.072613  \n",
       "GAS1         -0.072648  \n",
       "PAK6         -0.072663  \n",
       "TRUB2        -0.044443  \n",
       "\n",
       "[5 rows x 384 columns]"
      ]
     },
     "execution_count": 3,
     "metadata": {},
     "output_type": "execute_result"
    }
   ],
   "source": [
    "exp_df = pd.read_csv('../data/mouse/GSE75210/GSE75210_myd88_exp_normalized.csv.gz', compression='gzip', index_col=0)\n",
    "exp_df.index = [ind.upper() for ind in exp_df.index]\n",
    "exp_df.head()"
   ]
  },
  {
   "cell_type": "code",
   "execution_count": 4,
   "metadata": {},
   "outputs": [],
   "source": [
    "rep_set = set()\n",
    "time_set = set()\n",
    "time_pattern = r'(.*)\\.T([-+]?\\d*\\.?\\d+)'\n",
    "for name in exp_df.columns:\n",
    "    match = re.search(time_pattern, name)\n",
    "    if match:\n",
    "        rep_set.add(match.group(1))\n",
    "        if ('5' in match.group(2)):\n",
    "            time_set.add(float(match.group(2)))\n",
    "        else: time_set.add(int(match.group(2)))\n",
    "rep_list = list(rep_set)\n",
    "time_list = list(time_set)\n",
    "time_list.sort()\n",
    "\n",
    "train_source_idx = [i[0]+'.T'+str(i[1]) for i in product(rep_list, time_list[0:5])]\n",
    "train_target_idx = [i[0]+'.T'+str(i[1]) for i in product(rep_list, time_list[1:6])]\n",
    "test_source_idx = [i[0]+'.T'+str(i[1]) for i in product(rep_list, time_list[5:7])]\n",
    "test_target_idx = [i[0]+'.T'+str(i[1]) for i in product(rep_list, time_list[6:8])]"
   ]
  },
  {
   "cell_type": "code",
   "execution_count": 5,
   "metadata": {},
   "outputs": [],
   "source": [
    "train_source = exp_df[train_source_idx]\n",
    "train_target = exp_df[train_target_idx]\n",
    "test_source = exp_df[test_source_idx]\n",
    "test_target = exp_df[test_target_idx]"
   ]
  },
  {
   "cell_type": "code",
   "execution_count": 6,
   "metadata": {},
   "outputs": [],
   "source": [
    "regulator_set = regulator_set.intersection(set(train_source.index))\n",
    "target_set = target_set.intersection(set(train_source.index))\n",
    "all_gene_set = regulator_set.union(target_set)\n"
   ]
  },
  {
   "cell_type": "code",
   "execution_count": 7,
   "metadata": {},
   "outputs": [],
   "source": [
    "network_dict = {target: [] for target in target_set}\n",
    "for ind, row in network_df.iterrows():\n",
    "    if (row['regulator'] in regulator_set) and (row['target'] in target_set):\n",
    "        network_dict[row['target']].append(row['regulator'])"
   ]
  },
  {
   "cell_type": "code",
   "execution_count": 8,
   "metadata": {},
   "outputs": [],
   "source": [
    "key_list = []\n",
    "value_list = []\n",
    "regulator_set = set()\n",
    "target_set = set()\n",
    "for key in network_dict.keys():\n",
    "    if (len(network_dict[key]) > 0) and network_dict[key][0] != key:\n",
    "        key_list.append(key)\n",
    "        target_set.add(key)\n",
    "        value_list.append(\"; \".join(network_dict[key]))\n",
    "        for regulator in network_dict[key]:\n",
    "            regulator_set.add(regulator)\n",
    "all_gene_set = regulator_set.union(target_set)"
   ]
  },
  {
   "cell_type": "code",
   "execution_count": 9,
   "metadata": {},
   "outputs": [],
   "source": [
    "network_df = pd.DataFrame(index=key_list)\n",
    "network_df['tf_list'] = value_list"
   ]
  },
  {
   "cell_type": "code",
   "execution_count": 10,
   "metadata": {},
   "outputs": [
    {
     "data": {
      "text/plain": [
       "5.534305035782286"
      ]
     },
     "execution_count": 10,
     "metadata": {},
     "output_type": "execute_result"
    }
   ],
   "source": [
    "np.mean([len(i.split('; ')) for i in value_list])"
   ]
  },
  {
   "cell_type": "code",
   "execution_count": 11,
   "metadata": {},
   "outputs": [],
   "source": [
    "target_df = pd.concat([train_target, test_target], axis=1)\n",
    "source_df = pd.concat([train_source, test_source], axis=1)\n",
    "\n"
   ]
  },
  {
   "cell_type": "code",
   "execution_count": 12,
   "metadata": {},
   "outputs": [],
   "source": [
    "target_gene_list = list(target_set)\n",
    "target_exp = target_df.loc[target_gene_list]\n",
    "X = source_df.loc[list(regulator_set)]\n",
    "tf_list = list(regulator_set)"
   ]
  },
  {
   "cell_type": "code",
   "execution_count": 13,
   "metadata": {},
   "outputs": [],
   "source": [
    "mp_calc = mp_run.MpCalc(target_gene_list, target_exp, X, network_df, train_source.loc[tf_list], train_target, test_source.loc[tf_list], test_target)"
   ]
  },
  {
   "cell_type": "code",
   "execution_count": 14,
   "metadata": {},
   "outputs": [
    {
     "name": "stderr",
     "output_type": "stream",
     "text": [
      "100%|██████████| 15231/15231 [49:37<00:00,  5.11it/s] \n"
     ]
    }
   ],
   "source": [
    "iter_length = len(target_gene_list)\n",
    "with Pool(cpu_count()) as p:\n",
    "    r = list(tqdm(p.imap(mp_calc.full_comp_new, range(iter_length)), total=iter_length))"
   ]
  },
  {
   "cell_type": "code",
   "execution_count": 15,
   "metadata": {},
   "outputs": [],
   "source": [
    "r = np.array(r)\n",
    "out_df = pd.DataFrame(index=target_gene_list)\n",
    "out_df['rf_score'] = r[:, 0]\n",
    "out_df['linear_score'] = r[:, 1]\n",
    "out_df['gs_rf_score'] = r[:, 2]\n",
    "out_df['gs_linear_score'] = r[:, 3]\n",
    "out_df['rf_with_linear_top_features_score'] = r[:, 4]\n",
    "out_df['linear_with_rf_top_features_score'] = r[:, 5]\n",
    "out_df['rf_rmse'] = r[:, 6]\n",
    "out_df['linear_rmse'] = r[:, 7]\n",
    "out_df['gs_rf_rmse'] = r[:, 8]\n",
    "out_df['gs_linear_rmse'] = r[:, 9]\n",
    "out_df['rf_with_linear_top_features_rmse'] = r[:, 10]\n",
    "out_df['linear_with_rf_top_features_rmse'] = r[:, 11]\n",
    "out_df['rf_with_top_features_score'] = r[:, 12]\n",
    "out_df['linear_with_top_features_score'] = r[:, 13]\n",
    "out_df['rf_with_top_features_rmse'] = r[:, 14]\n",
    "out_df['linear_with_top_features_rmse'] = r[:, 15]\n",
    "out_df['rf_top_feature_num'] = r[:, 16]\n",
    "out_df['linear_top_feature_num'] = r[:, 17]\n",
    "out_df['rf_top_features_gs_overlap'] = r[:, 18]\n",
    "out_df['linear_top_features_gs_overlap'] = r[:, 19]\n",
    "out_df['rf_linear_top_features_overlap'] = r[:, 20]\n",
    "out_df['gs_edge_num'] = r[:, 21]\n",
    "out_df['test_var'] = r[:, 22]\n",
    "out_df['test_std'] = r[:, 23]"
   ]
  },
  {
   "cell_type": "code",
   "execution_count": 16,
   "metadata": {},
   "outputs": [],
   "source": [
    "filtered_df = out_df[out_df['test_std'] > 0.5]"
   ]
  },
  {
   "cell_type": "code",
   "execution_count": 17,
   "metadata": {},
   "outputs": [
    {
     "data": {
      "text/plain": [
       "rf_score                              0.220026\n",
       "linear_score                          0.197951\n",
       "gs_rf_score                           0.016339\n",
       "gs_linear_score                      -0.005822\n",
       "rf_with_linear_top_features_score     0.214258\n",
       "linear_with_rf_top_features_score     0.210510\n",
       "rf_rmse                               1.633006\n",
       "linear_rmse                           1.579061\n",
       "gs_rf_rmse                            1.797422\n",
       "gs_linear_rmse                        1.835421\n",
       "rf_with_linear_top_features_rmse      1.613729\n",
       "linear_with_rf_top_features_rmse      1.618866\n",
       "rf_with_top_features_score            0.245231\n",
       "linear_with_top_features_score        0.220703\n",
       "rf_with_top_features_rmse             1.565803\n",
       "linear_with_top_features_rmse         1.615022\n",
       "rf_top_feature_num                   12.363158\n",
       "linear_top_feature_num               15.136842\n",
       "rf_top_features_gs_overlap            0.194737\n",
       "linear_top_features_gs_overlap        0.147368\n",
       "rf_linear_top_features_overlap        0.963158\n",
       "gs_edge_num                           8.531579\n",
       "test_var                             11.825175\n",
       "test_std                              1.903914\n",
       "dtype: float64"
      ]
     },
     "execution_count": 17,
     "metadata": {},
     "output_type": "execute_result"
    }
   ],
   "source": [
    "filtered_df.mean()"
   ]
  },
  {
   "cell_type": "code",
   "execution_count": 20,
   "metadata": {},
   "outputs": [],
   "source": [
    "out_df.to_csv('./mdc_network_v_model.csv')"
   ]
  }
 ],
 "metadata": {
  "kernelspec": {
   "display_name": "inf",
   "language": "python",
   "name": "python3"
  },
  "language_info": {
   "codemirror_mode": {
    "name": "ipython",
    "version": 3
   },
   "file_extension": ".py",
   "mimetype": "text/x-python",
   "name": "python",
   "nbconvert_exporter": "python",
   "pygments_lexer": "ipython3",
   "version": "3.9.5"
  }
 },
 "nbformat": 4,
 "nbformat_minor": 4
}
