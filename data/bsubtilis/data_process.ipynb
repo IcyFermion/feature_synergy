{
 "cells": [
  {
   "cell_type": "markdown",
   "id": "b9918bbf",
   "metadata": {},
   "source": [
    "Formatting sequence data to form target/source time series, then splits into training and testing sets"
   ]
  },
  {
   "cell_type": "code",
   "execution_count": 1,
   "id": "916e6383-8fb0-47e4-864f-f8c33dfb4f86",
   "metadata": {},
   "outputs": [],
   "source": [
    "import pandas as pd\n",
    "import numpy as np\n",
    "from tqdm import tqdm\n",
    "import re\n",
    "import glob\n",
    "import os\n",
    "from functools import cmp_to_key, partial\n",
    "from itertools import product\n",
    "\n",
    "# regex for number extraction from string\n",
    "number_pattern =  r'(-?(?:0|[1-9]\\d*)(?:\\.\\d+)?(?:[eE][+-]?\\d+)?)'"
   ]
  },
  {
   "cell_type": "code",
   "execution_count": 2,
   "id": "8a8ea602",
   "metadata": {},
   "outputs": [],
   "source": [
    "def train_test_source_target_split(df, time_set, rep_set, num_of_test_per_series=1):\n",
    "    sorted_time_list = sorted(time_set, key=lambda time_str: float(re.search(number_pattern, time_str).group(1)))\n",
    "\n",
    "    train_source_time = sorted_time_list[:-1-num_of_test_per_series]\n",
    "    train_target_time = sorted_time_list[1:0-num_of_test_per_series]\n",
    "    test_source_time = sorted_time_list[-1-num_of_test_per_series:-1]\n",
    "    test_target_time = sorted_time_list[0-num_of_test_per_series:]\n",
    "\n",
    "    train_source_list = ['@'.join([x, y]) for x, y in product(list(rep_set), train_source_time)]\n",
    "    train_target_list = ['@'.join([x, y]) for x, y in product(list(rep_set), train_target_time)]\n",
    "    test_source_list = ['@'.join([x, y]) for x, y in product(list(rep_set), test_source_time)]\n",
    "    test_target_list = ['@'.join([x, y]) for x, y in product(list(rep_set), test_target_time)]\n",
    "    return df[train_source_list], df[train_target_list], df[test_source_list], df[test_target_list]"
   ]
  },
  {
   "cell_type": "code",
   "execution_count": 3,
   "id": "d026a3cb",
   "metadata": {},
   "outputs": [],
   "source": [
    "def time_course_compare(item1, item2, valued_time=False):\n",
    "    rep1, course1 = item1.split('@')\n",
    "    rep1 = rep1+course1[-1]\n",
    "    course1 = course1[:-1]\n",
    "    rep2, course2 = item2.split('@')\n",
    "    rep2 = rep2+course2[-1]\n",
    "    course2 = course2[:-1]\n",
    "    if (valued_time):\n",
    "        course1 = float(re.search(number_pattern, course1).group(1))\n",
    "        course2 = float(re.search(number_pattern, course2).group(1))\n",
    "    if rep1 < rep2:\n",
    "        return -1\n",
    "    elif rep1 > rep2:\n",
    "        return 1\n",
    "    else:\n",
    "        if course1 < course2:\n",
    "            return -1\n",
    "        elif course1 > course2:\n",
    "            return 1\n",
    "        else:\n",
    "            return 0"
   ]
  },
  {
   "cell_type": "code",
   "execution_count": 4,
   "id": "2666e56f",
   "metadata": {},
   "outputs": [
    {
     "data": {
      "text/html": [
       "<div>\n",
       "<style scoped>\n",
       "    .dataframe tbody tr th:only-of-type {\n",
       "        vertical-align: middle;\n",
       "    }\n",
       "\n",
       "    .dataframe tbody tr th {\n",
       "        vertical-align: top;\n",
       "    }\n",
       "\n",
       "    .dataframe thead th {\n",
       "        text-align: right;\n",
       "    }\n",
       "</style>\n",
       "<table border=\"1\" class=\"dataframe\">\n",
       "  <thead>\n",
       "    <tr style=\"text-align: right;\">\n",
       "      <th></th>\n",
       "      <th>id</th>\n",
       "      <th>title</th>\n",
       "      <th>essential</th>\n",
       "      <th>Gene-&gt;Coordinates</th>\n",
       "      <th>cog</th>\n",
       "    </tr>\n",
       "    <tr>\n",
       "      <th>locus</th>\n",
       "      <th></th>\n",
       "      <th></th>\n",
       "      <th></th>\n",
       "      <th></th>\n",
       "      <th></th>\n",
       "    </tr>\n",
       "  </thead>\n",
       "  <tbody>\n",
       "    <tr>\n",
       "      <th>BSU_17890</th>\n",
       "      <td>000E237B00539E6850B6A50EE01BA02844B6ACBC</td>\n",
       "      <td>tkt</td>\n",
       "      <td>no</td>\n",
       "      <td>1,919,861 1,921,864</td>\n",
       "      <td>COG0021</td>\n",
       "    </tr>\n",
       "    <tr>\n",
       "      <th>BSU_20290</th>\n",
       "      <td>001BF5429FA86D39BC64447929BC20FCBD988C69</td>\n",
       "      <td>yorQ</td>\n",
       "      <td>no</td>\n",
       "      <td>2,173,956  2,174,111</td>\n",
       "      <td>NaN</td>\n",
       "    </tr>\n",
       "    <tr>\n",
       "      <th>BSU_21700</th>\n",
       "      <td>0021EF5F0934B4D6A1A52C5B34B36D135E6D8CE8</td>\n",
       "      <td>ypoP</td>\n",
       "      <td>no</td>\n",
       "      <td>2,288,194  2,288,619</td>\n",
       "      <td>COG1846</td>\n",
       "    </tr>\n",
       "  </tbody>\n",
       "</table>\n",
       "</div>"
      ],
      "text/plain": [
       "                                                 id title essential  \\\n",
       "locus                                                                 \n",
       "BSU_17890  000E237B00539E6850B6A50EE01BA02844B6ACBC   tkt        no   \n",
       "BSU_20290  001BF5429FA86D39BC64447929BC20FCBD988C69  yorQ        no   \n",
       "BSU_21700  0021EF5F0934B4D6A1A52C5B34B36D135E6D8CE8  ypoP        no   \n",
       "\n",
       "              Gene->Coordinates      cog  \n",
       "locus                                     \n",
       "BSU_17890   1,919,861 1,921,864  COG0021  \n",
       "BSU_20290  2,173,956  2,174,111      NaN  \n",
       "BSU_21700  2,288,194  2,288,619  COG1846  "
      ]
     },
     "execution_count": 4,
     "metadata": {},
     "output_type": "execute_result"
    }
   ],
   "source": [
    "gene_meta_df = pd.read_csv('./gene_meta.tsv', sep='\\t', index_col=1)\n",
    "gene_meta_df.head(3)"
   ]
  },
  {
   "cell_type": "code",
   "execution_count": 5,
   "id": "cbaa9dc9-076d-4898-94a4-832ee9255811",
   "metadata": {},
   "outputs": [],
   "source": [
    "rep_set = set()\n",
    "course_set = set()\n",
    "gene_set = set()\n",
    "for filepath in glob.iglob('./GSE108659/*.gz'):\n",
    "    filename = os.path.basename(filepath) \n",
    "    filename = filename.split('.')[0]\n",
    "    if len(filename.split('_')) > 2:\n",
    "        df = pd.read_csv(filepath, compression='gzip', sep='\\t', index_col=0)\n",
    "        df = df.dropna()\n",
    "        filename_parts = (filename.split('_'))\n",
    "        rep_set.add(filename_parts[1])\n",
    "        course_set.add(filename_parts[2])\n",
    "        if len(gene_set) > 0:\n",
    "            gene_set = gene_set.intersection(set(df['locus']))\n",
    "        else:\n",
    "            gene_set = set(df['locus'])"
   ]
  },
  {
   "cell_type": "code",
   "execution_count": 6,
   "id": "1b940abe",
   "metadata": {},
   "outputs": [],
   "source": [
    "formated_df = pd.DataFrame(index=list(gene_set))\n",
    "gene_list = list(gene_set)"
   ]
  },
  {
   "cell_type": "code",
   "execution_count": 7,
   "id": "3effaeb3",
   "metadata": {},
   "outputs": [],
   "source": [
    "for filepath in glob.iglob('./GSE108659/*.gz'):\n",
    "    filename = os.path.basename(filepath) \n",
    "    filename = filename.split('.')[0]\n",
    "    if len(filename.split('_')) > 2:\n",
    "        df = pd.read_csv(filepath, compression='gzip', sep='\\t', index_col=1)\n",
    "        df = df.dropna()\n",
    "        filename_parts = (filename.split('_'))\n",
    "        rep_name = filename_parts[1]\n",
    "        course_name = filename_parts[2]\n",
    "        formated_df[\"{}@{}\".format(rep_name, course_name)] = df.loc[gene_list]['norm.rpkm'].values\n"
   ]
  },
  {
   "cell_type": "code",
   "execution_count": 8,
   "id": "62c6cd60",
   "metadata": {},
   "outputs": [
    {
     "data": {
      "text/html": [
       "<div>\n",
       "<style scoped>\n",
       "    .dataframe tbody tr th:only-of-type {\n",
       "        vertical-align: middle;\n",
       "    }\n",
       "\n",
       "    .dataframe tbody tr th {\n",
       "        vertical-align: top;\n",
       "    }\n",
       "\n",
       "    .dataframe thead th {\n",
       "        text-align: right;\n",
       "    }\n",
       "</style>\n",
       "<table border=\"1\" class=\"dataframe\">\n",
       "  <thead>\n",
       "    <tr style=\"text-align: right;\">\n",
       "      <th></th>\n",
       "      <th>4146@T5B</th>\n",
       "      <th>4146@T4A</th>\n",
       "      <th>4140@T8B</th>\n",
       "      <th>425@T4B</th>\n",
       "      <th>HR3@T4A</th>\n",
       "      <th>425@T5A</th>\n",
       "      <th>4146@T5A</th>\n",
       "      <th>4140@T3A</th>\n",
       "      <th>4146@T3A</th>\n",
       "      <th>425@T0B</th>\n",
       "      <th>...</th>\n",
       "      <th>425@T8B</th>\n",
       "      <th>HR3@T2A</th>\n",
       "      <th>HR3@T5B</th>\n",
       "      <th>425@T6B</th>\n",
       "      <th>4146@T1B</th>\n",
       "      <th>4146@T7B</th>\n",
       "      <th>425@T8A</th>\n",
       "      <th>425@T2A</th>\n",
       "      <th>4140@T4B</th>\n",
       "      <th>HR3@T4B</th>\n",
       "    </tr>\n",
       "  </thead>\n",
       "  <tbody>\n",
       "    <tr>\n",
       "      <th>BSU02619</th>\n",
       "      <td>79.8</td>\n",
       "      <td>0.0</td>\n",
       "      <td>13.0</td>\n",
       "      <td>0.0</td>\n",
       "      <td>0.0</td>\n",
       "      <td>0.0</td>\n",
       "      <td>0.0</td>\n",
       "      <td>12.5</td>\n",
       "      <td>0.0</td>\n",
       "      <td>0.0</td>\n",
       "      <td>...</td>\n",
       "      <td>0.0</td>\n",
       "      <td>0.0</td>\n",
       "      <td>0.0</td>\n",
       "      <td>0.0</td>\n",
       "      <td>0.0</td>\n",
       "      <td>29.0</td>\n",
       "      <td>0.0</td>\n",
       "      <td>0.0</td>\n",
       "      <td>0.0</td>\n",
       "      <td>0.0</td>\n",
       "    </tr>\n",
       "    <tr>\n",
       "      <th>BSU17930</th>\n",
       "      <td>1006.4</td>\n",
       "      <td>1336.2</td>\n",
       "      <td>0.0</td>\n",
       "      <td>0.0</td>\n",
       "      <td>1804.0</td>\n",
       "      <td>0.0</td>\n",
       "      <td>1183.3</td>\n",
       "      <td>4.1</td>\n",
       "      <td>1623.3</td>\n",
       "      <td>1.6</td>\n",
       "      <td>...</td>\n",
       "      <td>205.3</td>\n",
       "      <td>3450.8</td>\n",
       "      <td>2206.0</td>\n",
       "      <td>20.8</td>\n",
       "      <td>779.8</td>\n",
       "      <td>948.6</td>\n",
       "      <td>62.2</td>\n",
       "      <td>116.2</td>\n",
       "      <td>1.3</td>\n",
       "      <td>2280.8</td>\n",
       "    </tr>\n",
       "    <tr>\n",
       "      <th>BSU19880</th>\n",
       "      <td>0.0</td>\n",
       "      <td>10.0</td>\n",
       "      <td>0.0</td>\n",
       "      <td>0.0</td>\n",
       "      <td>47.7</td>\n",
       "      <td>0.0</td>\n",
       "      <td>0.0</td>\n",
       "      <td>0.0</td>\n",
       "      <td>15.2</td>\n",
       "      <td>0.0</td>\n",
       "      <td>...</td>\n",
       "      <td>0.0</td>\n",
       "      <td>0.0</td>\n",
       "      <td>0.0</td>\n",
       "      <td>0.0</td>\n",
       "      <td>0.0</td>\n",
       "      <td>18.4</td>\n",
       "      <td>0.0</td>\n",
       "      <td>0.0</td>\n",
       "      <td>0.0</td>\n",
       "      <td>0.0</td>\n",
       "    </tr>\n",
       "  </tbody>\n",
       "</table>\n",
       "<p>3 rows × 56 columns</p>\n",
       "</div>"
      ],
      "text/plain": [
       "          4146@T5B  4146@T4A  4140@T8B  425@T4B  HR3@T4A  425@T5A  4146@T5A  \\\n",
       "BSU02619      79.8       0.0      13.0      0.0      0.0      0.0       0.0   \n",
       "BSU17930    1006.4    1336.2       0.0      0.0   1804.0      0.0    1183.3   \n",
       "BSU19880       0.0      10.0       0.0      0.0     47.7      0.0       0.0   \n",
       "\n",
       "          4140@T3A  4146@T3A  425@T0B  ...  425@T8B  HR3@T2A  HR3@T5B  \\\n",
       "BSU02619      12.5       0.0      0.0  ...      0.0      0.0      0.0   \n",
       "BSU17930       4.1    1623.3      1.6  ...    205.3   3450.8   2206.0   \n",
       "BSU19880       0.0      15.2      0.0  ...      0.0      0.0      0.0   \n",
       "\n",
       "          425@T6B  4146@T1B  4146@T7B  425@T8A  425@T2A  4140@T4B  HR3@T4B  \n",
       "BSU02619      0.0       0.0      29.0      0.0      0.0       0.0      0.0  \n",
       "BSU17930     20.8     779.8     948.6     62.2    116.2       1.3   2280.8  \n",
       "BSU19880      0.0       0.0      18.4      0.0      0.0       0.0      0.0  \n",
       "\n",
       "[3 rows x 56 columns]"
      ]
     },
     "execution_count": 8,
     "metadata": {},
     "output_type": "execute_result"
    }
   ],
   "source": [
    "formated_df.head(3)"
   ]
  },
  {
   "cell_type": "code",
   "execution_count": 9,
   "id": "be7d161d",
   "metadata": {},
   "outputs": [],
   "source": [
    "sorted_rep_course = sorted(formated_df.columns, key=cmp_to_key(time_course_compare))\n",
    "formated_df = formated_df[sorted_rep_course]"
   ]
  },
  {
   "cell_type": "code",
   "execution_count": 10,
   "id": "05c2de63",
   "metadata": {},
   "outputs": [
    {
     "data": {
      "text/plain": [
       "{'4140', '4146', '425', 'HR3'}"
      ]
     },
     "execution_count": 10,
     "metadata": {},
     "output_type": "execute_result"
    }
   ],
   "source": [
    "rep_set"
   ]
  },
  {
   "cell_type": "code",
   "execution_count": 11,
   "id": "b7c6e144",
   "metadata": {},
   "outputs": [],
   "source": [
    "formated_index_list = []\n",
    "for ind in formated_df.index:\n",
    "    if '_' not in ind:\n",
    "        formated_index_list.append('BSU_'+ind[3:])\n",
    "    else:\n",
    "        formated_index_list.append(ind)\n",
    "formated_df.index = formated_index_list\n",
    "\n",
    "known_names = []\n",
    "known_index = []\n",
    "for name in formated_df.index:\n",
    "    if name in list(gene_meta_df.index):\n",
    "        known_index.append(name)\n",
    "        known_names.append(gene_meta_df.loc[name,'title'])\n",
    "\n",
    "formated_df = formated_df.loc[known_index]\n",
    "formated_df.index = known_names"
   ]
  },
  {
   "cell_type": "code",
   "execution_count": 12,
   "id": "99c6282d",
   "metadata": {},
   "outputs": [],
   "source": [
    "# splitting source/target in time series\n",
    "target_index_list = [b%7 > 0 for b in list(range(56))]\n",
    "source_index_list = [b%7 < 6 for b in list(range(56))]\n",
    "formated_source_df = formated_df.loc[:, source_index_list]\n",
    "formated_target_df = formated_df.loc[:, target_index_list]\n",
    "\n",
    "# train/test split\n",
    "train_index_list = [b%6 < 5 for b in list(range(48))]\n",
    "test_index_list = [b%6 >= 5 for b in list(range(48))]\n",
    "train_source_df = formated_source_df.loc[:, train_index_list]\n",
    "test_source_df = formated_source_df.loc[:, test_index_list]\n",
    "train_target_df = formated_target_df.loc[:, train_index_list]\n",
    "test_target_df = formated_target_df.loc[:, test_index_list]\n",
    "\n"
   ]
  },
  {
   "cell_type": "code",
   "execution_count": 13,
   "id": "2e9204cc",
   "metadata": {},
   "outputs": [],
   "source": [
    "formated_df.to_csv('./GSE108659/formated/all.csv')\n",
    "formated_source_df.to_csv('./GSE108659/formated/source.csv')\n",
    "formated_target_df.to_csv('./GSE108659/formated/target.csv')\n",
    "\n",
    "train_source_df.to_csv('./GSE108659/formated/train_source.csv')\n",
    "train_target_df.to_csv('./GSE108659/formated/train_target.csv')\n",
    "test_source_df.to_csv('./GSE108659/formated/test_source.csv')\n",
    "test_target_df.to_csv('./GSE108659/formated/test_target.csv')\n"
   ]
  },
  {
   "cell_type": "code",
   "execution_count": 14,
   "id": "f3dd18f5",
   "metadata": {},
   "outputs": [],
   "source": [
    "df = pd.read_csv('./GSE128875/exp_mat.csv', index_col=0)\n",
    "df = df.drop(columns=['gene_name_alt'], axis=1)\n",
    "df = df[~df.index.duplicated()]\n",
    "formated_columns = ['{}@{}'.format(column.split('_')[1], column.split('_')[0]) for column in df.columns]\n",
    "df.columns = formated_columns"
   ]
  },
  {
   "cell_type": "code",
   "execution_count": 15,
   "id": "bab1b688",
   "metadata": {},
   "outputs": [],
   "source": [
    "sorted_rep_course = sorted(df.columns, key=cmp_to_key(partial(time_course_compare, valued_time=True)))\n",
    "formated_df = df[sorted_rep_course]\n",
    "\n",
    "# splitting source/target in time series\n",
    "target_index_list = [b%7 > 0 for b in list(range(28))]\n",
    "source_index_list = [b%7 < 6 for b in list(range(28))]\n",
    "formated_source_df = formated_df.loc[:, source_index_list]\n",
    "formated_target_df = formated_df.loc[:, target_index_list]\n",
    "\n",
    "# train/test split\n",
    "train_index_list = [b%6 < 5 for b in list(range(24))]\n",
    "test_index_list = [b%6 >= 5 for b in list(range(24))]\n",
    "train_source_df = formated_source_df.loc[:, train_index_list]\n",
    "test_source_df = formated_source_df.loc[:, test_index_list]\n",
    "train_target_df = formated_target_df.loc[:, train_index_list]\n",
    "test_target_df = formated_target_df.loc[:, test_index_list]"
   ]
  },
  {
   "cell_type": "code",
   "execution_count": 16,
   "id": "5d24db0c",
   "metadata": {},
   "outputs": [],
   "source": [
    "formated_df.to_csv('./GSE128875/formated/all.csv')\n",
    "formated_source_df.to_csv('./GSE128875/formated/source.csv')\n",
    "formated_target_df.to_csv('./GSE128875/formated/target.csv')\n",
    "\n",
    "train_source_df.to_csv('./GSE128875/formated/train_source.csv')\n",
    "train_target_df.to_csv('./GSE128875/formated/train_target.csv')\n",
    "test_source_df.to_csv('./GSE128875/formated/test_source.csv')\n",
    "test_target_df.to_csv('./GSE128875/formated/test_target.csv')\n"
   ]
  },
  {
   "cell_type": "code",
   "execution_count": 17,
   "id": "abf71c19",
   "metadata": {},
   "outputs": [],
   "source": [
    "rep_set = set()\n",
    "course_set = set()\n",
    "gene_set = set()\n",
    "for filepath in glob.iglob('./GSE224332/*.gz'):\n",
    "    filename = os.path.basename(filepath) \n",
    "    filename = filename.split('.')[0]\n",
    "    df = pd.read_csv(filepath, compression='gzip',  index_col=1)\n",
    "    df = df.dropna()\n",
    "    df = df[~df.index.duplicated()]\n",
    "    filename_parts = (filename.split('_'))\n",
    "    rep_set.add(filename_parts[2])\n",
    "    course_set.add(filename_parts[3])\n",
    "    if len(gene_set) > 0:\n",
    "        gene_set = gene_set.intersection(set(df.index))\n",
    "    else:\n",
    "        gene_set = set(df.index)"
   ]
  },
  {
   "cell_type": "code",
   "execution_count": 18,
   "id": "2dc9a927",
   "metadata": {},
   "outputs": [],
   "source": [
    "formated_df = pd.DataFrame(index=list(gene_set))\n",
    "gene_list = list(gene_set)"
   ]
  },
  {
   "cell_type": "code",
   "execution_count": 19,
   "id": "c0ccd9fd",
   "metadata": {},
   "outputs": [],
   "source": [
    "for filepath in glob.iglob('./GSE224332/*.gz'):\n",
    "    filename = os.path.basename(filepath) \n",
    "    filename = filename.split('.')[0]\n",
    "    if len(filename.split('_')) > 2:\n",
    "        df = pd.read_csv(filepath, compression='gzip', index_col=1)\n",
    "        df = df.dropna()\n",
    "        df = df[~df.index.duplicated()]\n",
    "        filename_parts = (filename.split('_'))\n",
    "        rep_name = filename_parts[2]\n",
    "        course_name = filename_parts[3]\n",
    "        formated_df[\"{}@{}\".format(rep_name, course_name)] = df.loc[gene_list]['edgeR-normalized count (log2)'].values\n"
   ]
  },
  {
   "cell_type": "code",
   "execution_count": 20,
   "id": "45c60dac",
   "metadata": {},
   "outputs": [],
   "source": [
    "train_source_df, train_target_df, test_source_df, test_target_df = train_test_source_target_split(formated_df, course_set, rep_set, 2)"
   ]
  },
  {
   "cell_type": "code",
   "execution_count": 21,
   "id": "0b05a5db",
   "metadata": {},
   "outputs": [],
   "source": [
    "source_df = pd.concat([train_source_df, test_source_df], axis=1)\n",
    "target_df = pd.concat([train_target_df, test_target_df], axis=1)"
   ]
  },
  {
   "cell_type": "code",
   "execution_count": 22,
   "id": "df7ebbae",
   "metadata": {},
   "outputs": [],
   "source": [
    "formated_df.to_csv('./GSE224332/formated/all.csv')\n",
    "source_df.to_csv('./GSE224332/formated/source.csv')\n",
    "target_df.to_csv('./GSE224332/formated/target.csv')\n",
    "\n",
    "train_source_df.to_csv('./GSE224332/formated/train_source.csv')\n",
    "train_target_df.to_csv('./GSE224332/formated/train_target.csv')\n",
    "test_source_df.to_csv('./GSE224332/formated/test_source.csv')\n",
    "test_target_df.to_csv('./GSE224332/formated/test_target.csv')\n"
   ]
  }
 ],
 "metadata": {
  "kernelspec": {
   "display_name": "Python 3 (ipykernel)",
   "language": "python",
   "name": "python3"
  },
  "language_info": {
   "codemirror_mode": {
    "name": "ipython",
    "version": 3
   },
   "file_extension": ".py",
   "mimetype": "text/x-python",
   "name": "python",
   "nbconvert_exporter": "python",
   "pygments_lexer": "ipython3",
   "version": "3.11.0"
  },
  "vscode": {
   "interpreter": {
    "hash": "81e9c86d82d8c29b612945b18821ec384f5e66ff56db5bbebbea07b3a408634d"
   }
  }
 },
 "nbformat": 4,
 "nbformat_minor": 5
}
