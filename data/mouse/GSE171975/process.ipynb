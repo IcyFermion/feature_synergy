{
 "cells": [
  {
   "cell_type": "code",
   "execution_count": 1,
   "metadata": {},
   "outputs": [],
   "source": [
    "import pandas as pd\n",
    "import numpy as np\n",
    "from tqdm import tqdm\n",
    "import re\n",
    "import glob\n",
    "import os\n",
    "from functools import cmp_to_key, partial\n",
    "from itertools import product\n",
    "from scipy import stats\n",
    "import gzip\n",
    "from Bio import SeqIO\n",
    "\n",
    "\n",
    "# regex for number extraction from string\n",
    "number_pattern =  r'(-?(?:0|[1-9]\\d*)(?:\\.\\d+)?(?:[eE][+-]?\\d+)?)'\n"
   ]
  },
  {
   "cell_type": "code",
   "execution_count": 2,
   "metadata": {},
   "outputs": [
    {
     "data": {
      "text/plain": [
       "(12176, 46)"
      ]
     },
     "execution_count": 2,
     "metadata": {},
     "output_type": "execute_result"
    }
   ],
   "source": [
    "exp_df_1 = pd.read_csv('./GSE171975_Liver_BMALKO_reads.csv', index_col=0)\n",
    "exp_df_2 = pd.read_csv('./GSE171975_R370_Liver_WT_reads.csv', index_col=0)\n",
    "exp_df_3 = pd.read_csv('./GSE171975_R389_Liver_PerDKO_reads.csv', index_col=0)\n",
    "exp_df_3.shape"
   ]
  },
  {
   "cell_type": "code",
   "execution_count": 3,
   "metadata": {},
   "outputs": [],
   "source": [
    "common_genes = list(set(exp_df_1.index).intersection(set(exp_df_2.index), set(exp_df_3.index)))"
   ]
  },
  {
   "cell_type": "code",
   "execution_count": 4,
   "metadata": {},
   "outputs": [],
   "source": [
    "exp_df = pd.concat([exp_df_1.loc[common_genes], exp_df_2.loc[common_genes], exp_df_3.loc[common_genes]], axis=1)"
   ]
  },
  {
   "cell_type": "code",
   "execution_count": 5,
   "metadata": {},
   "outputs": [],
   "source": [
    "formated_names = []\n",
    "exp_dict = {}\n",
    "for name in exp_df.columns:\n",
    "    time_pattern = r'(.*)_CT(\\d*)(_.*)\\.raw'\n",
    "    match = re.search(time_pattern, name)\n",
    "    time = match.group(2)\n",
    "    rep = match.group(1) + match.group(3)\n",
    "    if rep in exp_dict:\n",
    "        exp_dict[rep].append(int(time))\n",
    "    else:\n",
    "        exp_dict[rep] = []\n",
    "        exp_dict[rep].append(int(time))\n",
    "    formated_names.append(rep+'@'+time)\n",
    "\n",
    "exp_df.columns = formated_names"
   ]
  },
  {
   "cell_type": "code",
   "execution_count": 6,
   "metadata": {},
   "outputs": [],
   "source": [
    "for key in exp_dict.keys():\n",
    "    exp_dict[key].sort()"
   ]
  },
  {
   "cell_type": "code",
   "execution_count": 7,
   "metadata": {},
   "outputs": [],
   "source": [
    "gene_meta_df = pd.read_csv('../MGI_Gene_Model_Coord.rpt', sep='\\t', index_col=2)\n",
    "gene_meta_df['NCBI_length'] = gene_meta_df['9. NCBI gene end'] - gene_meta_df['8. NCBI gene start']\n",
    "gene_meta_df['Ensembl_length'] = gene_meta_df['14. Ensembl gene end'] - gene_meta_df['13. Ensembl gene start']\n",
    "\n",
    "known_genes = list(set(exp_df.index).intersection(set(gene_meta_df.index)))\n",
    "known_genes = gene_meta_df.loc[known_genes].loc[~gene_meta_df.loc[known_genes]['NCBI_length'].isna()].index\n",
    "\n",
    "gene_length_list = [gene_meta_df.loc[gene]['NCBI_length'] for gene in known_genes]\n",
    "\n",
    "normalized_df = exp_df.loc[known_genes]\n",
    "normalized_df = (normalized_df+0.001)*1000\n",
    "normalized_df = normalized_df.div(gene_meta_df.loc[known_genes]['NCBI_length'], axis=0)\n",
    "normalized_df = normalized_df.apply(stats.zscore, axis=0)"
   ]
  },
  {
   "cell_type": "code",
   "execution_count": 8,
   "metadata": {},
   "outputs": [],
   "source": [
    "train_source_idx = []\n",
    "train_target_idx = []\n",
    "test_source_idx = []\n",
    "test_target_idx = []"
   ]
  },
  {
   "cell_type": "code",
   "execution_count": 9,
   "metadata": {},
   "outputs": [],
   "source": [
    "for key in exp_dict.keys():\n",
    "    exp_list = [key+'@'+str(time) for time in exp_dict[key]]\n",
    "    if len(exp_dict[key]) > 10:\n",
    "        train_source_idx.extend(exp_list[:-5])\n",
    "        train_target_idx.extend(exp_list[1:-4])\n",
    "        test_source_idx.extend(exp_list[:-5:-1])\n",
    "        test_target_idx.extend(exp_list[:-4])\n",
    "    else:\n",
    "        train_source_idx.extend(exp_list[:-4])\n",
    "        train_target_idx.extend(exp_list[1:-3])\n",
    "        test_source_idx.extend(exp_list[:-4:-1])\n",
    "        test_target_idx.extend(exp_list[:-3])"
   ]
  },
  {
   "cell_type": "code",
   "execution_count": 12,
   "metadata": {},
   "outputs": [],
   "source": [
    "normalized_df[train_source_idx].to_csv('./normalized/train_source.csv.gz', compression='gzip')\n",
    "normalized_df[train_target_idx].to_csv('./normalized/train_target.csv.gz', compression='gzip')\n",
    "normalized_df[test_source_idx].to_csv('./normalized/test_source.csv.gz', compression='gzip')\n",
    "normalized_df[test_target_idx].to_csv('./normalized/test_target.csv.gz', compression='gzip')"
   ]
  },
  {
   "cell_type": "code",
   "execution_count": null,
   "metadata": {},
   "outputs": [],
   "source": []
  }
 ],
 "metadata": {
  "kernelspec": {
   "display_name": "pymc_env",
   "language": "python",
   "name": "python3"
  },
  "language_info": {
   "codemirror_mode": {
    "name": "ipython",
    "version": 3
   },
   "file_extension": ".py",
   "mimetype": "text/x-python",
   "name": "python",
   "nbconvert_exporter": "python",
   "pygments_lexer": "ipython3",
   "version": "3.11.0"
  },
  "orig_nbformat": 4
 },
 "nbformat": 4,
 "nbformat_minor": 2
}
