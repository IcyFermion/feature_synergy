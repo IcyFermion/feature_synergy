{
 "cells": [
  {
   "cell_type": "code",
   "execution_count": 1,
   "metadata": {},
   "outputs": [],
   "source": [
    "import pandas as pd\n",
    "import numpy as np\n",
    "from tqdm import tqdm\n",
    "import re\n",
    "import glob\n",
    "import os\n",
    "from functools import cmp_to_key, partial\n",
    "from itertools import product\n",
    "from scipy import stats\n",
    "import gzip\n",
    "from Bio import SeqIO\n",
    "\n",
    "\n",
    "# regex for number extraction from string\n",
    "number_pattern =  r'(-?(?:0|[1-9]\\d*)(?:\\.\\d+)?(?:[eE][+-]?\\d+)?)'\n"
   ]
  },
  {
   "cell_type": "code",
   "execution_count": 2,
   "metadata": {},
   "outputs": [
    {
     "data": {
      "text/html": [
       "<div>\n",
       "<style scoped>\n",
       "    .dataframe tbody tr th:only-of-type {\n",
       "        vertical-align: middle;\n",
       "    }\n",
       "\n",
       "    .dataframe tbody tr th {\n",
       "        vertical-align: top;\n",
       "    }\n",
       "\n",
       "    .dataframe thead th {\n",
       "        text-align: right;\n",
       "    }\n",
       "</style>\n",
       "<table border=\"1\" class=\"dataframe\">\n",
       "  <thead>\n",
       "    <tr style=\"text-align: right;\">\n",
       "      <th></th>\n",
       "      <th>Dnmt3a_LSB52_0h_repA</th>\n",
       "      <th>Dnmt3a_LSB53_0h_repA</th>\n",
       "      <th>Dnmt3a_LSB52_0h_repB</th>\n",
       "      <th>Dnmt3a_LSB53_0h_repB</th>\n",
       "      <th>Dnmt3a_LSB52_2h_repA</th>\n",
       "      <th>Dnmt3a_LSB53_2h_repA</th>\n",
       "      <th>Dnmt3a_LSB52_2h_repB</th>\n",
       "      <th>Dnmt3a_LSB53_2h_repB</th>\n",
       "      <th>Keap1_LSB28_0h_repA</th>\n",
       "      <th>Keap1_LSB29_0h_repA</th>\n",
       "      <th>...</th>\n",
       "      <th>Nos2_LSB26_18h_repB</th>\n",
       "      <th>Nos2_LSB27_18h_repB</th>\n",
       "      <th>Tmem258_LSB30_6h_repA</th>\n",
       "      <th>Tmem258_LSB31_6h_repA</th>\n",
       "      <th>Tmem258_LSB30_6h_repB</th>\n",
       "      <th>Tmem258_LSB31_6h_repB</th>\n",
       "      <th>Tmem258_LSB30_18h_repA</th>\n",
       "      <th>Tmem258_LSB31_18h_repA</th>\n",
       "      <th>Tmem258_LSB30_18h_repB</th>\n",
       "      <th>Tmem258_LSB31_18h_repB</th>\n",
       "    </tr>\n",
       "  </thead>\n",
       "  <tbody>\n",
       "    <tr>\n",
       "      <th>Fth1</th>\n",
       "      <td>5833.61</td>\n",
       "      <td>21109.88</td>\n",
       "      <td>5761.22</td>\n",
       "      <td>25680.01</td>\n",
       "      <td>7560.93</td>\n",
       "      <td>22720.71</td>\n",
       "      <td>8658.8</td>\n",
       "      <td>20374.68</td>\n",
       "      <td>33433.17</td>\n",
       "      <td>34159.48</td>\n",
       "      <td>...</td>\n",
       "      <td>49370.82</td>\n",
       "      <td>23860.32</td>\n",
       "      <td>14783.14</td>\n",
       "      <td>33860.23</td>\n",
       "      <td>14833.94</td>\n",
       "      <td>30887.65</td>\n",
       "      <td>15279.83</td>\n",
       "      <td>48270.76</td>\n",
       "      <td>13148.89</td>\n",
       "      <td>45032.11</td>\n",
       "    </tr>\n",
       "    <tr>\n",
       "      <th>Rn45s</th>\n",
       "      <td>14528.97</td>\n",
       "      <td>13527.62</td>\n",
       "      <td>16642.61</td>\n",
       "      <td>17926.43</td>\n",
       "      <td>18181.65</td>\n",
       "      <td>15706.77</td>\n",
       "      <td>12196.8</td>\n",
       "      <td>13436.17</td>\n",
       "      <td>13538.74</td>\n",
       "      <td>11889.42</td>\n",
       "      <td>...</td>\n",
       "      <td>17722.43</td>\n",
       "      <td>18624.35</td>\n",
       "      <td>18490.93</td>\n",
       "      <td>22965.37</td>\n",
       "      <td>26396.97</td>\n",
       "      <td>31177.56</td>\n",
       "      <td>19355.00</td>\n",
       "      <td>18919.87</td>\n",
       "      <td>19288.53</td>\n",
       "      <td>19262.36</td>\n",
       "    </tr>\n",
       "  </tbody>\n",
       "</table>\n",
       "<p>2 rows × 111 columns</p>\n",
       "</div>"
      ],
      "text/plain": [
       "       Dnmt3a_LSB52_0h_repA  Dnmt3a_LSB53_0h_repA  Dnmt3a_LSB52_0h_repB  \\\n",
       "Fth1                5833.61              21109.88               5761.22   \n",
       "Rn45s              14528.97              13527.62              16642.61   \n",
       "\n",
       "       Dnmt3a_LSB53_0h_repB  Dnmt3a_LSB52_2h_repA  Dnmt3a_LSB53_2h_repA  \\\n",
       "Fth1               25680.01               7560.93              22720.71   \n",
       "Rn45s              17926.43              18181.65              15706.77   \n",
       "\n",
       "       Dnmt3a_LSB52_2h_repB  Dnmt3a_LSB53_2h_repB  Keap1_LSB28_0h_repA  \\\n",
       "Fth1                 8658.8              20374.68             33433.17   \n",
       "Rn45s               12196.8              13436.17             13538.74   \n",
       "\n",
       "       Keap1_LSB29_0h_repA  ...  Nos2_LSB26_18h_repB  Nos2_LSB27_18h_repB  \\\n",
       "Fth1              34159.48  ...             49370.82             23860.32   \n",
       "Rn45s             11889.42  ...             17722.43             18624.35   \n",
       "\n",
       "       Tmem258_LSB30_6h_repA  Tmem258_LSB31_6h_repA  Tmem258_LSB30_6h_repB  \\\n",
       "Fth1                14783.14               33860.23               14833.94   \n",
       "Rn45s               18490.93               22965.37               26396.97   \n",
       "\n",
       "       Tmem258_LSB31_6h_repB  Tmem258_LSB30_18h_repA  Tmem258_LSB31_18h_repA  \\\n",
       "Fth1                30887.65                15279.83                48270.76   \n",
       "Rn45s               31177.56                19355.00                18919.87   \n",
       "\n",
       "       Tmem258_LSB30_18h_repB  Tmem258_LSB31_18h_repB  \n",
       "Fth1                 13148.89                45032.11  \n",
       "Rn45s                19288.53                19262.36  \n",
       "\n",
       "[2 rows x 111 columns]"
      ]
     },
     "execution_count": 2,
     "metadata": {},
     "output_type": "execute_result"
    }
   ],
   "source": [
    "exp_df = pd.read_csv('./GSE115553_ProcessedMatrixFile.csv', index_col=0)\n",
    "exp_df.head(2)"
   ]
  },
  {
   "cell_type": "code",
   "execution_count": 3,
   "metadata": {},
   "outputs": [],
   "source": [
    "time_set = set()\n",
    "rep_set = set()\n",
    "formated_names = []\n",
    "exp_dict = {}\n",
    "for name in exp_df.columns:\n",
    "    exp_pattern = r'(.*)_(\\d+)h_(.*)'\n",
    "    match = re.search(exp_pattern, name)\n",
    "    rep_name = match.group(1)+'_'+match.group(3)\n",
    "    rep_set.add(rep_name)\n",
    "    time = int(match.group(2))\n",
    "    time_set.add(time)\n",
    "    if rep_name in exp_dict:\n",
    "        exp_dict[rep_name].append(time)\n",
    "    else:\n",
    "        exp_dict[rep_name] = []\n",
    "        exp_dict[rep_name].append(time)\n",
    "    formated_names.append(rep_name+'@'+match.group(2))"
   ]
  },
  {
   "cell_type": "code",
   "execution_count": 4,
   "metadata": {},
   "outputs": [],
   "source": [
    "exp_df.columns = formated_names\n",
    "rep_list = list(rep_set)\n",
    "time_list = list(time_set)\n",
    "time_list.sort()"
   ]
  },
  {
   "cell_type": "code",
   "execution_count": 5,
   "metadata": {},
   "outputs": [],
   "source": [
    "for key in exp_dict.keys():\n",
    "    if len(exp_dict[key]) < 4:\n",
    "        rep_list.remove(key)"
   ]
  },
  {
   "cell_type": "code",
   "execution_count": 6,
   "metadata": {},
   "outputs": [],
   "source": [
    "train_source_idx = [i[0]+'@'+str(i[1]) for i in product(rep_list, time_list[0:2])]\n",
    "train_target_idx = [i[0]+'@'+str(i[1]) for i in product(rep_list, time_list[1:3])]\n",
    "test_source_idx = [i[0]+'@'+str(i[1]) for i in product(rep_list, time_list[-2:-1])]\n",
    "test_target_idx = [i[0]+'@'+str(i[1]) for i in product(rep_list, time_list[-1:])]"
   ]
  },
  {
   "cell_type": "code",
   "execution_count": 7,
   "metadata": {},
   "outputs": [],
   "source": [
    "normalized_df = exp_df.apply(stats.zscore, axis=0)"
   ]
  },
  {
   "cell_type": "code",
   "execution_count": 9,
   "metadata": {},
   "outputs": [],
   "source": [
    "normalized_df[train_source_idx].to_csv('./normalized/train_source.csv.gz', compression='gzip')\n",
    "normalized_df[train_target_idx].to_csv('./normalized/train_target.csv.gz', compression='gzip')\n",
    "normalized_df[test_source_idx].to_csv('./normalized/test_source.csv.gz', compression='gzip')\n",
    "normalized_df[test_target_idx].to_csv('./normalized/test_target.csv.gz', compression='gzip')"
   ]
  },
  {
   "cell_type": "code",
   "execution_count": null,
   "metadata": {},
   "outputs": [],
   "source": []
  }
 ],
 "metadata": {
  "kernelspec": {
   "display_name": "pymc_env",
   "language": "python",
   "name": "python3"
  },
  "language_info": {
   "codemirror_mode": {
    "name": "ipython",
    "version": 3
   },
   "file_extension": ".py",
   "mimetype": "text/x-python",
   "name": "python",
   "nbconvert_exporter": "python",
   "pygments_lexer": "ipython3",
   "version": "3.11.0"
  }
 },
 "nbformat": 4,
 "nbformat_minor": 2
}
