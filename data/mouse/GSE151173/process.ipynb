{
 "cells": [
  {
   "cell_type": "code",
   "execution_count": 1,
   "metadata": {},
   "outputs": [],
   "source": [
    "import pandas as pd\n",
    "import numpy as np\n",
    "from tqdm import tqdm\n",
    "import re\n",
    "import glob\n",
    "import os\n",
    "from functools import cmp_to_key, partial\n",
    "from itertools import product\n",
    "from scipy import stats\n",
    "import gzip\n",
    "from Bio import SeqIO\n",
    "\n",
    "\n",
    "# regex for number extraction from string\n",
    "number_pattern =  r'(-?(?:0|[1-9]\\d*)(?:\\.\\d+)?(?:[eE][+-]?\\d+)?)'\n"
   ]
  },
  {
   "cell_type": "code",
   "execution_count": 2,
   "metadata": {},
   "outputs": [
    {
     "data": {
      "text/html": [
       "<div>\n",
       "<style scoped>\n",
       "    .dataframe tbody tr th:only-of-type {\n",
       "        vertical-align: middle;\n",
       "    }\n",
       "\n",
       "    .dataframe tbody tr th {\n",
       "        vertical-align: top;\n",
       "    }\n",
       "\n",
       "    .dataframe thead th {\n",
       "        text-align: right;\n",
       "    }\n",
       "</style>\n",
       "<table border=\"1\" class=\"dataframe\">\n",
       "  <thead>\n",
       "    <tr style=\"text-align: right;\">\n",
       "      <th></th>\n",
       "      <th>KO1ZT02</th>\n",
       "      <th>KO1ZT06</th>\n",
       "      <th>KO1ZT10</th>\n",
       "      <th>KO1ZT14</th>\n",
       "      <th>KO1ZT18</th>\n",
       "      <th>KO1ZT22</th>\n",
       "      <th>KO2ZT02</th>\n",
       "      <th>KO2ZT06</th>\n",
       "      <th>KO2ZT10</th>\n",
       "      <th>KO2ZT14</th>\n",
       "      <th>...</th>\n",
       "      <th>PO5ZT10</th>\n",
       "      <th>PO5ZT14</th>\n",
       "      <th>PO5ZT18</th>\n",
       "      <th>PO5ZT22</th>\n",
       "      <th>PO6ZT02</th>\n",
       "      <th>PO6ZT06</th>\n",
       "      <th>PO6ZT10</th>\n",
       "      <th>PO6ZT14</th>\n",
       "      <th>PO6ZT18</th>\n",
       "      <th>PO6ZT22</th>\n",
       "    </tr>\n",
       "  </thead>\n",
       "  <tbody>\n",
       "    <tr>\n",
       "      <th>Gnai3</th>\n",
       "      <td>95</td>\n",
       "      <td>88</td>\n",
       "      <td>164</td>\n",
       "      <td>129</td>\n",
       "      <td>166</td>\n",
       "      <td>110</td>\n",
       "      <td>207</td>\n",
       "      <td>154</td>\n",
       "      <td>189</td>\n",
       "      <td>230</td>\n",
       "      <td>...</td>\n",
       "      <td>177</td>\n",
       "      <td>183</td>\n",
       "      <td>112</td>\n",
       "      <td>181</td>\n",
       "      <td>174</td>\n",
       "      <td>227</td>\n",
       "      <td>176</td>\n",
       "      <td>197</td>\n",
       "      <td>119</td>\n",
       "      <td>926</td>\n",
       "    </tr>\n",
       "    <tr>\n",
       "      <th>Pbsn</th>\n",
       "      <td>0</td>\n",
       "      <td>0</td>\n",
       "      <td>0</td>\n",
       "      <td>0</td>\n",
       "      <td>0</td>\n",
       "      <td>0</td>\n",
       "      <td>0</td>\n",
       "      <td>0</td>\n",
       "      <td>0</td>\n",
       "      <td>0</td>\n",
       "      <td>...</td>\n",
       "      <td>0</td>\n",
       "      <td>0</td>\n",
       "      <td>0</td>\n",
       "      <td>0</td>\n",
       "      <td>0</td>\n",
       "      <td>0</td>\n",
       "      <td>0</td>\n",
       "      <td>0</td>\n",
       "      <td>0</td>\n",
       "      <td>0</td>\n",
       "    </tr>\n",
       "  </tbody>\n",
       "</table>\n",
       "<p>2 rows × 144 columns</p>\n",
       "</div>"
      ],
      "text/plain": [
       "       KO1ZT02  KO1ZT06  KO1ZT10  KO1ZT14  KO1ZT18  KO1ZT22  KO2ZT02  KO2ZT06  \\\n",
       "Gnai3       95       88      164      129      166      110      207      154   \n",
       "Pbsn         0        0        0        0        0        0        0        0   \n",
       "\n",
       "       KO2ZT10  KO2ZT14  ...  PO5ZT10  PO5ZT14  PO5ZT18  PO5ZT22  PO6ZT02  \\\n",
       "Gnai3      189      230  ...      177      183      112      181      174   \n",
       "Pbsn         0        0  ...        0        0        0        0        0   \n",
       "\n",
       "       PO6ZT06  PO6ZT10  PO6ZT14  PO6ZT18  PO6ZT22  \n",
       "Gnai3      227      176      197      119      926  \n",
       "Pbsn         0        0        0        0        0  \n",
       "\n",
       "[2 rows x 144 columns]"
      ]
     },
     "execution_count": 2,
     "metadata": {},
     "output_type": "execute_result"
    }
   ],
   "source": [
    "exp_df = pd.read_csv('./GSE151173_Gene_RAW_Table.txt.gz', compression='gzip', sep='\\t', index_col=0)\n",
    "exp_df.head(2)"
   ]
  },
  {
   "cell_type": "code",
   "execution_count": 3,
   "metadata": {},
   "outputs": [],
   "source": [
    "rep_set = set()\n",
    "time_set = set()\n",
    "for name in exp_df.columns:\n",
    "    name_splits = name.split('ZT')\n",
    "    rep_set.add(name_splits[0])\n",
    "    time_set.add(name_splits[1])\n",
    "rep_list = list(rep_set)\n",
    "time_list = list(time_set)\n",
    "time_list.sort()"
   ]
  },
  {
   "cell_type": "code",
   "execution_count": 4,
   "metadata": {},
   "outputs": [],
   "source": [
    "train_source_idx = [i[0]+'ZT'+str(i[1]) for i in product(rep_list, time_list[0:3])]\n",
    "train_target_idx = [i[0]+'ZT'+str(i[1]) for i in product(rep_list, time_list[1:4])]\n",
    "test_source_idx = [i[0]+'ZT'+str(i[1]) for i in product(rep_list, time_list[-3:-1])]\n",
    "test_target_idx = [i[0]+'ZT'+str(i[1]) for i in product(rep_list, time_list[-2:])]"
   ]
  },
  {
   "cell_type": "code",
   "execution_count": 5,
   "metadata": {},
   "outputs": [],
   "source": [
    "gene_meta_df = pd.read_csv('../MGI_Gene_Model_Coord.rpt', sep='\\t', index_col=2)\n",
    "gene_meta_df['NCBI_length'] = gene_meta_df['9. NCBI gene end'] - gene_meta_df['8. NCBI gene start']\n",
    "gene_meta_df['Ensembl_length'] = gene_meta_df['14. Ensembl gene end'] - gene_meta_df['13. Ensembl gene start']\n",
    "\n",
    "known_genes = list(set(exp_df.index).intersection(set(gene_meta_df.index)))\n",
    "known_genes = gene_meta_df.loc[known_genes].loc[~gene_meta_df.loc[known_genes]['NCBI_length'].isna()].index\n",
    "\n",
    "gene_length_list = [gene_meta_df.loc[gene]['NCBI_length'] for gene in known_genes]\n",
    "\n",
    "normalized_df = exp_df.loc[known_genes]\n",
    "normalized_df = (normalized_df+0.001)*1000\n",
    "normalized_df = normalized_df.div(gene_meta_df.loc[known_genes]['NCBI_length'], axis=0)\n",
    "normalized_df = normalized_df.apply(stats.zscore, axis=0)"
   ]
  },
  {
   "cell_type": "code",
   "execution_count": 6,
   "metadata": {},
   "outputs": [],
   "source": [
    "normalized_df[train_source_idx].to_csv('./normalized/train_source.csv.gz', compression='gzip')\n",
    "normalized_df[train_target_idx].to_csv('./normalized/train_target.csv.gz', compression='gzip')\n",
    "normalized_df[test_source_idx].to_csv('./normalized/test_source.csv.gz', compression='gzip')\n",
    "normalized_df[test_target_idx].to_csv('./normalized/test_target.csv.gz', compression='gzip')"
   ]
  },
  {
   "cell_type": "code",
   "execution_count": null,
   "metadata": {},
   "outputs": [],
   "source": []
  }
 ],
 "metadata": {
  "kernelspec": {
   "display_name": "pymc_env",
   "language": "python",
   "name": "python3"
  },
  "language_info": {
   "codemirror_mode": {
    "name": "ipython",
    "version": 3
   },
   "file_extension": ".py",
   "mimetype": "text/x-python",
   "name": "python",
   "nbconvert_exporter": "python",
   "pygments_lexer": "ipython3",
   "version": "3.11.0"
  },
  "orig_nbformat": 4
 },
 "nbformat": 4,
 "nbformat_minor": 2
}
