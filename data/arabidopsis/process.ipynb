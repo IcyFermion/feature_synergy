{
 "cells": [
  {
   "cell_type": "markdown",
   "id": "b322ca8b",
   "metadata": {},
   "source": [
    "Scripts for TPM normalization in arabidopsis sequence data"
   ]
  },
  {
   "cell_type": "code",
   "execution_count": 1,
   "id": "bf391236-1fce-42bf-8fab-0d77c0e15a1f",
   "metadata": {},
   "outputs": [],
   "source": [
    "import pandas as pd\n",
    "import numpy as np\n",
    "from Bio import SeqIO\n",
    "from scipy import stats\n",
    "import gzip\n",
    "import re\n",
    "\n",
    "# regex for number extraction from string\n",
    "number_pattern =  r'(-?(?:0|[1-9]\\d*)(?:\\.\\d+)?(?:[eE][+-]?\\d+)?)'"
   ]
  },
  {
   "cell_type": "code",
   "execution_count": 2,
   "id": "67d24c96-4b1f-40b5-b85f-fe67fdeae04e",
   "metadata": {},
   "outputs": [],
   "source": [
    "# get gene length\n",
    "gene_id_list = []\n",
    "length_list = []\n",
    "gene_set = set()\n",
    "\n",
    "fasta_sequences = SeqIO.parse(gzip.open(\"./Araport11_seq_20220914.gz\", \"rt\"),'fasta')\n",
    "for fasta in fasta_sequences:\n",
    "    gene_set.add(fasta.id.split('.')[0])\n",
    "    gene_id_list.append(fasta.id.split('.')[0])\n",
    "    length_list.append(len(str(fasta.seq)))\n",
    "\n",
    "gene_length_dict = dict.fromkeys(list(gene_set))\n",
    "for name, length in zip(gene_id_list, length_list):\n",
    "    if (gene_length_dict[name] == None): gene_length_dict[name] = []\n",
    "    gene_length_dict[name].append(length)\n",
    "\n",
    "gene_id_list = []\n",
    "length_list = []\n",
    "for name in gene_length_dict.keys():\n",
    "    gene_id_list.append(name)\n",
    "    length_list.append(np.median(gene_length_dict[name]))\n",
    "\n",
    "out_df = pd.DataFrame(index=gene_id_list)\n",
    "out_df['gene_length'] = length_list\n",
    "out_df.to_csv('./arabidopsis_gene_length.csv')"
   ]
  },
  {
   "cell_type": "code",
   "execution_count": 3,
   "id": "3a1228ff-cb3f-42ca-bcc5-fae789e116b4",
   "metadata": {},
   "outputs": [],
   "source": [
    "# training/testing splits for target/source, finalize with TPM, z-score\n",
    "source_exp_df = pd.read_csv('./GSE97500/ts_source_exp.csv', index_col=0)\n",
    "target_exp_df = pd.read_csv('./GSE97500/ts_target_exp.csv', index_col=0)\n",
    "\n",
    "common_genes = list(set(out_df.index).intersection(set(source_exp_df.index), set(target_exp_df.index)))\n",
    "\n",
    "train_idx = []\n",
    "test_idx = []\n",
    "for i, name in enumerate(source_exp_df.columns):\n",
    "    if (i%8 < 6):\n",
    "        train_idx.append(name)\n",
    "    else:\n",
    "        test_idx.append(name)\n",
    "train_source_df = source_exp_df[train_idx].loc[common_genes]\n",
    "test_source_df = source_exp_df[test_idx].loc[common_genes]\n",
    "\n",
    "train_idx = []\n",
    "test_idx = []\n",
    "for i, name in enumerate(target_exp_df.columns):\n",
    "    if (i%8 < 6):\n",
    "        train_idx.append(name)\n",
    "    else:\n",
    "        test_idx.append(name)\n",
    "train_target_df = target_exp_df[train_idx].loc[common_genes]\n",
    "test_target_df = target_exp_df[test_idx].loc[common_genes]\n",
    "\n",
    "train_source_df = train_source_df.div(out_df.loc[common_genes]['gene_length'], axis=0)\n",
    "test_source_df = test_source_df.div(out_df.loc[common_genes]['gene_length'], axis=0)\n",
    "train_target_df = train_target_df.div(out_df.loc[common_genes]['gene_length'], axis=0)\n",
    "test_target_df = test_target_df.div(out_df.loc[common_genes]['gene_length'], axis=0)\n",
    "\n",
    "\n",
    "train_source_df = train_source_df.apply(stats.zscore, axis=0)\n",
    "train_target_df = train_target_df.apply(stats.zscore, axis=0)\n",
    "test_source_df = test_source_df.apply(stats.zscore, axis=0)\n",
    "test_target_df = test_target_df.apply(stats.zscore, axis=0)\n",
    "\n",
    "train_source_df.to_csv('./GSE97500/normalized/train_source.csv.gz', compression='gzip')\n",
    "test_source_df.to_csv('./GSE97500/normalized/test_source.csv.gz', compression='gzip')\n",
    "train_target_df.to_csv('./GSE97500/normalized/train_target.csv.gz', compression='gzip')\n",
    "test_target_df.to_csv('./GSE97500/normalized/test_target.csv.gz', compression='gzip')"
   ]
  }
 ],
 "metadata": {
  "kernelspec": {
   "display_name": "pymc_env",
   "language": "python",
   "name": "python3"
  },
  "language_info": {
   "codemirror_mode": {
    "name": "ipython",
    "version": 3
   },
   "file_extension": ".py",
   "mimetype": "text/x-python",
   "name": "python",
   "nbconvert_exporter": "python",
   "pygments_lexer": "ipython3",
   "version": "3.11.0"
  }
 },
 "nbformat": 4,
 "nbformat_minor": 5
}
