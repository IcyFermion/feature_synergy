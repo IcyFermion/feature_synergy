{
 "cells": [
  {
   "cell_type": "markdown",
   "metadata": {},
   "source": [
    "Scripts for regression experiments on mouse"
   ]
  },
  {
   "cell_type": "code",
   "execution_count": 2,
   "metadata": {},
   "outputs": [],
   "source": [
    "import pandas as pd\n",
    "from itertools import product\n",
    "import re\n",
    "\n",
    "\n",
    "from scipy import stats\n",
    "\n",
    "# regex for number extraction from string\n",
    "number_pattern =  r'(-?(?:0|[1-9]\\d*)(?:\\.\\d+)?(?:[eE][+-]?\\d+)?)'\n"
   ]
  },
  {
   "cell_type": "code",
   "execution_count": 3,
   "metadata": {},
   "outputs": [],
   "source": [
    "def normalize(df, out_put_dir):\n",
    "    time_set = set()\n",
    "    rep_set = set()\n",
    "    formated_names = []\n",
    "    exp_dict = {}\n",
    "    for name in df.columns:\n",
    "        time = int(name.split('_')[-1])\n",
    "        rep_name = '_'.join(name.split('_')[:-1])\n",
    "        rep_set.add(rep_name)\n",
    "        time_set.add(time)\n",
    "        if rep_name in exp_dict:\n",
    "            exp_dict[rep_name].append(time)\n",
    "        else:\n",
    "            exp_dict[rep_name] = []\n",
    "            exp_dict[rep_name].append(time)\n",
    "        formated_names.append(rep_name+'@'+name.split('_')[-1])\n",
    "\n",
    "    df.columns = formated_names\n",
    "    rep_list = list(rep_set)\n",
    "    time_list = list(time_set)\n",
    "    time_list.sort()\n",
    "\n",
    "    train_source_idx = []\n",
    "    train_target_idx = []\n",
    "    test_source_idx = []\n",
    "    test_target_idx = []\n",
    "\n",
    "    for key in exp_dict.keys():\n",
    "        exp_list = [key+'@'+str(time) for time in exp_dict[key]]\n",
    "        if len(exp_dict[key]) > 10:\n",
    "            train_source_idx.extend(exp_list[:-5])\n",
    "            train_target_idx.extend(exp_list[1:-4])\n",
    "            test_source_idx.extend(exp_list[-5:-1])\n",
    "            test_target_idx.extend(exp_list[-4:])\n",
    "        else:\n",
    "            train_source_idx.extend(exp_list[:-4])\n",
    "            train_target_idx.extend(exp_list[1:-3])\n",
    "            test_source_idx.extend(exp_list[-4:-1])\n",
    "            test_target_idx.extend(exp_list[-3:])\n",
    "        \n",
    "    normalized_df = df.apply(stats.zscore, axis=0)\n",
    "    normalized_df[train_source_idx].to_csv('./{}/normalized/train_source.csv.gz'.format(out_put_dir), compression='gzip')\n",
    "    normalized_df[train_target_idx].to_csv('./{}/normalized/train_target.csv.gz'.format(out_put_dir), compression='gzip')\n",
    "    normalized_df[test_source_idx].to_csv('./{}/normalized/test_source.csv.gz'.format(out_put_dir), compression='gzip')\n",
    "    normalized_df[test_target_idx].to_csv('./{}/normalized/test_target.csv.gz'.format(out_put_dir), compression='gzip')"
   ]
  },
  {
   "cell_type": "code",
   "execution_count": 7,
   "metadata": {},
   "outputs": [],
   "source": [
    "exp_df = pd.read_csv(\"./GSE221103/GSE221103_Shep_Sknas_N-MYC-ER_RNA-Seq_TPM_Circadian.txt.gz\", compression='gzip', index_col=1, sep='\\t')\n",
    "exp_df = exp_df.drop(columns=['GENEID'])\n",
    "exp_df = exp_df[~exp_df.index.duplicated(keep='first')]\n",
    "normalize(exp_df, 'GSE221103')"
   ]
  },
  {
   "cell_type": "code",
   "execution_count": 8,
   "metadata": {},
   "outputs": [],
   "source": [
    "exp_df = pd.read_csv(\"./GSE221173/GSE221173_MYC-ER_RNA-Seq_TPM_Circadian_U2OS.txt.gz\", compression='gzip', index_col=1, sep='\\t')\n",
    "exp_df = exp_df.drop(columns=['GENEID'])\n",
    "exp_df = exp_df[~exp_df.index.duplicated(keep='first')]\n",
    "normalize(exp_df, 'GSE221173')"
   ]
  },
  {
   "cell_type": "code",
   "execution_count": null,
   "metadata": {},
   "outputs": [],
   "source": []
  }
 ],
 "metadata": {
  "kernelspec": {
   "display_name": "pymc_env",
   "language": "python",
   "name": "python3"
  },
  "language_info": {
   "codemirror_mode": {
    "name": "ipython",
    "version": 3
   },
   "file_extension": ".py",
   "mimetype": "text/x-python",
   "name": "python",
   "nbconvert_exporter": "python",
   "pygments_lexer": "ipython3",
   "version": "3.11.7"
  }
 },
 "nbformat": 4,
 "nbformat_minor": 4
}
