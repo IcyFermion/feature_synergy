{
 "cells": [
  {
   "cell_type": "code",
   "execution_count": 1,
   "id": "1fa7b794-1193-4ac2-a7dc-04456168123d",
   "metadata": {},
   "outputs": [],
   "source": [
    "import pandas as pd\n",
    "import numpy as np\n",
    "from tqdm import tqdm\n",
    "import copy\n",
    "\n",
    "from scipy import stats\n",
    "\n",
    "from multiprocessing import Pool, cpu_count\n",
    "\n",
    "# regex for number extraction from string\n",
    "number_pattern =  r'(-?(?:0|[1-9]\\d*)(?:\\.\\d+)?(?:[eE][+-]?\\d+)?)'\n",
    "\n",
    "import matplotlib.pyplot as plt\n",
    "%matplotlib inline\n",
    "plt.rcParams.update({'figure.figsize':(7,5), 'figure.dpi':200})"
   ]
  },
  {
   "cell_type": "code",
   "execution_count": 2,
   "id": "d5f45708-ae0b-49dd-ab6a-d4935728656b",
   "metadata": {},
   "outputs": [],
   "source": [
    "prop_cycle = plt.rcParams['axes.prop_cycle']\n",
    "colors = prop_cycle.by_key()['color']\n",
    "\n",
    "disjoint_set_size_threshold = 10\n",
    "genetic_shuffle_frac = 0.5"
   ]
  },
  {
   "cell_type": "code",
   "execution_count": 3,
   "id": "7469d736",
   "metadata": {},
   "outputs": [],
   "source": [
    "def shuffle_frac_of_array(input_array, random_seed, shuffle_frac):\n",
    "    np.random.seed(random_seed)\n",
    "    shuffle_len = int(len(input_array) * shuffle_frac)\n",
    "    keep_len = len(input_array) - shuffle_len\n",
    "    mask_array = np.concatenate([np.full(keep_len, False), np.full(shuffle_len, True)])\n",
    "    np.random.shuffle(mask_array)\n",
    "    keep_sub = []\n",
    "    shuffle_sub = []\n",
    "    for i, mask in enumerate(mask_array):\n",
    "        if mask: shuffle_sub.append(input_array[i])\n",
    "        else: keep_sub.append(input_array[i])\n",
    "    shuffle_sub = np.array(shuffle_sub)\n",
    "    np.random.shuffle(shuffle_sub)\n",
    "    new_array = []\n",
    "    shuffle_idx = 0\n",
    "    keep_idx = 0\n",
    "    for mask in mask_array:\n",
    "        if mask: \n",
    "            new_array.append(shuffle_sub[shuffle_idx])\n",
    "            shuffle_idx += 1\n",
    "        else: \n",
    "            new_array.append(keep_sub[keep_idx])\n",
    "            keep_idx += 1\n",
    "    return new_array"
   ]
  },
  {
   "cell_type": "code",
   "execution_count": 3,
   "id": "d7844e80-d321-42e5-bb46-7b31817dd307",
   "metadata": {},
   "outputs": [],
   "source": [
    "tf_df_list = [\n",
    "    pd.read_csv('../output/network_model/yeast_tf.csv', index_col=0, names=['tf']),\n",
    "    pd.read_csv('../output/network_model/bsubtilis_tf.csv', index_col=0, names=['tf']),\n",
    "    pd.read_csv('../output/network_model/arabidopsis_tf.csv', index_col=0, names=['tf']),\n",
    "    pd.read_csv('../output/network_model/mouse_tf.csv', index_col=0, names=['tf']),\n",
    "    pd.read_csv('../output/network_model/human_tf.csv', index_col=0, names=['tf']),\n",
    "]\n",
    "\n",
    "res_df_list = [\n",
    "    pd.read_csv('../output/network_model/yeast_full_results.csv.gz', index_col=0, compression='gzip'),\n",
    "    pd.read_csv('../output/network_model/bsubtilis_full_results.csv.gz', index_col=0, compression='gzip'),\n",
    "    pd.read_csv('../output/network_model/arabidopsis_full_results.csv.gz', index_col=0, compression='gzip'),\n",
    "    pd.read_csv('../output/network_model/mouse_full_results.csv.gz', index_col=0, compression='gzip'),\n",
    "    pd.read_csv('../output/network_model/human_full_results.csv.gz', index_col=0, compression='gzip'),\n",
    "]\n",
    "species_file_names = ['yeast', 'bsubtilis', 'arabidopsis', 'mouse', 'human']"
   ]
  },
  {
   "cell_type": "code",
   "execution_count": 27,
   "id": "c8f8f69a-fd38-4be4-9fc9-75f5dc95b407",
   "metadata": {},
   "outputs": [],
   "source": [
    "res_df = pd.read_csv('../output/network_model/arabidopsis_all_tf_high_var_target_efron_train.csv.gz', index_col=0, compression='gzip')\n",
    "tf_list = pd.read_csv('../output/network_model/arabidopsis_tf.csv', index_col=0, names=['tf'])\n",
    "out_df = res_df[['rf_rmse', 'test_std', 'rf_efron_features', 'rf_efron_complementary_features_list']]\n"
   ]
  },
  {
   "cell_type": "code",
   "execution_count": 28,
   "id": "f94468b0-954d-42aa-ab90-787ef8522963",
   "metadata": {},
   "outputs": [],
   "source": [
    "pathway_genes = pd.read_csv('../data/pathway.txt', index_col=0).index\n",
    "gene_names = [\n",
    "    x.upper()\n",
    "    for x in pathway_genes\n",
    "]\n",
    "pathway_matches = []\n",
    "for ind in out_df.index:\n",
    "    if ind in gene_names:\n",
    "        pathway_matches.append(ind)\n",
    "\n",
    "out_df = out_df.loc[pathway_matches]"
   ]
  },
  {
   "cell_type": "code",
   "execution_count": 29,
   "id": "bacd17f7-2236-4c32-b742-a8001eda63ed",
   "metadata": {},
   "outputs": [],
   "source": [
    "disjoint_sets_list = []\n",
    "disjoint_sets_dict = {}\n",
    "minimal_sets_list = []\n",
    "for i, row in out_df.iterrows():\n",
    "    first_set = row['rf_efron_features'].split('; ')\n",
    "    first_set = set([int(i) for i in first_set])\n",
    "    # first_set = ': '.join([tf_list.index[int(j)] for j in first_set])\n",
    "    minimal_sets_list.append(first_set)\n",
    "    if (len(first_set) > disjoint_set_size_threshold):\n",
    "        disjoint_sets = []\n",
    "    else:\n",
    "        disjoint_sets = [first_set]\n",
    "    if isinstance(row['rf_efron_complementary_features_list'], str):\n",
    "        rest_of_sets = row['rf_efron_complementary_features_list'].split(', ')\n",
    "        for n_set in rest_of_sets:\n",
    "            disjoint_set = n_set.split('; ')\n",
    "            disjoint_set = set([int(i) for i in disjoint_set])\n",
    "            if (len(disjoint_set) <= disjoint_set_size_threshold):\n",
    "                disjoint_sets.append(disjoint_set)\n",
    "    # print(disjoint_sets)\n",
    "    # break\n",
    "    if (len(disjoint_sets) > 0):\n",
    "        disjoint_sets_list.append(disjoint_sets)\n",
    "        disjoint_sets_dict[i] = disjoint_sets"
   ]
  },
  {
   "cell_type": "code",
   "execution_count": 30,
   "id": "e1ca7947-1b72-4792-9cbf-fd7331738499",
   "metadata": {},
   "outputs": [],
   "source": [
    "tf_occur_count = {}\n",
    "for disjoint_sets in disjoint_sets_list:\n",
    "    for disjoint_set in disjoint_sets:\n",
    "        for tf in disjoint_set:\n",
    "            if tf in tf_occur_count:\n",
    "                tf_occur_count[tf] += 1\n",
    "            else: tf_occur_count[tf] = 1\n",
    "\n",
    "tf_occur_count = dict(sorted(tf_occur_count.items(), key=lambda item: item[1]))\n",
    "tf_union_set = set(tf_occur_count.keys())\n",
    "sorted_tf_list = [i for i in tf_occur_count.keys()]"
   ]
  },
  {
   "cell_type": "code",
   "execution_count": 31,
   "id": "29670471-f844-4d39-80aa-45cf9ab13185",
   "metadata": {},
   "outputs": [
    {
     "name": "stderr",
     "output_type": "stream",
     "text": [
      "100%|█████████████████████████████████████████████████████████████████████████████████████| 1/1 [00:00<00:00, 56.31it/s]"
     ]
    },
    {
     "name": "stdout",
     "output_type": "stream",
     "text": [
      "0\n",
      "38\n"
     ]
    },
    {
     "name": "stderr",
     "output_type": "stream",
     "text": [
      "\n"
     ]
    }
   ],
   "source": [
    "super_used_set = set()\n",
    "first_best_set = tf_union_set\n",
    "for seed in tqdm(range(1)):\n",
    "    for i in range(1):\n",
    "        cur_frac = 0\n",
    "        # sorted_tf_list = shuffle_frac_of_array(sorted_tf_list, seed, cur_frac)\n",
    "        covered_targets = set()\n",
    "        remaining_targets = set(disjoint_sets_dict.keys())\n",
    "        used_tf = set()\n",
    "        tf_add_index = -1\n",
    "        while (len(remaining_targets)>0):\n",
    "            used_tf.add(sorted_tf_list[tf_add_index])\n",
    "            target_search_list = copy.deepcopy(list(remaining_targets))\n",
    "            for target in target_search_list:\n",
    "                for dj_set in disjoint_sets_dict[target]:\n",
    "                    if len(dj_set.intersection(used_tf)) == len(dj_set):\n",
    "                        remaining_targets.remove(target)\n",
    "                        covered_targets.add(target)\n",
    "                        break\n",
    "            tf_add_index -= 1\n",
    "\n",
    "        used_tf_occur_count = {key: tf_occur_count[key] for key in used_tf}\n",
    "        used_tf_occur_count = dict(sorted(used_tf_occur_count.items(), key=lambda item: item[1]))\n",
    "        used_sorted_tf_list = [i for i in used_tf_occur_count.keys()]\n",
    "        # used_sorted_tf_list = shuffle_frac_of_array(used_sorted_tf_list, seed, genetic_shuffle_frac)\n",
    "        used_tf_union_set = set(used_tf_occur_count.keys())\n",
    "\n",
    "        continue_flag = True\n",
    "        tf_remove_index = 0\n",
    "        while (tf_remove_index < len(used_sorted_tf_list)):\n",
    "            continue_flag = True\n",
    "            new_tf_set = copy.deepcopy(used_tf_union_set)\n",
    "            new_tf_set.remove(used_sorted_tf_list[tf_remove_index])\n",
    "            for disjoint_sets in disjoint_sets_list:\n",
    "                should_continue = False\n",
    "                for disjoint_set in disjoint_sets:\n",
    "                    if len(disjoint_set.intersection(new_tf_set)) == len(disjoint_set):\n",
    "                        should_continue = True\n",
    "                        break\n",
    "                if not should_continue:\n",
    "                    continue_flag = False\n",
    "                    break\n",
    "            if continue_flag:\n",
    "                used_tf_union_set = new_tf_set\n",
    "            tf_remove_index += 1\n",
    "        # super_used_set = super_used_set.union(used_tf_union_set)\n",
    "            \n",
    "        if len(used_tf_union_set) < len(first_best_set):\n",
    "            first_best_set = used_tf_union_set\n",
    "            print(cur_frac)\n",
    "            print(len(used_tf_union_set))"
   ]
  },
  {
   "cell_type": "code",
   "execution_count": 52,
   "id": "cab3457b-282a-441f-8bb0-d022ec954e6c",
   "metadata": {},
   "outputs": [
    {
     "name": "stderr",
     "output_type": "stream",
     "text": [
      "  2%|█▋                                                                                 | 2/100 [00:01<00:56,  1.74it/s]"
     ]
    },
    {
     "name": "stdout",
     "output_type": "stream",
     "text": [
      "0.7000000000000001\n",
      "37\n"
     ]
    },
    {
     "name": "stderr",
     "output_type": "stream",
     "text": [
      "  5%|████▏                                                                              | 5/100 [00:02<00:56,  1.69it/s]"
     ]
    },
    {
     "name": "stdout",
     "output_type": "stream",
     "text": [
      "0.7000000000000001\n",
      "36\n"
     ]
    },
    {
     "name": "stderr",
     "output_type": "stream",
     "text": [
      "100%|█████████████████████████████████████████████████████████████████████████████████| 100/100 [00:59<00:00,  1.69it/s]\n"
     ]
    }
   ],
   "source": [
    "super_used_set = set()\n",
    "best_set = first_best_set\n",
    "core_set = first_best_set\n",
    "intersection_size_list = []\n",
    "for seed in tqdm(range(0,100)):\n",
    "    for i in range(9):\n",
    "        cur_frac = 0.1*(i+1)\n",
    "        sorted_tf_list = shuffle_frac_of_array(sorted_tf_list, seed, cur_frac)\n",
    "        covered_targets = set()\n",
    "        remaining_targets = set(disjoint_sets_dict.keys())\n",
    "        used_tf = set()\n",
    "        tf_add_index = -1\n",
    "        while (len(remaining_targets)>0):\n",
    "            used_tf.add(sorted_tf_list[tf_add_index])\n",
    "            target_search_list = copy.deepcopy(list(remaining_targets))\n",
    "            for target in target_search_list:\n",
    "                for dj_set in disjoint_sets_dict[target]:\n",
    "                    if len(dj_set.intersection(used_tf)) == len(dj_set):\n",
    "                        remaining_targets.remove(target)\n",
    "                        covered_targets.add(target)\n",
    "                        break\n",
    "            tf_add_index -= 1\n",
    "\n",
    "        used_tf_occur_count = {key: tf_occur_count[key] for key in used_tf}\n",
    "        used_tf_occur_count = dict(sorted(used_tf_occur_count.items(), key=lambda item: item[1]))\n",
    "        used_sorted_tf_list = [i for i in used_tf_occur_count.keys()]\n",
    "        # used_sorted_tf_list = shuffle_frac_of_array(used_sorted_tf_list, seed, genetic_shuffle_frac)\n",
    "        used_tf_union_set = set(used_tf_occur_count.keys())\n",
    "\n",
    "        continue_flag = True\n",
    "        tf_remove_index = 0\n",
    "        while (tf_remove_index < len(used_sorted_tf_list)):\n",
    "            continue_flag = True\n",
    "            new_tf_set = copy.deepcopy(used_tf_union_set)\n",
    "            new_tf_set.remove(used_sorted_tf_list[tf_remove_index])\n",
    "            for disjoint_sets in disjoint_sets_list:\n",
    "                should_continue = False\n",
    "                for disjoint_set in disjoint_sets:\n",
    "                    if len(disjoint_set.intersection(new_tf_set)) == len(disjoint_set):\n",
    "                        should_continue = True\n",
    "                        break\n",
    "                if not should_continue:\n",
    "                    continue_flag = False\n",
    "                    break\n",
    "            if continue_flag:\n",
    "                used_tf_union_set = new_tf_set\n",
    "            tf_remove_index += 1\n",
    "        # super_used_set = super_used_set.union(used_tf_union_set)\n",
    "        intersection_size_list.append(len(used_tf_union_set.intersection(first_best_set)))\n",
    "        core_set = core_set.intersection(used_tf_union_set)\n",
    "        if len(used_tf_union_set) < len(best_set):\n",
    "            best_set = used_tf_union_set\n",
    "            print(cur_frac)\n",
    "            print(len(used_tf_union_set))"
   ]
  },
  {
   "cell_type": "code",
   "execution_count": 50,
   "id": "52ad8071-3750-4bca-b0f0-9938b051a5c4",
   "metadata": {},
   "outputs": [
    {
     "data": {
      "text/plain": [
       "25"
      ]
     },
     "execution_count": 50,
     "metadata": {},
     "output_type": "execute_result"
    }
   ],
   "source": [
    "len(best_set.intersection(first_best_set))"
   ]
  },
  {
   "cell_type": "code",
   "execution_count": 53,
   "id": "57088442-b0c3-49a6-aaac-db04181abfac",
   "metadata": {},
   "outputs": [
    {
     "data": {
      "text/plain": [
       "{352, 1250, 1681}"
      ]
     },
     "execution_count": 53,
     "metadata": {},
     "output_type": "execute_result"
    }
   ],
   "source": [
    "core_set"
   ]
  },
  {
   "cell_type": "code",
   "execution_count": 48,
   "id": "4a061c72-756a-4372-b27d-f7b937b83810",
   "metadata": {},
   "outputs": [
    {
     "data": {
      "text/plain": [
       "{352, 1250, 1681}"
      ]
     },
     "execution_count": 48,
     "metadata": {},
     "output_type": "execute_result"
    }
   ],
   "source": [
    "core_set"
   ]
  },
  {
   "cell_type": "code",
   "execution_count": 57,
   "id": "c933347f-54ec-407a-8192-d882720fc86e",
   "metadata": {},
   "outputs": [
    {
     "name": "stdout",
     "output_type": "stream",
     "text": [
      "AT2G41900\n",
      "AT2G24790\n",
      "AT4G39780\n",
      "AT1G72010\n",
      "AT1G13300\n",
      "AT1G01060\n",
      "AT3G61630\n",
      "AT2G47890\n",
      "AT5G57660\n",
      "AT2G33550\n",
      "AT1G63940\n",
      "AT3G22170\n",
      "AT1G64620\n",
      "AT4G34000\n",
      "AT5G39760\n",
      "AT4G12080\n",
      "AT1G76880\n",
      "AT3G27260\n",
      "AT1G74560\n",
      "AT4G38340\n",
      "AT3G25890\n",
      "AT2G35940\n",
      "AT1G07640\n",
      "AT5G51190\n",
      "AT1G07000\n",
      "AT5G67420\n",
      "AT3G61890\n",
      "AT5G67300\n",
      "AT3G10490\n",
      "AT1G25550\n",
      "AT1G45249\n",
      "AT5G48560\n",
      "AT2G01570\n",
      "AT3G24240\n",
      "AT5G66730\n",
      "AT2G24550\n"
     ]
    }
   ],
   "source": [
    "for i in best_set:\n",
    "    print(tf_list.index[i])"
   ]
  },
  {
   "cell_type": "code",
   "execution_count": null,
   "id": "4377c8d3-e165-4795-a8ec-0179fdc367af",
   "metadata": {},
   "outputs": [],
   "source": [
    "best_set"
   ]
  }
 ],
 "metadata": {
  "kernelspec": {
   "display_name": "Python 3 (ipykernel)",
   "language": "python",
   "name": "python3"
  },
  "language_info": {
   "codemirror_mode": {
    "name": "ipython",
    "version": 3
   },
   "file_extension": ".py",
   "mimetype": "text/x-python",
   "name": "python",
   "nbconvert_exporter": "python",
   "pygments_lexer": "ipython3",
   "version": "3.9.13"
  }
 },
 "nbformat": 4,
 "nbformat_minor": 5
}
