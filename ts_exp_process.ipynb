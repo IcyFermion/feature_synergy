{
 "cells": [
  {
   "cell_type": "code",
   "execution_count": 1,
   "metadata": {},
   "outputs": [],
   "source": [
    "import pandas as pd\n",
    "import numpy as np\n",
    "from tqdm import tqdm\n",
    "import re\n",
    "\n",
    "from os import listdir\n",
    "from os.path import isfile, join\n",
    "\n",
    "import os"
   ]
  },
  {
   "attachments": {},
   "cell_type": "markdown",
   "metadata": {},
   "source": [
    "processing GSE153478"
   ]
  },
  {
   "cell_type": "code",
   "execution_count": 3,
   "metadata": {},
   "outputs": [],
   "source": [
    "name_df = pd.read_csv('./data/GSE153478/name.tsv', sep='\\t', index_col=0)\n",
    "rep_name_list = []\n",
    "time_list = []\n",
    "for name in name_df['name']:\n",
    "    name_slices = name.split('_')\n",
    "    if (name_slices[1] == 'control'):\n",
    "        time_list.append(0)\n",
    "    else:\n",
    "        time_list.append(int(re.findall(r'\\d+', name_slices[1])[0]))\n",
    "    name_slices.remove(name_slices[1])\n",
    "    rep_name_list.append('_'.join(name_slices))\n",
    "name_df['time'] = time_list\n",
    "name_df['rep_name'] = rep_name_list\n",
    "name_df = name_df.astype({'time': 'int32'})\n"
   ]
  },
  {
   "cell_type": "code",
   "execution_count": 4,
   "metadata": {},
   "outputs": [],
   "source": [
    "name_df = name_df.sort_values(by=['time', 'rep_name'])\n",
    "df = pd.read_csv('./data/GSE153478/raw/GSM4644909_C1.processed_counts.txt.gz', compression='gzip', sep='\\t', index_col=0)\n",
    "gene_index = df.index\n",
    "gene_index.name = ''"
   ]
  },
  {
   "cell_type": "code",
   "execution_count": 5,
   "metadata": {},
   "outputs": [],
   "source": [
    "exp_mat = pd.DataFrame(index=gene_index)\n",
    "for subdir, dirs, files in os.walk('data/GSE153478/raw'):\n",
    "    for file in files:\n",
    "        #print os.path.join(subdir, file)\n",
    "        filepath = subdir + os.sep + file\n",
    "        serial_name = file.split('_')[0]\n",
    "        df = pd.read_csv(filepath, compression='gzip', sep='\\t', index_col=0)\n",
    "        df = df.loc[gene_index]\n",
    "        exp_mat[name_df.loc[serial_name]['name']] = df.values[:,0]\n",
    "exp_mat = exp_mat.T.loc[name_df['name']]"
   ]
  },
  {
   "cell_type": "code",
   "execution_count": 6,
   "metadata": {},
   "outputs": [],
   "source": [
    "exp_mat.iloc[6:].T.to_csv('./data/GSE153478/ts_target_exp.csv')\n",
    "exp_mat.iloc[:-6].T.to_csv('./data/GSE153478/ts_source_exp.csv')"
   ]
  },
  {
   "attachments": {},
   "cell_type": "markdown",
   "metadata": {},
   "source": [
    "processing GSE182617"
   ]
  },
  {
   "cell_type": "code",
   "execution_count": 7,
   "metadata": {},
   "outputs": [],
   "source": [
    "df = pd.read_csv('./data/GSE182617/raw/GSE182617_br_count_matrix_from_salmon.csv.gz', compression='gzip', index_col=0)\n",
    "gene_index = df.index"
   ]
  },
  {
   "cell_type": "code",
   "execution_count": 8,
   "metadata": {},
   "outputs": [],
   "source": [
    "df_1 = pd.read_csv('./data/GSE182617/raw/GSE182617_br_count_matrix_from_salmon.csv.gz', compression='gzip', index_col=0).loc[gene_index]\n",
    "df_2 = pd.read_csv('./data/GSE182617/raw/GSE182617_edf1234_count_matrix_from_salmon.csv.gz', compression='gzip', index_col=0).loc[gene_index]\n",
    "df_3 = pd.read_csv('./data/GSE182617/raw/GSE182617_sa_count_matrix_from_salmon.csv.gz', compression='gzip', index_col=0).loc[gene_index]\n",
    "df_4 = pd.read_csv('./data/GSE182617/raw/GSE182617_sl_kar_count_matrix_from_salmon.csv.gz', compression='gzip', index_col=0).loc[gene_index]"
   ]
  },
  {
   "cell_type": "code",
   "execution_count": 9,
   "metadata": {},
   "outputs": [],
   "source": [
    "target_df = pd.concat([df_1.iloc[:, 3:],  df_3.iloc[:, 3:], df_4.iloc[:, 3:]], axis=1)\n",
    "source_df = pd.concat([df_1.iloc[:, :-3],  df_3.iloc[:, :-3], df_4.iloc[:, :-3]], axis=1)"
   ]
  },
  {
   "cell_type": "code",
   "execution_count": 10,
   "metadata": {},
   "outputs": [],
   "source": [
    "source_df.to_csv('./data/GSE182617/ts_source_exp.csv')\n",
    "target_df.to_csv('./data/GSE182617/ts_target_exp.csv')"
   ]
  },
  {
   "attachments": {},
   "cell_type": "markdown",
   "metadata": {},
   "source": [
    "processing \\GSE88798"
   ]
  },
  {
   "cell_type": "code",
   "execution_count": 11,
   "metadata": {},
   "outputs": [
    {
     "data": {
      "text/html": [
       "<div>\n",
       "<style scoped>\n",
       "    .dataframe tbody tr th:only-of-type {\n",
       "        vertical-align: middle;\n",
       "    }\n",
       "\n",
       "    .dataframe tbody tr th {\n",
       "        vertical-align: top;\n",
       "    }\n",
       "\n",
       "    .dataframe thead th {\n",
       "        text-align: right;\n",
       "    }\n",
       "</style>\n",
       "<table border=\"1\" class=\"dataframe\">\n",
       "  <thead>\n",
       "    <tr style=\"text-align: right;\">\n",
       "      <th></th>\n",
       "      <th>x01_Col_01_mock_01h_rep01</th>\n",
       "      <th>x01_Col_02_EV_01h_rep01</th>\n",
       "      <th>x01_Col_03_AvrRpt2_01h_rep01</th>\n",
       "      <th>x01_Col_04_AvrRpm1_01h_rep01</th>\n",
       "      <th>x01_Col_01_mock_03h_rep01</th>\n",
       "      <th>x01_Col_02_EV_03h_rep01</th>\n",
       "      <th>x01_Col_03_AvrRpt2_03h_rep01</th>\n",
       "      <th>x01_Col_04_AvrRpm1_03h_rep01</th>\n",
       "      <th>x01_Col_01_mock_04h_rep01</th>\n",
       "      <th>x01_Col_02_EV_04h_rep01</th>\n",
       "      <th>...</th>\n",
       "      <th>x01_Col_03_AvrRpt2_02h_rep03</th>\n",
       "      <th>x01_Col_01_mock_20h_rep01</th>\n",
       "      <th>x01_Col_02_EV_20h_rep01</th>\n",
       "      <th>x01_Col_03_AvrRpt2_20h_rep01</th>\n",
       "      <th>x01_Col_01_mock_20h_rep02</th>\n",
       "      <th>x01_Col_02_EV_20h_rep02</th>\n",
       "      <th>x01_Col_03_AvrRpt2_20h_rep02</th>\n",
       "      <th>x01_Col_01_mock_20h_rep03</th>\n",
       "      <th>x01_Col_02_EV_20h_rep03</th>\n",
       "      <th>x01_Col_03_AvrRpt2_20h_rep03</th>\n",
       "    </tr>\n",
       "  </thead>\n",
       "  <tbody>\n",
       "    <tr>\n",
       "      <th>AT1G01010</th>\n",
       "      <td>136</td>\n",
       "      <td>277</td>\n",
       "      <td>152</td>\n",
       "      <td>174</td>\n",
       "      <td>1410</td>\n",
       "      <td>1774</td>\n",
       "      <td>886</td>\n",
       "      <td>1266</td>\n",
       "      <td>647</td>\n",
       "      <td>654</td>\n",
       "      <td>...</td>\n",
       "      <td>1118</td>\n",
       "      <td>117</td>\n",
       "      <td>1403</td>\n",
       "      <td>536</td>\n",
       "      <td>281</td>\n",
       "      <td>715</td>\n",
       "      <td>574</td>\n",
       "      <td>165</td>\n",
       "      <td>467</td>\n",
       "      <td>446</td>\n",
       "    </tr>\n",
       "    <tr>\n",
       "      <th>AT1G01020</th>\n",
       "      <td>221</td>\n",
       "      <td>253</td>\n",
       "      <td>264</td>\n",
       "      <td>295</td>\n",
       "      <td>532</td>\n",
       "      <td>470</td>\n",
       "      <td>332</td>\n",
       "      <td>265</td>\n",
       "      <td>359</td>\n",
       "      <td>327</td>\n",
       "      <td>...</td>\n",
       "      <td>498</td>\n",
       "      <td>167</td>\n",
       "      <td>212</td>\n",
       "      <td>160</td>\n",
       "      <td>199</td>\n",
       "      <td>144</td>\n",
       "      <td>183</td>\n",
       "      <td>173</td>\n",
       "      <td>199</td>\n",
       "      <td>177</td>\n",
       "    </tr>\n",
       "    <tr>\n",
       "      <th>AT1G01030</th>\n",
       "      <td>260</td>\n",
       "      <td>349</td>\n",
       "      <td>179</td>\n",
       "      <td>301</td>\n",
       "      <td>243</td>\n",
       "      <td>239</td>\n",
       "      <td>196</td>\n",
       "      <td>224</td>\n",
       "      <td>123</td>\n",
       "      <td>64</td>\n",
       "      <td>...</td>\n",
       "      <td>385</td>\n",
       "      <td>44</td>\n",
       "      <td>209</td>\n",
       "      <td>33</td>\n",
       "      <td>79</td>\n",
       "      <td>110</td>\n",
       "      <td>37</td>\n",
       "      <td>56</td>\n",
       "      <td>62</td>\n",
       "      <td>37</td>\n",
       "    </tr>\n",
       "    <tr>\n",
       "      <th>AT1G01040</th>\n",
       "      <td>751</td>\n",
       "      <td>652</td>\n",
       "      <td>572</td>\n",
       "      <td>738</td>\n",
       "      <td>3038</td>\n",
       "      <td>2919</td>\n",
       "      <td>1927</td>\n",
       "      <td>1476</td>\n",
       "      <td>2068</td>\n",
       "      <td>1803</td>\n",
       "      <td>...</td>\n",
       "      <td>1441</td>\n",
       "      <td>830</td>\n",
       "      <td>1861</td>\n",
       "      <td>1488</td>\n",
       "      <td>1002</td>\n",
       "      <td>1411</td>\n",
       "      <td>2003</td>\n",
       "      <td>942</td>\n",
       "      <td>950</td>\n",
       "      <td>1868</td>\n",
       "    </tr>\n",
       "    <tr>\n",
       "      <th>AT1G01046</th>\n",
       "      <td>1</td>\n",
       "      <td>2</td>\n",
       "      <td>4</td>\n",
       "      <td>2</td>\n",
       "      <td>19</td>\n",
       "      <td>15</td>\n",
       "      <td>12</td>\n",
       "      <td>2</td>\n",
       "      <td>15</td>\n",
       "      <td>8</td>\n",
       "      <td>...</td>\n",
       "      <td>8</td>\n",
       "      <td>4</td>\n",
       "      <td>5</td>\n",
       "      <td>7</td>\n",
       "      <td>2</td>\n",
       "      <td>4</td>\n",
       "      <td>10</td>\n",
       "      <td>4</td>\n",
       "      <td>7</td>\n",
       "      <td>11</td>\n",
       "    </tr>\n",
       "    <tr>\n",
       "      <th>...</th>\n",
       "      <td>...</td>\n",
       "      <td>...</td>\n",
       "      <td>...</td>\n",
       "      <td>...</td>\n",
       "      <td>...</td>\n",
       "      <td>...</td>\n",
       "      <td>...</td>\n",
       "      <td>...</td>\n",
       "      <td>...</td>\n",
       "      <td>...</td>\n",
       "      <td>...</td>\n",
       "      <td>...</td>\n",
       "      <td>...</td>\n",
       "      <td>...</td>\n",
       "      <td>...</td>\n",
       "      <td>...</td>\n",
       "      <td>...</td>\n",
       "      <td>...</td>\n",
       "      <td>...</td>\n",
       "      <td>...</td>\n",
       "      <td>...</td>\n",
       "    </tr>\n",
       "    <tr>\n",
       "      <th>AT5G67600</th>\n",
       "      <td>273</td>\n",
       "      <td>211</td>\n",
       "      <td>268</td>\n",
       "      <td>412</td>\n",
       "      <td>1329</td>\n",
       "      <td>1280</td>\n",
       "      <td>687</td>\n",
       "      <td>1040</td>\n",
       "      <td>694</td>\n",
       "      <td>608</td>\n",
       "      <td>...</td>\n",
       "      <td>679</td>\n",
       "      <td>290</td>\n",
       "      <td>2609</td>\n",
       "      <td>1419</td>\n",
       "      <td>730</td>\n",
       "      <td>651</td>\n",
       "      <td>1934</td>\n",
       "      <td>354</td>\n",
       "      <td>568</td>\n",
       "      <td>762</td>\n",
       "    </tr>\n",
       "    <tr>\n",
       "      <th>AT5G67610</th>\n",
       "      <td>181</td>\n",
       "      <td>150</td>\n",
       "      <td>212</td>\n",
       "      <td>243</td>\n",
       "      <td>482</td>\n",
       "      <td>487</td>\n",
       "      <td>280</td>\n",
       "      <td>227</td>\n",
       "      <td>418</td>\n",
       "      <td>357</td>\n",
       "      <td>...</td>\n",
       "      <td>474</td>\n",
       "      <td>186</td>\n",
       "      <td>301</td>\n",
       "      <td>240</td>\n",
       "      <td>267</td>\n",
       "      <td>210</td>\n",
       "      <td>375</td>\n",
       "      <td>264</td>\n",
       "      <td>242</td>\n",
       "      <td>252</td>\n",
       "    </tr>\n",
       "    <tr>\n",
       "      <th>AT5G67620</th>\n",
       "      <td>319</td>\n",
       "      <td>196</td>\n",
       "      <td>174</td>\n",
       "      <td>314</td>\n",
       "      <td>180</td>\n",
       "      <td>201</td>\n",
       "      <td>80</td>\n",
       "      <td>197</td>\n",
       "      <td>158</td>\n",
       "      <td>93</td>\n",
       "      <td>...</td>\n",
       "      <td>518</td>\n",
       "      <td>27</td>\n",
       "      <td>9</td>\n",
       "      <td>11</td>\n",
       "      <td>29</td>\n",
       "      <td>15</td>\n",
       "      <td>6</td>\n",
       "      <td>8</td>\n",
       "      <td>12</td>\n",
       "      <td>3</td>\n",
       "    </tr>\n",
       "    <tr>\n",
       "      <th>AT5G67630</th>\n",
       "      <td>1101</td>\n",
       "      <td>554</td>\n",
       "      <td>731</td>\n",
       "      <td>808</td>\n",
       "      <td>909</td>\n",
       "      <td>792</td>\n",
       "      <td>498</td>\n",
       "      <td>609</td>\n",
       "      <td>604</td>\n",
       "      <td>682</td>\n",
       "      <td>...</td>\n",
       "      <td>838</td>\n",
       "      <td>183</td>\n",
       "      <td>647</td>\n",
       "      <td>486</td>\n",
       "      <td>349</td>\n",
       "      <td>518</td>\n",
       "      <td>573</td>\n",
       "      <td>349</td>\n",
       "      <td>493</td>\n",
       "      <td>483</td>\n",
       "    </tr>\n",
       "    <tr>\n",
       "      <th>AT5G67640</th>\n",
       "      <td>266</td>\n",
       "      <td>150</td>\n",
       "      <td>200</td>\n",
       "      <td>205</td>\n",
       "      <td>118</td>\n",
       "      <td>83</td>\n",
       "      <td>77</td>\n",
       "      <td>61</td>\n",
       "      <td>88</td>\n",
       "      <td>76</td>\n",
       "      <td>...</td>\n",
       "      <td>123</td>\n",
       "      <td>32</td>\n",
       "      <td>47</td>\n",
       "      <td>13</td>\n",
       "      <td>37</td>\n",
       "      <td>24</td>\n",
       "      <td>12</td>\n",
       "      <td>23</td>\n",
       "      <td>22</td>\n",
       "      <td>11</td>\n",
       "    </tr>\n",
       "  </tbody>\n",
       "</table>\n",
       "<p>32399 rows × 366 columns</p>\n",
       "</div>"
      ],
      "text/plain": [
       "           x01_Col_01_mock_01h_rep01  x01_Col_02_EV_01h_rep01  \\\n",
       "AT1G01010                        136                      277   \n",
       "AT1G01020                        221                      253   \n",
       "AT1G01030                        260                      349   \n",
       "AT1G01040                        751                      652   \n",
       "AT1G01046                          1                        2   \n",
       "...                              ...                      ...   \n",
       "AT5G67600                        273                      211   \n",
       "AT5G67610                        181                      150   \n",
       "AT5G67620                        319                      196   \n",
       "AT5G67630                       1101                      554   \n",
       "AT5G67640                        266                      150   \n",
       "\n",
       "           x01_Col_03_AvrRpt2_01h_rep01  x01_Col_04_AvrRpm1_01h_rep01  \\\n",
       "AT1G01010                           152                           174   \n",
       "AT1G01020                           264                           295   \n",
       "AT1G01030                           179                           301   \n",
       "AT1G01040                           572                           738   \n",
       "AT1G01046                             4                             2   \n",
       "...                                 ...                           ...   \n",
       "AT5G67600                           268                           412   \n",
       "AT5G67610                           212                           243   \n",
       "AT5G67620                           174                           314   \n",
       "AT5G67630                           731                           808   \n",
       "AT5G67640                           200                           205   \n",
       "\n",
       "           x01_Col_01_mock_03h_rep01  x01_Col_02_EV_03h_rep01  \\\n",
       "AT1G01010                       1410                     1774   \n",
       "AT1G01020                        532                      470   \n",
       "AT1G01030                        243                      239   \n",
       "AT1G01040                       3038                     2919   \n",
       "AT1G01046                         19                       15   \n",
       "...                              ...                      ...   \n",
       "AT5G67600                       1329                     1280   \n",
       "AT5G67610                        482                      487   \n",
       "AT5G67620                        180                      201   \n",
       "AT5G67630                        909                      792   \n",
       "AT5G67640                        118                       83   \n",
       "\n",
       "           x01_Col_03_AvrRpt2_03h_rep01  x01_Col_04_AvrRpm1_03h_rep01  \\\n",
       "AT1G01010                           886                          1266   \n",
       "AT1G01020                           332                           265   \n",
       "AT1G01030                           196                           224   \n",
       "AT1G01040                          1927                          1476   \n",
       "AT1G01046                            12                             2   \n",
       "...                                 ...                           ...   \n",
       "AT5G67600                           687                          1040   \n",
       "AT5G67610                           280                           227   \n",
       "AT5G67620                            80                           197   \n",
       "AT5G67630                           498                           609   \n",
       "AT5G67640                            77                            61   \n",
       "\n",
       "           x01_Col_01_mock_04h_rep01  x01_Col_02_EV_04h_rep01  ...  \\\n",
       "AT1G01010                        647                      654  ...   \n",
       "AT1G01020                        359                      327  ...   \n",
       "AT1G01030                        123                       64  ...   \n",
       "AT1G01040                       2068                     1803  ...   \n",
       "AT1G01046                         15                        8  ...   \n",
       "...                              ...                      ...  ...   \n",
       "AT5G67600                        694                      608  ...   \n",
       "AT5G67610                        418                      357  ...   \n",
       "AT5G67620                        158                       93  ...   \n",
       "AT5G67630                        604                      682  ...   \n",
       "AT5G67640                         88                       76  ...   \n",
       "\n",
       "           x01_Col_03_AvrRpt2_02h_rep03  x01_Col_01_mock_20h_rep01  \\\n",
       "AT1G01010                          1118                        117   \n",
       "AT1G01020                           498                        167   \n",
       "AT1G01030                           385                         44   \n",
       "AT1G01040                          1441                        830   \n",
       "AT1G01046                             8                          4   \n",
       "...                                 ...                        ...   \n",
       "AT5G67600                           679                        290   \n",
       "AT5G67610                           474                        186   \n",
       "AT5G67620                           518                         27   \n",
       "AT5G67630                           838                        183   \n",
       "AT5G67640                           123                         32   \n",
       "\n",
       "           x01_Col_02_EV_20h_rep01  x01_Col_03_AvrRpt2_20h_rep01  \\\n",
       "AT1G01010                     1403                           536   \n",
       "AT1G01020                      212                           160   \n",
       "AT1G01030                      209                            33   \n",
       "AT1G01040                     1861                          1488   \n",
       "AT1G01046                        5                             7   \n",
       "...                            ...                           ...   \n",
       "AT5G67600                     2609                          1419   \n",
       "AT5G67610                      301                           240   \n",
       "AT5G67620                        9                            11   \n",
       "AT5G67630                      647                           486   \n",
       "AT5G67640                       47                            13   \n",
       "\n",
       "           x01_Col_01_mock_20h_rep02  x01_Col_02_EV_20h_rep02  \\\n",
       "AT1G01010                        281                      715   \n",
       "AT1G01020                        199                      144   \n",
       "AT1G01030                         79                      110   \n",
       "AT1G01040                       1002                     1411   \n",
       "AT1G01046                          2                        4   \n",
       "...                              ...                      ...   \n",
       "AT5G67600                        730                      651   \n",
       "AT5G67610                        267                      210   \n",
       "AT5G67620                         29                       15   \n",
       "AT5G67630                        349                      518   \n",
       "AT5G67640                         37                       24   \n",
       "\n",
       "           x01_Col_03_AvrRpt2_20h_rep02  x01_Col_01_mock_20h_rep03  \\\n",
       "AT1G01010                           574                        165   \n",
       "AT1G01020                           183                        173   \n",
       "AT1G01030                            37                         56   \n",
       "AT1G01040                          2003                        942   \n",
       "AT1G01046                            10                          4   \n",
       "...                                 ...                        ...   \n",
       "AT5G67600                          1934                        354   \n",
       "AT5G67610                           375                        264   \n",
       "AT5G67620                             6                          8   \n",
       "AT5G67630                           573                        349   \n",
       "AT5G67640                            12                         23   \n",
       "\n",
       "           x01_Col_02_EV_20h_rep03  x01_Col_03_AvrRpt2_20h_rep03  \n",
       "AT1G01010                      467                           446  \n",
       "AT1G01020                      199                           177  \n",
       "AT1G01030                       62                            37  \n",
       "AT1G01040                      950                          1868  \n",
       "AT1G01046                        7                            11  \n",
       "...                            ...                           ...  \n",
       "AT5G67600                      568                           762  \n",
       "AT5G67610                      242                           252  \n",
       "AT5G67620                       12                             3  \n",
       "AT5G67630                      493                           483  \n",
       "AT5G67640                       22                            11  \n",
       "\n",
       "[32399 rows x 366 columns]"
      ]
     },
     "execution_count": 11,
     "metadata": {},
     "output_type": "execute_result"
    }
   ],
   "source": [
    "df = pd.read_csv('./data/GSE88798/raw_exp.tsv', sep='\\t', index_col=0)\n",
    "df_extra = pd.read_csv('./data/GSE88798/GSE88798_ReadCountTable_M349_366.txt', sep='\\t', index_col=0).loc[df.index]\n",
    "df = pd.concat([df,df_extra], axis=1)\n",
    "df"
   ]
  },
  {
   "cell_type": "code",
   "execution_count": 12,
   "metadata": {},
   "outputs": [],
   "source": [
    "name_df = pd.DataFrame(index=df.columns)\n",
    "time_list = []\n",
    "rep_name_list = []\n",
    "for name in df.columns:\n",
    "    name_slices = name.split('_')\n",
    "    time_list.append(int(re.findall(r'\\d+', name_slices[4])[0]))\n",
    "    name_slices.remove(name_slices[4])\n",
    "    rep_name_list.append('_'.join(name_slices))"
   ]
  },
  {
   "cell_type": "code",
   "execution_count": 13,
   "metadata": {},
   "outputs": [],
   "source": [
    "name_df['time'] = time_list\n",
    "name_df['rep_name'] = rep_name_list\n",
    "name_df = name_df.sort_values(by=['time', 'rep_name'])"
   ]
  },
  {
   "cell_type": "code",
   "execution_count": 14,
   "metadata": {},
   "outputs": [],
   "source": [
    "name_df.sort_values(by=['rep_name', 'time']).to_csv('./data/GSE88798/temp.csv')"
   ]
  },
  {
   "cell_type": "code",
   "execution_count": 15,
   "metadata": {},
   "outputs": [],
   "source": [
    "reps = list(set(name_df['rep_name']))\n",
    "source_index = np.concatenate([name_df[name_df['rep_name'] == rep].index[:-1].values for rep in reps])\n",
    "target_index = np.concatenate([name_df[name_df['rep_name'] == rep].index[1:].values for rep in reps])\n"
   ]
  },
  {
   "cell_type": "code",
   "execution_count": 16,
   "metadata": {},
   "outputs": [],
   "source": [
    "df.T.loc[source_index].T.to_csv('./data/GSE88798/ts_source_exp.csv')\n",
    "df.T.loc[target_index].T.to_csv('./data/GSE88798/ts_target_exp.csv')"
   ]
  },
  {
   "attachments": {},
   "cell_type": "markdown",
   "metadata": {},
   "source": [
    "processing GSE199142"
   ]
  },
  {
   "cell_type": "code",
   "execution_count": 17,
   "metadata": {},
   "outputs": [],
   "source": [
    "df = pd.read_csv('./data/GSE199142/raw_exp.txt', sep='\\t', index_col=0)"
   ]
  },
  {
   "cell_type": "code",
   "execution_count": 23,
   "metadata": {},
   "outputs": [],
   "source": [
    "df.index.name = ''\n",
    "gene_name_list = []\n",
    "for name in df.index:\n",
    "    reg_name = name.split('|')[0]\n",
    "    if (reg_name == 'NA'):\n",
    "        reg_name = name\n",
    "    gene_name_list.append(reg_name)\n",
    "df.index = gene_name_list\n",
    "    "
   ]
  },
  {
   "cell_type": "code",
   "execution_count": null,
   "metadata": {},
   "outputs": [],
   "source": []
  },
  {
   "attachments": {},
   "cell_type": "markdown",
   "metadata": {},
   "source": [
    "get common_genes"
   ]
  },
  {
   "cell_type": "code",
   "execution_count": 2,
   "metadata": {},
   "outputs": [],
   "source": [
    "df_1 = pd.read_csv('./data/GSE88798/ts_source_exp.csv', index_col=0)\n",
    "df_2 = pd.read_csv('./data/GSE182617/ts_source_exp.csv', index_col=0)\n",
    "df_3 = pd.read_csv('./data/GSE153478/ts_source_exp.csv', index_col=0)\n",
    "df_4 = pd.read_csv('./data/GSE97500/expression_all.tsv', sep='\\t', index_col=0)"
   ]
  },
  {
   "cell_type": "code",
   "execution_count": 55,
   "metadata": {},
   "outputs": [],
   "source": [
    "common_gene_set = set(df_1.index).intersection(set(df_2.index)).intersection(set(df_3.index)).intersection(set(df_4.index))"
   ]
  },
  {
   "cell_type": "code",
   "execution_count": 60,
   "metadata": {},
   "outputs": [],
   "source": [
    "pd.DataFrame(index=common_gene_set).to_csv('./data/arabidopsis_common_genes.csv')"
   ]
  },
  {
   "cell_type": "code",
   "execution_count": 44,
   "metadata": {},
   "outputs": [
    {
     "data": {
      "text/plain": [
       "650"
      ]
     },
     "execution_count": 44,
     "metadata": {},
     "output_type": "execute_result"
    }
   ],
   "source": [
    "target_df = pd.read_csv('data/wrky_targets_neg.csv',index_col=0)\n",
    "len(target_df.index)"
   ]
  },
  {
   "cell_type": "code",
   "execution_count": 45,
   "metadata": {},
   "outputs": [
    {
     "data": {
      "text/plain": [
       "642"
      ]
     },
     "execution_count": 45,
     "metadata": {},
     "output_type": "execute_result"
    }
   ],
   "source": [
    "len(common_gene_set.intersection(set(target_df.index)))"
   ]
  },
  {
   "cell_type": "code",
   "execution_count": 47,
   "metadata": {},
   "outputs": [],
   "source": [
    "tf_df = pd.read_csv('data/wrky_regulators.csv')\n",
    "tf_list = tf_df['Gene']"
   ]
  },
  {
   "cell_type": "code",
   "execution_count": 53,
   "metadata": {},
   "outputs": [
    {
     "data": {
      "text/plain": [
       "True"
      ]
     },
     "execution_count": 53,
     "metadata": {},
     "output_type": "execute_result"
    }
   ],
   "source": [
    "'AT2G46680' in (common_gene_set.intersection(set(tf_list)))"
   ]
  },
  {
   "attachments": {},
   "cell_type": "markdown",
   "metadata": {},
   "source": [
    "processing GSE97500"
   ]
  },
  {
   "cell_type": "code",
   "execution_count": 3,
   "metadata": {},
   "outputs": [],
   "source": [
    "tf_df = pd.read_csv('data/wrky_regulators.csv')\n",
    "tf_list = tf_df['Gene']\n",
    "\n",
    "ts_df = pd.read_csv('data/GSE97500/expression.tsv', sep='\\t', index_col=0)\n",
    "tf_list = pd.Series(list(set(tf_list).intersection(set(ts_df.index))))\n",
    "meta_df = pd.read_csv('data/GSE97500/meta_data.tsv', sep='\\t')\n",
    "ts_exp_index = meta_df[meta_df['isTs']]\n",
    "ts_exp_index_target =  ts_exp_index[ts_exp_index['is1stLast'] != 'f'].condName\n",
    "ts_exp_index_source =  ts_exp_index[ts_exp_index['is1stLast'] != 'f'].prevCol"
   ]
  },
  {
   "cell_type": "code",
   "execution_count": 6,
   "metadata": {},
   "outputs": [],
   "source": [
    "ts_df[ts_exp_index_source].to_csv('./data/GSE97500/ts_source_exp.csv')\n",
    "ts_df[ts_exp_index_target].to_csv('./data/GSE97500/ts_target_exp.csv')"
   ]
  },
  {
   "cell_type": "code",
   "execution_count": null,
   "metadata": {},
   "outputs": [],
   "source": []
  }
 ],
 "metadata": {
  "kernelspec": {
   "display_name": "inf",
   "language": "python",
   "name": "python3"
  },
  "language_info": {
   "codemirror_mode": {
    "name": "ipython",
    "version": 3
   },
   "file_extension": ".py",
   "mimetype": "text/x-python",
   "name": "python",
   "nbconvert_exporter": "python",
   "pygments_lexer": "ipython3",
   "version": "3.9.5"
  },
  "orig_nbformat": 4,
  "vscode": {
   "interpreter": {
    "hash": "45e8b4e597901076a3793f077aa4917c88e4588bf4d8f42473ef14bed5440d9e"
   }
  }
 },
 "nbformat": 4,
 "nbformat_minor": 2
}
