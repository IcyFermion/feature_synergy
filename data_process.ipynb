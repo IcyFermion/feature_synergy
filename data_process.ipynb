{
 "cells": [
  {
   "cell_type": "code",
   "execution_count": 1,
   "metadata": {},
   "outputs": [],
   "source": [
    "import pandas as pd\n",
    "import numpy as np\n",
    "from tqdm import tqdm\n",
    "import re\n",
    "\n",
    "from os import listdir\n",
    "from os.path import isfile, join"
   ]
  },
  {
   "cell_type": "code",
   "execution_count": 4,
   "metadata": {},
   "outputs": [],
   "source": [
    "deg_df = pd.read_csv('data/SS/92_DEG_Clusters.csv', index_col=0)\n",
    "deg_genes = deg_df.index"
   ]
  },
  {
   "cell_type": "code",
   "execution_count": 3,
   "metadata": {},
   "outputs": [
    {
     "ename": "IndexError",
     "evalue": "list index out of range",
     "output_type": "error",
     "traceback": [
      "\u001b[0;31m---------------------------------------------------------------------------\u001b[0m",
      "\u001b[0;31mIndexError\u001b[0m                                Traceback (most recent call last)",
      "\u001b[0;32m/tmp/ipykernel_566/2521166414.py\u001b[0m in \u001b[0;36m<module>\u001b[0;34m\u001b[0m\n\u001b[1;32m      5\u001b[0m \u001b[0;32mfor\u001b[0m \u001b[0mraw_file\u001b[0m \u001b[0;32min\u001b[0m \u001b[0monlyfiles\u001b[0m\u001b[0;34m:\u001b[0m\u001b[0;34m\u001b[0m\u001b[0;34m\u001b[0m\u001b[0m\n\u001b[1;32m      6\u001b[0m     \u001b[0mraw_file_path\u001b[0m \u001b[0;34m=\u001b[0m \u001b[0mraw_file_dir\u001b[0m \u001b[0;34m+\u001b[0m \u001b[0mraw_file\u001b[0m\u001b[0;34m\u001b[0m\u001b[0;34m\u001b[0m\u001b[0m\n\u001b[0;32m----> 7\u001b[0;31m     \u001b[0mseries_name\u001b[0m \u001b[0;34m=\u001b[0m \u001b[0mraw_file\u001b[0m\u001b[0;34m.\u001b[0m\u001b[0msplit\u001b[0m\u001b[0;34m(\u001b[0m\u001b[0;34m'.txt'\u001b[0m\u001b[0;34m)\u001b[0m\u001b[0;34m[\u001b[0m\u001b[0;36m0\u001b[0m\u001b[0;34m]\u001b[0m\u001b[0;34m.\u001b[0m\u001b[0msplit\u001b[0m\u001b[0;34m(\u001b[0m\u001b[0;34m'_'\u001b[0m\u001b[0;34m)\u001b[0m\u001b[0;34m[\u001b[0m\u001b[0;36m1\u001b[0m\u001b[0;34m]\u001b[0m\u001b[0;34m\u001b[0m\u001b[0;34m\u001b[0m\u001b[0m\n\u001b[0m\u001b[1;32m      8\u001b[0m     \u001b[0mdf\u001b[0m \u001b[0;34m=\u001b[0m \u001b[0mpd\u001b[0m\u001b[0;34m.\u001b[0m\u001b[0mread_csv\u001b[0m\u001b[0;34m(\u001b[0m\u001b[0mraw_file_path\u001b[0m\u001b[0;34m,\u001b[0m \u001b[0mcompression\u001b[0m\u001b[0;34m=\u001b[0m\u001b[0;34m'gzip'\u001b[0m\u001b[0;34m,\u001b[0m \u001b[0msep\u001b[0m\u001b[0;34m=\u001b[0m\u001b[0;34m'\\t'\u001b[0m\u001b[0;34m,\u001b[0m \u001b[0mindex_col\u001b[0m\u001b[0;34m=\u001b[0m\u001b[0;36m0\u001b[0m\u001b[0;34m,\u001b[0m \u001b[0mnames\u001b[0m\u001b[0;34m=\u001b[0m\u001b[0;34m[\u001b[0m\u001b[0mseries_name\u001b[0m\u001b[0;34m]\u001b[0m\u001b[0;34m)\u001b[0m\u001b[0;34m\u001b[0m\u001b[0;34m\u001b[0m\u001b[0m\n\u001b[1;32m      9\u001b[0m     \u001b[0mdf_list\u001b[0m\u001b[0;34m.\u001b[0m\u001b[0mappend\u001b[0m\u001b[0;34m(\u001b[0m\u001b[0mdf\u001b[0m\u001b[0;34m)\u001b[0m\u001b[0;34m\u001b[0m\u001b[0;34m\u001b[0m\u001b[0m\n",
      "\u001b[0;31mIndexError\u001b[0m: list index out of range"
     ]
    }
   ],
   "source": [
    "raw_file_dir = 'data/GSE111062_RAW/'\n",
    "onlyfiles = [f for f in listdir(raw_file_dir) if isfile(join(raw_file_dir, f))]\n",
    "\n",
    "df_list = []\n",
    "for raw_file in onlyfiles:\n",
    "    raw_file_path = raw_file_dir + raw_file\n",
    "    series_name = raw_file.split('.txt')[0].split('_')[1]\n",
    "    df = pd.read_csv(raw_file_path, compression='gzip', sep='\\t', index_col=0, names=[series_name])\n",
    "    df_list.append(df)\n",
    "\n",
    "df = pd.concat(df_list, axis=1)\n",
    "df.T.to_csv('data/GSE111062_RAW/all.csv')\n",
    "\n",
    "from operator import index\n",
    "\n",
    "\n",
    "normalized_df = pd.read_csv('All_samples_RCPM_table.csv', index_col=0)\n",
    "# normalized_df.T.std()\n",
    "\n",
    "r = re.compile(\"GL.*\")\n",
    "newlist = list(filter(r.match, df.columns)) # Read Note below\n",
    "gl_series = sorted(newlist, key=lambda x: float(x.split('h')[0].split('GL')[1]))\n",
    "r = re.compile(\"HL.*\")\n",
    "newlist = list(filter(r.match, df.columns)) # Read Note below\n",
    "hl_series = sorted(newlist, key=lambda x: float(x.split('h')[0].split('HL')[1]))\n",
    "\n",
    "r1 = re.compile(\".*h1\")\n",
    "r2 = re.compile(\".*h2\")\n",
    "gl_series_1 = list(filter(r1.match, gl_series))\n",
    "gl_series_2 = list(filter(r2.match, gl_series))\n",
    "hl_series_1 = list(filter(r1.match, hl_series))\n",
    "hl_series_2 = list(filter(r2.match, hl_series))\n",
    "\n",
    "gl_series_prev_1 = ['NA'] + gl_series_1[1:]\n",
    "gl_series_prev_2 = ['NA'] + gl_series_2[1:]\n",
    "hl_series_prev_1 = ['NA'] + hl_series_1[1:]\n",
    "hl_series_prev_2 = ['NA'] + hl_series_2[1:]\n",
    "\n",
    "cond_list = gl_series_1 + gl_series_2 + hl_series_1 + hl_series_2\n",
    "cond_prev_list = gl_series_prev_1 + gl_series_prev_2 + hl_series_prev_1 + hl_series_prev_2\n",
    "\n",
    "is1stLast_list = ['f', 'm', 'm', 'm', 'm', 'l']*4\n",
    "delt_list = ['NA', 6, 6, 12, 24, 24]*4\n",
    "isTs_list = ['TRUE'] * 24\n",
    "meta_df = pd.DataFrame()\n",
    "meta_df['isTs'] = isTs_list\n",
    "meta_df['is1stLast'] = is1stLast_list\n",
    "meta_df['prevCol'] = cond_prev_list\n",
    "meta_df['del.t'] = delt_list\n",
    "meta_df['condName'] = cond_list\n",
    "\n",
    "meta_df.to_csv('data/GSE111062_RAW/meta_data.tsv', sep='\\t', index=False)\n",
    "normalized_df.T.to_csv('data/GSE111062_RAW/expression.tsv', sep='\\t')\n",
    "df.to_csv('data/GSE111062_RAW/expression.tsv', sep='\\t')"
   ]
  },
  {
   "cell_type": "code",
   "execution_count": 11,
   "metadata": {},
   "outputs": [],
   "source": [
    "df = pd.read_csv('data/GSE158898/GSE158898_genes.FPKM.annot.txt', sep='\\t')\n",
    "\n",
    "df.index = df.Gene\n",
    "df = df.drop(columns=['Gene', 'gene_loci', 'gene_name', 'gene_description'])\n",
    "\n",
    "is1stLast_list = ['f', 'm',  'm', 'l']*6\n",
    "delt_list = ['NA', 12, 12, 12]*6\n",
    "isTs_list = ['TRUE'] * 24\n",
    "meta_df = pd.DataFrame()\n",
    "cond_prev_list = []\n",
    "prev_cond = 'NA'\n",
    "for cond in df.columns:\n",
    "    serial = int(cond.split('_')[-1])\n",
    "    if (serial == 1):\n",
    "        cond_prev_list.append('NA')\n",
    "    else:\n",
    "        cond_prev_list.append(prev_cond)\n",
    "    prev_cond = cond\n",
    "\n",
    "meta_df = pd.DataFrame()\n",
    "meta_df['isTs'] = isTs_list\n",
    "meta_df['is1stLast'] = is1stLast_list\n",
    "meta_df['prevCol'] = cond_prev_list\n",
    "meta_df['del.t'] = delt_list\n",
    "meta_df['condName'] = df.columns\n",
    "\n",
    "meta_df.to_csv('data/GSE158898/meta_data.tsv', sep='\\t', index=False)\n",
    "\n",
    "df.to_csv('data/GSE158898/expression.tsv', sep='\\t')"
   ]
  },
  {
   "cell_type": "code",
   "execution_count": 34,
   "metadata": {},
   "outputs": [],
   "source": [
    "raw_file_dir = 'data/GSE97500/raw_counts/'\n",
    "onlyfiles = [f for f in listdir(raw_file_dir) if isfile(join(raw_file_dir, f))]\n",
    "cond_names_df = pd.read_csv('data/GSE97500/series_names.tsv', sep='\\t', index_col=0)\n",
    "\n",
    "df_list = []\n",
    "for raw_file in onlyfiles:\n",
    "    raw_file_path = raw_file_dir + raw_file\n",
    "    series_name = raw_file.split('.txt')[0].split('_')[0]\n",
    "    series_name = cond_names_df['cond_name'][series_name]\n",
    "    df = pd.read_csv(raw_file_path, compression='gzip', sep='\\t', index_col=0, names=[series_name])\n",
    "    df_list.append(df)\n",
    "\n",
    "df = pd.concat(df_list, axis=1)\n",
    "sorted_columns = sorted(df.columns, key=lambda x: (x.split('-')[1], x.split('-')[0][0], x.split('-')[0][-1], int(re.search(r'\\d+', x).group())))\n",
    "df = df[sorted_columns]"
   ]
  },
  {
   "cell_type": "code",
   "execution_count": 28,
   "metadata": {},
   "outputs": [],
   "source": [
    "df.to_csv('data/GSE97500/expression_all.tsv', sep='\\t')"
   ]
  },
  {
   "cell_type": "code",
   "execution_count": 35,
   "metadata": {},
   "outputs": [],
   "source": [
    "df  = df.drop(columns=['R0-1', 'R0-2', 'R0-3', 'S0-1', 'S0-2', 'S0-3'])\n",
    "df.to_csv('data/GSE97500/expression.tsv', sep='\\t')"
   ]
  },
  {
   "cell_type": "code",
   "execution_count": 41,
   "metadata": {},
   "outputs": [],
   "source": [
    "is1stLast_list = ['f', 'm', 'm', 'm', 'm', 'm', 'm', 'm', 'l']*12\n",
    "delt_list = ['NA', 5, 5, 5, 10, 15, 15, 39, 30]*12\n",
    "isTs_list = ['TRUE'] * 108\n",
    "meta_df = pd.DataFrame()\n",
    "cond_prev_list = []\n",
    "prev_cond = 'NA'\n",
    "for cond in df.columns:\n",
    "    time = int(re.search(r'\\d+', cond).group())\n",
    "    if (time == 5):\n",
    "        cond_prev_list.append('NA')\n",
    "    else:\n",
    "        cond_prev_list.append(prev_cond)\n",
    "    prev_cond = cond\n",
    "\n",
    "meta_df = pd.DataFrame()\n",
    "meta_df['isTs'] = isTs_list\n",
    "meta_df['is1stLast'] = is1stLast_list\n",
    "meta_df['prevCol'] = cond_prev_list\n",
    "meta_df['del.t'] = delt_list\n",
    "meta_df['condName'] = df.columns"
   ]
  },
  {
   "cell_type": "code",
   "execution_count": 43,
   "metadata": {},
   "outputs": [],
   "source": [
    "meta_df.to_csv('data/GSE97500/meta_data.tsv', sep='\\t', index=False)\n"
   ]
  },
  {
   "cell_type": "code",
   "execution_count": null,
   "metadata": {},
   "outputs": [],
   "source": []
  }
 ],
 "metadata": {
  "kernelspec": {
   "display_name": "Python 3.8.10 ('base')",
   "language": "python",
   "name": "python3"
  },
  "language_info": {
   "codemirror_mode": {
    "name": "ipython",
    "version": 3
   },
   "file_extension": ".py",
   "mimetype": "text/x-python",
   "name": "python",
   "nbconvert_exporter": "python",
   "pygments_lexer": "ipython3",
   "version": "3.8.10"
  },
  "orig_nbformat": 4,
  "vscode": {
   "interpreter": {
    "hash": "a0625736e76ce7a086b05dcdb3b30b057da1874f4b7d94f712ab6b40a66351ac"
   }
  }
 },
 "nbformat": 4,
 "nbformat_minor": 2
}
