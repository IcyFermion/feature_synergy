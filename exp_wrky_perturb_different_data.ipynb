{
 "cells": [
  {
   "cell_type": "code",
   "execution_count": 1,
   "metadata": {},
   "outputs": [],
   "source": [
    "import pandas as pd\n",
    "import numpy as np\n",
    "from tqdm import tqdm\n",
    "from functools import partial\n",
    "from multiprocessing import shared_memory\n",
    "from multiprocessing.dummy import Pool\n",
    "from sklearn.ensemble import RandomForestRegressor\n",
    "import multiprocessing as mp\n",
    "from itertools import chain, combinations\n",
    "import sys\n",
    "import os\n",
    "from scipy import stats\n",
    "\n",
    "from sklearn.preprocessing import Normalizer\n",
    "from sklearn.ensemble import RandomForestRegressor\n",
    "\n",
    "import mp_run\n",
    "\n",
    "import concurrent.futures\n",
    "os.environ[\"OMP_NUM_THREADS\"] = \"1\" # export OMP_NUM_THREADS=1\n",
    "os.environ[\"OPENBLAS_NUM_THREADS\"] = \"1\" # export OPENBLAS_NUM_THREADS=1\n",
    "os.environ[\"MKL_NUM_THREADS\"] = \"1\" # export MKL_NUM_THREADS=1\n",
    "os.environ[\"VECLIB_MAXIMUM_THREADS\"] = \"1\" # export VECLIB_MAXIMUM_THREADS=1\n",
    "os.environ[\"NUMEXPR_NUM_THREADS\"] = \"1\" # export NUMEXPR_NUM_THREADS=1\n",
    "\n",
    "# styling:\n",
    "%matplotlib inline\n",
    "import matplotlib.pyplot as plt\n",
    "import seaborn as sns\n",
    "plt.style.use(['ggplot'])\n",
    "sns.set_palette(\"deep\")"
   ]
  },
  {
   "cell_type": "code",
   "execution_count": 2,
   "metadata": {},
   "outputs": [],
   "source": [
    "perturbation_factor = 3\n",
    "num_rf_predictors = 500\n",
    "\n",
    "target_tf = 'AT2G46680'\n",
    "\n",
    "induction_flag = -1\n",
    "dataset = 'GSE88798'\n",
    "mp_threads = 10\n",
    "# if (len(sys.argv)>=3):\n",
    "#     induction_flag = bool(sys.argv[1])\n",
    "#     mp_threads = int(sys.argv[2])"
   ]
  },
  {
   "cell_type": "code",
   "execution_count": 3,
   "metadata": {},
   "outputs": [],
   "source": [
    "tf_df = pd.read_csv('data/wrky_regulators.csv')\n",
    "tf_list = tf_df['Gene']\n",
    "common_genes = pd.read_csv('data/arabidopsis_common_genes.csv', index_col=0).index\n",
    "\n",
    "ts_source_df = pd.read_csv('data/{}/ts_source_exp.csv'.format(dataset),  index_col=0).loc[common_genes]\n",
    "ts_target_df = pd.read_csv('data/{}/ts_target_exp.csv'.format(dataset),  index_col=0).loc[common_genes]\n",
    "tf_list = pd.Series(list(set(tf_list).intersection(set(ts_target_df.index))))\n",
    "\n"
   ]
  },
  {
   "cell_type": "code",
   "execution_count": 4,
   "metadata": {},
   "outputs": [],
   "source": [
    "def perturb_exp(target_genes, induction_flag, output_path):\n",
    "    result_list = []\n",
    "    result_measure_list = []\n",
    "\n",
    "    p_val_res_list = []\n",
    "\n",
    "    for target_gene in tqdm(target_genes):\n",
    "        # train_gene_index = tf_list[tf_list != target_gene]\n",
    "        train_gene_index = tf_list\n",
    "        \n",
    "        ts_train_X = ts_source_df.T[train_gene_index]\n",
    "\n",
    "        ts_train_y = ts_target_df.loc[target_gene]\n",
    "\n",
    "        input_mean = ts_train_X.mean()\n",
    "        input_std = ts_train_X.std()\n",
    "        # two set of perturbations:\n",
    "        # one with each WRKY and HB7 perturbed at the same time\n",
    "        # another, i.e., the alt one with just each WRKY perturbed\n",
    "        perturbation_input = input_mean.copy()\n",
    "        perturbation_input_alt = input_mean.copy()\n",
    "        perturbation_input[target_tf] += input_std[target_tf]*perturbation_factor\n",
    "        perturbation_input = np.tile(perturbation_input.values, (len(input_mean),1))\n",
    "        perturbation_input_alt = np.tile(perturbation_input_alt.values, (len(input_mean),1))\n",
    "        for i, tf_name in enumerate(tf_list):\n",
    "            if tf_name == target_tf: continue\n",
    "            perturbation_input[i][i] += input_std[tf_name]*perturbation_factor\n",
    "            perturbation_input_alt[i][i] += input_std[tf_name]*perturbation_factor\n",
    "        func = partial(mp_run.regr_perturbation, ts_train_X, ts_train_y, perturbation_input, perturbation_input_alt)\n",
    "\n",
    "        with mp.Pool() as pool:\n",
    "            results = pool.map(func, range(num_rf_predictors))\n",
    "        results = np.array(results)\n",
    "        target_tf_index = np.where(tf_list == target_tf)[0][0]\n",
    "        p_val_list = []\n",
    "        for i, tf_name in enumerate(tf_list):\n",
    "            if i == target_tf_index: \n",
    "                t_val, p_val = stats.ttest_rel(results[:, 0, target_tf_index], np.zeros(num_rf_predictors))\n",
    "            else:\n",
    "                t_val, p_val = stats.ttest_rel(results[:, 0, i], results[:, 0, target_tf_index] + results[:, 1, i])\n",
    "            if (induction_flag*t_val > 0): p_val_list.append(p_val)\n",
    "            else: p_val_list.append(1)\n",
    "        p_val_res_list.append(p_val_list)\n",
    "        # break\n",
    "\n",
    "    tf_df.index = tf_df['Gene']\n",
    "    out_df = pd.DataFrame(index=target_genes, columns=tf_df.loc[tf_list]['Symbol'], data=np.array(p_val_res_list))\n",
    "\n",
    "    out_df.to_csv(output_path)"
   ]
  },
  {
   "cell_type": "code",
   "execution_count": 5,
   "metadata": {},
   "outputs": [
    {
     "name": "stderr",
     "output_type": "stream",
     "text": [
      "100%|██████████| 3/3 [00:25<00:00,  8.34s/it]\n"
     ]
    }
   ],
   "source": [
    "target_df = pd.read_csv('data/wrky_targets_neg.csv')\n",
    "deg_genes = target_df['Gene']\n",
    "target_genes = set(deg_genes).intersection(set(ts_target_df.index))\n",
    "\n",
    "non_trivial_targets = []\n",
    "for target in target_genes:\n",
    "    if ts_target_df.loc[target].mean() != 0.0:\n",
    "        non_trivial_targets.append(target)\n",
    "target_genes = pd.Series(non_trivial_targets)\n",
    "\n",
    "perturb_exp(target_genes, -1, './output/rf_wrky_inf_pval_{}_neg.csv'.format(dataset))\n"
   ]
  }
 ],
 "metadata": {
  "kernelspec": {
   "display_name": "Python 3.9.5 ('inf')",
   "language": "python",
   "name": "python3"
  },
  "language_info": {
   "codemirror_mode": {
    "name": "ipython",
    "version": 3
   },
   "file_extension": ".py",
   "mimetype": "text/x-python",
   "name": "python",
   "nbconvert_exporter": "python",
   "pygments_lexer": "ipython3",
   "version": "3.9.5"
  },
  "orig_nbformat": 4,
  "vscode": {
   "interpreter": {
    "hash": "45e8b4e597901076a3793f077aa4917c88e4588bf4d8f42473ef14bed5440d9e"
   }
  }
 },
 "nbformat": 4,
 "nbformat_minor": 2
}
